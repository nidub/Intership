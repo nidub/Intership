{
 "cells": [
  {
   "cell_type": "markdown",
   "id": "1304f241",
   "metadata": {},
   "source": [
    "## Numpy-Practise code 1"
   ]
  },
  {
   "cell_type": "code",
   "execution_count": 1,
   "id": "257c1793",
   "metadata": {},
   "outputs": [
    {
     "name": "stdout",
     "output_type": "stream",
     "text": [
      "[10 12 14 16 20 25]\n",
      "int32\n",
      "4\n"
     ]
    }
   ],
   "source": [
    "import numpy as np\n",
    "my_array=np.array([10,12,14,16,20,25])\n",
    "print(my_array)\n",
    "print(my_array.dtype)\n",
    "print(my_array.dtype.itemsize)"
   ]
  },
  {
   "cell_type": "code",
   "execution_count": 2,
   "id": "d64230d5",
   "metadata": {},
   "outputs": [
    {
     "name": "stdout",
     "output_type": "stream",
     "text": [
      "[10.5  12.67 14.98 16.02 20.54 25.92]\n",
      "float64\n",
      "8\n"
     ]
    }
   ],
   "source": [
    "my_array=np.array([10.5,12.67,14.98,16.02,20.54,25.92])\n",
    "print(my_array)\n",
    "print(my_array.dtype)\n",
    "print(my_array.dtype.itemsize)"
   ]
  },
  {
   "cell_type": "code",
   "execution_count": 3,
   "id": "a0b5da31",
   "metadata": {},
   "outputs": [
    {
     "name": "stdout",
     "output_type": "stream",
     "text": [
      "['Red' 'Green' 'Orange']\n",
      "<U6\n",
      "24\n"
     ]
    }
   ],
   "source": [
    "my_array=np.array([\"Red\",\"Green\",\"Orange\"])\n",
    "print(my_array)\n",
    "print(my_array.dtype)\n",
    "print(my_array.dtype.itemsize)"
   ]
  },
  {
   "cell_type": "code",
   "execution_count": 4,
   "id": "b52aea66",
   "metadata": {},
   "outputs": [
    {
     "name": "stdout",
     "output_type": "stream",
     "text": [
      "['Red' 'Green' 'Orange' '12' '67.34']\n",
      "<U32\n",
      "128\n"
     ]
    }
   ],
   "source": [
    "my_array=np.array([\"Red\",\"Green\",\"Orange\",12,67.34])\n",
    "print(my_array)\n",
    "print(my_array.dtype)\n",
    "print(my_array.dtype.itemsize)"
   ]
  },
  {
   "cell_type": "code",
   "execution_count": 5,
   "id": "a2c81a06",
   "metadata": {},
   "outputs": [
    {
     "name": "stdout",
     "output_type": "stream",
     "text": [
      "['1990-10-04' '1989-05-06' '1990-11-04']\n",
      "<U10\n",
      "40\n"
     ]
    }
   ],
   "source": [
    "my_array=np.array([\"1990-10-04\",\"1989-05-06\",\"1990-11-04\"])\n",
    "print(my_array)\n",
    "print(my_array.dtype)\n",
    "print(my_array.dtype.itemsize)"
   ]
  },
  {
   "cell_type": "code",
   "execution_count": 6,
   "id": "dcefbb49",
   "metadata": {},
   "outputs": [
    {
     "name": "stdout",
     "output_type": "stream",
     "text": [
      "datetime64[D]\n",
      "8\n"
     ]
    }
   ],
   "source": [
    "my_array3=my_array.astype(\"M\")\n",
    "print(my_array3.dtype)\n",
    "print(my_array3.dtype.itemsize)"
   ]
  },
  {
   "cell_type": "code",
   "execution_count": 7,
   "id": "da5287f0",
   "metadata": {},
   "outputs": [
    {
     "name": "stdout",
     "output_type": "stream",
     "text": [
      "[1 2 3 4 5]\n",
      "<class 'numpy.ndarray'>\n"
     ]
    }
   ],
   "source": [
    "x=(1,2,3,4,5)\n",
    "y=np.array(x)\n",
    "print(y)\n",
    "print(type(y))"
   ]
  },
  {
   "cell_type": "code",
   "execution_count": 8,
   "id": "a543a18f",
   "metadata": {},
   "outputs": [
    {
     "name": "stdout",
     "output_type": "stream",
     "text": [
      "{1, 2, 3, 4, 5}\n",
      "<class 'numpy.ndarray'>\n"
     ]
    }
   ],
   "source": [
    "x={1,2,3,4,5}\n",
    "y=np.array(x)\n",
    "print(y)\n",
    "print(type(y))"
   ]
  },
  {
   "cell_type": "code",
   "execution_count": 9,
   "id": "9b81df46",
   "metadata": {},
   "outputs": [
    {
     "name": "stdout",
     "output_type": "stream",
     "text": [
      "[1 2 3 4 5]\n",
      "<class 'numpy.ndarray'>\n"
     ]
    }
   ],
   "source": [
    "x=[1,2,3,4,5]\n",
    "y=np.array(x)\n",
    "print(y)\n",
    "print(type(y))"
   ]
  },
  {
   "cell_type": "code",
   "execution_count": 10,
   "id": "61290778",
   "metadata": {},
   "outputs": [
    {
     "data": {
      "text/plain": [
       "(3, 5)"
      ]
     },
     "execution_count": 10,
     "metadata": {},
     "output_type": "execute_result"
    }
   ],
   "source": [
    "x=[1,2,3,4,5]\n",
    "y=[1,2,3,4,5]\n",
    "z=[1,2,3,4,5]\n",
    "num_2d=np.array([x,y,z])\n",
    "num_2d.shape"
   ]
  },
  {
   "cell_type": "code",
   "execution_count": 11,
   "id": "5ccf4d15",
   "metadata": {},
   "outputs": [
    {
     "data": {
      "text/plain": [
       "(1, 3, 5)"
      ]
     },
     "execution_count": 11,
     "metadata": {},
     "output_type": "execute_result"
    }
   ],
   "source": [
    "x=[1,2,3,4,5]\n",
    "y=[1,2,3,4,5]\n",
    "z=[1,2,3,4,5]\n",
    "num_3d=np.array([[x,y,z]])\n",
    "num_3d.shape"
   ]
  },
  {
   "cell_type": "code",
   "execution_count": 12,
   "id": "12da937e",
   "metadata": {},
   "outputs": [
    {
     "data": {
      "text/plain": [
       "(1, 1, 3, 5)"
      ]
     },
     "execution_count": 12,
     "metadata": {},
     "output_type": "execute_result"
    }
   ],
   "source": [
    "x=[1,2,3,4,5]\n",
    "y=[1,2,3,4,5]\n",
    "z=[1,2,3,4,5]\n",
    "num_4d=np.array([[[x,y,z]]])\n",
    "num_4d.shape"
   ]
  },
  {
   "cell_type": "code",
   "execution_count": 13,
   "id": "be96f31f",
   "metadata": {},
   "outputs": [
    {
     "name": "stdout",
     "output_type": "stream",
     "text": [
      "[ 5  6  7  8  9 10]\n"
     ]
    }
   ],
   "source": [
    "num_arr=np.arange(5,11)\n",
    "print(num_arr)"
   ]
  },
  {
   "cell_type": "code",
   "execution_count": 14,
   "id": "5793d13d",
   "metadata": {},
   "outputs": [
    {
     "name": "stdout",
     "output_type": "stream",
     "text": [
      "[5 8]\n"
     ]
    }
   ],
   "source": [
    "num_arr=np.arange(5,11,3)\n",
    "print(num_arr)"
   ]
  },
  {
   "cell_type": "code",
   "execution_count": 15,
   "id": "521098cb",
   "metadata": {},
   "outputs": [
    {
     "name": "stdout",
     "output_type": "stream",
     "text": [
      "[42  2  3  4  5]\n",
      "[1 2 3 4 5]\n"
     ]
    }
   ],
   "source": [
    "arr=np.array([1,2,3,4,5])\n",
    "arr1=arr.copy()\n",
    "arr[0]=42\n",
    "print(arr)\n",
    "print(arr1)"
   ]
  },
  {
   "cell_type": "code",
   "execution_count": 16,
   "id": "496a3528",
   "metadata": {},
   "outputs": [
    {
     "name": "stdout",
     "output_type": "stream",
     "text": [
      "[1. 1. 1. 1. 1. 1.]\n"
     ]
    }
   ],
   "source": [
    "ones_array=np.ones(6)\n",
    "print(ones_array)"
   ]
  },
  {
   "cell_type": "code",
   "execution_count": 17,
   "id": "72e2514c",
   "metadata": {},
   "outputs": [
    {
     "name": "stdout",
     "output_type": "stream",
     "text": [
      "[42  2  3  4  5]\n",
      "[42  2  3  4  5]\n"
     ]
    }
   ],
   "source": [
    "arr=np.array([1,2,3,4,5])\n",
    "arr1=arr.view()\n",
    "arr[0]=42\n",
    "print(arr)\n",
    "print(arr1)"
   ]
  },
  {
   "cell_type": "code",
   "execution_count": 18,
   "id": "8229c9fb",
   "metadata": {},
   "outputs": [
    {
     "name": "stdout",
     "output_type": "stream",
     "text": [
      "[24  2  3  4  5]\n",
      "[24  2  3  4  5]\n"
     ]
    }
   ],
   "source": [
    "arr=np.array([1,2,3,4,5])\n",
    "arr1=arr.view()\n",
    "arr1[0]=24\n",
    "print(arr)\n",
    "print(arr1)"
   ]
  },
  {
   "cell_type": "code",
   "execution_count": 19,
   "id": "f18b2686",
   "metadata": {},
   "outputs": [
    {
     "name": "stdout",
     "output_type": "stream",
     "text": [
      "[42  2  3  4  5]\n",
      "[42  2  3  4  5]\n",
      "[42  2  3  4  5]\n"
     ]
    }
   ],
   "source": [
    "arr=np.array([1,2,3,4,5])\n",
    "arr1=arr.view()\n",
    "arr2=arr1.view()\n",
    "arr1[0]=42\n",
    "print(arr)\n",
    "print(arr1)\n",
    "print(arr2)"
   ]
  },
  {
   "cell_type": "code",
   "execution_count": 20,
   "id": "bc04d6f6",
   "metadata": {},
   "outputs": [
    {
     "name": "stdout",
     "output_type": "stream",
     "text": [
      "None\n",
      "[1 2 3 4 5]\n"
     ]
    }
   ],
   "source": [
    "arr=np.array([1,2,3,4,5])\n",
    "x=arr.copy()\n",
    "y=arr.view()\n",
    "print(x.base)\n",
    "print(y.base)"
   ]
  },
  {
   "cell_type": "code",
   "execution_count": 21,
   "id": "88385beb",
   "metadata": {},
   "outputs": [
    {
     "name": "stdout",
     "output_type": "stream",
     "text": [
      "[[[[[1 2 3 4 5]]]]]\n",
      "Shape of array:  (1, 1, 1, 1, 5)\n"
     ]
    }
   ],
   "source": [
    "arr=np.array([1,2,3,4,5], ndmin=5)\n",
    "print(arr)\n",
    "print('Shape of array: ',arr.shape)"
   ]
  },
  {
   "cell_type": "code",
   "execution_count": 22,
   "id": "6363b697",
   "metadata": {},
   "outputs": [
    {
     "name": "stdout",
     "output_type": "stream",
     "text": [
      "[[[[[1 2 3 4 5]\n",
      "    [1 2 3 4 5]]]]]\n",
      "Shape of array:  (1, 1, 1, 2, 5)\n"
     ]
    }
   ],
   "source": [
    "arr=np.array([[1,2,3,4,5],[1,2,3,4,5]], ndmin=5)\n",
    "print(arr)\n",
    "print('Shape of array: ',arr.shape)"
   ]
  },
  {
   "cell_type": "code",
   "execution_count": 23,
   "id": "44b02282",
   "metadata": {},
   "outputs": [
    {
     "name": "stdout",
     "output_type": "stream",
     "text": [
      "[[ 1  2  3]\n",
      " [ 4  5  6]\n",
      " [ 7  8  9]\n",
      " [10 11 12]]\n"
     ]
    }
   ],
   "source": [
    "arr=np.array([1,2,3,4,5,6,7,8,9,10,11,12])\n",
    "newarr=arr.reshape(4,3)\n",
    "print(newarr)"
   ]
  },
  {
   "cell_type": "code",
   "execution_count": 24,
   "id": "38a81598",
   "metadata": {},
   "outputs": [
    {
     "name": "stdout",
     "output_type": "stream",
     "text": [
      "[[[ 1  2]\n",
      "  [ 3  4]\n",
      "  [ 5  6]]\n",
      "\n",
      " [[ 7  8]\n",
      "  [ 9 10]\n",
      "  [11 12]]]\n"
     ]
    }
   ],
   "source": [
    "arr=np.array([1,2,3,4,5,6,7,8,9,10,11,12])\n",
    "newarr=arr.reshape(2,3,2)\n",
    "print(newarr)"
   ]
  },
  {
   "cell_type": "code",
   "execution_count": 25,
   "id": "e3189974",
   "metadata": {},
   "outputs": [
    {
     "name": "stdout",
     "output_type": "stream",
     "text": [
      "[ 1  2  3  4  5  6  7  8  9 10 11 12]\n"
     ]
    }
   ],
   "source": [
    "arr=np.array([1,2,3,4,5,6,7,8,9,10,11,12])\n",
    "newarr=arr.reshape(2,3,2)\n",
    "print(newarr.base)"
   ]
  },
  {
   "cell_type": "code",
   "execution_count": 26,
   "id": "9ccb6748",
   "metadata": {},
   "outputs": [
    {
     "name": "stdout",
     "output_type": "stream",
     "text": [
      "[[[[ 1]\n",
      "   [ 2]]\n",
      "\n",
      "  [[ 3]\n",
      "   [ 4]]\n",
      "\n",
      "  [[ 5]\n",
      "   [ 6]]]\n",
      "\n",
      "\n",
      " [[[ 7]\n",
      "   [ 8]]\n",
      "\n",
      "  [[ 9]\n",
      "   [10]]\n",
      "\n",
      "  [[11]\n",
      "   [12]]]]\n"
     ]
    }
   ],
   "source": [
    "arr=np.array([1,2,3,4,5,6,7,8,9,10,11,12])\n",
    "newarr=arr.reshape(2,3,2,-1)\n",
    "print(newarr)"
   ]
  },
  {
   "cell_type": "code",
   "execution_count": 29,
   "id": "13dcae6b",
   "metadata": {},
   "outputs": [
    {
     "name": "stdout",
     "output_type": "stream",
     "text": [
      "[[[[ 1  2]\n",
      "   [ 3  4]]]\n",
      "\n",
      "\n",
      " [[[ 5  6]\n",
      "   [ 7  8]]]\n",
      "\n",
      "\n",
      " [[[ 9 10]\n",
      "   [11 12]]]]\n"
     ]
    }
   ],
   "source": [
    "arr=np.array([1,2,3,4,5,6,7,8,9,10,11,12])\n",
    "newarr=arr.reshape(-2,1,2,2)\n",
    "print(newarr)"
   ]
  },
  {
   "cell_type": "code",
   "execution_count": 30,
   "id": "a0d0920a",
   "metadata": {},
   "outputs": [
    {
     "name": "stdout",
     "output_type": "stream",
     "text": [
      "[[[[ 1  2]]\n",
      "\n",
      "  [[ 3  4]]\n",
      "\n",
      "  [[ 5  6]]]\n",
      "\n",
      "\n",
      " [[[ 7  8]]\n",
      "\n",
      "  [[ 9 10]]\n",
      "\n",
      "  [[11 12]]]]\n"
     ]
    }
   ],
   "source": [
    "arr=np.array([1,2,3,4,5,6,7,8,9,10,11,12])\n",
    "newarr=arr.reshape(2,3,-1,2)\n",
    "print(newarr)"
   ]
  },
  {
   "cell_type": "code",
   "execution_count": 31,
   "id": "1ff479a1",
   "metadata": {},
   "outputs": [
    {
     "name": "stdout",
     "output_type": "stream",
     "text": [
      "The value of array1 is: \n",
      "[[1 2 3]\n",
      " [4 5 6]]\n"
     ]
    }
   ],
   "source": [
    "list=[[1,2,3],[4,5,6]]\n",
    "array1=np.array(list)\n",
    "print(\"The value of array1 is: \")\n",
    "print(array1)"
   ]
  },
  {
   "cell_type": "code",
   "execution_count": 32,
   "id": "ade076fb",
   "metadata": {},
   "outputs": [
    {
     "name": "stdout",
     "output_type": "stream",
     "text": [
      "The value of array1 is:\n",
      "[[1 2 3]\n",
      " [4 5 6]]\n",
      "The value of array2 is:\n",
      "[[1 2 3]\n",
      " [4 5 6]]\n"
     ]
    }
   ],
   "source": [
    "list=[[1,2,3],[4,5,6]]\n",
    "array1=np.array(list)\n",
    "print(\"The value of array1 is:\")\n",
    "print(array1)\n",
    "array2=array1\n",
    "print(\"The value of array2 is:\")\n",
    "print(array2)"
   ]
  },
  {
   "cell_type": "code",
   "execution_count": 33,
   "id": "921dea81",
   "metadata": {},
   "outputs": [
    {
     "name": "stdout",
     "output_type": "stream",
     "text": [
      "The value of array1 is: \n",
      "[[1 2 3]\n",
      " [4 5 6]]\n",
      "The value of array2 is: \n",
      "[[1 2 3]\n",
      " [4 5 6]]\n",
      "The updated array2 is: \n",
      "[[11  2  3]\n",
      " [ 4  5  6]]\n",
      "The updated array1 is: \n",
      "[[11  2  3]\n",
      " [ 4  5  6]]\n"
     ]
    }
   ],
   "source": [
    "list=[[1,2,3],[4,5,6]]\n",
    "array1=np.array(list)\n",
    "print(\"The value of array1 is: \")\n",
    "print(array1)\n",
    "array2=array1\n",
    "print(\"The value of array2 is: \")\n",
    "print(array2)\n",
    "array2[0][0]=11\n",
    "print(\"The updated array2 is: \")\n",
    "print(array2)\n",
    "print(\"The updated array1 is: \")\n",
    "print(array1)"
   ]
  },
  {
   "cell_type": "code",
   "execution_count": 34,
   "id": "47b71d6d",
   "metadata": {},
   "outputs": [
    {
     "name": "stdout",
     "output_type": "stream",
     "text": [
      "1\n",
      "2\n"
     ]
    }
   ],
   "source": [
    "arr=np.array([1,2,3,4,5])\n",
    "print(arr[0])\n",
    "print(arr[1])"
   ]
  },
  {
   "cell_type": "code",
   "execution_count": 35,
   "id": "74b1f2a6",
   "metadata": {},
   "outputs": [
    {
     "name": "stdout",
     "output_type": "stream",
     "text": [
      "7\n"
     ]
    }
   ],
   "source": [
    "arr=np.array([1,2,3,4])\n",
    "print(arr[2]+arr[3])"
   ]
  },
  {
   "cell_type": "code",
   "execution_count": 36,
   "id": "e0d6f4c4",
   "metadata": {},
   "outputs": [
    {
     "name": "stdout",
     "output_type": "stream",
     "text": [
      "[[1 2 3 4 5]]\n",
      "2\n",
      "(1, 5)\n",
      "1\n",
      "4\n"
     ]
    }
   ],
   "source": [
    "arr=np.array([[1,2,3,4,5]])\n",
    "print(arr)\n",
    "print(arr.ndim)\n",
    "print(arr.shape)\n",
    "print(arr[0,0])\n",
    "print(arr[0,3])"
   ]
  },
  {
   "cell_type": "code",
   "execution_count": 38,
   "id": "07973bee",
   "metadata": {},
   "outputs": [
    {
     "name": "stdout",
     "output_type": "stream",
     "text": [
      "[ 1  2  3 45  5  6]\n",
      "[ 2 45]\n"
     ]
    }
   ],
   "source": [
    "list1=[1,2,3,45,5,6]\n",
    "arr=np.array(list1)\n",
    "print(arr)\n",
    "print(arr[[1,3]])"
   ]
  },
  {
   "cell_type": "code",
   "execution_count": 39,
   "id": "e9d6c675",
   "metadata": {},
   "outputs": [
    {
     "name": "stdout",
     "output_type": "stream",
     "text": [
      "[[[1 2 3]\n",
      "  [4 5 6]]]\n",
      "3\n",
      "6\n"
     ]
    }
   ],
   "source": [
    "arr=np.array([[[1,2,3],[4,5,6]]])\n",
    "print(arr)\n",
    "print(arr[0,0,2])\n",
    "print(arr[0,1,2])"
   ]
  },
  {
   "cell_type": "code",
   "execution_count": null,
   "id": "eb4d8808",
   "metadata": {},
   "outputs": [],
   "source": []
  }
 ],
 "metadata": {
  "kernelspec": {
   "display_name": "Python 3",
   "language": "python",
   "name": "python3"
  },
  "language_info": {
   "codemirror_mode": {
    "name": "ipython",
    "version": 3
   },
   "file_extension": ".py",
   "mimetype": "text/x-python",
   "name": "python",
   "nbconvert_exporter": "python",
   "pygments_lexer": "ipython3",
   "version": "3.8.8"
  }
 },
 "nbformat": 4,
 "nbformat_minor": 5
}
