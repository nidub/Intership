{
 "cells": [
  {
   "cell_type": "code",
   "execution_count": 1,
   "id": "de8af96a",
   "metadata": {},
   "outputs": [
    {
     "name": "stdout",
     "output_type": "stream",
     "text": [
      "List Iteration\n",
      "python\n",
      "for\n",
      "everyone\n"
     ]
    }
   ],
   "source": [
    "print(\"List Iteration\")\n",
    "l=[\"python\",\"for\",\"everyone\"]\n",
    "for i in l:\n",
    "    print(i)"
   ]
  },
  {
   "cell_type": "code",
   "execution_count": 2,
   "id": "22b7aee2",
   "metadata": {},
   "outputs": [
    {
     "name": "stdout",
     "output_type": "stream",
     "text": [
      "Tuple Iteration\n",
      "python\n",
      "for\n",
      "everyone\n"
     ]
    }
   ],
   "source": [
    "print(\"Tuple Iteration\")\n",
    "l=(\"python\",\"for\",\"everyone\")\n",
    "for i in l:\n",
    "    print(i)"
   ]
  },
  {
   "cell_type": "code",
   "execution_count": 4,
   "id": "532e540e",
   "metadata": {},
   "outputs": [
    {
     "name": "stdout",
     "output_type": "stream",
     "text": [
      "Set Iteration\n",
      "everyone\n",
      "for\n",
      "python\n"
     ]
    }
   ],
   "source": [
    "print(\"Set Iteration\")\n",
    "l={\"python\",\"for\",\"everyone\"}\n",
    "for i in l:\n",
    "    print(i)"
   ]
  },
  {
   "cell_type": "code",
   "execution_count": 5,
   "id": "ff85cf59",
   "metadata": {},
   "outputs": [
    {
     "name": "stdout",
     "output_type": "stream",
     "text": [
      "String Iteration\n",
      "p\n",
      "y\n",
      "t\n",
      "h\n",
      "o\n",
      "n\n"
     ]
    }
   ],
   "source": [
    "print(\"String Iteration\")\n",
    "l=\"python\"\n",
    "for i in l:\n",
    "    print(i)"
   ]
  },
  {
   "cell_type": "code",
   "execution_count": 9,
   "id": "aaa2d270",
   "metadata": {},
   "outputs": [
    {
     "name": "stdout",
     "output_type": "stream",
     "text": [
      "Dict Iteration\n",
      "1 python\n",
      "2 for\n",
      "3 everyone\n"
     ]
    }
   ],
   "source": [
    "print(\"Dict Iteration\")\n",
    "l={1:\"python\",2:\"for\",3:\"everyone\"}\n",
    "for i in l:\n",
    "    print(i,l[i])"
   ]
  },
  {
   "cell_type": "code",
   "execution_count": 10,
   "id": "a45b7afe",
   "metadata": {},
   "outputs": [
    {
     "name": "stdout",
     "output_type": "stream",
     "text": [
      "Inside Loop\n",
      "a\n",
      "b\n",
      "c\n",
      "Outside loop:\n",
      "d\n",
      "e\n"
     ]
    }
   ],
   "source": [
    "tup=('a','b','c','d','e')\n",
    "tup_iter=iter(tup)\n",
    "print(\"Inside Loop\")\n",
    "for index, item in enumerate(tup_iter):\n",
    "    print(item)\n",
    "    if index==2:\n",
    "        break\n",
    "print(\"Outside loop:\")\n",
    "print(next(tup_iter))\n",
    "print(next(tup_iter))"
   ]
  },
  {
   "cell_type": "code",
   "execution_count": 13,
   "id": "40894c0b",
   "metadata": {},
   "outputs": [
    {
     "name": "stdout",
     "output_type": "stream",
     "text": [
      "Iterable Loop 1:\n",
      "1,2,3,4,5,\n",
      "Iterable Loop 2:\n",
      "1,2,3,4,5,\n",
      "Iterator: Outside Loop\n"
     ]
    }
   ],
   "source": [
    "iterable=(1,2,3,4,5)\n",
    "iterable_obj=iter(iterable)\n",
    "print(\"Iterable Loop 1:\")\n",
    "for item in iterable:\n",
    "    print(item, end=\",\")\n",
    "print(\"\\nIterable Loop 2:\")\n",
    "for item in iterable_obj:\n",
    "    print(item, end=\",\")\n",
    "print(\"\\nIterator: Outside Loop\")\n",
    "# print(next(iterable_obj))"
   ]
  },
  {
   "cell_type": "markdown",
   "id": "8ead3a78",
   "metadata": {},
   "source": [
    "## Exceptional Handling"
   ]
  },
  {
   "cell_type": "code",
   "execution_count": 14,
   "id": "8d0ad8ef",
   "metadata": {},
   "outputs": [
    {
     "name": "stdout",
     "output_type": "stream",
     "text": [
      "7\n"
     ]
    }
   ],
   "source": [
    "try:\n",
    "    x=7\n",
    "    print(x)\n",
    "except:\n",
    "    print(\"An Exception Accured\")"
   ]
  },
  {
   "cell_type": "code",
   "execution_count": 16,
   "id": "7449a769",
   "metadata": {},
   "outputs": [
    {
     "name": "stdout",
     "output_type": "stream",
     "text": [
      "An Exception Accured\n"
     ]
    }
   ],
   "source": [
    "try:\n",
    "    print(y)\n",
    "except:\n",
    "    print(\"An Exception Accured\")"
   ]
  },
  {
   "cell_type": "code",
   "execution_count": 17,
   "id": "4cd04ca5",
   "metadata": {},
   "outputs": [
    {
     "name": "stdout",
     "output_type": "stream",
     "text": [
      "Variable w is not defined\n"
     ]
    }
   ],
   "source": [
    "try:\n",
    "    print(w)\n",
    "except NameError:\n",
    "    print(\"Variable w is not defined\")\n",
    "except:\n",
    "    print(\"Something else went wrong\")"
   ]
  },
  {
   "cell_type": "code",
   "execution_count": 18,
   "id": "f5e12273",
   "metadata": {},
   "outputs": [
    {
     "name": "stdout",
     "output_type": "stream",
     "text": [
      "5\n",
      "Something else went wrong\n"
     ]
    }
   ],
   "source": [
    "try:\n",
    "    w=5\n",
    "    print(w)\n",
    "    print(w+'abc')\n",
    "except NameError:\n",
    "    print(\"Variable w is not defined\")\n",
    "except:\n",
    "    print(\"Something else went wrong\")"
   ]
  },
  {
   "cell_type": "code",
   "execution_count": 24,
   "id": "1e7bb97e",
   "metadata": {},
   "outputs": [
    {
     "ename": "IndentationError",
     "evalue": "expected an indented block (<ipython-input-24-ac32c0be0901>, line 4)",
     "output_type": "error",
     "traceback": [
      "\u001b[1;36m  File \u001b[1;32m\"<ipython-input-24-ac32c0be0901>\"\u001b[1;36m, line \u001b[1;32m4\u001b[0m\n\u001b[1;33m    print('Hello World')\u001b[0m\n\u001b[1;37m    ^\u001b[0m\n\u001b[1;31mIndentationError\u001b[0m\u001b[1;31m:\u001b[0m expected an indented block\n"
     ]
    }
   ],
   "source": [
    "try:\n",
    "    x=5\n",
    "    if (x == 5):\n",
    "    print('Hello World')\n",
    "except IndentationError:\n",
    "    print(\"Indentation Error: Check the indentation of the code\"\n",
    "except:\n",
    "    print(\"Something else went wrong\")"
   ]
  },
  {
   "cell_type": "code",
   "execution_count": 26,
   "id": "a39c19d3",
   "metadata": {},
   "outputs": [
    {
     "name": "stdout",
     "output_type": "stream",
     "text": [
      "Hello\n",
      "Nothing went wrong\n"
     ]
    }
   ],
   "source": [
    "try:\n",
    "    print(\"Hello\")\n",
    "except:\n",
    "    print(\"Something went wrong\")\n",
    "else:\n",
    "    print(\"Nothing went wrong\")"
   ]
  },
  {
   "cell_type": "code",
   "execution_count": 27,
   "id": "78810abb",
   "metadata": {},
   "outputs": [
    {
     "name": "stdout",
     "output_type": "stream",
     "text": [
      "Something went wrong\n"
     ]
    }
   ],
   "source": [
    "try:\n",
    "    print(e)\n",
    "except:\n",
    "    print(\"Something went wrong\")\n",
    "else:\n",
    "    print(\"Nothing went wrong\")"
   ]
  },
  {
   "cell_type": "code",
   "execution_count": 28,
   "id": "8c1f914c",
   "metadata": {},
   "outputs": [
    {
     "name": "stdout",
     "output_type": "stream",
     "text": [
      "Something went wrong\n",
      "Nothing went wrong\n"
     ]
    }
   ],
   "source": [
    "try:\n",
    "    print(e)\n",
    "except: \n",
    "    print(\"Something went wrong\")\n",
    "finally:\n",
    "    print(\"Nothing went wrong\")"
   ]
  },
  {
   "cell_type": "code",
   "execution_count": 29,
   "id": "919872f1",
   "metadata": {},
   "outputs": [
    {
     "ename": "Exception",
     "evalue": "Sorry, no matter below zero",
     "output_type": "error",
     "traceback": [
      "\u001b[1;31m---------------------------------------------------------------------------\u001b[0m",
      "\u001b[1;31mException\u001b[0m                                 Traceback (most recent call last)",
      "\u001b[1;32m<ipython-input-29-c62059734875>\u001b[0m in \u001b[0;36m<module>\u001b[1;34m\u001b[0m\n\u001b[0;32m      1\u001b[0m \u001b[0mx\u001b[0m\u001b[1;33m=\u001b[0m\u001b[1;33m-\u001b[0m\u001b[1;36m1\u001b[0m\u001b[1;33m\u001b[0m\u001b[1;33m\u001b[0m\u001b[0m\n\u001b[0;32m      2\u001b[0m \u001b[1;32mif\u001b[0m \u001b[0mx\u001b[0m\u001b[1;33m<\u001b[0m\u001b[1;36m0\u001b[0m\u001b[1;33m:\u001b[0m\u001b[1;33m\u001b[0m\u001b[1;33m\u001b[0m\u001b[0m\n\u001b[1;32m----> 3\u001b[1;33m     \u001b[1;32mraise\u001b[0m \u001b[0mException\u001b[0m\u001b[1;33m(\u001b[0m\u001b[1;34m\"Sorry, no matter below zero\"\u001b[0m\u001b[1;33m)\u001b[0m\u001b[1;33m\u001b[0m\u001b[1;33m\u001b[0m\u001b[0m\n\u001b[0m",
      "\u001b[1;31mException\u001b[0m: Sorry, no matter below zero"
     ]
    }
   ],
   "source": [
    "x=-1\n",
    "if x<0:\n",
    "    raise Exception(\"Sorry, no matter below zero\")"
   ]
  },
  {
   "cell_type": "code",
   "execution_count": 33,
   "id": "009bd6e1",
   "metadata": {},
   "outputs": [
    {
     "name": "stdout",
     "output_type": "stream",
     "text": [
      "Enter the vlue of x:-2\n"
     ]
    },
    {
     "ename": "Exception",
     "evalue": "Sorry, no matter below zero",
     "output_type": "error",
     "traceback": [
      "\u001b[1;31m---------------------------------------------------------------------------\u001b[0m",
      "\u001b[1;31mException\u001b[0m                                 Traceback (most recent call last)",
      "\u001b[1;32m<ipython-input-33-71eebce1feee>\u001b[0m in \u001b[0;36m<module>\u001b[1;34m\u001b[0m\n\u001b[0;32m      1\u001b[0m \u001b[0mx\u001b[0m\u001b[1;33m=\u001b[0m\u001b[0mint\u001b[0m\u001b[1;33m(\u001b[0m\u001b[0minput\u001b[0m\u001b[1;33m(\u001b[0m\u001b[1;34m'Enter the vlue of x:'\u001b[0m\u001b[1;33m)\u001b[0m\u001b[1;33m)\u001b[0m\u001b[1;33m\u001b[0m\u001b[1;33m\u001b[0m\u001b[0m\n\u001b[0;32m      2\u001b[0m \u001b[1;32mif\u001b[0m \u001b[0mx\u001b[0m\u001b[1;33m<\u001b[0m\u001b[1;36m0\u001b[0m\u001b[1;33m:\u001b[0m\u001b[1;33m\u001b[0m\u001b[1;33m\u001b[0m\u001b[0m\n\u001b[1;32m----> 3\u001b[1;33m     \u001b[1;32mraise\u001b[0m \u001b[0mException\u001b[0m\u001b[1;33m(\u001b[0m\u001b[1;34m\"Sorry, no matter below zero\"\u001b[0m\u001b[1;33m)\u001b[0m\u001b[1;33m\u001b[0m\u001b[1;33m\u001b[0m\u001b[0m\n\u001b[0m\u001b[0;32m      4\u001b[0m \u001b[0mprint\u001b[0m\u001b[1;33m(\u001b[0m\u001b[0mx\u001b[0m\u001b[1;33m)\u001b[0m\u001b[1;33m\u001b[0m\u001b[1;33m\u001b[0m\u001b[0m\n",
      "\u001b[1;31mException\u001b[0m: Sorry, no matter below zero"
     ]
    }
   ],
   "source": [
    "x=int(input('Enter the vlue of x:'))\n",
    "if x<0:\n",
    "    raise Exception(\"Sorry, no matter below zero\")\n",
    "print(x)"
   ]
  },
  {
   "cell_type": "code",
   "execution_count": 35,
   "id": "f8f7d0e7",
   "metadata": {},
   "outputs": [
    {
     "name": "stdout",
     "output_type": "stream",
     "text": [
      "Enter the vlue of x:Python\n"
     ]
    },
    {
     "ename": "Exception",
     "evalue": "Sed Lyf bruh",
     "output_type": "error",
     "traceback": [
      "\u001b[1;31m---------------------------------------------------------------------------\u001b[0m",
      "\u001b[1;31mException\u001b[0m                                 Traceback (most recent call last)",
      "\u001b[1;32m<ipython-input-35-0fdd75e0a730>\u001b[0m in \u001b[0;36m<module>\u001b[1;34m\u001b[0m\n\u001b[0;32m      1\u001b[0m \u001b[0mx\u001b[0m\u001b[1;33m=\u001b[0m\u001b[0minput\u001b[0m\u001b[1;33m(\u001b[0m\u001b[1;34m'Enter the vlue of x:'\u001b[0m\u001b[1;33m)\u001b[0m\u001b[1;33m\u001b[0m\u001b[1;33m\u001b[0m\u001b[0m\n\u001b[0;32m      2\u001b[0m \u001b[1;32mif\u001b[0m \u001b[0mx\u001b[0m\u001b[1;33m==\u001b[0m\u001b[1;34m'Python'\u001b[0m\u001b[1;33m:\u001b[0m\u001b[1;33m\u001b[0m\u001b[1;33m\u001b[0m\u001b[0m\n\u001b[1;32m----> 3\u001b[1;33m     \u001b[1;32mraise\u001b[0m \u001b[0mException\u001b[0m\u001b[1;33m(\u001b[0m\u001b[1;34m\"Sed Lyf bruh\"\u001b[0m\u001b[1;33m)\u001b[0m\u001b[1;33m\u001b[0m\u001b[1;33m\u001b[0m\u001b[0m\n\u001b[0m\u001b[0;32m      4\u001b[0m \u001b[0mprint\u001b[0m\u001b[1;33m(\u001b[0m\u001b[0mx\u001b[0m\u001b[1;33m)\u001b[0m\u001b[1;33m\u001b[0m\u001b[1;33m\u001b[0m\u001b[0m\n",
      "\u001b[1;31mException\u001b[0m: Sed Lyf bruh"
     ]
    }
   ],
   "source": [
    "x=input('Enter the vlue of x:')\n",
    "if x=='Python':\n",
    "    raise Exception(\"Sed Lyf bruh\")\n",
    "print(x)"
   ]
  },
  {
   "cell_type": "code",
   "execution_count": 36,
   "id": "10a1fe1f",
   "metadata": {},
   "outputs": [
    {
     "name": "stdout",
     "output_type": "stream",
     "text": [
      "Enter the value of x:14\n",
      "Divide by zero error\n"
     ]
    }
   ],
   "source": [
    "try:\n",
    "    x=int(input('Enter the value of x:'))\n",
    "    z=x/0\n",
    "    print(z)\n",
    "except:\n",
    "    print('Divide by zero error')"
   ]
  },
  {
   "cell_type": "code",
   "execution_count": 37,
   "id": "3356f309",
   "metadata": {},
   "outputs": [
    {
     "name": "stdout",
     "output_type": "stream",
     "text": [
      "NameError Occured and Handled\n"
     ]
    }
   ],
   "source": [
    "def fun(a):\n",
    "    if a < 4:\n",
    "        b=a/(a-3)\n",
    "    print(\"Value of b = \",b)\n",
    "try:\n",
    "    fun(5)\n",
    "except ZeroDivisionError:\n",
    "    print(\"ZeroDivisionError Occurred and Handled\")\n",
    "except NameError:\n",
    "    print(\"NameError Occured and Handled\")"
   ]
  },
  {
   "cell_type": "code",
   "execution_count": 39,
   "id": "ccf5410d",
   "metadata": {},
   "outputs": [
    {
     "name": "stdout",
     "output_type": "stream",
     "text": [
      "a/b result in 0\n",
      "1.2222222222222223\n"
     ]
    }
   ],
   "source": [
    "def AbyB(a,b):\n",
    "    try:\n",
    "        c=((a+b)/(a-b))\n",
    "    except ZeroDivisionError:\n",
    "        print(\"a/b result in 0\")\n",
    "    else: \n",
    "        print(c)\n",
    "AbyB(10,10)\n",
    "AbyB(10,1)"
   ]
  },
  {
   "cell_type": "code",
   "execution_count": 68,
   "id": "ad521954",
   "metadata": {},
   "outputs": [
    {
     "name": "stdout",
     "output_type": "stream",
     "text": [
      "Enter age34\n",
      "age is:  34\n"
     ]
    }
   ],
   "source": [
    "def check_Age(age):\n",
    "    if (age < 18):\n",
    "        raise ValueError(\"Age should not be below 18\")\n",
    "try:\n",
    "    age=int(input(\"Enter age\"))\n",
    "    check_Age(age)\n",
    "except ValueError as e:\n",
    "    print(e)\n",
    "else:\n",
    "    print(\"age is: \",age)\n"
   ]
  },
  {
   "cell_type": "markdown",
   "id": "5ac10926",
   "metadata": {},
   "source": [
    "## Regular Expression"
   ]
  },
  {
   "cell_type": "code",
   "execution_count": 70,
   "id": "c49979cc",
   "metadata": {},
   "outputs": [
    {
     "data": {
      "text/plain": [
       "<re.Match object; span=(0, 4), match='This'>"
      ]
     },
     "execution_count": 70,
     "metadata": {},
     "output_type": "execute_result"
    }
   ],
   "source": [
    "import re\n",
    "\n",
    "txt=\"This is python programming class\"\n",
    "x=re.search(\"This\",txt)\n",
    "x"
   ]
  },
  {
   "cell_type": "code",
   "execution_count": 71,
   "id": "f8fe2408",
   "metadata": {},
   "outputs": [
    {
     "data": {
      "text/plain": [
       "<re.Match object; span=(0, 1), match='T'>"
      ]
     },
     "execution_count": 71,
     "metadata": {},
     "output_type": "execute_result"
    }
   ],
   "source": [
    "txt=\"This is python programming class\"\n",
    "x=re.search(\"T\",txt)\n",
    "x"
   ]
  },
  {
   "cell_type": "code",
   "execution_count": 75,
   "id": "c1d351a7",
   "metadata": {},
   "outputs": [
    {
     "data": {
      "text/plain": [
       "['T']"
      ]
     },
     "execution_count": 75,
     "metadata": {},
     "output_type": "execute_result"
    }
   ],
   "source": [
    "txt=\"This is python programming class and it's rocking!!\"\n",
    "x=re.findall(\"T\",txt)\n",
    "x"
   ]
  },
  {
   "cell_type": "code",
   "execution_count": 76,
   "id": "0912a566",
   "metadata": {},
   "outputs": [
    {
     "data": {
      "text/plain": [
       "['p', 'p']"
      ]
     },
     "execution_count": 76,
     "metadata": {},
     "output_type": "execute_result"
    }
   ],
   "source": [
    "txt=\"This is python programming class and it's rocking!!\"\n",
    "x=re.findall(\"p\",txt)\n",
    "x"
   ]
  },
  {
   "cell_type": "code",
   "execution_count": 77,
   "id": "d367c299",
   "metadata": {},
   "outputs": [
    {
     "name": "stdout",
     "output_type": "stream",
     "text": [
      "the first white-space character is located in position:  4\n"
     ]
    }
   ],
   "source": [
    "txt=\"This is python programming class\"\n",
    "x=re.search(\"\\s\",txt)\n",
    "print(\"the first white-space character is located in position: \",x.start())"
   ]
  },
  {
   "cell_type": "code",
   "execution_count": 78,
   "id": "6d5c171c",
   "metadata": {},
   "outputs": [
    {
     "name": "stdout",
     "output_type": "stream",
     "text": [
      "['This', 'is', 'python', 'programming', 'class']\n"
     ]
    }
   ],
   "source": [
    "txt=\"This is python programming class\"\n",
    "x=re.split(\"\\s\",txt)\n",
    "print(x)"
   ]
  },
  {
   "cell_type": "code",
   "execution_count": 79,
   "id": "cdbd1621",
   "metadata": {},
   "outputs": [
    {
     "name": "stdout",
     "output_type": "stream",
     "text": [
      "['This', 'is', 'python', 'programming class']\n"
     ]
    }
   ],
   "source": [
    "txt=\"This is python programming class\"\n",
    "x=re.split(\"\\s\",txt,3)\n",
    "print(x)"
   ]
  },
  {
   "cell_type": "code",
   "execution_count": 80,
   "id": "ae608a84",
   "metadata": {},
   "outputs": [
    {
     "name": "stdout",
     "output_type": "stream",
     "text": [
      "This10is10python10programming class\n"
     ]
    }
   ],
   "source": [
    "txt=\"This is python programming class\"\n",
    "x=re.sub(\"\\s\",'10',txt)\n",
    "print(x)"
   ]
  },
  {
   "cell_type": "code",
   "execution_count": 82,
   "id": "767cd060",
   "metadata": {},
   "outputs": [
    {
     "name": "stdout",
     "output_type": "stream",
     "text": [
      "Start Index:  8\n",
      "End Index:  14\n"
     ]
    }
   ],
   "source": [
    "txt=\"This is python programming class\"\n",
    "x=re.search(\"python\",txt)\n",
    "print('Start Index: ',x.start())\n",
    "print('End Index: ',x.end())"
   ]
  },
  {
   "cell_type": "code",
   "execution_count": 83,
   "id": "ccb090f1",
   "metadata": {
    "scrolled": true
   },
   "outputs": [
    {
     "name": "stdout",
     "output_type": "stream",
     "text": [
      "<re.Match object; span=(0, 1), match='T'>\n",
      "<re.Match object; span=(32, 33), match='.'>\n"
     ]
    }
   ],
   "source": [
    "txt=\"This is python programming class.\"\n",
    "x=re.search(r'.',txt)\n",
    "print(x)\n",
    "x=re.search(r'\\.',txt)\n",
    "print(x)"
   ]
  },
  {
   "cell_type": "code",
   "execution_count": 84,
   "id": "a04ea816",
   "metadata": {},
   "outputs": [
    {
     "name": "stdout",
     "output_type": "stream",
     "text": [
      "None\n"
     ]
    }
   ],
   "source": [
    "txt=\"This is python programming class.\"\n",
    "x=re.search(r'\\*',txt)\n",
    "print(x)"
   ]
  },
  {
   "cell_type": "code",
   "execution_count": 85,
   "id": "36c11388",
   "metadata": {},
   "outputs": [
    {
     "name": "stdout",
     "output_type": "stream",
     "text": [
      "['123454']\n"
     ]
    }
   ],
   "source": [
    "txt=\"This is python programming class and it's rocking!!123454\"\n",
    "regrex='\\d+'\n",
    "x=re.findall(regrex,txt)\n",
    "print(x)"
   ]
  }
 ],
 "metadata": {
  "kernelspec": {
   "display_name": "Python 3",
   "language": "python",
   "name": "python3"
  },
  "language_info": {
   "codemirror_mode": {
    "name": "ipython",
    "version": 3
   },
   "file_extension": ".py",
   "mimetype": "text/x-python",
   "name": "python",
   "nbconvert_exporter": "python",
   "pygments_lexer": "ipython3",
   "version": "3.8.8"
  }
 },
 "nbformat": 4,
 "nbformat_minor": 5
}
