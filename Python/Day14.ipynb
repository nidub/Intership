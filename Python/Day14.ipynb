{
 "cells": [
  {
   "cell_type": "code",
   "execution_count": 3,
   "id": "a71971bc",
   "metadata": {},
   "outputs": [
    {
     "name": "stdout",
     "output_type": "stream",
     "text": [
      "The Numpy Array is:\n",
      "[[1 2 3 4 5]\n",
      " [4 5 6 7 8]\n",
      " [9 8 7 6 5]]\n",
      "The sliced Numpy Array is:\n",
      "[[9 8 7 6 5]]\n",
      "The shape of Sliced Numpy Array is:\n",
      "(1, 5)\n"
     ]
    }
   ],
   "source": [
    "import numpy as np\n",
    "arr=np.array([[1,2,3,4,5],[4,5,6,7,8],[9,8,7,6,5]])\n",
    "print(\"The Numpy Array is:\")\n",
    "print(arr)\n",
    "arr1=arr[2:,:]\n",
    "print(\"The sliced Numpy Array is:\")\n",
    "print(arr1)\n",
    "print(\"The shape of Sliced Numpy Array is:\")\n",
    "print(arr1.shape)"
   ]
  },
  {
   "cell_type": "code",
   "execution_count": 2,
   "id": "389dcb7f",
   "metadata": {},
   "outputs": [],
   "source": [
    "import numpy as np"
   ]
  },
  {
   "cell_type": "code",
   "execution_count": 4,
   "id": "61d72aef",
   "metadata": {},
   "outputs": [
    {
     "name": "stdout",
     "output_type": "stream",
     "text": [
      "[[0. 0. 0.]\n",
      " [0. 0. 0.]]\n",
      "(2, 3)\n"
     ]
    }
   ],
   "source": [
    "a4=np.zeros((2,3))\n",
    "print(a4)\n",
    "print(a4.shape)"
   ]
  },
  {
   "cell_type": "code",
   "execution_count": 5,
   "id": "7723fd2d",
   "metadata": {},
   "outputs": [
    {
     "name": "stdout",
     "output_type": "stream",
     "text": [
      "[0. 0.]\n",
      "(2,)\n"
     ]
    }
   ],
   "source": [
    "a4=np.zeros((2,))\n",
    "print(a4)\n",
    "print(a4.shape)"
   ]
  },
  {
   "cell_type": "code",
   "execution_count": 7,
   "id": "ea4495c3",
   "metadata": {},
   "outputs": [
    {
     "name": "stdout",
     "output_type": "stream",
     "text": [
      "[0. 0.]\n",
      "(2,)\n"
     ]
    }
   ],
   "source": [
    "a4=np.zeros(2)\n",
    "print(a4)\n",
    "print(a4.shape)"
   ]
  },
  {
   "cell_type": "code",
   "execution_count": 8,
   "id": "2d0e623d",
   "metadata": {},
   "outputs": [
    {
     "name": "stdout",
     "output_type": "stream",
     "text": [
      "[[0. 0. 0.]\n",
      " [0. 0. 0.]]\n",
      "(2, 3)\n"
     ]
    }
   ],
   "source": [
    "a4=np.zeros((2,3))\n",
    "print(a4)\n",
    "print(a4.shape)"
   ]
  },
  {
   "cell_type": "code",
   "execution_count": 9,
   "id": "53ed8f90",
   "metadata": {},
   "outputs": [
    {
     "name": "stdout",
     "output_type": "stream",
     "text": [
      "[[8 8 8]\n",
      " [8 8 8]]\n",
      "(2, 3)\n"
     ]
    }
   ],
   "source": [
    "a4=np.full((2,3),8)\n",
    "print(a4)\n",
    "print(a4.shape)"
   ]
  },
  {
   "cell_type": "code",
   "execution_count": 12,
   "id": "334fe991",
   "metadata": {},
   "outputs": [
    {
     "name": "stdout",
     "output_type": "stream",
     "text": [
      "[8 8]\n",
      "(2,)\n"
     ]
    }
   ],
   "source": [
    "a4=np.full((2),8)\n",
    "print(a4)\n",
    "print(a4.shape)"
   ]
  },
  {
   "cell_type": "code",
   "execution_count": 13,
   "id": "0c0350fc",
   "metadata": {},
   "outputs": [
    {
     "name": "stdout",
     "output_type": "stream",
     "text": [
      "[[1. 0. 0. 0.]\n",
      " [0. 1. 0. 0.]\n",
      " [0. 0. 1. 0.]\n",
      " [0. 0. 0. 1.]]\n",
      "(4, 4)\n"
     ]
    }
   ],
   "source": [
    "a6=np.eye(4)\n",
    "print(a6)\n",
    "print(a6.shape)"
   ]
  },
  {
   "cell_type": "code",
   "execution_count": 15,
   "id": "786500e6",
   "metadata": {},
   "outputs": [
    {
     "name": "stdout",
     "output_type": "stream",
     "text": [
      "[[1. 0. 0. 0. 0. 0. 0. 0. 0. 0.]\n",
      " [0. 1. 0. 0. 0. 0. 0. 0. 0. 0.]\n",
      " [0. 0. 1. 0. 0. 0. 0. 0. 0. 0.]\n",
      " [0. 0. 0. 1. 0. 0. 0. 0. 0. 0.]\n",
      " [0. 0. 0. 0. 1. 0. 0. 0. 0. 0.]\n",
      " [0. 0. 0. 0. 0. 1. 0. 0. 0. 0.]\n",
      " [0. 0. 0. 0. 0. 0. 1. 0. 0. 0.]\n",
      " [0. 0. 0. 0. 0. 0. 0. 1. 0. 0.]\n",
      " [0. 0. 0. 0. 0. 0. 0. 0. 1. 0.]\n",
      " [0. 0. 0. 0. 0. 0. 0. 0. 0. 1.]]\n",
      "(10, 10)\n"
     ]
    }
   ],
   "source": [
    "a6=np.eye(10)\n",
    "print(a6)\n",
    "print(a6.shape)"
   ]
  },
  {
   "cell_type": "code",
   "execution_count": 16,
   "id": "af3420ca",
   "metadata": {},
   "outputs": [
    {
     "name": "stdout",
     "output_type": "stream",
     "text": [
      "[[0.20428881 0.51510929 0.38880703 0.39730782]\n",
      " [0.64137959 0.51997506 0.94811682 0.39042989]]\n",
      "(2, 4)\n"
     ]
    }
   ],
   "source": [
    "a7=np.random.random((2,4))\n",
    "print(a7)\n",
    "print(a7.shape)"
   ]
  },
  {
   "cell_type": "code",
   "execution_count": 17,
   "id": "9be15d67",
   "metadata": {},
   "outputs": [
    {
     "name": "stdout",
     "output_type": "stream",
     "text": [
      "[1, 2, 3, 4, 5]\n",
      "[1 2 3 4 5]\n"
     ]
    }
   ],
   "source": [
    "list1=[1,2,3,4,5]\n",
    "print(list1)\n",
    "r1=np.array(list1)\n",
    "print(r1)"
   ]
  },
  {
   "cell_type": "code",
   "execution_count": 18,
   "id": "177de452",
   "metadata": {},
   "outputs": [
    {
     "name": "stdout",
     "output_type": "stream",
     "text": [
      "[1 2 3]\n",
      "int32\n"
     ]
    }
   ],
   "source": [
    "arr=np.array([1.1,2.1,3.1])\n",
    "newarr=arr.astype('i')\n",
    "print(newarr)\n",
    "print(newarr.dtype)"
   ]
  },
  {
   "cell_type": "code",
   "execution_count": 20,
   "id": "2c84dbd8",
   "metadata": {},
   "outputs": [
    {
     "name": "stdout",
     "output_type": "stream",
     "text": [
      "[ True  True False]\n",
      "bool\n"
     ]
    }
   ],
   "source": [
    "arr=np.array([1.1,2.1,0])\n",
    "newarr=arr.astype(bool)\n",
    "print(newarr)\n",
    "print(newarr.dtype)"
   ]
  },
  {
   "cell_type": "code",
   "execution_count": 22,
   "id": "ecb210ac",
   "metadata": {},
   "outputs": [
    {
     "name": "stdout",
     "output_type": "stream",
     "text": [
      "[1 2 3]\n",
      "[1 2 3]\n",
      "[1 2 3]\n"
     ]
    }
   ],
   "source": [
    "arr = np.array([1,2,3])\n",
    "for x in arr:\n",
    "    print(arr)"
   ]
  },
  {
   "cell_type": "code",
   "execution_count": 23,
   "id": "09b3245a",
   "metadata": {},
   "outputs": [
    {
     "name": "stdout",
     "output_type": "stream",
     "text": [
      "[1 2 3 4 5 6]\n"
     ]
    }
   ],
   "source": [
    "arr1=np.array([1,2,3])\n",
    "arr2=np.array([4,5,6])\n",
    "arr=np.concatenate((arr1,arr2))\n",
    "print(arr)"
   ]
  },
  {
   "cell_type": "code",
   "execution_count": 24,
   "id": "05d771ea",
   "metadata": {},
   "outputs": [
    {
     "name": "stdout",
     "output_type": "stream",
     "text": [
      "[array([1, 2]), array([3, 4]), array([5, 6])]\n"
     ]
    }
   ],
   "source": [
    "arr=np.array([1,2,3,4,5,6])\n",
    "newarr=np.array_split(arr,3)\n",
    "print(newarr)"
   ]
  },
  {
   "cell_type": "code",
   "execution_count": 25,
   "id": "fb94e073",
   "metadata": {
    "scrolled": true
   },
   "outputs": [
    {
     "name": "stdout",
     "output_type": "stream",
     "text": [
      "[array([1]), array([2]), array([3]), array([4]), array([5]), array([6]), array([], dtype=int32), array([], dtype=int32), array([], dtype=int32), array([], dtype=int32)]\n"
     ]
    }
   ],
   "source": [
    "arr=np.array([1,2,3,4,5,6])\n",
    "newarr=np.array_split(arr,10)\n",
    "print(newarr)"
   ]
  },
  {
   "cell_type": "code",
   "execution_count": 26,
   "id": "5b288a61",
   "metadata": {},
   "outputs": [
    {
     "name": "stdout",
     "output_type": "stream",
     "text": [
      "[0 1 2 3]\n"
     ]
    }
   ],
   "source": [
    "arr=np.array([3,2,0,1])\n",
    "print(np.sort(arr))"
   ]
  },
  {
   "cell_type": "code",
   "execution_count": 27,
   "id": "24c82e9d",
   "metadata": {},
   "outputs": [
    {
     "name": "stdout",
     "output_type": "stream",
     "text": [
      "18\n"
     ]
    }
   ],
   "source": [
    "num1=6\n",
    "num2=18\n",
    "x=np.lcm(num1,num2)\n",
    "print(x)"
   ]
  },
  {
   "cell_type": "code",
   "execution_count": 28,
   "id": "c8bca5fc",
   "metadata": {},
   "outputs": [
    {
     "name": "stdout",
     "output_type": "stream",
     "text": [
      "30\n"
     ]
    }
   ],
   "source": [
    "#lcm can only consists of 2 variable\n",
    "x=np.lcm(6,5)\n",
    "print(x)"
   ]
  },
  {
   "cell_type": "code",
   "execution_count": 29,
   "id": "9e4a3d99",
   "metadata": {},
   "outputs": [
    {
     "name": "stdout",
     "output_type": "stream",
     "text": [
      "18\n"
     ]
    }
   ],
   "source": [
    "# reduce is used to apply binary operation on an array and iterate until it found single value\n",
    "# 1st it will find the lcm of two number and than next number 9\n",
    "arr=np.array([3,6,9])\n",
    "x=np.lcm.reduce(arr)\n",
    "print(x)"
   ]
  },
  {
   "cell_type": "code",
   "execution_count": 32,
   "id": "cc5897dd",
   "metadata": {},
   "outputs": [
    {
     "name": "stdout",
     "output_type": "stream",
     "text": [
      "11\n"
     ]
    }
   ],
   "source": [
    "arr=np.array([1,11])\n",
    "x=np.lcm.reduce(arr)\n",
    "print(x)"
   ]
  },
  {
   "cell_type": "code",
   "execution_count": 33,
   "id": "967a2777",
   "metadata": {},
   "outputs": [
    {
     "name": "stdout",
     "output_type": "stream",
     "text": [
      "12\n"
     ]
    }
   ],
   "source": [
    "num1=12\n",
    "num2=24\n",
    "x=np.gcd(num1,num2)\n",
    "print(x)"
   ]
  },
  {
   "cell_type": "code",
   "execution_count": 34,
   "id": "743c80d3",
   "metadata": {},
   "outputs": [
    {
     "name": "stdout",
     "output_type": "stream",
     "text": [
      "4\n"
     ]
    }
   ],
   "source": [
    "arr=np.array([20,8,32,36,16])\n",
    "x=np.gcd.reduce(arr)\n",
    "print(x)"
   ]
  },
  {
   "cell_type": "code",
   "execution_count": 35,
   "id": "10a55cc3",
   "metadata": {},
   "outputs": [
    {
     "name": "stdout",
     "output_type": "stream",
     "text": [
      "[[1. 1. 1. 1.]\n",
      " [1. 1. 1. 1.]\n",
      " [1. 1. 1. 1.]\n",
      " [1. 1. 1. 1.]\n",
      " [1. 1. 1. 1.]\n",
      " [1. 1. 1. 1.]]\n"
     ]
    }
   ],
   "source": [
    "#You can create a two-Dimensional array of all ones by passing the number of\n",
    "#rows and columns as the first and second parameter of theones() method, as\n",
    "#shown below\n",
    "ones_array=np.ones((6,4))\n",
    "print(ones_array)"
   ]
  },
  {
   "cell_type": "code",
   "execution_count": 36,
   "id": "0b5f217b",
   "metadata": {},
   "outputs": [
    {
     "name": "stdout",
     "output_type": "stream",
     "text": [
      "[0. 0. 0. 0. 0. 0.]\n"
     ]
    }
   ],
   "source": [
    "# The zeros() method can be used to create a Numpy array of all zeros. Here\n",
    "# is an example\n",
    "zeros_array=np.zeros(6)\n",
    "print(zeros_array)"
   ]
  },
  {
   "cell_type": "code",
   "execution_count": 38,
   "id": "ec7aed23",
   "metadata": {},
   "outputs": [
    {
     "name": "stdout",
     "output_type": "stream",
     "text": [
      "[[0. 0. 0. 0.]\n",
      " [0. 0. 0. 0.]\n",
      " [0. 0. 0. 0.]\n",
      " [0. 0. 0. 0.]\n",
      " [0. 0. 0. 0.]\n",
      " [0. 0. 0. 0.]]\n"
     ]
    }
   ],
   "source": [
    "#You can create a two-dimentional array of all zeros by passing the number of\n",
    "#rows and columns as the first and second parameter of the zeros() method,\n",
    "#as shown below:\n",
    "zeros_array=np.zeros((6,4))\n",
    "print(zeros_array)"
   ]
  },
  {
   "cell_type": "code",
   "execution_count": 39,
   "id": "7e51e94b",
   "metadata": {},
   "outputs": [
    {
     "name": "stdout",
     "output_type": "stream",
     "text": [
      "[[1. 0. 0. 0. 0.]\n",
      " [0. 1. 0. 0. 0.]\n",
      " [0. 0. 1. 0. 0.]\n",
      " [0. 0. 0. 1. 0.]\n",
      " [0. 0. 0. 0. 1.]]\n"
     ]
    }
   ],
   "source": [
    "# The eye() method is used to create an identity matrix in the form of a 2 dimentional\n",
    "# Numpy array. An identity matrix contains is along the diagonal,\n",
    "# while the rest of the element are 0 in the array.\n",
    "eyes_array=np.eye(5)\n",
    "print(eyes_array)"
   ]
  },
  {
   "cell_type": "code",
   "execution_count": 40,
   "id": "794a38d7",
   "metadata": {},
   "outputs": [
    {
     "name": "stdout",
     "output_type": "stream",
     "text": [
      "[[0.76780606 0.67886709 0.3577254  0.24602138 0.501932  ]\n",
      " [0.04806188 0.56949318 0.55443533 0.63871128 0.40278001]\n",
      " [0.85718572 0.17596929 0.78450878 0.80560144 0.66553314]\n",
      " [0.74480641 0.80988047 0.13573176 0.13513544 0.60334218]]\n"
     ]
    }
   ],
   "source": [
    "# The random.rand() function from the Numpy module can be create\n",
    "# a Numpy array with uniform distribution\n",
    "uniform_random=np.random.rand(4,5)\n",
    "print(uniform_random)"
   ]
  },
  {
   "cell_type": "code",
   "execution_count": 41,
   "id": "872f5279",
   "metadata": {},
   "outputs": [
    {
     "name": "stdout",
     "output_type": "stream",
     "text": [
      "[37 43 35 23 22]\n"
     ]
    }
   ],
   "source": [
    "#Finally, the random.randint() function from the Numpy module can be used \n",
    "# to create a Numpy array with random intergers between a certain range.\n",
    "integer_random=np.random.randint(10,50,5)\n",
    "print(integer_random)"
   ]
  },
  {
   "cell_type": "code",
   "execution_count": 43,
   "id": "cd31a113",
   "metadata": {},
   "outputs": [
    {
     "name": "stdout",
     "output_type": "stream",
     "text": [
      "[[ 6  1  5  9  4]\n",
      " [ 1  2  3  3  3]\n",
      " [10  5  1  9  2]\n",
      " [ 3  2  7  1  7]]\n"
     ]
    }
   ],
   "source": [
    "integer_random=np.random.randint(1,11,size=(4,5))\n",
    "print(integer_random)"
   ]
  },
  {
   "cell_type": "code",
   "execution_count": 44,
   "id": "09b95695",
   "metadata": {},
   "outputs": [
    {
     "name": "stdout",
     "output_type": "stream",
     "text": [
      "[[[ 9 10  6  3  5]\n",
      "  [10 10  1  9  3]\n",
      "  [ 8  4  6  9  9]\n",
      "  [ 5  8  5  8 10]]\n",
      "\n",
      " [[ 5  5  5  2  7]\n",
      "  [ 8  9  4  5  6]\n",
      "  [ 9  4  1  3 10]\n",
      "  [ 8  7  6  5 10]]]\n"
     ]
    }
   ],
   "source": [
    "integer_random=np.random.randint(1,11,size=(2,4,5))\n",
    "print(integer_random)"
   ]
  },
  {
   "cell_type": "code",
   "execution_count": 45,
   "id": "b31a577d",
   "metadata": {},
   "outputs": [
    {
     "name": "stdout",
     "output_type": "stream",
     "text": [
      "[[[[ 1  3  8  9  2]\n",
      "   [ 8  8 10 10  4]\n",
      "   [ 9  2  9  5  7]\n",
      "   [ 1  4  6  5  1]]\n",
      "\n",
      "  [[ 7  2  7  7  6]\n",
      "   [ 1  2  5  4  9]\n",
      "   [ 4  5  5  5  2]\n",
      "   [ 5  9 10  4  9]]]\n",
      "\n",
      "\n",
      " [[[ 3  5  2  8  5]\n",
      "   [ 4  9 10 10  3]\n",
      "   [ 6  3  2  4  5]\n",
      "   [ 8  7  8  5  9]]\n",
      "\n",
      "  [[10  5 10  6  6]\n",
      "   [ 1  8  5 10  3]\n",
      "   [ 7  7  1  6  2]\n",
      "   [ 9  3  2  8  1]]]\n",
      "\n",
      "\n",
      " [[[ 5  1  8  5  5]\n",
      "   [ 4  7  6  4  5]\n",
      "   [ 2  6  9  3  3]\n",
      "   [ 8  5  8  1  3]]\n",
      "\n",
      "  [[ 2  3  4  8  2]\n",
      "   [ 8  4 10  7  4]\n",
      "   [10  8  8  2  5]\n",
      "   [ 9  1  7  8 10]]]]\n"
     ]
    }
   ],
   "source": [
    "integer_random=np.random.randint(1,11,size=(3,2,4,5))\n",
    "print(integer_random)"
   ]
  },
  {
   "cell_type": "code",
   "execution_count": 46,
   "id": "08ce0a6b",
   "metadata": {},
   "outputs": [
    {
     "name": "stdout",
     "output_type": "stream",
     "text": [
      "['Red' 'Green' 'Orange']\n",
      "['Red' 'Green' 'Orange' 'Yellow']\n"
     ]
    }
   ],
   "source": [
    "my_array=np.array([\"Red\",\"Green\",\"Orange\"])\n",
    "print(my_array)\n",
    "extended=np.append(my_array,\"Yellow\")\n",
    "print(extended)"
   ]
  },
  {
   "cell_type": "code",
   "execution_count": 47,
   "id": "72c8da30",
   "metadata": {},
   "outputs": [
    {
     "name": "stdout",
     "output_type": "stream",
     "text": [
      "[[0. 0. 0.]\n",
      " [0. 0. 0.]\n",
      " [0. 0. 0.]]\n",
      "Extended Array\n",
      "[[0. 0. 0.]\n",
      " [0. 0. 0.]\n",
      " [0. 0. 0.]\n",
      " [1. 2. 3.]]\n"
     ]
    }
   ],
   "source": [
    "zeros_array=np.zeros((3,3))\n",
    "print(zeros_array)\n",
    "print(\"Extended Array\")\n",
    "extended=np.append(zeros_array,[[1,2,3]], axis=0)\n",
    "print(extended)"
   ]
  },
  {
   "cell_type": "code",
   "execution_count": 48,
   "id": "f32bf682",
   "metadata": {},
   "outputs": [
    {
     "name": "stdout",
     "output_type": "stream",
     "text": [
      "[[0. 0. 0.]\n",
      " [0. 0. 0.]\n",
      " [0. 0. 0.]]\n",
      "Extended Array\n",
      "[[0. 0. 0. 1.]\n",
      " [0. 0. 0. 2.]\n",
      " [0. 0. 0. 3.]]\n"
     ]
    }
   ],
   "source": [
    "zeros_array=np.zeros((3,3))\n",
    "print(zeros_array)\n",
    "print(\"Extended Array\")\n",
    "extended=np.append(zeros_array,[[1],[2],[3]], axis=1)\n",
    "print(extended)"
   ]
  },
  {
   "cell_type": "code",
   "execution_count": 50,
   "id": "4ae48fd5",
   "metadata": {},
   "outputs": [
    {
     "name": "stdout",
     "output_type": "stream",
     "text": [
      "['Red' 'Green' 'Orange']\n",
      "After Deletion\n",
      "['Red' 'Orange']\n"
     ]
    }
   ],
   "source": [
    "my_array=np.array(['Red',\"Green\",\"Orange\"])\n",
    "print(my_array)\n",
    "print(\"After Deletion\")\n",
    "updated_array=np.delete(my_array,1)\n",
    "print(updated_array)"
   ]
  },
  {
   "cell_type": "code",
   "execution_count": 51,
   "id": "5e7ae7ba",
   "metadata": {},
   "outputs": [
    {
     "name": "stdout",
     "output_type": "stream",
     "text": [
      "['Red' 'Green' 'Orange']\n",
      "After Deletion\n",
      "['Red']\n"
     ]
    }
   ],
   "source": [
    "y_array=np.array(['Red',\"Green\",\"Orange\"])\n",
    "print(my_array)\n",
    "print(\"After Deletion\")\n",
    "updated_array=np.delete(my_array,[1,2])\n",
    "print(updated_array)"
   ]
  },
  {
   "cell_type": "code",
   "execution_count": 55,
   "id": "519a2f3d",
   "metadata": {},
   "outputs": [
    {
     "name": "stdout",
     "output_type": "stream",
     "text": [
      "['Red' 'Green' 'Orange']\n",
      "After Deletion\n",
      "['Red' 'Orange']\n"
     ]
    }
   ],
   "source": [
    "y_array=np.array([\"Red\",\"Green\",\"Orange\",\"Yellow\"])\n",
    "print(my_array)\n",
    "print(\"After Deletion\")\n",
    "updated_array=np.delete(y_array, [1,3])\n",
    "print(updated_array)"
   ]
  },
  {
   "cell_type": "code",
   "execution_count": 56,
   "id": "ecb12128",
   "metadata": {},
   "outputs": [
    {
     "name": "stdout",
     "output_type": "stream",
     "text": [
      "[[ 4  8  8  3  7]\n",
      " [ 5 10  5  6  4]\n",
      " [ 6 10  3  7  4]\n",
      " [ 5  9  9  8  5]]\n",
      "After Deletion\n",
      "[[ 4  8  8  3  7]\n",
      " [ 6 10  3  7  4]\n",
      " [ 5  9  9  8  5]]\n"
     ]
    }
   ],
   "source": [
    "integer_random=np.random.randint(1,11, size=(4,5))\n",
    "print(integer_random)\n",
    "print(\"After Deletion\")\n",
    "updated_array=np.delete(integer_random, 1, axis=0)\n",
    "print(updated_array)"
   ]
  },
  {
   "cell_type": "code",
   "execution_count": 57,
   "id": "b0902165",
   "metadata": {},
   "outputs": [
    {
     "name": "stdout",
     "output_type": "stream",
     "text": [
      "[[ 7  4  8  9  7]\n",
      " [ 7  8  2 10  4]\n",
      " [ 7  8  6  1  7]\n",
      " [ 3  8  3  6 10]]\n",
      "After Deletion\n",
      "[[ 7  8  2 10  4]\n",
      " [ 7  8  6  1  7]\n",
      " [ 3  8  3  6 10]]\n"
     ]
    }
   ],
   "source": [
    "integer_random=np.random.randint(1,11, size=(4,5))\n",
    "print(integer_random)\n",
    "print(\"After Deletion\")\n",
    "updated_array=np.delete(integer_random, 0, axis=0)\n",
    "print(updated_array)"
   ]
  },
  {
   "cell_type": "code",
   "execution_count": 58,
   "id": "c9750a7b",
   "metadata": {},
   "outputs": [
    {
     "name": "stdout",
     "output_type": "stream",
     "text": [
      "Unsorted array\n",
      "[12 11 10  2 12 19 14  4  5 17]\n",
      "\n",
      "sorted array\n",
      "[ 2  4  5 10 11 12 12 14 17 19]\n"
     ]
    }
   ],
   "source": [
    "print(\"Unsorted array\")\n",
    "my_array=np.random.randint(1,20,10)\n",
    "print(my_array)\n",
    "print(\"\\nsorted array\")\n",
    "sorted_array=np.sort(my_array)\n",
    "print(sorted_array)"
   ]
  },
  {
   "cell_type": "code",
   "execution_count": 59,
   "id": "1159af0c",
   "metadata": {},
   "outputs": [
    {
     "name": "stdout",
     "output_type": "stream",
     "text": [
      "Unsorted array\n",
      "['Red' 'Green' 'Blue' 'Yellow']\n",
      "\n",
      "sorted array\n",
      "['Blue' 'Green' 'Red' 'Yellow']\n"
     ]
    }
   ],
   "source": [
    "print(\"Unsorted array\")\n",
    "my_array=np.array([\"Red\",\"Green\",\"Blue\",\"Yellow\"])\n",
    "print(my_array)\n",
    "print(\"\\nsorted array\")\n",
    "sorted_array=np.sort(my_array)\n",
    "print(sorted_array)"
   ]
  },
  {
   "cell_type": "code",
   "execution_count": 61,
   "id": "1cc0e4d1",
   "metadata": {},
   "outputs": [
    {
     "name": "stdout",
     "output_type": "stream",
     "text": [
      "Unsorted array\n",
      "['True' 'False' 'true' 'false' 'True' 'False']\n",
      "\n",
      "sorted array\n",
      "['False' 'False' 'True' 'True' 'false' 'true']\n"
     ]
    }
   ],
   "source": [
    "print(\"Unsorted array\")\n",
    "my_array=np.array([\"True\",\"False\",\"true\",\"false\",\"True\",\"False\"])\n",
    "print(my_array)\n",
    "print(\"\\nsorted array\")\n",
    "sorted_array=np.sort(my_array)\n",
    "print(sorted_array)"
   ]
  },
  {
   "cell_type": "code",
   "execution_count": 62,
   "id": "f9d27259",
   "metadata": {},
   "outputs": [
    {
     "name": "stdout",
     "output_type": "stream",
     "text": [
      "Unsorted array\n",
      "[[11  8  4  7 11 14]\n",
      " [ 9  2  2 14 16  7]\n",
      " [12  1 18 13  7 18]\n",
      " [18 17 13 12  1  4]]\n",
      "\n",
      "sorted array\n",
      "[[ 4  7  8 11 11 14]\n",
      " [ 2  2  7  9 14 16]\n",
      " [ 1  7 12 13 18 18]\n",
      " [ 1  4 12 13 17 18]]\n"
     ]
    }
   ],
   "source": [
    "print(\"Unsorted array\")\n",
    "my_array=np.random.randint(1,20,size=(4,6))\n",
    "print(my_array)\n",
    "print(\"\\nsorted array\")\n",
    "sorted_array=np.sort(my_array)\n",
    "print(sorted_array)"
   ]
  },
  {
   "cell_type": "code",
   "execution_count": 64,
   "id": "9928ff26",
   "metadata": {},
   "outputs": [
    {
     "name": "stdout",
     "output_type": "stream",
     "text": [
      "Unsorted array\n",
      "[ 3  8  4  7 11  5  0  2 87 34  5  0  2]\n",
      "\n",
      "sorted array\n",
      "[87 34 11  8  7  5  5  4  3  2  2  0  0]\n",
      "[ 0  0  2  2  3  4  5  5  7  8 11 34 87]\n"
     ]
    }
   ],
   "source": [
    "print(\"Unsorted array\")\n",
    "my_array=np.array([3,8,4,7,11,5,0,2,87,34,5,0,2])\n",
    "print(my_array)\n",
    "print(\"\\nsorted array\")\n",
    "sorted_array=np.sort(my_array)\n",
    "reverse_sorted=np.flipud(sorted_array)\n",
    "print(reverse_sorted)\n",
    "print(sorted_array)"
   ]
  },
  {
   "cell_type": "code",
   "execution_count": 70,
   "id": "9e38cbbe",
   "metadata": {},
   "outputs": [
    {
     "name": "stdout",
     "output_type": "stream",
     "text": [
      "1D array\n",
      "[ 2 19  1  4 15 13  9  7 15  1]\n",
      "\n",
      "2D array\n",
      "[[ 2 19  1  4 15]\n",
      " [13  9  7 15  1]]\n",
      "\n",
      "3D array\n",
      "[[[ 2 19  1  4 15]\n",
      "  [13  9  7 15  1]]]\n"
     ]
    }
   ],
   "source": [
    "print(\"1D array\")\n",
    "my_array=np.random.randint(1,20,10)\n",
    "print(my_array)\n",
    "print(\"\\n2D array\")\n",
    "twodarray=my_array.reshape(2,5)\n",
    "print(twodarray)\n",
    "print(\"\\n3D array\")\n",
    "threedarray=my_array.reshape(1,2,5)\n",
    "print(threedarray)"
   ]
  },
  {
   "cell_type": "code",
   "execution_count": 74,
   "id": "bed817f3",
   "metadata": {},
   "outputs": [],
   "source": [
    "arr=np.array([10,12,14,16,18,20])\n",
    "np.save(\"E:\\Internship\\Python\",arr)"
   ]
  },
  {
   "cell_type": "code",
   "execution_count": 75,
   "id": "a1e5221b",
   "metadata": {},
   "outputs": [],
   "source": [
    "arr=np.array([10,12,14,16,18,20])\n",
    "np.save(\"E:\\Internship\\Python\\my_array.txt\",arr)"
   ]
  },
  {
   "cell_type": "code",
   "execution_count": 76,
   "id": "2aa417e2",
   "metadata": {},
   "outputs": [
    {
     "name": "stdout",
     "output_type": "stream",
     "text": [
      "a is:\n",
      "[0 1 2 3 4 1 2 3 4 5 2 3 4 5 6 3 4 5 6 7 4 5 6 7 8]\n",
      "the array is saved in the file.npy\n",
      "b is:\n",
      "b is printed from file.npy\n"
     ]
    }
   ],
   "source": [
    "a=np.array(([i+j for i in range(5)\n",
    "            for j in range(5)]))\n",
    "print(\"a is:\")\n",
    "print(a)\n",
    "np.save('file',a)\n",
    "print(\"the array is saved in the file.npy\")\n",
    "b=np.load('file.npy')\n",
    "print(\"b is:\")\n",
    "print(\"b is printed from file.npy\")"
   ]
  },
  {
   "cell_type": "code",
   "execution_count": 77,
   "id": "749eea61",
   "metadata": {
    "scrolled": true
   },
   "outputs": [
    {
     "name": "stdout",
     "output_type": "stream",
     "text": [
      "[ 2  3  4  8  6 10 12]\n",
      "mean:\n",
      "6.428571428571429\n"
     ]
    }
   ],
   "source": [
    "my_array=np.array([2,3,4,8,6,10,12])\n",
    "print(my_array)\n",
    "print(\"mean:\")\n",
    "print(np.mean(my_array))"
   ]
  },
  {
   "cell_type": "code",
   "execution_count": 78,
   "id": "226bd860",
   "metadata": {},
   "outputs": [
    {
     "name": "stdout",
     "output_type": "stream",
     "text": [
      "[ 2  3  4  8  6 10 12]\n",
      "median:\n",
      "6.0\n"
     ]
    }
   ],
   "source": [
    "my_array=np.array([2,3,4,8,6,10,12])\n",
    "print(my_array)\n",
    "print(\"median:\")\n",
    "print(np.median(my_array))"
   ]
  },
  {
   "cell_type": "code",
   "execution_count": 79,
   "id": "b22aa4fe",
   "metadata": {},
   "outputs": [
    {
     "name": "stdout",
     "output_type": "stream",
     "text": [
      "[[13 14  8]\n",
      " [15 19 19]]\n",
      "mean:\n",
      "[11.66666667 17.66666667]\n",
      "[14.  16.5 13.5]\n"
     ]
    }
   ],
   "source": [
    "my_array=np.random.randint(1,20,size=(2,3))\n",
    "print(my_array)\n",
    "print(\"mean:\")\n",
    "print(np.mean(my_array, axis=1))\n",
    "print(np.mean(my_array, axis=0))"
   ]
  },
  {
   "cell_type": "code",
   "execution_count": 80,
   "id": "9f0bfb58",
   "metadata": {},
   "outputs": [
    {
     "name": "stdout",
     "output_type": "stream",
     "text": [
      "[[ 5  7  2]\n",
      " [ 8  5 12]]\n",
      "median:\n",
      "[5. 8.]\n",
      "[6.5 6.  7. ]\n"
     ]
    }
   ],
   "source": [
    "my_array=np.random.randint(1,20,size=(2,3))\n",
    "print(my_array)\n",
    "print(\"median:\")\n",
    "print(np.median(my_array, axis=1))#rows\n",
    "print(np.median(my_array, axis=0))#columns"
   ]
  },
  {
   "cell_type": "code",
   "execution_count": 86,
   "id": "70153aa4",
   "metadata": {},
   "outputs": [
    {
     "name": "stdout",
     "output_type": "stream",
     "text": [
      "[ 2  3  4  8  6 10 12]\n",
      "min:\n",
      "2\n"
     ]
    }
   ],
   "source": [
    "my_array=np.array([2,3,4,8,6,10,12])\n",
    "print(my_array)\n",
    "print(\"min:\")\n",
    "print(np.amin(my_array))"
   ]
  },
  {
   "cell_type": "code",
   "execution_count": 87,
   "id": "3b5855fd",
   "metadata": {
    "scrolled": true
   },
   "outputs": [
    {
     "name": "stdout",
     "output_type": "stream",
     "text": [
      "[ 2  3  4  8  6 10 12]\n",
      "max:\n",
      "12\n"
     ]
    }
   ],
   "source": [
    "my_array=np.array([2,3,4,8,6,10,12])\n",
    "print(my_array)\n",
    "print(\"max:\")\n",
    "print(np.amax(my_array))"
   ]
  },
  {
   "cell_type": "code",
   "execution_count": 88,
   "id": "7541f35a",
   "metadata": {},
   "outputs": [
    {
     "name": "stdout",
     "output_type": "stream",
     "text": [
      "[[ 5 12 14]\n",
      " [15  7 17]]\n",
      "min:\n",
      "[5 7]\n",
      "[ 5  7 14]\n"
     ]
    }
   ],
   "source": [
    "my_array=np.random.randint(1,20,size=(2,3))\n",
    "print(my_array)\n",
    "print(\"min:\")\n",
    "print(np.amin(my_array, axis=1))#rows\n",
    "print(np.amin(my_array, axis=0))#columns"
   ]
  },
  {
   "cell_type": "code",
   "execution_count": 89,
   "id": "cc80909c",
   "metadata": {
    "scrolled": true
   },
   "outputs": [
    {
     "name": "stdout",
     "output_type": "stream",
     "text": [
      "[[ 4  2  7]\n",
      " [ 1  5 17]]\n",
      "max:\n",
      "[ 7 17]\n",
      "[ 4  5 17]\n"
     ]
    }
   ],
   "source": [
    "my_array=np.random.randint(1,20,size=(2,3))\n",
    "print(my_array)\n",
    "print(\"max:\")\n",
    "print(np.amax(my_array, axis=1))#rows\n",
    "print(np.amax(my_array, axis=0))#columns"
   ]
  },
  {
   "cell_type": "code",
   "execution_count": 90,
   "id": "dea969e8",
   "metadata": {},
   "outputs": [
    {
     "name": "stdout",
     "output_type": "stream",
     "text": [
      "[ 2  3  4  8  6 10 12]\n",
      "std value:\n",
      "3.45820526768863\n"
     ]
    }
   ],
   "source": [
    "my_array=np.array([2,3,4,8,6,10,12])\n",
    "print(my_array)\n",
    "print(\"std value:\")\n",
    "print(np.std(my_array))"
   ]
  },
  {
   "cell_type": "code",
   "execution_count": 91,
   "id": "5712f33e",
   "metadata": {},
   "outputs": [
    {
     "name": "stdout",
     "output_type": "stream",
     "text": [
      "[[15  3 18]\n",
      " [12  3 13]]\n",
      "std:\n",
      "[6.4807407  4.49691252]\n",
      "[1.5 0.  2.5]\n"
     ]
    }
   ],
   "source": [
    "my_array=np.random.randint(1,20,size=(2,3))\n",
    "print(my_array)\n",
    "print(\"std:\")\n",
    "print(np.std(my_array, axis=1))#rows\n",
    "print(np.std(my_array, axis=0))#columns"
   ]
  },
  {
   "cell_type": "code",
   "execution_count": 92,
   "id": "c31035a2",
   "metadata": {
    "scrolled": true
   },
   "outputs": [
    {
     "name": "stdout",
     "output_type": "stream",
     "text": [
      "[ 2  3  4  8  6 10 12]\n",
      "[ 6.  10.  12.   0.  -1.   0.9]\n",
      "correlation value:\n",
      "[ 93.  154.8]\n"
     ]
    }
   ],
   "source": [
    "a1=np.array([2,3,4,8,6,10,12])\n",
    "a2=np.array([6,10,12,0,-1,0.9])\n",
    "print(a1)\n",
    "print(a2)\n",
    "print(\"correlation value:\")\n",
    "print(np.correlate(a1,a2))"
   ]
  },
  {
   "cell_type": "code",
   "execution_count": 93,
   "id": "43eb30fd",
   "metadata": {},
   "outputs": [
    {
     "name": "stdout",
     "output_type": "stream",
     "text": [
      "[ 2  3  4  8  6 10 12 67 44  3  0  1  5  3  7  7]\n",
      "Unique value:\n",
      "[ 0  1  2  3  4  5  6  7  8 10 12 44 67]\n"
     ]
    }
   ],
   "source": [
    "my_array=np.array([2,3,4,8,6,10,12,67,44,3,0,1,5,3,7,7])\n",
    "print(my_array)\n",
    "print(\"Unique value:\")\n",
    "print(np.unique(my_array))"
   ]
  }
 ],
 "metadata": {
  "kernelspec": {
   "display_name": "Python 3",
   "language": "python",
   "name": "python3"
  },
  "language_info": {
   "codemirror_mode": {
    "name": "ipython",
    "version": 3
   },
   "file_extension": ".py",
   "mimetype": "text/x-python",
   "name": "python",
   "nbconvert_exporter": "python",
   "pygments_lexer": "ipython3",
   "version": "3.8.8"
  }
 },
 "nbformat": 4,
 "nbformat_minor": 5
}
