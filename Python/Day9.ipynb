{
 "cells": [
  {
   "cell_type": "code",
   "execution_count": 1,
   "id": "de2f7f57",
   "metadata": {},
   "outputs": [
    {
     "name": "stdout",
     "output_type": "stream",
     "text": [
      "This function is in parent class.\n",
      "This function is in Child class.\n"
     ]
    }
   ],
   "source": [
    "class Parent:\n",
    "    def func1(self):\n",
    "        print(\"This function is in parent class.\")\n",
    "\n",
    "class Child(Parent):\n",
    "    def func2(self):\n",
    "        print(\"This function is in Child class.\")\n",
    "\n",
    "object=Child()\n",
    "object.func1()\n",
    "object.func2()"
   ]
  },
  {
   "cell_type": "code",
   "execution_count": 4,
   "id": "ccd446cf",
   "metadata": {},
   "outputs": [
    {
     "name": "stdout",
     "output_type": "stream",
     "text": [
      "Father :  X\n",
      "Mother :  Y\n"
     ]
    }
   ],
   "source": [
    "class Mother:\n",
    "    motherman=\"\"\n",
    "    def mother(self):\n",
    "        print(self.mothername)\n",
    "class Father:\n",
    "    fatherman=\"\"\n",
    "    def father(self):\n",
    "        print(self.fatherman)\n",
    "class Son(Mother, Father):\n",
    "    def parents(self):\n",
    "        print(\"Father : \",self.fathername)\n",
    "        print(\"Mother : \",self.mothername)\n",
    "s1=Son()\n",
    "s1.fathername='X'\n",
    "s1.mothername='Y'\n",
    "s1.parents()"
   ]
  },
  {
   "cell_type": "code",
   "execution_count": 7,
   "id": "9834f446",
   "metadata": {},
   "outputs": [
    {
     "name": "stdout",
     "output_type": "stream",
     "text": [
      "5\n",
      "10\n",
      "15\n",
      "5\n",
      "10\n"
     ]
    }
   ],
   "source": [
    "class A:\n",
    "    a = 5\n",
    "    def m1(self):\n",
    "        print(self.a)\n",
    "class B:\n",
    "    b = 10\n",
    "    def m2(self):\n",
    "        print(self.b)\n",
    "        \n",
    "ol=A()\n",
    "ol.m1()\n",
    "o2=B()\n",
    "o2.m2()\n",
    "\n",
    "class C(A,B):\n",
    "    def m3(self):\n",
    "        self.c=self.a+self.b\n",
    "        print(self.c)\n",
    "o3=C()\n",
    "o3.m3()\n",
    "o3.m1()\n",
    "o3.m2()"
   ]
  },
  {
   "cell_type": "code",
   "execution_count": 9,
   "id": "44e323a7",
   "metadata": {},
   "outputs": [
    {
     "name": "stdout",
     "output_type": "stream",
     "text": [
      "15\n"
     ]
    }
   ],
   "source": [
    "class A:\n",
    "    a=5\n",
    "class B:\n",
    "    b=10\n",
    "class C(A,B):\n",
    "    def m(self):\n",
    "        self.c=self.a+self.b\n",
    "        print(self.c)\n",
    "o3=C()\n",
    "o3.m()"
   ]
  },
  {
   "cell_type": "code",
   "execution_count": 12,
   "id": "d0e20716",
   "metadata": {},
   "outputs": [
    {
     "name": "stdout",
     "output_type": "stream",
     "text": [
      "This is situation\n",
      "Car name is:  TOYOTA\n",
      "Truck name is:  TATA\n",
      "These are four wheelers.\n",
      "\n",
      "\n",
      "This is situation\n",
      "Car name is:  BMW\n"
     ]
    }
   ],
   "source": [
    "class Vehicle:\n",
    "    def info(self):\n",
    "        print(\"This is situation\")\n",
    "\n",
    "class Car(Vehicle):\n",
    "    def car_info(self,name):\n",
    "        print(\"Car name is: \",name)\n",
    "\n",
    "class Truck(Vehicle):\n",
    "    def truck_info(self,name):\n",
    "        print(\"Truck name is: \",name)\n",
    "        \n",
    "class fourwheeler(Car, Truck):\n",
    "    def fw_info(self):\n",
    "        print('These are four wheelers.')\n",
    "        \n",
    "ob=fourwheeler()\n",
    "ob.info()\n",
    "ob.car_info('TOYOTA')\n",
    "ob.truck_info('TATA')\n",
    "ob.fw_info()\n",
    "print(\"\\n\")\n",
    "obj1=Car()\n",
    "obj1.info()\n",
    "obj1.car_info(\"BMW\")"
   ]
  },
  {
   "cell_type": "code",
   "execution_count": 15,
   "id": "786053b8",
   "metadata": {},
   "outputs": [
    {
     "name": "stdout",
     "output_type": "stream",
     "text": [
      "This is Dog\n",
      "My name is:  German Sheperd\n",
      "This is Dog\n",
      "my name is:  Bull Dog\n"
     ]
    }
   ],
   "source": [
    "class Dog:\n",
    "    def info(self):\n",
    "        print('This is Dog')\n",
    "class german(Dog):\n",
    "    def info1(self,name):\n",
    "        print('My name is: ',name)\n",
    "class american(Dog):\n",
    "    def info2(self,name):\n",
    "        print(\"my name is: \", name)\n",
    "g=german()\n",
    "g.info()\n",
    "g.info1(\"German Sheperd\")\n",
    "\n",
    "h=american()\n",
    "h.info()\n",
    "h.info2(\"Bull Dog\")"
   ]
  },
  {
   "cell_type": "code",
   "execution_count": 21,
   "id": "93685c37",
   "metadata": {},
   "outputs": [
    {
     "name": "stdout",
     "output_type": "stream",
     "text": [
      "Python\n",
      "data science and machine learning\n",
      "Electrical\n",
      "EEE\n",
      "vishnu\n",
      "CSE EEE AI ML\n"
     ]
    }
   ],
   "source": [
    "class bvrt:\n",
    "    college_name=\"vishnu\"\n",
    "    def course(self,branches):\n",
    "        print(branches)\n",
    "\n",
    "class syllabus(bvrt):\n",
    "    s=\"Electrical\"\n",
    "    def subject(self,name):\n",
    "        print(name)\n",
    "\n",
    "class training(syllabus):\n",
    "    p='Python'\n",
    "    def internship(self,intern):\n",
    "        print(intern)\n",
    "t=training()\n",
    "print(t.p)\n",
    "t.internship('data science and machine learning')\n",
    "print(t.s)\n",
    "t.subject('EEE')\n",
    "print(t.college_name)\n",
    "t.course('CSE','EEE','AI','ML')"
   ]
  },
  {
   "cell_type": "markdown",
   "id": "2fd99d92",
   "metadata": {},
   "source": [
    "## Iterators"
   ]
  },
  {
   "cell_type": "code",
   "execution_count": null,
   "id": "2a67c6a1",
   "metadata": {},
   "outputs": [],
   "source": [
    "# __iter__() method acts similar, you can do operation (initializing etc.), but must always the iterator object itself\n",
    "#__next__() method also allow you to do operations and must return the next itam in the sequence."
   ]
  },
  {
   "cell_type": "code",
   "execution_count": 2,
   "id": "92c6ea88",
   "metadata": {},
   "outputs": [
    {
     "name": "stdout",
     "output_type": "stream",
     "text": [
      "apple\n",
      "banana\n",
      "cherry\n"
     ]
    }
   ],
   "source": [
    "fruits = (\"apple\",\"banana\",\"cherry\")\n",
    "myit=iter(fruits)\n",
    "\n",
    "print(next(myit))\n",
    "print(next(myit))\n",
    "print(next(myit))"
   ]
  },
  {
   "cell_type": "code",
   "execution_count": 4,
   "id": "d7b750f9",
   "metadata": {},
   "outputs": [
    {
     "name": "stdout",
     "output_type": "stream",
     "text": [
      "0\n",
      "1\n",
      "2\n"
     ]
    }
   ],
   "source": [
    "list1=[]\n",
    "for i in range(100):\n",
    "    list1.append(i)\n",
    "it = iter(list1)\n",
    "print(next(it))\n",
    "print(next(it))\n",
    "print(next(it))"
   ]
  },
  {
   "cell_type": "code",
   "execution_count": 5,
   "id": "57db2374",
   "metadata": {},
   "outputs": [
    {
     "name": "stdout",
     "output_type": "stream",
     "text": [
      "b\n",
      "a\n",
      "n\n",
      "a\n",
      "n\n",
      "a\n"
     ]
    }
   ],
   "source": [
    "mystr = \"banana\"\n",
    "myit = iter(mystr)\n",
    "print(next(myit))\n",
    "print(next(myit))\n",
    "print(next(myit))\n",
    "print(next(myit))\n",
    "print(next(myit))\n",
    "print(next(myit))"
   ]
  },
  {
   "cell_type": "code",
   "execution_count": 7,
   "id": "06e47a70",
   "metadata": {},
   "outputs": [
    {
     "name": "stdout",
     "output_type": "stream",
     "text": [
      "1\n",
      "2\n",
      "3\n",
      "4\n",
      "5\n"
     ]
    }
   ],
   "source": [
    "class MyNumbers:\n",
    "    def __iter__(self):\n",
    "        self.a=1\n",
    "        return self\n",
    "    \n",
    "    def __next__(self):\n",
    "        x=self.a\n",
    "        self.a+=1\n",
    "        return x\n",
    "    \n",
    "myclass = MyNumbers()\n",
    "myiter=iter(myclass)\n",
    "print(next(myiter))\n",
    "print(next(myiter))\n",
    "print(next(myiter))\n",
    "print(next(myiter))\n",
    "print(next(myiter))"
   ]
  },
  {
   "cell_type": "code",
   "execution_count": 8,
   "id": "e69208a6",
   "metadata": {},
   "outputs": [
    {
     "name": "stdout",
     "output_type": "stream",
     "text": [
      "1\n",
      "13\n",
      "25\n",
      "37\n"
     ]
    }
   ],
   "source": [
    "class MyNumbers:\n",
    "    def __iter__(self):\n",
    "        self.a=1\n",
    "        self.b=2\n",
    "        return self\n",
    "    \n",
    "    def __next__(self):\n",
    "        y=10\n",
    "        x=self.a\n",
    "        self.a=self.b+self.a+10\n",
    "        return x\n",
    "    \n",
    "myclass = MyNumbers()\n",
    "myiter=iter(myclass)\n",
    "print(next(myiter))\n",
    "print(next(myiter))\n",
    "print(next(myiter))\n",
    "print(next(myiter))"
   ]
  },
  {
   "cell_type": "code",
   "execution_count": 17,
   "id": "030ffa23",
   "metadata": {},
   "outputs": [
    {
     "name": "stdout",
     "output_type": "stream",
     "text": [
      "10\n",
      "40\n",
      "100\n",
      "220\n"
     ]
    }
   ],
   "source": [
    "class Summ:\n",
    "    def __iter__(self):\n",
    "        self.num=10\n",
    "        return self\n",
    "    \n",
    "    def __next__(self):\n",
    "        y=20\n",
    "        x=self.num\n",
    "        self.num=x+y+self.num\n",
    "        return x\n",
    "    \n",
    "myclass = Summ()\n",
    "myiter=iter(myclass)\n",
    "print(next(myiter))\n",
    "print(next(myiter))\n",
    "print(next(myiter))\n",
    "print(next(myiter))"
   ]
  },
  {
   "cell_type": "code",
   "execution_count": 24,
   "id": "49dc0c13",
   "metadata": {},
   "outputs": [
    {
     "name": "stdout",
     "output_type": "stream",
     "text": [
      "1\n",
      "2\n",
      "3\n",
      "4\n",
      "5\n"
     ]
    }
   ],
   "source": [
    "class MyNumbers:\n",
    "    def __iter__(self):\n",
    "        self.a=1\n",
    "        return self\n",
    "    \n",
    "    def __next__(self):\n",
    "        if self.a<=5:\n",
    "            x=self.a\n",
    "            self.a+=1\n",
    "            return x\n",
    "        else:\n",
    "            raise StopIteration   \n",
    "    \n",
    "myclass = MyNumbers()\n",
    "myiter=iter(myclass)\n",
    "print(next(myiter))\n",
    "print(next(myiter))\n",
    "print(next(myiter))\n",
    "print(next(myiter))\n",
    "print(next(myiter))\n"
   ]
  },
  {
   "cell_type": "code",
   "execution_count": 23,
   "id": "2e034655",
   "metadata": {},
   "outputs": [
    {
     "name": "stdout",
     "output_type": "stream",
     "text": [
      "10\n",
      "11\n",
      "12\n",
      "13\n",
      "14\n",
      "15\n"
     ]
    }
   ],
   "source": [
    "class Test:\n",
    "    def __init__(self, limit):\n",
    "        self.limit=limit\n",
    "    def __iter__(self):\n",
    "        self.x=10\n",
    "        return self\n",
    "    def __next__(self):\n",
    "        x=self.x\n",
    "        if x>self.limit:\n",
    "            raise StopIteration\n",
    "        self.x=x+1\n",
    "        return x\n",
    "a=Test(15)\n",
    "it=iter(a)\n",
    "for i in it:\n",
    "    print(i)\n",
    "    \n",
    "for i in Test(5):\n",
    "    print(i)"
   ]
  },
  {
   "cell_type": "code",
   "execution_count": null,
   "id": "17c432b2",
   "metadata": {},
   "outputs": [],
   "source": []
  }
 ],
 "metadata": {
  "kernelspec": {
   "display_name": "Python 3",
   "language": "python",
   "name": "python3"
  },
  "language_info": {
   "codemirror_mode": {
    "name": "ipython",
    "version": 3
   },
   "file_extension": ".py",
   "mimetype": "text/x-python",
   "name": "python",
   "nbconvert_exporter": "python",
   "pygments_lexer": "ipython3",
   "version": "3.8.8"
  }
 },
 "nbformat": 4,
 "nbformat_minor": 5
}
