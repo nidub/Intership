{
 "cells": [
  {
   "cell_type": "code",
   "execution_count": 1,
   "id": "8c6fe930",
   "metadata": {},
   "outputs": [
    {
     "name": "stdout",
     "output_type": "stream",
     "text": [
      "[1, 2, 3, 4, 5]\n"
     ]
    }
   ],
   "source": [
    "x = [1,2,3,4,5]\n",
    "y = []\n",
    "for i in x:\n",
    "    y.append(i)\n",
    "print(y)"
   ]
  },
  {
   "cell_type": "code",
   "execution_count": 3,
   "id": "5ac3a17e",
   "metadata": {},
   "outputs": [
    {
     "name": "stdout",
     "output_type": "stream",
     "text": [
      "[2, 4]\n"
     ]
    }
   ],
   "source": [
    "x = [1,2,3,4,5]\n",
    "y = []\n",
    "for i in x:\n",
    "    if i%2==0:\n",
    "        y.append(i)\n",
    "print(y)"
   ]
  },
  {
   "cell_type": "code",
   "execution_count": 4,
   "id": "bbbdced0",
   "metadata": {},
   "outputs": [
    {
     "name": "stdout",
     "output_type": "stream",
     "text": [
      "[2, 4]\n"
     ]
    }
   ],
   "source": [
    "#List comprehsive\n",
    "y=[i for i in x if i%2 ==0]\n",
    "print(y)"
   ]
  },
  {
   "cell_type": "code",
   "execution_count": 5,
   "id": "22ba9387",
   "metadata": {},
   "outputs": [
    {
     "name": "stdout",
     "output_type": "stream",
     "text": [
      "['apple', 'banana', 'mango']\n"
     ]
    }
   ],
   "source": [
    "fruits=[\"apple\",\"banana\",\"cherry\",\"kiwi\",\"mango\"]\n",
    "newlist=[]\n",
    "for x in fruits:\n",
    "    if \"a\" in x:\n",
    "        newlist.append(x)\n",
    "print(newlist)"
   ]
  },
  {
   "cell_type": "code",
   "execution_count": 6,
   "id": "acf0bb4e",
   "metadata": {},
   "outputs": [
    {
     "name": "stdout",
     "output_type": "stream",
     "text": [
      "['apple', 'banana', 'mango']\n"
     ]
    }
   ],
   "source": [
    "fruits=[\"apple\",\"banana\",\"cherry\",\"kiwi\",\"mango\"]\n",
    "newlist=[x for x in fruits if \"a\" in x]\n",
    "print(newlist)"
   ]
  },
  {
   "cell_type": "code",
   "execution_count": 9,
   "id": "3bf9fb96",
   "metadata": {},
   "outputs": [
    {
     "name": "stdout",
     "output_type": "stream",
     "text": [
      "apple\n",
      "banana\n",
      "cherry\n",
      "kiwi\n",
      "mango\n"
     ]
    },
    {
     "data": {
      "text/plain": [
       "['apple', 'banana', 'cherry', 'kiwi', 'mango']"
      ]
     },
     "execution_count": 9,
     "metadata": {},
     "output_type": "execute_result"
    }
   ],
   "source": [
    "fruits=[\"apple\",\"banana\",\"cherry\",\"kiwi\",\"mango\"]\n",
    "for x in fruits:\n",
    "    print(x)\n",
    "[i for i in fruits]"
   ]
  },
  {
   "cell_type": "code",
   "execution_count": 10,
   "id": "ad25fe09",
   "metadata": {},
   "outputs": [
    {
     "name": "stdout",
     "output_type": "stream",
     "text": [
      "apple\n",
      "banana\n",
      "cherry\n",
      "kiwi\n",
      "mango\n"
     ]
    },
    {
     "data": {
      "text/plain": [
       "[None, None, None, None, None]"
      ]
     },
     "execution_count": 10,
     "metadata": {},
     "output_type": "execute_result"
    }
   ],
   "source": [
    "[print(i) for i in fruits]"
   ]
  },
  {
   "cell_type": "code",
   "execution_count": 12,
   "id": "c12129b6",
   "metadata": {},
   "outputs": [
    {
     "data": {
      "text/plain": [
       "[1, 2, 3, 4, 5, 6, 7, 8, 9, 10]"
      ]
     },
     "execution_count": 12,
     "metadata": {},
     "output_type": "execute_result"
    }
   ],
   "source": [
    "[i for i in range(1,11)]"
   ]
  },
  {
   "cell_type": "code",
   "execution_count": 13,
   "id": "999900f1",
   "metadata": {},
   "outputs": [
    {
     "name": "stdout",
     "output_type": "stream",
     "text": [
      "[0, 1, 2, 3, 4, 5, 6, 7, 8, 9]\n"
     ]
    }
   ],
   "source": [
    "newlist = [x for x in range(10)]\n",
    "print(newlist)"
   ]
  },
  {
   "cell_type": "code",
   "execution_count": 14,
   "id": "1ace7981",
   "metadata": {},
   "outputs": [
    {
     "name": "stdout",
     "output_type": "stream",
     "text": [
      "10\n",
      "11\n",
      "12\n",
      "13\n",
      "14\n",
      "15\n",
      "16\n",
      "17\n",
      "18\n",
      "19\n",
      "20\n",
      "21\n",
      "22\n",
      "23\n",
      "24\n"
     ]
    }
   ],
   "source": [
    "for i in range(10,31):\n",
    "    if i < 25:\n",
    "        print(i)"
   ]
  },
  {
   "cell_type": "code",
   "execution_count": 15,
   "id": "a4a8aed5",
   "metadata": {},
   "outputs": [
    {
     "data": {
      "text/plain": [
       "[10, 11, 12, 13, 14, 15, 16, 17, 18, 19, 20, 21, 22, 23, 24]"
      ]
     },
     "execution_count": 15,
     "metadata": {},
     "output_type": "execute_result"
    }
   ],
   "source": [
    "[i for i in range(10,31) if i < 25]"
   ]
  },
  {
   "cell_type": "code",
   "execution_count": 16,
   "id": "e064c4ba",
   "metadata": {},
   "outputs": [
    {
     "name": "stdout",
     "output_type": "stream",
     "text": [
      "[0, 1, 2, 3, 4]\n"
     ]
    }
   ],
   "source": [
    "newlist=[x for x in range(10) if x < 5]\n",
    "print(newlist)"
   ]
  },
  {
   "cell_type": "code",
   "execution_count": 17,
   "id": "c352e841",
   "metadata": {},
   "outputs": [
    {
     "data": {
      "text/plain": [
       "{10, 11, 12, 13, 14, 15, 16, 17, 18, 19, 20, 21, 22, 23, 24}"
      ]
     },
     "execution_count": 17,
     "metadata": {},
     "output_type": "execute_result"
    }
   ],
   "source": [
    "{i for i in range(10,31) if i < 25}"
   ]
  },
  {
   "cell_type": "code",
   "execution_count": 18,
   "id": "1b92ff70",
   "metadata": {},
   "outputs": [
    {
     "data": {
      "text/plain": [
       "<generator object <genexpr> at 0x000000AB9DA4D820>"
      ]
     },
     "execution_count": 18,
     "metadata": {},
     "output_type": "execute_result"
    }
   ],
   "source": [
    "(i for i in range(10,31) if i < 25)"
   ]
  },
  {
   "cell_type": "code",
   "execution_count": 19,
   "id": "984f5e42",
   "metadata": {},
   "outputs": [
    {
     "name": "stdout",
     "output_type": "stream",
     "text": [
      "['APPLE', 'BANANA', 'CHERRY', 'KIWI', 'MANGO']\n"
     ]
    }
   ],
   "source": [
    "fruits=[\"apple\",\"banana\",\"cherry\",\"kiwi\",\"mango\"]\n",
    "newlist=[]\n",
    "for x in fruits:\n",
    "    newlist.append(x.upper())\n",
    "print(newlist)"
   ]
  },
  {
   "cell_type": "code",
   "execution_count": 21,
   "id": "3b57b476",
   "metadata": {},
   "outputs": [
    {
     "name": "stdout",
     "output_type": "stream",
     "text": [
      "['APPLE', 'BANANA', 'CHERRY', 'KIWI', 'MANGO']\n"
     ]
    }
   ],
   "source": [
    "fruits=[\"apple\",\"banana\",\"cherry\",\"kiwi\",\"mango\"]\n",
    "newlist=[x.upper() for x in fruits]\n",
    "print(newlist)"
   ]
  },
  {
   "cell_type": "code",
   "execution_count": 24,
   "id": "1c922c73",
   "metadata": {},
   "outputs": [
    {
     "name": "stdout",
     "output_type": "stream",
     "text": [
      "APPLE\n",
      "BANANA\n",
      "CHERRY\n",
      "KIWI\n",
      "MANGO\n"
     ]
    },
    {
     "data": {
      "text/plain": [
       "[None, None, None, None, None]"
      ]
     },
     "execution_count": 24,
     "metadata": {},
     "output_type": "execute_result"
    }
   ],
   "source": [
    "fruits=[\"apple\",\"banana\",\"cherry\",\"kiwi\",\"mango\"]\n",
    "[print(x.upper()) for x in fruits]"
   ]
  },
  {
   "cell_type": "code",
   "execution_count": 26,
   "id": "6d57fe71",
   "metadata": {},
   "outputs": [
    {
     "name": "stdout",
     "output_type": "stream",
     "text": [
      "['APPLE']\n",
      "['BANANA']\n",
      "['CHERRY']\n",
      "['KIWI']\n",
      "['MANGO']\n"
     ]
    },
    {
     "data": {
      "text/plain": [
       "[None, None, None, None, None]"
      ]
     },
     "execution_count": 26,
     "metadata": {},
     "output_type": "execute_result"
    }
   ],
   "source": [
    "fruits=[\"apple\",\"banana\",\"cherry\",\"kiwi\",\"mango\"]\n",
    "[print([x.upper()]) for x in fruits]"
   ]
  },
  {
   "cell_type": "code",
   "execution_count": 27,
   "id": "acf2eb42",
   "metadata": {},
   "outputs": [
    {
     "name": "stdout",
     "output_type": "stream",
     "text": [
      "['apple', 'orange', 'cherry', 'kiwi', 'mango']\n"
     ]
    }
   ],
   "source": [
    "fruits=[\"apple\",\"banana\",\"cherry\",\"kiwi\",\"mango\"]\n",
    "newlist=[]\n",
    "for x in fruits:\n",
    "    if x=='banana':\n",
    "        newlist.append('orange')\n",
    "    else:\n",
    "        newlist.append(x)\n",
    "print(newlist)"
   ]
  },
  {
   "cell_type": "code",
   "execution_count": 28,
   "id": "456ffbeb",
   "metadata": {},
   "outputs": [
    {
     "name": "stdout",
     "output_type": "stream",
     "text": [
      "['apple', 'orange', 'cherry', 'kiwi', 'mango']\n"
     ]
    }
   ],
   "source": [
    "fruits=[\"apple\",\"banana\",\"cherry\",\"kiwi\",\"mango\"]\n",
    "newlist=[x if x!=\"banana\" else \"orange\" for x in fruits]\n",
    "print(newlist)"
   ]
  },
  {
   "cell_type": "code",
   "execution_count": 35,
   "id": "4fcf50ff",
   "metadata": {},
   "outputs": [
    {
     "name": "stdout",
     "output_type": "stream",
     "text": [
      "['Cherry', 'Mango', 'apple', 'banana', 'kiwi']\n"
     ]
    }
   ],
   "source": [
    "fruits=[\"apple\",\"banana\",\"Cherry\",\"kiwi\",\"Mango\"]\n",
    "fruits.sort()\n",
    "print(fruits)"
   ]
  },
  {
   "cell_type": "code",
   "execution_count": 31,
   "id": "9112bfe1",
   "metadata": {},
   "outputs": [
    {
     "name": "stdout",
     "output_type": "stream",
     "text": [
      "[12, 30, 90, 100, 1000]\n"
     ]
    }
   ],
   "source": [
    "list=[100,90,30,12,1000]\n",
    "list.sort()\n",
    "print(list)"
   ]
  },
  {
   "cell_type": "code",
   "execution_count": 34,
   "id": "2cb49f59",
   "metadata": {},
   "outputs": [
    {
     "name": "stdout",
     "output_type": "stream",
     "text": [
      "['mango', 'cherry', 'apple', 'Kiwi', 'Banana']\n"
     ]
    }
   ],
   "source": [
    "fruits=[\"apple\",\"Banana\",\"cherry\",\"Kiwi\",\"mango\"]\n",
    "fruits.sort(reverse=True)\n",
    "print(fruits)"
   ]
  },
  {
   "cell_type": "code",
   "execution_count": 33,
   "id": "39a4dd2c",
   "metadata": {},
   "outputs": [
    {
     "name": "stdout",
     "output_type": "stream",
     "text": [
      "[1000, 100, 90, 30, 12]\n"
     ]
    }
   ],
   "source": [
    "list=[100,90,30,12,1000]\n",
    "list.sort(reverse=True)\n",
    "print(list)"
   ]
  },
  {
   "cell_type": "code",
   "execution_count": 38,
   "id": "6a46ff80",
   "metadata": {},
   "outputs": [
    {
     "name": "stdout",
     "output_type": "stream",
     "text": [
      "['apple', 'Banana', 'cherry', 'Kiwi', 'mango']\n"
     ]
    }
   ],
   "source": [
    "fruits=[\"Kiwi\",\"apple\",\"mango\",\"Banana\",\"cherry\"]\n",
    "fruits.sort(key=str.lower)\n",
    "print(fruits)"
   ]
  },
  {
   "cell_type": "code",
   "execution_count": 39,
   "id": "39b42b83",
   "metadata": {},
   "outputs": [
    {
     "name": "stdout",
     "output_type": "stream",
     "text": [
      "['apple', 'Banana', 'cherry', 'Kiwi', 'mango']\n"
     ]
    }
   ],
   "source": [
    "fruits=[\"Kiwi\",\"apple\",\"mango\",\"Banana\",\"cherry\"]\n",
    "fruits.sort(key=str.upper)\n",
    "print(fruits)"
   ]
  },
  {
   "cell_type": "code",
   "execution_count": 40,
   "id": "91376f2d",
   "metadata": {},
   "outputs": [
    {
     "name": "stdout",
     "output_type": "stream",
     "text": [
      "['cherry', 'Banana', 'mango', 'apple', 'Kiwi']\n"
     ]
    }
   ],
   "source": [
    "fruits=[\"Kiwi\",\"apple\",\"mango\",\"Banana\",\"cherry\"]\n",
    "fruits.reverse()\n",
    "print(fruits)"
   ]
  },
  {
   "cell_type": "code",
   "execution_count": 41,
   "id": "22359c08",
   "metadata": {},
   "outputs": [
    {
     "name": "stdout",
     "output_type": "stream",
     "text": [
      "['1', '2.43', 'AA', 'AB', 'a', 'aa', 'abc']\n"
     ]
    }
   ],
   "source": [
    "x=['a','aa','1','2.43','abc','AB','AA']\n",
    "x.sort()\n",
    "print(x)"
   ]
  },
  {
   "cell_type": "code",
   "execution_count": 42,
   "id": "33e44fac",
   "metadata": {},
   "outputs": [
    {
     "name": "stdout",
     "output_type": "stream",
     "text": [
      "['abc', 'aa', 'a', 'AB', 'AA', '2.43', '1']\n"
     ]
    }
   ],
   "source": [
    "x=['a','aa','1','2.43','abc','AB','AA']\n",
    "x.sort(reverse=True)\n",
    "print(x)"
   ]
  },
  {
   "cell_type": "code",
   "execution_count": 43,
   "id": "20880c27",
   "metadata": {},
   "outputs": [
    {
     "name": "stdout",
     "output_type": "stream",
     "text": [
      "['AA', 'AB', 'abc', '2.43', '1', 'aa', 'a']\n"
     ]
    }
   ],
   "source": [
    "x=['a','aa','1','2.43','abc','AB','AA']\n",
    "x.reverse()\n",
    "print(x)"
   ]
  },
  {
   "cell_type": "code",
   "execution_count": 44,
   "id": "9627051c",
   "metadata": {},
   "outputs": [
    {
     "name": "stdout",
     "output_type": "stream",
     "text": [
      "[-0.45, 0, 1, 23, 100]\n"
     ]
    }
   ],
   "source": [
    "x=[1,100,-0.45,0,23]\n",
    "x.sort()\n",
    "print(x)"
   ]
  },
  {
   "cell_type": "code",
   "execution_count": 45,
   "id": "31c82ac1",
   "metadata": {},
   "outputs": [
    {
     "name": "stdout",
     "output_type": "stream",
     "text": [
      "[1, 18, 36, 45, 64]\n",
      "[-7.0, 0.22, 3.11, 9.01, 45.234]\n",
      "['a', 'day', 'good', 'have']\n"
     ]
    }
   ],
   "source": [
    "number=[45,64,18,1,36]\n",
    "number.sort()\n",
    "print(number)\n",
    "decimalnumber=[9.01,0.22,3.11,-7.00,45.234]\n",
    "decimalnumber.sort()\n",
    "print(decimalnumber)\n",
    "strings=[\"have\",\"a\",\"good\",\"day\"]\n",
    "strings.sort()\n",
    "print(strings)"
   ]
  },
  {
   "cell_type": "code",
   "execution_count": 46,
   "id": "512797b1",
   "metadata": {},
   "outputs": [
    {
     "name": "stdout",
     "output_type": "stream",
     "text": [
      "[64, 45, 36, 18, 1]\n",
      "[45.234, 9.01, 3.11, 0.22, -7.0]\n",
      "['have', 'good', 'day', 'a']\n"
     ]
    }
   ],
   "source": [
    "number=[45,64,18,1,36]\n",
    "number.sort(reverse=True)\n",
    "print(number)\n",
    "decimalnumber=[9.01,0.22,3.11,-7.00,45.234]\n",
    "decimalnumber.sort(reverse=True)\n",
    "print(decimalnumber)\n",
    "strings=[\"have\",\"a\",\"good\",\"day\"]\n",
    "strings.sort(reverse=True)\n",
    "print(strings)"
   ]
  },
  {
   "cell_type": "code",
   "execution_count": 47,
   "id": "0d6bc415",
   "metadata": {},
   "outputs": [
    {
     "name": "stdout",
     "output_type": "stream",
     "text": [
      "[36, 1, 18, 64, 45]\n",
      "[45.234, -7.0, 3.11, 0.22, 9.01]\n",
      "['day', 'good', 'a', 'have']\n"
     ]
    }
   ],
   "source": [
    "number=[45,64,18,1,36]\n",
    "number.reverse()\n",
    "print(number)\n",
    "decimalnumber=[9.01,0.22,3.11,-7.00,45.234]\n",
    "decimalnumber.reverse()\n",
    "print(decimalnumber)\n",
    "strings=[\"have\",\"a\",\"good\",\"day\"]\n",
    "strings.reverse()\n",
    "print(strings)"
   ]
  },
  {
   "cell_type": "code",
   "execution_count": 48,
   "id": "f5aa01b8",
   "metadata": {},
   "outputs": [
    {
     "name": "stdout",
     "output_type": "stream",
     "text": [
      "['Kiwi', 'apple', 'mango', 'Banana', 'cherry']\n"
     ]
    }
   ],
   "source": [
    "fruits=[\"Kiwi\",\"apple\",\"mango\",\"Banana\",\"cherry\"]\n",
    "nlist=fruits.copy()\n",
    "print(nlist)"
   ]
  },
  {
   "cell_type": "code",
   "execution_count": 49,
   "id": "7fdc2742",
   "metadata": {},
   "outputs": [
    {
     "name": "stdout",
     "output_type": "stream",
     "text": [
      "['a', 'b', 'c', 1, 2, 3]\n",
      "[1, 2, 3, 'a', 'b', 'c']\n"
     ]
    }
   ],
   "source": [
    "list1=[\"a\",\"b\",\"c\"]\n",
    "list2=[1,2,3]\n",
    "list3=list1+list2\n",
    "list4=list2+list1\n",
    "print(list3)\n",
    "print(list4)"
   ]
  },
  {
   "cell_type": "code",
   "execution_count": 50,
   "id": "5c6fa004",
   "metadata": {},
   "outputs": [
    {
     "name": "stdout",
     "output_type": "stream",
     "text": [
      "['a', 'b', 'c', 1, 2, 3]\n",
      "[1, 2, 3, 'a', 'b', 'c', 1, 2, 3]\n"
     ]
    }
   ],
   "source": [
    "list1=[\"a\",\"b\",\"c\"]\n",
    "list2=[1,2,3]\n",
    "list1.extend(list2)\n",
    "list2.extend(list1)\n",
    "print(list1)\n",
    "print(list2)"
   ]
  },
  {
   "cell_type": "code",
   "execution_count": 51,
   "id": "32cd890d",
   "metadata": {},
   "outputs": [
    {
     "name": "stdout",
     "output_type": "stream",
     "text": [
      "['Kiwi', 'apple', 'mango', 'Banana', 'cherry']\n"
     ]
    }
   ],
   "source": [
    "fruits=[\"Kiwi\",\"apple\",\"mango\",\"Banana\",\"cherry\"]\n",
    "nlist=fruits\n",
    "print(nlist)"
   ]
  },
  {
   "cell_type": "code",
   "execution_count": 52,
   "id": "ae1d7ef0",
   "metadata": {},
   "outputs": [
    {
     "name": "stdout",
     "output_type": "stream",
     "text": [
      "['cat', 0, 6.7]\n",
      "Old List ['cat', 0, 6.7]\n",
      "New List ['cat', 0, 6.7, 'dog']\n"
     ]
    }
   ],
   "source": [
    "list=['cat',0,6.7]\n",
    "new_list=list[:]\n",
    "print(list)\n",
    "new_list.append(\"dog\")\n",
    "print('Old List',list)\n",
    "print('New List',new_list)"
   ]
  },
  {
   "cell_type": "code",
   "execution_count": 59,
   "id": "09ce62ce",
   "metadata": {},
   "outputs": [
    {
     "name": "stdout",
     "output_type": "stream",
     "text": [
      "Sum 135\n",
      "Count 9\n",
      "Average:  15.0\n"
     ]
    }
   ],
   "source": [
    "L=[1,2,3,4,5,6,7,8,9]\n",
    "count=0\n",
    "for x in L:\n",
    "    sum=sum+x\n",
    "    count=count+1\n",
    "print('Sum',sum)\n",
    "print('Count',count)\n",
    "avg=sum/count\n",
    "print('Average: ',avg)"
   ]
  },
  {
   "cell_type": "code",
   "execution_count": 62,
   "id": "2423b409",
   "metadata": {},
   "outputs": [
    {
     "ename": "TypeError",
     "evalue": "'int' object is not callable",
     "output_type": "error",
     "traceback": [
      "\u001b[1;31m---------------------------------------------------------------------------\u001b[0m",
      "\u001b[1;31mTypeError\u001b[0m                                 Traceback (most recent call last)",
      "\u001b[1;32m<ipython-input-62-6785433a592c>\u001b[0m in \u001b[0;36m<module>\u001b[1;34m\u001b[0m\n\u001b[0;32m      1\u001b[0m \u001b[0mL\u001b[0m\u001b[1;33m=\u001b[0m\u001b[1;33m[\u001b[0m\u001b[1;36m1\u001b[0m\u001b[1;33m,\u001b[0m\u001b[1;36m2\u001b[0m\u001b[1;33m,\u001b[0m\u001b[1;36m3\u001b[0m\u001b[1;33m,\u001b[0m\u001b[1;36m4\u001b[0m\u001b[1;33m,\u001b[0m\u001b[1;36m5\u001b[0m\u001b[1;33m,\u001b[0m\u001b[1;36m6\u001b[0m\u001b[1;33m,\u001b[0m\u001b[1;36m7\u001b[0m\u001b[1;33m,\u001b[0m\u001b[1;36m8\u001b[0m\u001b[1;33m,\u001b[0m\u001b[1;36m9\u001b[0m\u001b[1;33m]\u001b[0m\u001b[1;33m\u001b[0m\u001b[1;33m\u001b[0m\u001b[0m\n\u001b[1;32m----> 2\u001b[1;33m \u001b[0mcount1\u001b[0m \u001b[1;33m=\u001b[0m \u001b[0msum\u001b[0m\u001b[1;33m(\u001b[0m\u001b[0mL\u001b[0m\u001b[1;33m)\u001b[0m\u001b[1;33m\u001b[0m\u001b[1;33m\u001b[0m\u001b[0m\n\u001b[0m\u001b[0;32m      3\u001b[0m \u001b[0mavg\u001b[0m \u001b[1;33m=\u001b[0m \u001b[0mcount1\u001b[0m\u001b[1;33m/\u001b[0m\u001b[0mlen\u001b[0m\u001b[1;33m(\u001b[0m\u001b[0mL\u001b[0m\u001b[1;33m)\u001b[0m\u001b[1;33m\u001b[0m\u001b[1;33m\u001b[0m\u001b[0m\n\u001b[0;32m      4\u001b[0m \u001b[0mprint\u001b[0m\u001b[1;33m(\u001b[0m\u001b[1;34m'Sum= '\u001b[0m\u001b[1;33m,\u001b[0m\u001b[0mcount1\u001b[0m\u001b[1;33m)\u001b[0m\u001b[1;33m\u001b[0m\u001b[1;33m\u001b[0m\u001b[0m\n\u001b[0;32m      5\u001b[0m \u001b[0mprint\u001b[0m\u001b[1;33m(\u001b[0m\u001b[1;34m'Average= '\u001b[0m\u001b[1;33m,\u001b[0m\u001b[0mavg\u001b[0m\u001b[1;33m)\u001b[0m\u001b[1;33m\u001b[0m\u001b[1;33m\u001b[0m\u001b[0m\n",
      "\u001b[1;31mTypeError\u001b[0m: 'int' object is not callable"
     ]
    }
   ],
   "source": [
    "L=[1,2,3,4,5,6,7,8,9]\n",
    "count1 = sum(L)\n",
    "avg = count1/len(L)\n",
    "print('Sum= ',count1)\n",
    "print('Average= ',avg)"
   ]
  },
  {
   "cell_type": "code",
   "execution_count": 63,
   "id": "9d17eb74",
   "metadata": {},
   "outputs": [
    {
     "name": "stdout",
     "output_type": "stream",
     "text": [
      "Even Count:  4\n",
      "Odd Count:  5\n"
     ]
    }
   ],
   "source": [
    "list1=[1,2,3,4,5,6,7,8,9]\n",
    "even_count,odd_count=0,0\n",
    "for num in list1:\n",
    "    if num%2==0:\n",
    "        even_count+=1\n",
    "    else:\n",
    "        odd_count+=1\n",
    "print(\"Even Count: \",even_count)\n",
    "print(\"Odd Count: \",odd_count)"
   ]
  },
  {
   "cell_type": "code",
   "execution_count": 64,
   "id": "122b0a68",
   "metadata": {},
   "outputs": [
    {
     "name": "stdout",
     "output_type": "stream",
     "text": [
      "Positive Count:  6\n",
      "Negative Count:  3\n",
      "zero Count:  3\n"
     ]
    }
   ],
   "source": [
    "list1=[1,-2,3,0,4,-5,6,0,0,7,8,-9]\n",
    "pos,neg,zero=0,0,0\n",
    "for num in list1:\n",
    "    if num<0:\n",
    "        neg+=1\n",
    "    elif num==0:\n",
    "        zero+=1\n",
    "    else:\n",
    "        pos+=1\n",
    "print(\"Positive Count: \",pos)\n",
    "print(\"Negative Count: \",neg)\n",
    "print(\"zero Count: \",zero)"
   ]
  },
  {
   "cell_type": "code",
   "execution_count": 68,
   "id": "2ca4b7b0",
   "metadata": {},
   "outputs": [
    {
     "name": "stdout",
     "output_type": "stream",
     "text": [
      "li1 Id:  737084365312 Value:  [1, 2, [3, 5], 4]\n",
      "li2 Id:  737084351552 Value:  [1, 2, [3, 5], 4]\n",
      "li3 Id:  737084338304 Value:  [1, 2, [3, 5], 4]\n"
     ]
    }
   ],
   "source": [
    "import copy\n",
    "list1=[1,2,[3,5],4]\n",
    "list2=copy.copy(list1)\n",
    "print(\"li1 Id: \",id(list1),\"Value: \",list1)\n",
    "print(\"li2 Id: \",id(list2),\"Value: \",list2)\n",
    "list3=copy.deepcopy(list1)\n",
    "print(\"li3 Id: \",id(list3),\"Value: \",list3)"
   ]
  },
  {
   "cell_type": "code",
   "execution_count": 72,
   "id": "afd357e4",
   "metadata": {},
   "outputs": [
    {
     "name": "stdout",
     "output_type": "stream",
     "text": [
      "The original elements before deep copying\n",
      "1 2 [3, 5] 4 \r\n",
      "The new list of elements after deep copying\n",
      "1 2 [7, 5] 4 \r\n",
      "The original elements after deep copying\n",
      "1 2 [3, 5] 4 \r\n"
     ]
    }
   ],
   "source": [
    "list1=[1,2,[3,5],4]\n",
    "list2=copy.deepcopy(list1)\n",
    "print(\"The original elements before deep copying\")\n",
    "for i in range(0,len(list1)):\n",
    "    print(list1[i],end=\" \")\n",
    "print(\"\\r\")\n",
    "list2[2][0]=7\n",
    "print(\"The new list of elements after deep copying\")\n",
    "for i in range(0,len(list1)):\n",
    "    print(list2[i],end=\" \")\n",
    "print(\"\\r\")\n",
    "print(\"The original elements after deep copying\")\n",
    "for i in range(0,len(list1)):\n",
    "    print(list1[i],end=\" \")\n",
    "print(\"\\r\")"
   ]
  },
  {
   "cell_type": "code",
   "execution_count": 74,
   "id": "6060e76e",
   "metadata": {},
   "outputs": [
    {
     "name": "stdout",
     "output_type": "stream",
     "text": [
      "The original elements before deep copying\n",
      "1 2 [3, 5] 4 \r\n",
      "The new list of elements after deep copying\n",
      "1 2 [7, 5] 4 \r\n",
      "The original elements after deep copying\n",
      "1 2 [7, 5] 4 \r\n",
      "li1 Id:  737084221568\n",
      "li2 Id:  737084221824\n"
     ]
    }
   ],
   "source": [
    "list1=[1,2,[3,5],4]\n",
    "list2=copy.copy(list1)\n",
    "print(\"The original elements before deep copying\")\n",
    "for i in range(0,len(list1)):\n",
    "    print(list1[i],end=\" \")\n",
    "print(\"\\r\")\n",
    "list2[2][0]=7\n",
    "print(\"The new list of elements after deep copying\")\n",
    "for i in range(0,len(list1)):\n",
    "    print(list2[i],end=\" \")\n",
    "print(\"\\r\")\n",
    "print(\"The original elements after deep copying\")\n",
    "for i in range(0,len(list1)):\n",
    "    print(list1[i],end=\" \")\n",
    "print(\"\\r\")\n",
    "print(\"li1 Id: \",id(list1))\n",
    "print(\"li2 Id: \",id(list2))"
   ]
  },
  {
   "cell_type": "code",
   "execution_count": null,
   "id": "17f7cbae",
   "metadata": {},
   "outputs": [],
   "source": [
    "#Shallow copy not on 1d list, it work on list more than 1 d"
   ]
  },
  {
   "cell_type": "markdown",
   "id": "3b847b45",
   "metadata": {},
   "source": [
    "# Tuples"
   ]
  },
  {
   "cell_type": "code",
   "execution_count": 75,
   "id": "297196f5",
   "metadata": {},
   "outputs": [
    {
     "name": "stdout",
     "output_type": "stream",
     "text": [
      "('Apples', 'Banana', 'Grapes', 'Mangoes', 'Pineapples')\n"
     ]
    }
   ],
   "source": [
    "fruits=(\"Apples\",\"Banana\",\"Grapes\",\"Mangoes\",\"Pineapples\")\n",
    "print(fruits)"
   ]
  },
  {
   "cell_type": "code",
   "execution_count": 76,
   "id": "eda634d1",
   "metadata": {},
   "outputs": [
    {
     "name": "stdout",
     "output_type": "stream",
     "text": [
      "5\n"
     ]
    }
   ],
   "source": [
    "fruits=(\"Apples\",\"Banana\",\"Grapes\",\"Mangoes\",\"Pineapples\")\n",
    "print(len(fruits))"
   ]
  },
  {
   "cell_type": "code",
   "execution_count": null,
   "id": "fa6ace49",
   "metadata": {},
   "outputs": [],
   "source": [
    "list=[1]  # Single value in list\n",
    "tuple=(1,) # Single value in tuple"
   ]
  },
  {
   "cell_type": "code",
   "execution_count": 77,
   "id": "24c1ae10",
   "metadata": {},
   "outputs": [
    {
     "name": "stdout",
     "output_type": "stream",
     "text": [
      "<class 'str'>\n",
      "<class 'tuple'>\n"
     ]
    }
   ],
   "source": [
    "ntuple=(\"Apple\")\n",
    "print(type(ntuple))\n",
    "ntuple=(\"Apple\",)\n",
    "print(type(ntuple))"
   ]
  },
  {
   "cell_type": "code",
   "execution_count": 80,
   "id": "bb6310cd",
   "metadata": {},
   "outputs": [
    {
     "name": "stdout",
     "output_type": "stream",
     "text": [
      "(1, 2, 3, 4, 5)\n",
      "(True, False, True, False)\n",
      "(1, 'hey', 4, 'Everyone', -9.0, 1)\n"
     ]
    }
   ],
   "source": [
    "tuple1=(1,2,3,4,5)\n",
    "tuple2=(True,False,True,False)\n",
    "tuple3=(1,\"hey\",4,\"Everyone\",-9.0,1)#Complex number cannot be used with tuple\n",
    "print(tuple1)\n",
    "print(tuple2)\n",
    "print(tuple3)"
   ]
  },
  {
   "cell_type": "code",
   "execution_count": 82,
   "id": "f65bbce3",
   "metadata": {},
   "outputs": [
    {
     "name": "stdout",
     "output_type": "stream",
     "text": [
      "Value of Var[0] =  1\n",
      "Value of Var[1] =  hey\n",
      "Value of Var[2] =  4\n"
     ]
    }
   ],
   "source": [
    "tuple3=(1,\"hey\",4,\"Everyone\",-9.0,1)\n",
    "print(\"Value of Var[0] = \",tuple3[0])\n",
    "print(\"Value of Var[1] = \",tuple3[1])\n",
    "print(\"Value of Var[2] = \",tuple3[2])"
   ]
  },
  {
   "cell_type": "code",
   "execution_count": 83,
   "id": "4cbb05d1",
   "metadata": {},
   "outputs": [
    {
     "name": "stdout",
     "output_type": "stream",
     "text": [
      "Value of Var[0] =  1\n",
      "Value of Var[1] =  1\n",
      "Value of Var[2] =  -9.0\n"
     ]
    }
   ],
   "source": [
    "tuple3=(1,\"hey\",4,\"Everyone\",-9.0,1)\n",
    "print(\"Value of Var[0] = \",tuple3[-0])\n",
    "print(\"Value of Var[1] = \",tuple3[-1])\n",
    "print(\"Value of Var[2] = \",tuple3[-2])"
   ]
  },
  {
   "cell_type": "code",
   "execution_count": 84,
   "id": "e57ee2b8",
   "metadata": {},
   "outputs": [
    {
     "name": "stdout",
     "output_type": "stream",
     "text": [
      "(1, 2, 3, 4, 5, True, False, True, False)\n",
      "(True, False, True, False, 1, 2, 3, 4, 5)\n"
     ]
    }
   ],
   "source": [
    "tuple1=(1,2,3,4,5)\n",
    "tuple2=(True,False,True,False)\n",
    "print(tuple1+tuple2)\n",
    "print(tuple2+tuple1)"
   ]
  },
  {
   "cell_type": "code",
   "execution_count": 85,
   "id": "bdf33d4d",
   "metadata": {},
   "outputs": [
    {
     "ename": "AttributeError",
     "evalue": "'tuple' object has no attribute 'append'",
     "output_type": "error",
     "traceback": [
      "\u001b[1;31m---------------------------------------------------------------------------\u001b[0m",
      "\u001b[1;31mAttributeError\u001b[0m                            Traceback (most recent call last)",
      "\u001b[1;32m<ipython-input-85-c7245b217a81>\u001b[0m in \u001b[0;36m<module>\u001b[1;34m\u001b[0m\n\u001b[0;32m      1\u001b[0m \u001b[0mx\u001b[0m\u001b[1;33m=\u001b[0m\u001b[1;33m(\u001b[0m\u001b[1;36m1\u001b[0m\u001b[1;33m,\u001b[0m\u001b[1;36m2\u001b[0m\u001b[1;33m,\u001b[0m\u001b[1;36m3\u001b[0m\u001b[1;33m,\u001b[0m\u001b[1;36m4\u001b[0m\u001b[1;33m,\u001b[0m\u001b[1;36m5\u001b[0m\u001b[1;33m)\u001b[0m\u001b[1;33m\u001b[0m\u001b[1;33m\u001b[0m\u001b[0m\n\u001b[1;32m----> 2\u001b[1;33m \u001b[0mx\u001b[0m\u001b[1;33m.\u001b[0m\u001b[0mappend\u001b[0m\u001b[1;33m(\u001b[0m\u001b[1;36m6\u001b[0m\u001b[1;33m)\u001b[0m\u001b[1;33m\u001b[0m\u001b[1;33m\u001b[0m\u001b[0m\n\u001b[0m\u001b[0;32m      3\u001b[0m \u001b[0mprint\u001b[0m\u001b[1;33m(\u001b[0m\u001b[0mx\u001b[0m\u001b[1;33m)\u001b[0m\u001b[1;33m\u001b[0m\u001b[1;33m\u001b[0m\u001b[0m\n",
      "\u001b[1;31mAttributeError\u001b[0m: 'tuple' object has no attribute 'append'"
     ]
    }
   ],
   "source": [
    "x=(1,2,3,4,5)\n",
    "x.append(6)\n",
    "print(x)"
   ]
  },
  {
   "cell_type": "code",
   "execution_count": 86,
   "id": "3568afbc",
   "metadata": {},
   "outputs": [
    {
     "name": "stdout",
     "output_type": "stream",
     "text": [
      "(1, 2, 3, 4, 5, True, False, True, False)\n"
     ]
    }
   ],
   "source": [
    "tuple1=(1,2,3,4,5)\n",
    "tuple2=(True,False,True,False)\n",
    "tuple3=tuple1+tuple2\n",
    "print(tuple3)"
   ]
  },
  {
   "cell_type": "code",
   "execution_count": null,
   "id": "83b42fd7",
   "metadata": {},
   "outputs": [],
   "source": []
  }
 ],
 "metadata": {
  "kernelspec": {
   "display_name": "Python 3",
   "language": "python",
   "name": "python3"
  },
  "language_info": {
   "codemirror_mode": {
    "name": "ipython",
    "version": 3
   },
   "file_extension": ".py",
   "mimetype": "text/x-python",
   "name": "python",
   "nbconvert_exporter": "python",
   "pygments_lexer": "ipython3",
   "version": "3.8.8"
  }
 },
 "nbformat": 4,
 "nbformat_minor": 5
}
