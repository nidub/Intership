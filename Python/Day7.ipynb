{
 "cells": [
  {
   "cell_type": "code",
   "execution_count": 1,
   "id": "a8b44dee",
   "metadata": {},
   "outputs": [
    {
     "name": "stdout",
     "output_type": "stream",
     "text": [
      "You have passed level 0\n",
      "You have passed level 1\n",
      "You have passed level 2\n",
      "You have passed level 3\n",
      "You have passed level 4\n",
      "You have passed level 5\n",
      "Level Ends\n"
     ]
    }
   ],
   "source": [
    "current_level = 0\n",
    "final_level=5\n",
    "game_completed = True\n",
    "while current_level <= final_level:\n",
    "    if game_completed:\n",
    "        print('You have passed level', current_level)\n",
    "        current_level+=1\n",
    "print('Level Ends')"
   ]
  },
  {
   "cell_type": "code",
   "execution_count": 2,
   "id": "de831a08",
   "metadata": {},
   "outputs": [
    {
     "name": "stdout",
     "output_type": "stream",
     "text": [
      "Inside loop\n",
      "Inside loop\n",
      "Inside loop\n",
      "Inside else\n"
     ]
    }
   ],
   "source": [
    "counter=0\n",
    "while counter <3:\n",
    "    print(\"Inside loop\")\n",
    "    counter+=1\n",
    "else:\n",
    "    print(\"Inside else\")"
   ]
  },
  {
   "cell_type": "code",
   "execution_count": 3,
   "id": "c5584288",
   "metadata": {},
   "outputs": [
    {
     "name": "stdout",
     "output_type": "stream",
     "text": [
      "Current Letter:  p\n",
      "Current Letter:  y\n",
      "Current Letter:  t\n",
      "Current Letter:  h\n",
      "Current Letter:  n\n",
      "Current Letter:  f\n",
      "Current Letter:  r\n",
      "Current Letter:  v\n",
      "Current Letter:  r\n",
      "Current Letter:  y\n",
      "Current Letter:  n\n"
     ]
    }
   ],
   "source": [
    "#print all letter except 'e' and 'o'\n",
    "i=0\n",
    "a='pythonforeveryone'\n",
    "while i<len(a):\n",
    "    if a[i]=='e' or a[i]=='o':\n",
    "        i+=1\n",
    "        continue\n",
    "    print('Current Letter: ',a[i])\n",
    "    i+=1"
   ]
  },
  {
   "cell_type": "code",
   "execution_count": 4,
   "id": "9ff16bc5",
   "metadata": {},
   "outputs": [
    {
     "name": "stdout",
     "output_type": "stream",
     "text": [
      "No Break\n"
     ]
    }
   ],
   "source": [
    "i=0\n",
    "while i < 4:\n",
    "    i+=1\n",
    "    continue\n",
    "    print(i)\n",
    "else:\n",
    "    print(\"No Break\")"
   ]
  },
  {
   "cell_type": "code",
   "execution_count": 6,
   "id": "aaa9e214",
   "metadata": {},
   "outputs": [
    {
     "name": "stdout",
     "output_type": "stream",
     "text": [
      "1\n"
     ]
    }
   ],
   "source": [
    "i=0\n",
    "while i < 4:\n",
    "    i+=1\n",
    "    print(i)\n",
    "    break\n",
    "else:\n",
    "    print(\"No Break\")"
   ]
  },
  {
   "cell_type": "code",
   "execution_count": 7,
   "id": "4efb77d6",
   "metadata": {},
   "outputs": [
    {
     "name": "stdout",
     "output_type": "stream",
     "text": [
      "1\n",
      "2\n",
      "3\n",
      "4\n",
      "No Break\n"
     ]
    }
   ],
   "source": [
    "i=0\n",
    "while i < 4:\n",
    "    i+=1\n",
    "    pass\n",
    "    print(i)\n",
    "else:\n",
    "    print(\"No Break\")"
   ]
  },
  {
   "cell_type": "markdown",
   "id": "41f1dc8a",
   "metadata": {},
   "source": [
    "## Function"
   ]
  },
  {
   "cell_type": "code",
   "execution_count": 1,
   "id": "5f08ca01",
   "metadata": {},
   "outputs": [
    {
     "name": "stdout",
     "output_type": "stream",
     "text": [
      "7\n"
     ]
    }
   ],
   "source": [
    "def add(num1, num2):\n",
    "    num3=num1+num2\n",
    "    print(num3)\n",
    "add(3,4)"
   ]
  },
  {
   "cell_type": "code",
   "execution_count": 3,
   "id": "5ffca960",
   "metadata": {},
   "outputs": [
    {
     "name": "stdout",
     "output_type": "stream",
     "text": [
      "Enter the number 1:94\n",
      "Enter the number 2:45\n",
      "139\n"
     ]
    }
   ],
   "source": [
    "x=int(input('Enter the number 1:'))\n",
    "y=int(input('Enter the number 2:'))\n",
    "def add(num1, num2):\n",
    "    num3=num1+num2\n",
    "    print(num3)\n",
    "add(x,y) "
   ]
  },
  {
   "cell_type": "code",
   "execution_count": 4,
   "id": "7a081ece",
   "metadata": {},
   "outputs": [],
   "source": [
    "import math"
   ]
  },
  {
   "cell_type": "code",
   "execution_count": 8,
   "id": "dd74829a",
   "metadata": {},
   "outputs": [
    {
     "name": "stdout",
     "output_type": "stream",
     "text": [
      "Sum:  15\n",
      "Sqrt:  2.0\n"
     ]
    }
   ],
   "source": [
    "z=math.sqrt(4)\n",
    "x=[1,2,3,4,5]\n",
    "Sum = sum(x)\n",
    "print(\"Sum: \",Sum)\n",
    "print(\"Sqrt: \",z)"
   ]
  },
  {
   "cell_type": "code",
   "execution_count": 12,
   "id": "5645a770",
   "metadata": {},
   "outputs": [
    {
     "name": "stdout",
     "output_type": "stream",
     "text": [
      "Enter the number 1:45\n",
      "Enter the number 2:34\n",
      "Addition:  79\n",
      "Substraction:  11\n",
      "Multiplication:  1530\n",
      "Division:  1.3235294117647058\n"
     ]
    }
   ],
   "source": [
    "x=int(input('Enter the number 1:'))\n",
    "y=int(input('Enter the number 2:'))\n",
    "def arithematic(num1, num2):\n",
    "    add=num1+num2\n",
    "    subs=num1-num2\n",
    "    mul=num1*num2\n",
    "    div=num1/num2\n",
    "    return add,subs, mul, div\n",
    "a,s,m,d = arithematic(x,y) \n",
    "print(\"Addition: \",a)\n",
    "print(\"Substraction: \",s)\n",
    "print(\"Multiplication: \",m)\n",
    "print(\"Division: \",d)"
   ]
  },
  {
   "cell_type": "code",
   "execution_count": 14,
   "id": "41157cd2",
   "metadata": {},
   "outputs": [
    {
     "name": "stdout",
     "output_type": "stream",
     "text": [
      "Enter the number67\n",
      "2278\n"
     ]
    }
   ],
   "source": [
    "def summ(num):\n",
    "    sum = 0\n",
    "    for i in range(1,num+1):\n",
    "        sum=sum+i\n",
    "    print(sum)\n",
    "n=int(input('Enter the number'))\n",
    "summ(n)"
   ]
  },
  {
   "cell_type": "code",
   "execution_count": 15,
   "id": "a8501288",
   "metadata": {},
   "outputs": [
    {
     "name": "stdout",
     "output_type": "stream",
     "text": [
      "10 20 30\n"
     ]
    }
   ],
   "source": [
    "def num(x,y,z=30):\n",
    "    print(x,y,z)\n",
    "num(10,20)"
   ]
  },
  {
   "cell_type": "code",
   "execution_count": 17,
   "id": "4a4f1cfb",
   "metadata": {},
   "outputs": [
    {
     "name": "stdout",
     "output_type": "stream",
     "text": [
      "10 20\n"
     ]
    }
   ],
   "source": [
    "def num(x=10,y=20):\n",
    "    print(x,y)\n",
    "num()"
   ]
  },
  {
   "cell_type": "code",
   "execution_count": 18,
   "id": "8029dc39",
   "metadata": {},
   "outputs": [
    {
     "name": "stdout",
     "output_type": "stream",
     "text": [
      "The youngest child is u\n"
     ]
    }
   ],
   "source": [
    "def fun(*kids):\n",
    "    print(\"The youngest child is \" + kids[(len(kids)-1)])\n",
    "fun('x',\"y\",\"r\",\"t\",\"u\")"
   ]
  },
  {
   "cell_type": "code",
   "execution_count": 25,
   "id": "648b9306",
   "metadata": {},
   "outputs": [
    {
     "name": "stdout",
     "output_type": "stream",
     "text": [
      "His last name is Dubey\n"
     ]
    }
   ],
   "source": [
    "def my_function(**kid):\n",
    "    print(\"His last name is \"+kid[\"lname\"])\n",
    "my_function(fname='Nikita',lname='Dubey')"
   ]
  },
  {
   "cell_type": "code",
   "execution_count": 19,
   "id": "ffc40265",
   "metadata": {},
   "outputs": [
    {
     "name": "stdout",
     "output_type": "stream",
     "text": [
      "cherry\n",
      "banana\n",
      "apple\n"
     ]
    }
   ],
   "source": [
    "def my_function(food):\n",
    "    for x in food:\n",
    "        print(x)\n",
    "fruits={\"apple\",\"banana\",\"cherry\"}\n",
    "my_function(fruits)"
   ]
  },
  {
   "cell_type": "code",
   "execution_count": 21,
   "id": "66306e30",
   "metadata": {},
   "outputs": [
    {
     "name": "stdout",
     "output_type": "stream",
     "text": [
      "apple\n",
      "banana\n",
      "cherry\n"
     ]
    }
   ],
   "source": [
    "def my_function(food):\n",
    "    for x in food:\n",
    "        print(x)\n",
    "fruits=(\"apple\",\"banana\",\"cherry\")\n",
    "my_function(fruits)"
   ]
  },
  {
   "cell_type": "code",
   "execution_count": 22,
   "id": "60ae0e7c",
   "metadata": {},
   "outputs": [
    {
     "name": "stdout",
     "output_type": "stream",
     "text": [
      "apple\n",
      "banana\n",
      "cherry\n"
     ]
    }
   ],
   "source": [
    "def my_function(food):\n",
    "    for x in food:\n",
    "        print(x)\n",
    "fruits=[\"apple\",\"banana\",\"cherry\"]\n",
    "my_function(fruits)"
   ]
  },
  {
   "cell_type": "code",
   "execution_count": 23,
   "id": "d9fa5347",
   "metadata": {},
   "outputs": [],
   "source": [
    "def my_function():\n",
    "    pass\n",
    "my_function()"
   ]
  },
  {
   "cell_type": "code",
   "execution_count": 31,
   "id": "322e52c2",
   "metadata": {},
   "outputs": [
    {
     "name": "stdout",
     "output_type": "stream",
     "text": [
      "Sum =  6\n",
      "Sum =  10\n"
     ]
    }
   ],
   "source": [
    "def find_sum(*numbers):\n",
    "    results=0\n",
    "    for num in numbers:\n",
    "        results=results+num\n",
    "    print(\"Sum = \", results)\n",
    "find_sum(1,2,3)\n",
    "find_sum(1,2,3,4)"
   ]
  },
  {
   "cell_type": "code",
   "execution_count": 34,
   "id": "1a6f2fc1",
   "metadata": {},
   "outputs": [
    {
     "name": "stdout",
     "output_type": "stream",
     "text": [
      "Sum =  6\n",
      "Sum =  10\n"
     ]
    }
   ],
   "source": [
    "def find_sum(**numbers):\n",
    "    results=0\n",
    "    for num in numbers:\n",
    "        results=results+numbers[num]\n",
    "    print(\"Sum = \", results)\n",
    "find_sum(a=1,b=2,c=3)\n",
    "find_sum(a=1,b=2,c=3,d=4)"
   ]
  },
  {
   "cell_type": "markdown",
   "id": "ff1039b5",
   "metadata": {},
   "source": [
    "## Recursion"
   ]
  },
  {
   "cell_type": "code",
   "execution_count": null,
   "id": "30a9ad40",
   "metadata": {},
   "outputs": [],
   "source": [
    "def factorial(x):\n",
    "    if x== 1:\n",
    "        return 1\n",
    "    else: \n",
    "        return(x*factorial(x-1))\n",
    "r=4\n",
    "print('Factorial: ',factorial(r))"
   ]
  },
  {
   "cell_type": "code",
   "execution_count": 41,
   "id": "25f4f95d",
   "metadata": {},
   "outputs": [
    {
     "name": "stdout",
     "output_type": "stream",
     "text": [
      "Fibonacci :  55\n"
     ]
    }
   ],
   "source": [
    "def fibonacci(x):\n",
    "    if x<=1:\n",
    "        return 1\n",
    "    return (fibonacci(x-2)+fibonacci(x-1))\n",
    "print(\"Fibonacci : \",fibonacci(9))"
   ]
  },
  {
   "cell_type": "markdown",
   "id": "5c323d2b",
   "metadata": {},
   "source": [
    "## Lambda Function"
   ]
  },
  {
   "cell_type": "code",
   "execution_count": 43,
   "id": "543f7a46",
   "metadata": {},
   "outputs": [
    {
     "data": {
      "text/plain": [
       "<function __main__.<lambda>()>"
      ]
     },
     "execution_count": 43,
     "metadata": {},
     "output_type": "execute_result"
    }
   ],
   "source": [
    "greet = lambda : print('Hello World')\n",
    "greet"
   ]
  },
  {
   "cell_type": "code",
   "execution_count": 44,
   "id": "ea7a23bb",
   "metadata": {},
   "outputs": [
    {
     "name": "stdout",
     "output_type": "stream",
     "text": [
      "Hello World\n"
     ]
    }
   ],
   "source": [
    "greet = lambda : print('Hello World')\n",
    "greet()"
   ]
  },
  {
   "cell_type": "code",
   "execution_count": 45,
   "id": "fb1e8f75",
   "metadata": {},
   "outputs": [
    {
     "data": {
      "text/plain": [
       "100"
      ]
     },
     "execution_count": 45,
     "metadata": {},
     "output_type": "execute_result"
    }
   ],
   "source": [
    "x = lambda y: y * y\n",
    "x(10)"
   ]
  },
  {
   "cell_type": "code",
   "execution_count": 47,
   "id": "27bbd172",
   "metadata": {},
   "outputs": [
    {
     "data": {
      "text/plain": [
       "3.1622776601683795"
      ]
     },
     "execution_count": 47,
     "metadata": {},
     "output_type": "execute_result"
    }
   ],
   "source": [
    "x = lambda y: math.sqrt(y)\n",
    "x(10)"
   ]
  },
  {
   "cell_type": "code",
   "execution_count": 48,
   "id": "b11ddda9",
   "metadata": {},
   "outputs": [
    {
     "data": {
      "text/plain": [
       "120"
      ]
     },
     "execution_count": 48,
     "metadata": {},
     "output_type": "execute_result"
    }
   ],
   "source": [
    "mul=lambda x,y : x*y\n",
    "mul(12,10)"
   ]
  },
  {
   "cell_type": "code",
   "execution_count": 49,
   "id": "ae11948d",
   "metadata": {},
   "outputs": [
    {
     "name": "stdout",
     "output_type": "stream",
     "text": [
      "Odd\n"
     ]
    }
   ],
   "source": [
    "x = lambda num: print('Even') if num%2==0 else print('Odd')\n",
    "x(5)"
   ]
  },
  {
   "cell_type": "code",
   "execution_count": 50,
   "id": "44d69f5f",
   "metadata": {},
   "outputs": [
    {
     "name": "stdout",
     "output_type": "stream",
     "text": [
      "Even number are :  [10, 12, 78, 6]\n"
     ]
    }
   ],
   "source": [
    "l = [10,5,12,78,6,1,7,9]\n",
    "even_nos=list(filter(lambda x: x%2 == 0,l))\n",
    "print(\"Even number are : \", even_nos)"
   ]
  },
  {
   "cell_type": "code",
   "execution_count": 51,
   "id": "3fabd649",
   "metadata": {},
   "outputs": [
    {
     "name": "stdout",
     "output_type": "stream",
     "text": [
      "Neg\n"
     ]
    }
   ],
   "source": [
    "x=lambda num:print('Pos') if num>0 else print('Neg')\n",
    "x(-10)"
   ]
  },
  {
   "cell_type": "code",
   "execution_count": 53,
   "id": "cf5ca553",
   "metadata": {},
   "outputs": [
    {
     "name": "stdout",
     "output_type": "stream",
     "text": [
      "9\n"
     ]
    }
   ],
   "source": [
    "x = lambda a,b,c: print(c) if(c>a and c>b) else print(b) if(b>a and  b>c) else print(a)\n",
    "x(1,4,9)"
   ]
  },
  {
   "cell_type": "markdown",
   "id": "4867e6ec",
   "metadata": {},
   "source": [
    "## map"
   ]
  },
  {
   "cell_type": "code",
   "execution_count": 54,
   "id": "d108cc2e",
   "metadata": {},
   "outputs": [
    {
     "name": "stdout",
     "output_type": "stream",
     "text": [
      "Cube values are:  [8, 27, 64, 125, 216, 343, 512]\n"
     ]
    }
   ],
   "source": [
    "list1=[2,3,4,5,6,7,8]\n",
    "list2=list(map(lambda x: x*x*x, list1))\n",
    "print(\"Cube values are: \", list2)"
   ]
  },
  {
   "cell_type": "code",
   "execution_count": 55,
   "id": "651e5f72",
   "metadata": {},
   "outputs": [
    {
     "name": "stdout",
     "output_type": "stream",
     "text": [
      "Square values are:  [4, 9, 16, 25, 36, 49, 64]\n"
     ]
    }
   ],
   "source": [
    "list1=[2,3,4,5,6,7,8]\n",
    "list2=list(map(lambda x: x*x, list1))\n",
    "print(\"Square values are: \", list2)"
   ]
  },
  {
   "cell_type": "code",
   "execution_count": 58,
   "id": "dec75035",
   "metadata": {
    "scrolled": true
   },
   "outputs": [
    {
     "name": "stdout",
     "output_type": "stream",
     "text": [
      "Sum values are:  [3, 5, 7, 9, 11, 13, 15]\n"
     ]
    }
   ],
   "source": [
    "list1=[2,3,4,5,6,7,8]\n",
    "list2=list(map(lambda x: x+(x-1), list1))\n",
    "print(\"Sum valuebs are: \", list2)"
   ]
  },
  {
   "cell_type": "code",
   "execution_count": 59,
   "id": "96c726db",
   "metadata": {},
   "outputs": [
    {
     "name": "stdout",
     "output_type": "stream",
     "text": [
      "inner:  nonlocal\n",
      "outer:  nonlocal\n"
     ]
    }
   ],
   "source": [
    "def outer():\n",
    "    message = 'local'\n",
    "    def inner():\n",
    "        nonlocal message\n",
    "        message = 'nonlocal'\n",
    "        print(\"inner: \", message)\n",
    "    inner()\n",
    "    print(\"outer: \",message)\n",
    "outer()"
   ]
  },
  {
   "cell_type": "code",
   "execution_count": 60,
   "id": "44c4d20a",
   "metadata": {},
   "outputs": [
    {
     "name": "stdout",
     "output_type": "stream",
     "text": [
      "inner:  nonlocal\n",
      "outer:  local\n"
     ]
    }
   ],
   "source": [
    "def outer():\n",
    "    message = 'local'\n",
    "    def inner():\n",
    "        message = 'nonlocal'\n",
    "        print(\"inner: \", message)\n",
    "    inner()\n",
    "    print(\"outer: \",message)\n",
    "outer()"
   ]
  }
 ],
 "metadata": {
  "kernelspec": {
   "display_name": "Python 3",
   "language": "python",
   "name": "python3"
  },
  "language_info": {
   "codemirror_mode": {
    "name": "ipython",
    "version": 3
   },
   "file_extension": ".py",
   "mimetype": "text/x-python",
   "name": "python",
   "nbconvert_exporter": "python",
   "pygments_lexer": "ipython3",
   "version": "3.8.8"
  }
 },
 "nbformat": 4,
 "nbformat_minor": 5
}
