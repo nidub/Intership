{
 "cells": [
  {
   "cell_type": "code",
   "execution_count": 1,
   "id": "459f07d0",
   "metadata": {},
   "outputs": [
    {
     "name": "stdout",
     "output_type": "stream",
     "text": [
      " the value of a is:  0\n"
     ]
    }
   ],
   "source": [
    "#Conditional Statement\n",
    "a = 1 if 20 >30 else 0\n",
    "print(\" the value of a is: \", str(a))"
   ]
  },
  {
   "cell_type": "code",
   "execution_count": 2,
   "id": "a76e669b",
   "metadata": {},
   "outputs": [
    {
     "name": "stdout",
     "output_type": "stream",
     "text": [
      " the value of a is:  0\n"
     ]
    }
   ],
   "source": [
    "a = 1 if 10 > 20 else 0\n",
    "print(\" the value of a is: \", str(a))"
   ]
  },
  {
   "cell_type": "code",
   "execution_count": 3,
   "id": "6dbb8425",
   "metadata": {},
   "outputs": [
    {
     "name": "stdout",
     "output_type": "stream",
     "text": [
      " the value of a is:  0\n",
      " the data type of a is:  <class 'int'>\n",
      " the value of a is:  0\n",
      " the data type of a is:  <class 'str'>\n"
     ]
    }
   ],
   "source": [
    "a = 1 if 10 > 20 else 0\n",
    "print(\" the value of a is: \", a)\n",
    "print(\" the data type of a is: \", type(a))\n",
    "print(\" the value of a is: \", str(a))\n",
    "print(\" the data type of a is: \", type(str(a)))"
   ]
  },
  {
   "cell_type": "code",
   "execution_count": 4,
   "id": "652f935c",
   "metadata": {},
   "outputs": [
    {
     "name": "stdout",
     "output_type": "stream",
     "text": [
      "y is greatest.\n"
     ]
    }
   ],
   "source": [
    "x, y = 4,5\n",
    "if x>y:\n",
    "    print('x is greatest.')\n",
    "else:\n",
    "    print('y is greatest.')"
   ]
  },
  {
   "cell_type": "code",
   "execution_count": 5,
   "id": "3a8da986",
   "metadata": {},
   "outputs": [
    {
     "name": "stdout",
     "output_type": "stream",
     "text": [
      "Enter value of x:11\n",
      "Enter value of y:14\n",
      "Enter value of z:12\n",
      "Y is greatest\n"
     ]
    }
   ],
   "source": [
    "x = int(input('Enter value of x:'))\n",
    "y = int(input('Enter value of y:'))\n",
    "z = int(input('Enter value of z:'))\n",
    "if x>y and x>z:\n",
    "    print('X is greatest')\n",
    "elif y>z:\n",
    "    print('Y is greatest')\n",
    "else:\n",
    "    print('Z is greatest')"
   ]
  },
  {
   "cell_type": "markdown",
   "id": "2dad4721",
   "metadata": {},
   "source": [
    "# Methods or Function are present in every programming language\n",
    "pre-defined,\n",
    "user-defined,\n",
    "it is a block of statement"
   ]
  },
  {
   "cell_type": "code",
   "execution_count": 7,
   "id": "16594b37",
   "metadata": {},
   "outputs": [
    {
     "name": "stdout",
     "output_type": "stream",
     "text": [
      "Python is Awesome\n",
      "I am learning it\n",
      "I will be expert\n",
      "in: 2 months\n"
     ]
    }
   ],
   "source": [
    "x = \"Awesome\"\n",
    "def xyz():\n",
    "    print('Python is '+x)\n",
    "    print('I am learning it')\n",
    "    print('I will be expert')\n",
    "    print('in:',2,'months')\n",
    "xyz()"
   ]
  },
  {
   "cell_type": "code",
   "execution_count": 13,
   "id": "e5fd3cdb",
   "metadata": {},
   "outputs": [
    {
     "name": "stdout",
     "output_type": "stream",
     "text": [
      "Value is : 10\n",
      "python is : 20\n",
      "Python is : 10\n",
      "python is : 15\n"
     ]
    }
   ],
   "source": [
    "ac = 20\n",
    "def fun1():\n",
    "    ab=10\n",
    "    print('Value is :', ab)\n",
    "    print('python is :', ac)\n",
    "    \n",
    "def fun2():\n",
    "    ab=10\n",
    "    ac=15\n",
    "    print('Python is :', ab)\n",
    "    print('python is :', ac)\n",
    "fun1()\n",
    "fun2()"
   ]
  },
  {
   "cell_type": "markdown",
   "id": "9f7d4556",
   "metadata": {},
   "source": [
    "# Arthimetric Operation"
   ]
  },
  {
   "cell_type": "code",
   "execution_count": 17,
   "id": "417c5d89",
   "metadata": {},
   "outputs": [
    {
     "name": "stdout",
     "output_type": "stream",
     "text": [
      "Add : 87 Sub : 13 Mul : 1850 Div : 1.3513513513513513\n"
     ]
    }
   ],
   "source": [
    "num1=50\n",
    "num2= 37\n",
    "def arthimetric():\n",
    "    add=num1+num2\n",
    "    sub=num1-num2\n",
    "    mul=num1*num2\n",
    "    div=num1/num2\n",
    "    print('Add :',add, 'Sub :',sub, 'Mul :',mul, 'Div :',div)\n",
    "arthimetric()"
   ]
  },
  {
   "cell_type": "code",
   "execution_count": 18,
   "id": "177150f1",
   "metadata": {},
   "outputs": [
    {
     "name": "stdout",
     "output_type": "stream",
     "text": [
      "Python is fantastic\n",
      "Python is awesome\n"
     ]
    }
   ],
   "source": [
    "x = \"awesome\"\n",
    "def myfunc():\n",
    "    x=\"fantastic\"\n",
    "    print(\"Python is \"+x)\n",
    "myfunc()\n",
    "print('Python is '+x)"
   ]
  },
  {
   "cell_type": "code",
   "execution_count": 19,
   "id": "46150803",
   "metadata": {},
   "outputs": [
    {
     "name": "stdout",
     "output_type": "stream",
     "text": [
      "Python is fantastic\n",
      "Python is fantastic\n"
     ]
    }
   ],
   "source": [
    "x = \"awesome\"\n",
    "def myfunc():\n",
    "    global x\n",
    "    x=\"fantastic\"\n",
    "    print(\"Python is \"+x)\n",
    "myfunc()\n",
    "print('Python is '+x)"
   ]
  },
  {
   "cell_type": "code",
   "execution_count": 22,
   "id": "1abc1d90",
   "metadata": {},
   "outputs": [
    {
     "name": "stdout",
     "output_type": "stream",
     "text": [
      "Python is fantastic\n",
      "fantastic Beast\n",
      "Python is fantastic\n"
     ]
    }
   ],
   "source": [
    "x = \"awesome\"\n",
    "def myfunc():\n",
    "    global x\n",
    "    x=\"fantastic\"\n",
    "    print(\"Python is \"+x)\n",
    "def myfunc1():\n",
    "    y=\"Beast\"\n",
    "    print(x+\" \"+y)\n",
    "myfunc()\n",
    "myfunc1()\n",
    "print('Python is '+x)"
   ]
  },
  {
   "cell_type": "code",
   "execution_count": 24,
   "id": "71487f0a",
   "metadata": {},
   "outputs": [
    {
     "name": "stdout",
     "output_type": "stream",
     "text": [
      "6\n"
     ]
    }
   ],
   "source": [
    "#Assigning and Deleting variable\n",
    "x = 6\n",
    "print(x)\n",
    "del x\n",
    "#\n",
    "print(x)"
   ]
  },
  {
   "cell_type": "code",
   "execution_count": 25,
   "id": "fef36fb3",
   "metadata": {},
   "outputs": [
    {
     "name": "stdout",
     "output_type": "stream",
     "text": [
      "<class 'int'>\n",
      "100000000000000000000000000000000001\n"
     ]
    }
   ],
   "source": [
    "#Python variable storage\n",
    "a = 100000000000000000000000000000000000\n",
    "a+=1\n",
    "print(type(a))\n",
    "print(a)"
   ]
  },
  {
   "cell_type": "code",
   "execution_count": 27,
   "id": "77560e0a",
   "metadata": {},
   "outputs": [
    {
     "name": "stdout",
     "output_type": "stream",
     "text": [
      "3\n",
      "3\n",
      "3\n"
     ]
    }
   ],
   "source": [
    "#printing single value\n",
    "a=3\n",
    "print(a)\n",
    "print((a))\n",
    "print(((a)))"
   ]
  },
  {
   "cell_type": "code",
   "execution_count": 28,
   "id": "c6371d89",
   "metadata": {},
   "outputs": [
    {
     "ename": "NameError",
     "evalue": "name 'b' is not defined",
     "output_type": "error",
     "traceback": [
      "\u001b[1;31m---------------------------------------------------------------------------\u001b[0m",
      "\u001b[1;31mNameError\u001b[0m                                 Traceback (most recent call last)",
      "\u001b[1;32m<ipython-input-28-5a1335298f04>\u001b[0m in \u001b[0;36m<module>\u001b[1;34m\u001b[0m\n\u001b[0;32m      3\u001b[0m \u001b[0my\u001b[0m\u001b[1;33m=\u001b[0m\u001b[1;33m(\u001b[0m\u001b[1;36m1\u001b[0m\u001b[1;33m,\u001b[0m\u001b[1;36m2\u001b[0m\u001b[1;33m,\u001b[0m\u001b[1;36m3\u001b[0m\u001b[1;33m,\u001b[0m\u001b[1;36m4\u001b[0m\u001b[1;33m,\u001b[0m\u001b[1;36m5\u001b[0m\u001b[1;33m,\u001b[0m\u001b[1;36m6\u001b[0m\u001b[1;33m)\u001b[0m\u001b[1;33m\u001b[0m\u001b[1;33m\u001b[0m\u001b[0m\n\u001b[0;32m      4\u001b[0m \u001b[0mrange\u001b[0m\u001b[1;33m(\u001b[0m\u001b[1;36m0\u001b[0m\u001b[1;33m,\u001b[0m\u001b[1;36m10\u001b[0m\u001b[1;33m)\u001b[0m\u001b[1;33m\u001b[0m\u001b[1;33m\u001b[0m\u001b[0m\n\u001b[1;32m----> 5\u001b[1;33m \u001b[0mx\u001b[0m\u001b[1;33m=\u001b[0m\u001b[1;33m{\u001b[0m\u001b[0ma\u001b[0m\u001b[1;33m:\u001b[0m\u001b[1;36m1\u001b[0m\u001b[1;33m,\u001b[0m \u001b[0mb\u001b[0m\u001b[1;33m:\u001b[0m\u001b[1;36m2\u001b[0m\u001b[1;33m}\u001b[0m\u001b[1;33m\u001b[0m\u001b[1;33m\u001b[0m\u001b[0m\n\u001b[0m\u001b[0;32m      6\u001b[0m \u001b[0mx\u001b[0m\u001b[1;33m=\u001b[0m\u001b[1;33m{\u001b[0m\u001b[1;33m}\u001b[0m\u001b[1;33m\u001b[0m\u001b[1;33m\u001b[0m\u001b[0m\n",
      "\u001b[1;31mNameError\u001b[0m: name 'b' is not defined"
     ]
    }
   ],
   "source": [
    "x = 4+5j\n",
    "x=[1,2,3,4,5,6]\n",
    "y=(1,2,3,4,5,6)\n",
    "range(0,10)\n",
    "x={a:1, b:2}\n",
    "x={}"
   ]
  },
  {
   "cell_type": "code",
   "execution_count": 29,
   "id": "fb8251b6",
   "metadata": {},
   "outputs": [
    {
     "name": "stdout",
     "output_type": "stream",
     "text": [
      "{1, 2, 3, 4, 5}\n"
     ]
    }
   ],
   "source": [
    "x={1,2,3,4,5}\n",
    "print(x)"
   ]
  },
  {
   "cell_type": "code",
   "execution_count": 30,
   "id": "c94278ba",
   "metadata": {},
   "outputs": [
    {
     "name": "stdout",
     "output_type": "stream",
     "text": [
      "{'a': 1, 'b': 2}\n",
      "1\n",
      "2\n"
     ]
    }
   ],
   "source": [
    "x = {'a':1,'b':2} #key value pair\n",
    "print(x)\n",
    "print(x['a'])\n",
    "print(x['b'])"
   ]
  },
  {
   "cell_type": "code",
   "execution_count": 31,
   "id": "bc06868c",
   "metadata": {},
   "outputs": [
    {
     "name": "stdout",
     "output_type": "stream",
     "text": [
      "The type of a <class 'int'>\n",
      "The type of b <class 'float'>\n",
      "The value off c is: (1+3j)\n",
      "the type of c <class 'complex'>\n",
      "c is a complex number True\n"
     ]
    }
   ],
   "source": [
    "a=5\n",
    "print(\"The type of a\", type(a))\n",
    "\n",
    "b=40.5\n",
    "print(\"The type of b\", type(b))\n",
    "\n",
    "c=1+3j\n",
    "print('The value off c is:', c)\n",
    "print('the type of c', type(c))\n",
    "print(\"c is a complex number\", isinstance(1+3j, complex))"
   ]
  },
  {
   "cell_type": "code",
   "execution_count": 32,
   "id": "489194a3",
   "metadata": {},
   "outputs": [
    {
     "name": "stdout",
     "output_type": "stream",
     "text": [
      "(5+0j)\n",
      "(67.89+0j)\n"
     ]
    }
   ],
   "source": [
    "x=5\n",
    "a=67.89\n",
    "y=complex(x)\n",
    "b=complex(a)\n",
    "print(y)\n",
    "print(b)"
   ]
  },
  {
   "cell_type": "code",
   "execution_count": 34,
   "id": "2dbb7999",
   "metadata": {},
   "outputs": [
    {
     "name": "stdout",
     "output_type": "stream",
     "text": [
      "string using double quotes\n",
      "''A multiline\n",
      "string\n"
     ]
    }
   ],
   "source": [
    "str=\"string using double quotes\"\n",
    "print(str)\n",
    "s='''''A multiline\n",
    "string'''\n",
    "print(s)"
   ]
  },
  {
   "cell_type": "code",
   "execution_count": 35,
   "id": "d6ea1506",
   "metadata": {},
   "outputs": [
    {
     "name": "stdout",
     "output_type": "stream",
     "text": [
      "Nikita\n",
      "N\n"
     ]
    }
   ],
   "source": [
    "name='Nikita'\n",
    "print(name)\n",
    "print(name[0])"
   ]
  },
  {
   "cell_type": "code",
   "execution_count": 36,
   "id": "3caddbcb",
   "metadata": {},
   "outputs": [
    {
     "name": "stdout",
     "output_type": "stream",
     "text": [
      "he\n",
      "o\n",
      "hello nikitahello nikita\n",
      "hello nikitahello nikitahello nikita\n",
      "hello nikitahow are you\n",
      "h\n"
     ]
    }
   ],
   "source": [
    "str1='hello nikita'\n",
    "str2='how are you'\n",
    "print(str1[0:2])\n",
    "print(str1[4])\n",
    "print(str1*2)\n",
    "print(str1*3)\n",
    "print(str1+str2)\n",
    "print(str2[0])\n"
   ]
  },
  {
   "cell_type": "code",
   "execution_count": 37,
   "id": "0d6b0484",
   "metadata": {},
   "outputs": [
    {
     "name": "stdout",
     "output_type": "stream",
     "text": [
      "47364978\n"
     ]
    }
   ],
   "source": [
    "import random #Random number\n",
    "print(random.randrange(-34,110234576))"
   ]
  },
  {
   "cell_type": "markdown",
   "id": "77f7118f",
   "metadata": {},
   "source": [
    "# Iteration"
   ]
  },
  {
   "cell_type": "code",
   "execution_count": 38,
   "id": "78c49cb8",
   "metadata": {},
   "outputs": [
    {
     "name": "stdout",
     "output_type": "stream",
     "text": [
      "W\n",
      "e\n",
      "l\n",
      "c\n",
      "o\n",
      "m\n",
      "e\n",
      " \n",
      "T\n",
      "o\n",
      " \n",
      "P\n",
      "y\n",
      "t\n",
      "h\n",
      "o\n",
      "n\n",
      " \n",
      "P\n",
      "r\n",
      "o\n",
      "g\n",
      "r\n",
      "a\n",
      "m\n",
      "m\n",
      "i\n",
      "n\n",
      "g\n"
     ]
    }
   ],
   "source": [
    "for i in 'Welcome To Python Programming':\n",
    "    print(i)"
   ]
  },
  {
   "cell_type": "code",
   "execution_count": 39,
   "id": "8074b7dd",
   "metadata": {},
   "outputs": [
    {
     "name": "stdout",
     "output_type": "stream",
     "text": [
      "12\n"
     ]
    }
   ],
   "source": [
    "#Length\n",
    "a=\"Hello, World\"\n",
    "print(len(a))"
   ]
  },
  {
   "cell_type": "code",
   "execution_count": 40,
   "id": "2e630202",
   "metadata": {},
   "outputs": [
    {
     "name": "stdout",
     "output_type": "stream",
     "text": [
      "True\n"
     ]
    }
   ],
   "source": [
    "txt = \"The best things in life are not free!\"\n",
    "print(\"free\" in txt)"
   ]
  },
  {
   "cell_type": "code",
   "execution_count": 41,
   "id": "90f1b725",
   "metadata": {},
   "outputs": [
    {
     "name": "stdout",
     "output_type": "stream",
     "text": [
      "yes, It is present in the sentences\n"
     ]
    }
   ],
   "source": [
    "statement = 'this is python class'\n",
    "if 'python' in statement:\n",
    "    print(\"yes, It is present in the sentences\")"
   ]
  },
  {
   "cell_type": "code",
   "execution_count": 42,
   "id": "5d3e7382",
   "metadata": {},
   "outputs": [
    {
     "name": "stdout",
     "output_type": "stream",
     "text": [
      "True\n"
     ]
    }
   ],
   "source": [
    "txt = \"The best things in life are not free!\"\n",
    "print(\"expensive\" not in txt)"
   ]
  },
  {
   "cell_type": "code",
   "execution_count": 43,
   "id": "9f30bc71",
   "metadata": {},
   "outputs": [
    {
     "name": "stdout",
     "output_type": "stream",
     "text": [
      "No, It is present in the sentence\n"
     ]
    }
   ],
   "source": [
    "statement = 'this is python class'\n",
    "if 'python' not in statement:\n",
    "    print(\"yes, It is not present in the sentences\")\n",
    "else:\n",
    "    print(\"No, It is present in the sentence\")"
   ]
  },
  {
   "cell_type": "code",
   "execution_count": 44,
   "id": "8779b27f",
   "metadata": {},
   "outputs": [
    {
     "name": "stdout",
     "output_type": "stream",
     "text": [
      "Enter first value: 56\n",
      "Enter second value: 94\n",
      "the addition is :  5694\n"
     ]
    }
   ],
   "source": [
    "x = input(\"Enter first value: \")\n",
    "y = input(\"Enter second value: \")\n",
    "z = x + y\n",
    "print('the addition is : ',z)"
   ]
  },
  {
   "cell_type": "code",
   "execution_count": 45,
   "id": "dcd71405",
   "metadata": {},
   "outputs": [
    {
     "name": "stdout",
     "output_type": "stream",
     "text": [
      "Enter first value: 36\n",
      "Enter second value: 45\n",
      "the addition is :  81\n"
     ]
    }
   ],
   "source": [
    "x = int(input(\"Enter first value: \"))\n",
    "y = int(input(\"Enter second value: \"))\n",
    "z = x + y\n",
    "print('the addition is : ',z)"
   ]
  },
  {
   "cell_type": "code",
   "execution_count": 46,
   "id": "29644ce1",
   "metadata": {},
   "outputs": [
    {
     "name": "stdout",
     "output_type": "stream",
     "text": [
      "Enter two values: 28 22\n",
      "Number of boys:  28\n",
      "number of girls:  22\n",
      "\n",
      "Enter two values: 100 59 41\n",
      "Total number of students:  100\n",
      "Number of boys:  59\n",
      "Number of girls:  41\n",
      "\n"
     ]
    }
   ],
   "source": [
    "#multiple input using split\n",
    "x,y = input(\"Enter two values: \").split()\n",
    "print(\"Number of boys: \",x)\n",
    "print(\"number of girls: \",y)\n",
    "print()\n",
    "\n",
    "x, y, z = input(\"Enter two values: \").split()\n",
    "print(\"Total number of students: \",x)\n",
    "print(\"Number of boys: \",y)\n",
    "print(\"Number of girls: \",z)\n",
    "print()"
   ]
  },
  {
   "cell_type": "code",
   "execution_count": 49,
   "id": "8809efce",
   "metadata": {},
   "outputs": [
    {
     "name": "stdout",
     "output_type": "stream",
     "text": [
      "Enter two values: 28 30\n",
      "Number of boys is 28 and number of girls is 30 \n",
      "\n"
     ]
    }
   ],
   "source": [
    "x,y = input(\"Enter two values: \").split()\n",
    "print(\"Number of boys is {} and number of girls is {} \".format(x,y))\n",
    "print()"
   ]
  },
  {
   "cell_type": "code",
   "execution_count": 50,
   "id": "2b95faea",
   "metadata": {},
   "outputs": [
    {
     "name": "stdout",
     "output_type": "stream",
     "text": [
      "Enter two values: 45 67\n",
      "1st Number is 45 and 2nd number is 67 and 3rd numberis 20 \n",
      "\n"
     ]
    }
   ],
   "source": [
    "x,y = input(\"Enter two values: \").split()\n",
    "print(\"1st Number is {} and 2nd number is {} and 3rd numberis {} \".format(x,y,20))\n",
    "print()"
   ]
  },
  {
   "cell_type": "code",
   "execution_count": 51,
   "id": "87c2de5f",
   "metadata": {},
   "outputs": [
    {
     "name": "stdout",
     "output_type": "stream",
     "text": [
      "llo\n"
     ]
    }
   ],
   "source": [
    "b = \"Hello World!\"\n",
    "print(b[2:5])"
   ]
  },
  {
   "cell_type": "code",
   "execution_count": 52,
   "id": "cc114c6a",
   "metadata": {},
   "outputs": [
    {
     "name": "stdout",
     "output_type": "stream",
     "text": [
      "llo World!\n"
     ]
    }
   ],
   "source": [
    "b = \"Hello World!\"\n",
    "print(b[2:])"
   ]
  },
  {
   "cell_type": "code",
   "execution_count": 53,
   "id": "b47db62c",
   "metadata": {},
   "outputs": [
    {
     "name": "stdout",
     "output_type": "stream",
     "text": [
      "Hello\n"
     ]
    }
   ],
   "source": [
    "b = \"Hello World!\"\n",
    "print(b[:5])"
   ]
  },
  {
   "cell_type": "code",
   "execution_count": 55,
   "id": "e922b85e",
   "metadata": {},
   "outputs": [
    {
     "name": "stdout",
     "output_type": "stream",
     "text": [
      "orl\n"
     ]
    }
   ],
   "source": [
    "b = \"Hello World!\"\n",
    "print(b[-5:-2])"
   ]
  },
  {
   "cell_type": "code",
   "execution_count": 56,
   "id": "c1ab11ce",
   "metadata": {},
   "outputs": [
    {
     "name": "stdout",
     "output_type": "stream",
     "text": [
      "HELLO WORLD!\n"
     ]
    }
   ],
   "source": [
    "b = \"Hello World!\"\n",
    "print(b.upper())"
   ]
  },
  {
   "cell_type": "code",
   "execution_count": 57,
   "id": "3f0fdeb3",
   "metadata": {},
   "outputs": [
    {
     "name": "stdout",
     "output_type": "stream",
     "text": [
      "hello world!\n"
     ]
    }
   ],
   "source": [
    "b = \"Hello World!\"\n",
    "print(b.lower())"
   ]
  },
  {
   "cell_type": "code",
   "execution_count": 58,
   "id": "60dd00df",
   "metadata": {},
   "outputs": [
    {
     "name": "stdout",
     "output_type": "stream",
     "text": [
      "Hello World!\n"
     ]
    }
   ],
   "source": [
    "b = \"   Hello World!\"\n",
    "print(b.strip())"
   ]
  },
  {
   "cell_type": "code",
   "execution_count": 59,
   "id": "6ad922ec",
   "metadata": {},
   "outputs": [
    {
     "name": "stdout",
     "output_type": "stream",
     "text": [
      "Hello Everyone!\n"
     ]
    }
   ],
   "source": [
    "b = \"Hello World!\"\n",
    "print(b.replace(\"World\",\"Everyone\"))"
   ]
  },
  {
   "cell_type": "code",
   "execution_count": 61,
   "id": "035673c7",
   "metadata": {},
   "outputs": [
    {
     "name": "stdout",
     "output_type": "stream",
     "text": [
      "['Hello', ' World!']\n"
     ]
    }
   ],
   "source": [
    "b = \"Hello, World!\"\n",
    "print(b.split(\",\"))"
   ]
  },
  {
   "cell_type": "code",
   "execution_count": 62,
   "id": "d4fbea27",
   "metadata": {},
   "outputs": [
    {
     "name": "stdout",
     "output_type": "stream",
     "text": [
      "['Hello', 'World!']\n"
     ]
    }
   ],
   "source": [
    "b = \"Hello World!\"\n",
    "print(b.split(\" \"))"
   ]
  },
  {
   "cell_type": "code",
   "execution_count": 63,
   "id": "d2fdb34e",
   "metadata": {},
   "outputs": [
    {
     "name": "stdout",
     "output_type": "stream",
     "text": [
      "My name is John, and i am 36\n"
     ]
    }
   ],
   "source": [
    "age=36\n",
    "txt=\"My name is John, and i am {}\"\n",
    "print(txt.format(age))"
   ]
  },
  {
   "cell_type": "code",
   "execution_count": 64,
   "id": "3306b615",
   "metadata": {},
   "outputs": [
    {
     "name": "stdout",
     "output_type": "stream",
     "text": [
      "I want 3 pieces of item 567 for 49.95 dollars\n"
     ]
    }
   ],
   "source": [
    "quantity=3\n",
    "itemno = 567\n",
    "price = 49.95\n",
    "myorder=\"I want {} pieces of item {} for {} dollars\"\n",
    "print(myorder.format(quantity,itemno,price))"
   ]
  },
  {
   "cell_type": "code",
   "execution_count": null,
   "id": "c398c51c",
   "metadata": {},
   "outputs": [],
   "source": [
    "floor and ceil\n",
    "x = 2.01\n",
    "floor of x: 2\n",
    "ceil of x: 3"
   ]
  },
  {
   "cell_type": "code",
   "execution_count": 65,
   "id": "e1a93091",
   "metadata": {},
   "outputs": [
    {
     "name": "stdout",
     "output_type": "stream",
     "text": [
      "False\n",
      "True\n",
      "False\n",
      "True\n",
      "False\n",
      "True\n"
     ]
    }
   ],
   "source": [
    "#Relational Operators\n",
    "a=13 \n",
    "b=33\n",
    "print(a>b)\n",
    "print(a<b)\n",
    "print(a==b)\n",
    "print(a!=b)\n",
    "print(a>=b)\n",
    "print(a<=b)"
   ]
  },
  {
   "cell_type": "code",
   "execution_count": 66,
   "id": "0c0fd468",
   "metadata": {},
   "outputs": [
    {
     "name": "stdout",
     "output_type": "stream",
     "text": [
      "False\n",
      "11\n"
     ]
    }
   ],
   "source": [
    "#a==b comparator operator\n",
    "#a=b assignment operator\n",
    "b=5\n",
    "a=11\n",
    "print(a==b)\n",
    "print(a)\n"
   ]
  },
  {
   "cell_type": "code",
   "execution_count": 67,
   "id": "d4498469",
   "metadata": {},
   "outputs": [
    {
     "name": "stdout",
     "output_type": "stream",
     "text": [
      "False\n",
      "True\n",
      "False\n"
     ]
    }
   ],
   "source": [
    "#Logical Operator\n",
    "a=True\n",
    "b=False\n",
    "print(a and b)\n",
    "print(a or b)\n",
    "print(not a)"
   ]
  },
  {
   "cell_type": "code",
   "execution_count": 69,
   "id": "e7b6b9fa",
   "metadata": {},
   "outputs": [
    {
     "name": "stdout",
     "output_type": "stream",
     "text": [
      "0\n",
      "14\n",
      "-11\n",
      "14\n"
     ]
    }
   ],
   "source": [
    "#Bitwise Opeartor\n",
    "a = 10\n",
    "b = 4\n",
    "print(a & b) # and operator\n",
    "print(a | b) # or operator\n",
    "print(~a) # not opeartor\n",
    "print(a ^ b) # xor operator"
   ]
  },
  {
   "cell_type": "code",
   "execution_count": 70,
   "id": "98fa7693",
   "metadata": {},
   "outputs": [
    {
     "name": "stdout",
     "output_type": "stream",
     "text": [
      "True\n",
      "True\n"
     ]
    }
   ],
   "source": [
    "# Identity Operator\n",
    "a=10\n",
    "b=20\n",
    "c=a\n",
    "print(a is not b)\n",
    "print(a is c)"
   ]
  },
  {
   "cell_type": "code",
   "execution_count": 72,
   "id": "63cbab39",
   "metadata": {},
   "outputs": [
    {
     "name": "stdout",
     "output_type": "stream",
     "text": [
      "610\n",
      "900\n",
      "Hello! Welcome\n"
     ]
    }
   ],
   "source": [
    "#Operator Precedence\n",
    "expr = 10+20*30\n",
    "print(expr)\n",
    "expr=(10+20)*30\n",
    "print(expr)\n",
    "\n",
    "name=\"Nirmal\"\n",
    "age=0\n",
    "if name=='Nirmal' or name == \"Resham\" and age>=2:\n",
    "    #true or false and false\n",
    "    #true or false\n",
    "    #true\n",
    "    print(\"Hello! Welcome\")\n",
    "else:\n",
    "    print(\"Good Bye!!\")"
   ]
  },
  {
   "cell_type": "code",
   "execution_count": 73,
   "id": "cbdfdda2",
   "metadata": {},
   "outputs": [
    {
     "name": "stdout",
     "output_type": "stream",
     "text": [
      "Hello! Welcome\n"
     ]
    }
   ],
   "source": [
    "name=\"Nirmal\"\n",
    "age=0\n",
    "if name=='Nirmal' or name == \"Resham\" and age>=2 or age<2:\n",
    "    #true or false and false or true\n",
    "    #true or false\n",
    "    #true\n",
    "    print(\"Hello! Welcome\")\n",
    "else:\n",
    "    print(\"Good Bye!!\")"
   ]
  }
 ],
 "metadata": {
  "kernelspec": {
   "display_name": "Python 3",
   "language": "python",
   "name": "python3"
  },
  "language_info": {
   "codemirror_mode": {
    "name": "ipython",
    "version": 3
   },
   "file_extension": ".py",
   "mimetype": "text/x-python",
   "name": "python",
   "nbconvert_exporter": "python",
   "pygments_lexer": "ipython3",
   "version": "3.8.8"
  }
 },
 "nbformat": 4,
 "nbformat_minor": 5
}
