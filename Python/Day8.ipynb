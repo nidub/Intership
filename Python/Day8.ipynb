{
 "cells": [
  {
   "cell_type": "code",
   "execution_count": 1,
   "id": "9e335863",
   "metadata": {},
   "outputs": [
    {
     "name": "stdout",
     "output_type": "stream",
     "text": [
      "Inside B: Dubey\n",
      "Inside A: Nikita\n"
     ]
    }
   ],
   "source": [
    "def A():\n",
    "    name='Nikita'\n",
    "    def B():\n",
    "        name='Dubey'\n",
    "        print(\"Inside B:\",name)\n",
    "    B()\n",
    "    print('Inside A:',name)\n",
    "A()"
   ]
  },
  {
   "cell_type": "code",
   "execution_count": 2,
   "id": "fba16551",
   "metadata": {},
   "outputs": [
    {
     "name": "stdout",
     "output_type": "stream",
     "text": [
      "Inside B: Dubey\n",
      "Inside A: Dubey\n"
     ]
    }
   ],
   "source": [
    "def A():\n",
    "    name='Nikita'\n",
    "    def B():\n",
    "        nonlocal name\n",
    "        name='Dubey'\n",
    "        print(\"Inside B:\",name)\n",
    "    B()\n",
    "    print('Inside A:',name)\n",
    "A()"
   ]
  },
  {
   "cell_type": "code",
   "execution_count": 3,
   "id": "a6397543",
   "metadata": {},
   "outputs": [
    {
     "name": "stdout",
     "output_type": "stream",
     "text": [
      "15\n",
      "20\n",
      "20\n",
      "20\n"
     ]
    }
   ],
   "source": [
    "def A():\n",
    "    x = 10\n",
    "    def B():\n",
    "        nonlocal x\n",
    "        x=15\n",
    "        print(x)\n",
    "        def C():\n",
    "            nonlocal x\n",
    "            x=20\n",
    "            print(x)\n",
    "        C()\n",
    "        print(x)\n",
    "    B()\n",
    "    print(x)\n",
    "A()"
   ]
  },
  {
   "cell_type": "code",
   "execution_count": 4,
   "id": "a3d4b1f3",
   "metadata": {},
   "outputs": [
    {
     "name": "stdout",
     "output_type": "stream",
     "text": [
      "30\n",
      "5 10\n"
     ]
    }
   ],
   "source": [
    "def A():\n",
    "    x=5\n",
    "    y=10\n",
    "    def B():\n",
    "        z=15\n",
    "        z=z+x+y\n",
    "        print(z)\n",
    "    B()\n",
    "    print(x,y)\n",
    "A()\n"
   ]
  },
  {
   "cell_type": "code",
   "execution_count": 5,
   "id": "f02daae6",
   "metadata": {},
   "outputs": [
    {
     "name": "stdout",
     "output_type": "stream",
     "text": [
      "Before calling inner_function():  20\n",
      "After calling inner_function():  20\n",
      "Outside both function:  25\n"
     ]
    }
   ],
   "source": [
    "def outer_function():\n",
    "    num=20\n",
    "    def inner_function():\n",
    "        global num\n",
    "        num = 25\n",
    "    print(\"Before calling inner_function(): \",num)\n",
    "    inner_function()\n",
    "    print(\"After calling inner_function(): \", num)\n",
    "outer_function()\n",
    "print(\"Outside both function: \", num)"
   ]
  },
  {
   "cell_type": "markdown",
   "id": "bc3380b2",
   "metadata": {},
   "source": [
    "# Classes & object"
   ]
  },
  {
   "cell_type": "code",
   "execution_count": 6,
   "id": "3ee185d4",
   "metadata": {},
   "outputs": [],
   "source": [
    "class Myclass:\n",
    "    x=10"
   ]
  },
  {
   "cell_type": "code",
   "execution_count": 7,
   "id": "cbec2702",
   "metadata": {},
   "outputs": [
    {
     "name": "stdout",
     "output_type": "stream",
     "text": [
      "Nikita\n"
     ]
    }
   ],
   "source": [
    "class name:\n",
    "    name1='Nikita'\n",
    "n1=name()\n",
    "print(n1.name1)"
   ]
  },
  {
   "cell_type": "code",
   "execution_count": 8,
   "id": "66f3c858",
   "metadata": {},
   "outputs": [
    {
     "name": "stdout",
     "output_type": "stream",
     "text": [
      "dog1\n",
      "Cat\n",
      "Hello:  dog1\n",
      "Hello:  Cat\n"
     ]
    }
   ],
   "source": [
    "class Dog:\n",
    "    name1='dog1'\n",
    "    name2='Cat'\n",
    "    def func(self):\n",
    "        print('Hello: ',self.name1)\n",
    "        print('Hello: ',self.name2)\n",
    "d=Dog()\n",
    "print(d.name1)\n",
    "print(d.name2)\n",
    "d.func()"
   ]
  },
  {
   "cell_type": "code",
   "execution_count": 9,
   "id": "8ef0de38",
   "metadata": {},
   "outputs": [
    {
     "name": "stdout",
     "output_type": "stream",
     "text": [
      "Addition:  15\n"
     ]
    }
   ],
   "source": [
    "class add:\n",
    "    x=5\n",
    "    y=10\n",
    "    def addition(self):\n",
    "        print(\"Addition: \",self.x+self.y)\n",
    "a = add()\n",
    "a.addition()"
   ]
  },
  {
   "cell_type": "code",
   "execution_count": 10,
   "id": "ef323ba9",
   "metadata": {},
   "outputs": [
    {
     "name": "stdout",
     "output_type": "stream",
     "text": [
      "Nikita\n",
      "78\n"
     ]
    }
   ],
   "source": [
    "class Person:\n",
    "    def __init__(self,name,age):\n",
    "        self.name=name\n",
    "        self.age=age\n",
    "p1=Person(\"Nikita\", 78)\n",
    "print(p1.name)\n",
    "print(p1.age)"
   ]
  },
  {
   "cell_type": "code",
   "execution_count": 11,
   "id": "e9b7515d",
   "metadata": {},
   "outputs": [
    {
     "name": "stdout",
     "output_type": "stream",
     "text": [
      "Enter your name: radha\n",
      "Enter your age: 67\n",
      "radha\n",
      "67\n"
     ]
    }
   ],
   "source": [
    "class Person:\n",
    "    def __init__(self):\n",
    "        name=input('Enter your name: ')\n",
    "        age=int(input(\"Enter your age: \"))\n",
    "        self.name=name\n",
    "        self.age=age\n",
    "p1=Person()\n",
    "print(p1.name)\n",
    "print(p1.age)"
   ]
  },
  {
   "cell_type": "code",
   "execution_count": 12,
   "id": "b1272ac3",
   "metadata": {},
   "outputs": [
    {
     "name": "stdout",
     "output_type": "stream",
     "text": [
      "Hello, my name is Nikita\n"
     ]
    }
   ],
   "source": [
    "class Person:\n",
    "    def __init__(selfie, name):\n",
    "        selfie.name=name\n",
    "        \n",
    "    def say_hi(self):\n",
    "        print('Hello, my name is', self.name)\n",
    "p1=Person(\"Nikita\")\n",
    "p1.say_hi()"
   ]
  },
  {
   "cell_type": "code",
   "execution_count": 13,
   "id": "4caf709b",
   "metadata": {},
   "outputs": [
    {
     "name": "stdout",
     "output_type": "stream",
     "text": [
      "15\n"
     ]
    }
   ],
   "source": [
    "class add:\n",
    "    def __init__(selfie, num1):\n",
    "        selfie.num1=num1\n",
    "        \n",
    "    def number(self, num2):\n",
    "        self.num2=num2\n",
    "        print(self.num1 + self.num2)\n",
    "a=add(5)\n",
    "a.number(10)"
   ]
  },
  {
   "cell_type": "code",
   "execution_count": 14,
   "id": "988dc5f2",
   "metadata": {},
   "outputs": [
    {
     "name": "stdout",
     "output_type": "stream",
     "text": [
      "Nikita Dubey\n",
      "Ramya Aiyaar\n"
     ]
    }
   ],
   "source": [
    "class name:\n",
    "    def __init__(self,fname,lname):\n",
    "        self.fname=fname\n",
    "        self.lname=lname\n",
    "        print(self.fname,self.lname)\n",
    "n1=name('Nikita','Dubey')\n",
    "n2=name(\"Ramya\",\"Aiyaar\")"
   ]
  },
  {
   "cell_type": "code",
   "execution_count": 17,
   "id": "d6a3d082",
   "metadata": {},
   "outputs": [
    {
     "name": "stdout",
     "output_type": "stream",
     "text": [
      "Brown\n"
     ]
    }
   ],
   "source": [
    "class Dog:\n",
    "    def __init__(self,breed):\n",
    "        self.breed=breed\n",
    "    def setColor(self,color):\n",
    "        self.color=color\n",
    "    def getColor(self):\n",
    "        return self.color\n",
    "Rodger=Dog(\"pug\")\n",
    "Rodger.setColor(\"Brown\")\n",
    "print(Rodger.getColor())"
   ]
  },
  {
   "cell_type": "code",
   "execution_count": 20,
   "id": "6bfcc62d",
   "metadata": {},
   "outputs": [
    {
     "name": "stdout",
     "output_type": "stream",
     "text": [
      "Nikita(34)\n"
     ]
    }
   ],
   "source": [
    "class Person:\n",
    "    def __init__(self, name,age):\n",
    "        self.name=name\n",
    "        self.age=age\n",
    "        \n",
    "    def __str__(self):\n",
    "        return f\"{self.name}({self.age})\"\n",
    "p1=Person(\"Nikita\",34)\n",
    "print(p1)"
   ]
  },
  {
   "cell_type": "code",
   "execution_count": 23,
   "id": "bc398ff0",
   "metadata": {},
   "outputs": [
    {
     "name": "stdout",
     "output_type": "stream",
     "text": [
      "Nikita Dubey\n"
     ]
    }
   ],
   "source": [
    "class Person:\n",
    "    def __init__(self, fname, lname):\n",
    "        self.fname=fname\n",
    "        self.lname=lname\n",
    "        \n",
    "    def __str__(self):\n",
    "        return f\"{self.fname} {self.lname}\"\n",
    "p1=Person(\"Nikita\",\"Dubey\")\n",
    "print(p1)"
   ]
  },
  {
   "cell_type": "code",
   "execution_count": 25,
   "id": "720b8e4c",
   "metadata": {},
   "outputs": [
    {
     "name": "stdout",
     "output_type": "stream",
     "text": [
      "10 20\n",
      "<class '__main__.Person'>\n"
     ]
    }
   ],
   "source": [
    "class Person:\n",
    "    def __init__(self, fname, lname):\n",
    "        self.fname=fname\n",
    "        self.lname=lname\n",
    "        \n",
    "    def __str__(self):\n",
    "        return f\"{self.fname} {self.lname}\"\n",
    "p1=Person(10,20)\n",
    "print(p1)\n",
    "print(type(p1))"
   ]
  },
  {
   "cell_type": "code",
   "execution_count": 26,
   "id": "77b8e9bf",
   "metadata": {},
   "outputs": [
    {
     "name": "stdout",
     "output_type": "stream",
     "text": [
      "Hello my name is Nirmal\n"
     ]
    }
   ],
   "source": [
    "class Person:\n",
    "    def __init__(mysillyobject, name, age):\n",
    "        mysillyobject.name=name\n",
    "        mysillyobject.age=age\n",
    "        \n",
    "    def myfunc(abc):\n",
    "        print(\"Hello my name is \"+abc.name)\n",
    "p1 = Person(\"Nirmal\",36)\n",
    "p1.myfunc()"
   ]
  },
  {
   "cell_type": "code",
   "execution_count": 30,
   "id": "875a5e2d",
   "metadata": {},
   "outputs": [
    {
     "name": "stdout",
     "output_type": "stream",
     "text": [
      "Enter a number45\n",
      "1035\n"
     ]
    }
   ],
   "source": [
    "class number:\n",
    "    def __init__(self, num):\n",
    "        self.num=num\n",
    "    def summation(self):\n",
    "        sum=0\n",
    "        for i in range(1,self.num+1):\n",
    "            sum=sum+i\n",
    "        print(sum)\n",
    "x=int(input('Enter a number'))\n",
    "n=number(x)\n",
    "n.summation()"
   ]
  },
  {
   "cell_type": "markdown",
   "id": "dfed6835",
   "metadata": {},
   "source": [
    "## Inheritance"
   ]
  },
  {
   "cell_type": "code",
   "execution_count": 35,
   "id": "6a736bfa",
   "metadata": {},
   "outputs": [
    {
     "name": "stdout",
     "output_type": "stream",
     "text": [
      "Nirmal 102\n"
     ]
    }
   ],
   "source": [
    "class Person:\n",
    "    y=10\n",
    "    def __init__(self, name, identity):\n",
    "        self.name=name\n",
    "        self.identity=identity\n",
    "    def Display(self):\n",
    "        print(self.name, self.identity)\n",
    "emp=Person(\"Nirmal\",102)\n",
    "emp.Display()"
   ]
  },
  {
   "cell_type": "code",
   "execution_count": 36,
   "id": "61e15c7d",
   "metadata": {},
   "outputs": [
    {
     "name": "stdout",
     "output_type": "stream",
     "text": [
      "10\n",
      "Nirmal 103\n",
      "Emp Class Called\n"
     ]
    }
   ],
   "source": [
    "class Emp(Person):\n",
    "    def Print(self):\n",
    "        print(\"Emp Class Called\")\n",
    "Emp_details = Emp(\"Nirmal\",103)\n",
    "print(Emp_details.y)\n",
    "Emp_details.Display()\n",
    "Emp_details.Print()"
   ]
  },
  {
   "cell_type": "code",
   "execution_count": 46,
   "id": "cbd957fc",
   "metadata": {},
   "outputs": [
    {
     "name": "stdout",
     "output_type": "stream",
     "text": [
      "25\n",
      "35\n"
     ]
    }
   ],
   "source": [
    "class c1:\n",
    "    def __init__(self,name):\n",
    "        self.num=num\n",
    "class c2(c1):\n",
    "    def display(self):\n",
    "        print(self.num)\n",
    "class c3(c2):\n",
    "    def display1(self):\n",
    "        x=10\n",
    "        x=x+self.num\n",
    "        print(x)\n",
    "c=c3(10)\n",
    "c.display()\n",
    "c.display1()"
   ]
  },
  {
   "cell_type": "code",
   "execution_count": 49,
   "id": "6208eee8",
   "metadata": {},
   "outputs": [
    {
     "name": "stdout",
     "output_type": "stream",
     "text": [
      "The number is:  10\n"
     ]
    }
   ],
   "source": [
    "class A:\n",
    "    def __init__(self,num):\n",
    "        self.num=num\n",
    "    def Print(self):\n",
    "        print('The number is: ',self.num)\n",
    "class B(A):\n",
    "    pass\n",
    "b=B(10)\n",
    "b.Print()"
   ]
  },
  {
   "cell_type": "code",
   "execution_count": 51,
   "id": "40ffc5c3",
   "metadata": {},
   "outputs": [
    {
     "name": "stdout",
     "output_type": "stream",
     "text": [
      "25\n"
     ]
    }
   ],
   "source": [
    "class A():\n",
    "    def __init__(self,x):\n",
    "        self.x=x\n",
    "class B():\n",
    "    def __init__(self,y):\n",
    "        self.y=y\n",
    "class C(A,B):\n",
    "    def __init__(self,x,y):\n",
    "        A.__init__(self,x)\n",
    "        B.__init__(self,y)\n",
    "        z=self.x+self.y\n",
    "        print(z)\n",
    "a1=A(10)\n",
    "b1=B(15)\n",
    "c1=C(a1.x,b1.y)"
   ]
  },
  {
   "cell_type": "code",
   "execution_count": 53,
   "id": "be301a0a",
   "metadata": {},
   "outputs": [
    {
     "name": "stdout",
     "output_type": "stream",
     "text": [
      "25\n"
     ]
    }
   ],
   "source": [
    "class A():\n",
    "    def __init__(self):\n",
    "        self.x=10\n",
    "class B():\n",
    "    def __init__(self):\n",
    "        self.y=15\n",
    "class C(A,B):\n",
    "    def __init__(self):\n",
    "        A.__init__(self)\n",
    "        B.__init__(self)\n",
    "        z=self.x + self.y\n",
    "        print(z)\n",
    "c1=C()"
   ]
  }
 ],
 "metadata": {
  "kernelspec": {
   "display_name": "Python 3",
   "language": "python",
   "name": "python3"
  },
  "language_info": {
   "codemirror_mode": {
    "name": "ipython",
    "version": 3
   },
   "file_extension": ".py",
   "mimetype": "text/x-python",
   "name": "python",
   "nbconvert_exporter": "python",
   "pygments_lexer": "ipython3",
   "version": "3.8.8"
  }
 },
 "nbformat": 4,
 "nbformat_minor": 5
}
