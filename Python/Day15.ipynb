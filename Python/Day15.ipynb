{
 "cells": [
  {
   "cell_type": "code",
   "execution_count": 1,
   "id": "6faf8541",
   "metadata": {},
   "outputs": [],
   "source": [
    "import numpy as np"
   ]
  },
  {
   "cell_type": "code",
   "execution_count": 2,
   "id": "7b67b51b",
   "metadata": {},
   "outputs": [
    {
     "name": "stdout",
     "output_type": "stream",
     "text": [
      "[1 3 4 5 6 7 8 9]\n",
      "[2 2 1 2 1 4 2 2]\n",
      "[[1 2]\n",
      " [3 2]\n",
      " [4 1]\n",
      " [5 2]\n",
      " [6 1]\n",
      " [7 4]\n",
      " [8 2]\n",
      " [9 2]]\n"
     ]
    }
   ],
   "source": [
    "my_array=np.array([5,8,7,5,9,3,7,7,1,1,8,4,6,9,7,3])\n",
    "unique_items,counts=np.unique(my_array,return_counts=True)\n",
    "print(unique_items)\n",
    "print(counts)\n",
    "frequencies=np.asarray((unique_items,counts)).T\n",
    "print(frequencies)"
   ]
  },
  {
   "cell_type": "code",
   "execution_count": 3,
   "id": "ff6f0777",
   "metadata": {},
   "outputs": [
    {
     "name": "stdout",
     "output_type": "stream",
     "text": [
      "Original\n",
      "[16 17  3  4 18  4 16 19 11 16]\n",
      "reversed\n",
      "[16 11 19 16  4 18  4  3 17 16]\n"
     ]
    }
   ],
   "source": [
    "print(\"Original\")\n",
    "my_array=np.random.randint(1,20,10)\n",
    "print(my_array)\n",
    "print(\"reversed\")\n",
    "reversed_array=np.flipud(my_array)\n",
    "print(reversed_array)"
   ]
  },
  {
   "cell_type": "code",
   "execution_count": 4,
   "id": "eb55ae99",
   "metadata": {},
   "outputs": [
    {
     "name": "stdout",
     "output_type": "stream",
     "text": [
      "Original\n",
      "[[15  5  5  4]\n",
      " [ 6  9  5  3]\n",
      " [ 1 18  5 12]]\n",
      "reversed\n",
      "[[ 4  5  5 15]\n",
      " [ 3  5  9  6]\n",
      " [12  5 18  1]]\n"
     ]
    }
   ],
   "source": [
    "print(\"Original\")\n",
    "my_array=np.random.randint(1,20, size=(3,4))\n",
    "print(my_array)\n",
    "print(\"reversed\")\n",
    "reversed_array=np.fliplr(my_array)\n",
    "print(reversed_array)"
   ]
  },
  {
   "cell_type": "code",
   "execution_count": 5,
   "id": "eb96102b",
   "metadata": {},
   "outputs": [
    {
     "name": "stdout",
     "output_type": "stream",
     "text": [
      "[[ 6 12 10 11]\n",
      " [ 9 13  5  2]\n",
      " [ 5  9 15 13]]\n"
     ]
    }
   ],
   "source": [
    "my_array=np.random.randint(1,20,size=(3,4))\n",
    "print(my_array)\n",
    "my_array.tofile('D:\\CarPrice.csv',sep=',')"
   ]
  },
  {
   "cell_type": "code",
   "execution_count": 6,
   "id": "115e38d6",
   "metadata": {},
   "outputs": [
    {
     "name": "stdout",
     "output_type": "stream",
     "text": [
      "[[ 3  7 16  2]\n",
      " [ 9 18  6 10]\n",
      " [16 11 14 18]]\n"
     ]
    }
   ],
   "source": [
    "my_array=np.random.randint(1,20,size=(3,4))\n",
    "print(my_array)\n",
    "np.savetxt('D:\\CarPrice.csv',my_array,delimiter=',')"
   ]
  },
  {
   "cell_type": "code",
   "execution_count": 9,
   "id": "7d382511",
   "metadata": {},
   "outputs": [
    {
     "name": "stdout",
     "output_type": "stream",
     "text": [
      "[[ 3.  7. 16.  2.]\n",
      " [ 9. 18.  6. 10.]\n",
      " [16. 11. 14. 18.]]\n"
     ]
    }
   ],
   "source": [
    "loaded_array=np.genfromtxt('D:\\CarPrice.csv',delimiter=',')\n",
    "print(loaded_array)"
   ]
  },
  {
   "cell_type": "code",
   "execution_count": 12,
   "id": "44215027",
   "metadata": {},
   "outputs": [],
   "source": [
    "import matplotlib.pyplot as plt\n",
    "%matplotlib inline\n",
    "import math"
   ]
  },
  {
   "cell_type": "code",
   "execution_count": 14,
   "id": "5ef54454",
   "metadata": {},
   "outputs": [
    {
     "name": "stdout",
     "output_type": "stream",
     "text": [
      "[ 5. 15. 25. 35. 45. 55. 65. 75. 85. 95.]\n"
     ]
    },
    {
     "data": {
      "text/plain": [
       "[<matplotlib.lines.Line2D at 0x1f433d4880>]"
      ]
     },
     "execution_count": 14,
     "metadata": {},
     "output_type": "execute_result"
    },
    {
     "data": {
      "image/png": "[encoded data removed]",
      "text/plain": [
       "<Figure size 432x288 with 1 Axes>"
      ]
     },
     "metadata": {
      "needs_background": "light"
     },
     "output_type": "display_data"
    }
   ],
   "source": [
    "x_vals=np.linspace(5,95,10)\n",
    "print(x_vals)\n",
    "y_vals=[math.sqrt(i) for i in x_vals]\n",
    "plt.plot(x_vals,y_vals)"
   ]
  },
  {
   "cell_type": "code",
   "execution_count": 15,
   "id": "3ea0acb6",
   "metadata": {},
   "outputs": [
    {
     "name": "stdout",
     "output_type": "stream",
     "text": [
      "[ 0.          1.05263158  2.10526316  3.15789474  4.21052632  5.26315789\n",
      "  6.31578947  7.36842105  8.42105263  9.47368421 10.52631579 11.57894737\n",
      " 12.63157895 13.68421053 14.73684211 15.78947368 16.84210526 17.89473684\n",
      " 18.94736842 20.        ]\n"
     ]
    },
    {
     "data": {
      "text/plain": [
       "<matplotlib.legend.Legend at 0x1f43497580>"
      ]
     },
     "execution_count": 15,
     "metadata": {},
     "output_type": "execute_result"
    },
    {
     "data": {
      "image/png": "[encoded data removed]",
      "text/plain": [
       "<Figure size 432x288 with 1 Axes>"
      ]
     },
     "metadata": {
      "needs_background": "light"
     },
     "output_type": "display_data"
    }
   ],
   "source": [
    "x_vals=np.linspace(0,20,20)\n",
    "print(x_vals)\n",
    "y_vals=[math.sqrt(i) for i in x_vals]\n",
    "y2_vals=x_vals**3\n",
    "plt.xlabel('X Values')\n",
    "plt.ylabel('Y Values')\n",
    "plt.title('square Roots')\n",
    "plt.plot(x_vals,y_vals,'r',label='square Root')\n",
    "plt.plot(x_vals,y2_vals,'b',label='Cube')\n",
    "plt.legend(loc='upper center')"
   ]
  },
  {
   "cell_type": "code",
   "execution_count": 17,
   "id": "36226c3b",
   "metadata": {},
   "outputs": [
    {
     "name": "stdout",
     "output_type": "stream",
     "text": [
      "[ 0.          1.05263158  2.10526316  3.15789474  4.21052632  5.26315789\n",
      "  6.31578947  7.36842105  8.42105263  9.47368421 10.52631579 11.57894737\n",
      " 12.63157895 13.68421053 14.73684211 15.78947368 16.84210526 17.89473684\n",
      " 18.94736842 20.        ]\n"
     ]
    },
    {
     "data": {
      "text/plain": [
       "<matplotlib.legend.Legend at 0x1f435ce070>"
      ]
     },
     "execution_count": 17,
     "metadata": {},
     "output_type": "execute_result"
    },
    {
     "data": {
      "image/png": "[encoded data removed]",
      "text/plain": [
       "<Figure size 432x288 with 1 Axes>"
      ]
     },
     "metadata": {
      "needs_background": "light"
     },
     "output_type": "display_data"
    }
   ],
   "source": [
    "x_vals=np.linspace(0,20,20)\n",
    "print(x_vals)\n",
    "y_vals=[math.sqrt(i) for i in x_vals]\n",
    "y2_vals=x_vals**3\n",
    "plt.xlabel('X Values')\n",
    "plt.ylabel('Y Values')\n",
    "plt.title('square Roots')\n",
    "plt.xticks(rotation=90)\n",
    "plt.yticks(rotation=45)\n",
    "plt.plot(x_vals,y_vals,'r',label='square Root')\n",
    "plt.plot(x_vals,y2_vals,'b',label='Cube')\n",
    "plt.legend(loc='upper center')"
   ]
  },
  {
   "cell_type": "code",
   "execution_count": 18,
   "id": "a28b0f05",
   "metadata": {},
   "outputs": [
    {
     "name": "stdout",
     "output_type": "stream",
     "text": [
      "[[ 5  5  5 14]\n",
      " [19 12  1  9]\n",
      " [18 13 13  3]\n",
      " [ 5 16 17  4]]\n"
     ]
    },
    {
     "data": {
      "image/png": "[encoded data removed]",
      "text/plain": [
       "<Figure size 432x288 with 1 Axes>"
      ]
     },
     "metadata": {
      "needs_background": "light"
     },
     "output_type": "display_data"
    }
   ],
   "source": [
    "my_array=np.random.randint(1,20, size=(4,4))\n",
    "print(my_array)\n",
    "plt.imshow(my_array)\n",
    "plt.show()"
   ]
  },
  {
   "cell_type": "code",
   "execution_count": 19,
   "id": "23efac47",
   "metadata": {},
   "outputs": [
    {
     "name": "stdout",
     "output_type": "stream",
     "text": [
      "[2.20264658e+04 4.85165195e+08 1.06864746e+13 2.35385267e+17\n",
      " 5.18470553e+21]\n"
     ]
    }
   ],
   "source": [
    "nums=[10,20,30,40,50]\n",
    "np_exp=np.exp(nums)\n",
    "print(np_exp)"
   ]
  },
  {
   "cell_type": "code",
   "execution_count": 20,
   "id": "032df5d3",
   "metadata": {},
   "outputs": [
    {
     "name": "stdout",
     "output_type": "stream",
     "text": [
      "[-0.54402111  0.91294525 -0.98803162  0.74511316 -0.26237485]\n",
      "[-0.83907153  0.40808206  0.15425145 -0.66693806  0.96496603]\n"
     ]
    }
   ],
   "source": [
    "nums=[10,20,30,40,50]\n",
    "np_sine=np.sin(nums)\n",
    "print(np_sine)\n",
    "nums=[10,20,30,40,50]\n",
    "np_cos=np.cos(nums)\n",
    "print(np_cos)"
   ]
  },
  {
   "cell_type": "code",
   "execution_count": 21,
   "id": "a1105c26",
   "metadata": {},
   "outputs": [
    {
     "name": "stdout",
     "output_type": "stream",
     "text": [
      "[[-1.37371134  0.45618557  0.01030928]\n",
      " [ 0.99742268 -0.16237113 -0.02061856]\n",
      " [ 0.12628866 -0.04381443  0.01030928]]\n"
     ]
    }
   ],
   "source": [
    "row1=[1,2,3]\n",
    "row2=[5,6,7]\n",
    "row3=[9,1,90]\n",
    "nums_2d=np.array([row1,row2,row3])\n",
    "inverse=np.linalg.inv(nums_2d)\n",
    "print(inverse)"
   ]
  },
  {
   "cell_type": "code",
   "execution_count": 22,
   "id": "e5dcc690",
   "metadata": {},
   "outputs": [
    {
     "name": "stdout",
     "output_type": "stream",
     "text": [
      "-388.00000000000006\n"
     ]
    }
   ],
   "source": [
    "row1=[1,2,3]\n",
    "row2=[5,6,7]\n",
    "row3=[9,1,90]\n",
    "nums_2d=np.array([row1,row2,row3])\n",
    "determinant=np.linalg.det(nums_2d)\n",
    "print(determinant)"
   ]
  },
  {
   "cell_type": "code",
   "execution_count": 23,
   "id": "c0913d4d",
   "metadata": {},
   "outputs": [
    {
     "name": "stdout",
     "output_type": "stream",
     "text": [
      "97\n"
     ]
    }
   ],
   "source": [
    "row1=[1,2,3]\n",
    "row2=[5,6,7]\n",
    "row3=[9,1,90]\n",
    "nums_2d=np.array([row1,row2,row3])\n",
    "trace=np.trace(nums_2d)\n",
    "print(trace)"
   ]
  },
  {
   "cell_type": "markdown",
   "id": "3a0056ad",
   "metadata": {},
   "source": [
    "## Pandas"
   ]
  },
  {
   "cell_type": "code",
   "execution_count": 26,
   "id": "da6a2718",
   "metadata": {},
   "outputs": [],
   "source": [
    "import pandas as pd"
   ]
  },
  {
   "cell_type": "code",
   "execution_count": 28,
   "id": "b9373645",
   "metadata": {},
   "outputs": [
    {
     "name": "stdout",
     "output_type": "stream",
     "text": [
      "    cars  Model Number\n",
      "0    BMW             3\n",
      "1  Volvo             1\n",
      "2   Ford             2\n"
     ]
    }
   ],
   "source": [
    "mydataset={'cars':[\"BMW\",\"Volvo\",\"Ford\"],'Model Number':[3,1,2]}\n",
    "myvar=pd.DataFrame(mydataset)\n",
    "print(myvar)"
   ]
  },
  {
   "cell_type": "code",
   "execution_count": 30,
   "id": "2777021f",
   "metadata": {},
   "outputs": [
    {
     "name": "stdout",
     "output_type": "stream",
     "text": [
      "day1    420\n",
      "day2    380\n",
      "dtype: int64\n"
     ]
    }
   ],
   "source": [
    "calories={\"day1\":420,\"day2\":380,\"day3\":390}\n",
    "myvar=pd.Series(calories)\n",
    "print(myvar)"
   ]
  },
  {
   "cell_type": "code",
   "execution_count": 31,
   "id": "3eb8e5bb",
   "metadata": {
    "scrolled": true
   },
   "outputs": [
    {
     "name": "stdout",
     "output_type": "stream",
     "text": [
      "day1    420\n",
      "day2    380\n",
      "dtype: int64\n"
     ]
    }
   ],
   "source": [
    "calories={\"day1\":420,\"day2\":380,\"day3\":390}\n",
    "myvar=pd.Series(calories,index=[\"day1\",\"day2\"])\n",
    "print(myvar)"
   ]
  },
  {
   "cell_type": "code",
   "execution_count": 32,
   "id": "e8a1617a",
   "metadata": {},
   "outputs": [
    {
     "name": "stdout",
     "output_type": "stream",
     "text": [
      "1.2.4\n"
     ]
    }
   ],
   "source": [
    "print(pd.__version__)"
   ]
  },
  {
   "cell_type": "code",
   "execution_count": 33,
   "id": "9c8ddbc6",
   "metadata": {},
   "outputs": [
    {
     "name": "stdout",
     "output_type": "stream",
     "text": [
      "0    1\n",
      "1    7\n",
      "2    2\n",
      "dtype: int64\n"
     ]
    }
   ],
   "source": [
    "a=[1,7,2]\n",
    "myvar=pd.Series(a)\n",
    "print(myvar)"
   ]
  },
  {
   "cell_type": "code",
   "execution_count": 34,
   "id": "9b173997",
   "metadata": {},
   "outputs": [
    {
     "name": "stdout",
     "output_type": "stream",
     "text": [
      "x   NaN\n",
      "y   NaN\n",
      "z   NaN\n",
      "dtype: float64\n"
     ]
    }
   ],
   "source": [
    "calories={\"day1\":420,\"day2\":380,\"day3\":390}\n",
    "myvar=pd.Series(calories,index=[\"x\",\"y\",\"z\"])\n",
    "print(myvar)"
   ]
  },
  {
   "cell_type": "code",
   "execution_count": null,
   "id": "b35a7d8d",
   "metadata": {},
   "outputs": [],
   "source": [
    "calories={\"day1\":420,\"day2\":380,\"day3\":390}\n",
    "myvar=pd.Series(calories,index=[\"x\",\"y\",\"z\"])\n",
    "print(myvar)"
   ]
  }
 ],
 "metadata": {
  "kernelspec": {
   "display_name": "Python 3",
   "language": "python",
   "name": "python3"
  },
  "language_info": {
   "codemirror_mode": {
    "name": "ipython",
    "version": 3
   },
   "file_extension": ".py",
   "mimetype": "text/x-python",
   "name": "python",
   "nbconvert_exporter": "python",
   "pygments_lexer": "ipython3",
   "version": "3.8.8"
  }
 },
 "nbformat": 4,
 "nbformat_minor": 5
}
