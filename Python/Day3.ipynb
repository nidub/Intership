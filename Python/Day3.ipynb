{
 "cells": [
  {
   "cell_type": "code",
   "execution_count": 1,
   "id": "b01f66f7",
   "metadata": {},
   "outputs": [
    {
     "name": "stdout",
     "output_type": "stream",
     "text": [
      "Hello\n"
     ]
    }
   ],
   "source": [
    "x=20 \n",
    "y=30\n",
    "if x==20 and y==35 or y==30:\n",
    "    #true and false or true\n",
    "    #false or true\n",
    "    #true\n",
    "    print('Hello')\n",
    "else:\n",
    "    print('Hey')  "
   ]
  },
  {
   "cell_type": "code",
   "execution_count": 2,
   "id": "17fc1930",
   "metadata": {},
   "outputs": [
    {
     "name": "stdout",
     "output_type": "stream",
     "text": [
      "100.0\n",
      "512\n"
     ]
    }
   ],
   "source": [
    "#Example of Operator Associativity\n",
    "#left-right associativity\n",
    "#100/10*10 is calculated as\n",
    "#(100/10)*10 and not\n",
    "#as 100/(10*10)\n",
    "print(100/10*10)\n",
    "\n",
    "#right-left associtivity\n",
    "#2 ** 3 ** 2 is calculated as \n",
    "#2 ** (3 ** 2) and not\n",
    "#as (2 ** 3) ** 2\n",
    "print(2 ** 3 ** 2)"
   ]
  },
  {
   "cell_type": "code",
   "execution_count": 3,
   "id": "9517e16d",
   "metadata": {},
   "outputs": [
    {
     "name": "stdout",
     "output_type": "stream",
     "text": [
      "2\n",
      "-3\n"
     ]
    }
   ],
   "source": [
    "#\"//\" use in intergers\n",
    "print(5//2)\n",
    "print(-5//2)"
   ]
  },
  {
   "cell_type": "code",
   "execution_count": 4,
   "id": "9fbe89c0",
   "metadata": {},
   "outputs": [
    {
     "name": "stdout",
     "output_type": "stream",
     "text": [
      "True\n",
      "False\n",
      "True\n",
      "False\n"
     ]
    }
   ],
   "source": [
    "list1=[]\n",
    "list2=[]\n",
    "list3=list1\n",
    "\n",
    "#case 1\n",
    "if(list1 == list2):\n",
    "    print(\"True\")\n",
    "else:\n",
    "    print(\"False\")\n",
    "#case 2\n",
    "if (list1 is list2):\n",
    "    print(\"True\")\n",
    "else:\n",
    "    print(\"False\")\n",
    "#case 3\n",
    "if (list1 is list3):\n",
    "    print(\"True\")\n",
    "else:\n",
    "    print(\"False\")\n",
    "#case 4\n",
    "list3 = list3 + list2\n",
    "\n",
    "if(list1 is list3):\n",
    "    print(\"True\")\n",
    "else:\n",
    "    print(\"False\")"
   ]
  },
  {
   "cell_type": "code",
   "execution_count": 5,
   "id": "56c075d0",
   "metadata": {},
   "outputs": [
    {
     "name": "stdout",
     "output_type": "stream",
     "text": [
      "not overlapping\n",
      "not overlapping\n",
      "not overlapping\n",
      "not overlapping\n",
      "not overlapping\n"
     ]
    }
   ],
   "source": [
    "#Finding common member in list\n",
    "# using \"in\" operator\n",
    "list1=[1,2,3,4,5]\n",
    "list2=[6,7,8,9]\n",
    "for item in list1:\n",
    "    if item in list2:\n",
    "        print(\"overlapping\")\n",
    "    else:\n",
    "        print(\"not overlapping\")"
   ]
  },
  {
   "cell_type": "code",
   "execution_count": 6,
   "id": "5e796db1",
   "metadata": {},
   "outputs": [
    {
     "name": "stdout",
     "output_type": "stream",
     "text": [
      "1\n",
      "2\n",
      "3\n",
      "4\n",
      "5\n",
      "6\n",
      "7\n",
      "8\n",
      "9\n"
     ]
    }
   ],
   "source": [
    "#Range\n",
    "for i in range(1,10):\n",
    "    print(i)"
   ]
  },
  {
   "cell_type": "code",
   "execution_count": 7,
   "id": "eb3d39ca",
   "metadata": {},
   "outputs": [
    {
     "name": "stdout",
     "output_type": "stream",
     "text": [
      "Present\n",
      "Present\n",
      "Present\n",
      "Present\n",
      "Present\n",
      "not present\n",
      "not present\n",
      "not present\n",
      "not present\n"
     ]
    }
   ],
   "source": [
    "nlist=[0,1,2,3,4]\n",
    "for x in range(0,9):\n",
    "    if x in nlist:\n",
    "        print(\"Present\")\n",
    "    else:\n",
    "        print(\"not present\")"
   ]
  },
  {
   "cell_type": "code",
   "execution_count": 8,
   "id": "a9a7af60",
   "metadata": {},
   "outputs": [
    {
     "name": "stdout",
     "output_type": "stream",
     "text": [
      "gnimmargorp nohtyp\n"
     ]
    }
   ],
   "source": [
    "#programming to reverse a string\n",
    "x  = \"python programming\"\n",
    "x=\"\".join(reversed(x))\n",
    "print(x)"
   ]
  },
  {
   "cell_type": "code",
   "execution_count": 25,
   "id": "cfe560ab",
   "metadata": {},
   "outputs": [
    {
     "name": "stdout",
     "output_type": "stream",
     "text": [
      "Cherry\n",
      "Grapes\n",
      "['Banana', 'Kiwi', 'Orange']\n",
      "['Banana', 'Kiwi', 'Orange', 'Grapes']\n",
      "['apple', 'Cherry', 'Banana', 'Kiwi']\n",
      "Yes, 'apple' is in the fruits list\n",
      "6\n",
      "['apple', 'Cherry', 'strawberry', 'Kiwi', 'Orange', 'Grapes']\n",
      "['apple', 'Peach', 'Watermelon', 'Kiwi', 'Orange', 'Grapes']\n",
      "['apple', 'Cherry', 'Pineapples', 'Mangoes', 'Watermelon', 'Kiwi', 'Orange', 'Grapes']\n",
      "['apple', 'Peach', 'Watermelon', 'Kiwi', 'Orange', 'Grapes']\n",
      "['Peach', 'Watermelon', 'Kiwi', 'Orange', 'Grapes']\n",
      "['apple', 'Peach', 'Pineapples', 'Watermelon', 'Kiwi', 'Orange', 'Grapes']\n",
      "['apple', 'Peach', 'Pineapples', 'Watermelon', 'Kiwi', 'Starapples', 'Orange', 'Grapes']\n",
      "['apple', 'Peach', 'Pineapples', 'Watermelon', 'Kiwi', 'Starapples', 'Orange', 'Grapes', 'Banana']\n",
      "['Potato', 'Tomato', 'Spinach', 'apple', 'Peach', 'Pineapples', 'Watermelon', 'Kiwi', 'Starapples', 'Orange', 'Grapes', 'Banana']\n",
      "{'Spring', 'cold', 'humid', 'Rain', 'Sunny'}\n",
      "['apple', 'Peach', 'Pineapples', 'Watermelon', 'Starapples', 'Orange', 'Grapes', 'Banana']\n",
      "['apple', 'Peach', 'Pineapples', 'Watermelon', 'Starapples', 'Grapes', 'Banana']\n",
      "['apple', 'Peach', 'Pineapples', 'Watermelon', 'Starapples', 'Grapes']\n"
     ]
    }
   ],
   "source": [
    "fruits=[\"apple\",\"Cherry\",\"Banana\",\"Kiwi\",\"Orange\",\"Grapes\"]\n",
    "print(fruits[1])\n",
    "print(fruits[-1])\n",
    "print(fruits[2:5])\n",
    "print(fruits[2:])\n",
    "print(fruits[:4])\n",
    "if \"apple\" in fruits:\n",
    "    print(\"Yes, 'apple' is in the fruits list\")\n",
    "#Length \n",
    "print(len(fruits))\n",
    "#Indexing\n",
    "fruits[2]=\"strawberry\"\n",
    "print(fruits)\n",
    "#Slicing\n",
    "fruits[1:3]=[\"Peach\",\"Watermelon\"]\n",
    "print(fruits)\n",
    "fruits[1:2]=[\"Cherry\",\"Pineapples\",\"Mangoes\"]\n",
    "print(fruits)\n",
    "fruits[1:5]=[\"Peach\",\"Watermelon\"]\n",
    "print(fruits)\n",
    "print(fruits[1:20])\n",
    "#Insert\n",
    "fruits.insert(2,\"Pineapples\")\n",
    "print(fruits)\n",
    "fruits.insert(-2,\"Starapples\")\n",
    "print(fruits)\n",
    "#Append\n",
    "fruits.append(\"Banana\")\n",
    "print(fruits)\n",
    "#Extend\n",
    "vegetables=[\"Potato\",\"Tomato\",\"Spinach\"]\n",
    "vegetables.extend(fruits)\n",
    "print(vegetables)\n",
    "#list extend can be used with other data types\n",
    "weather={\"cold\",\"humid\",\"Sunny\",\"Rain\",\"Spring\"}\n",
    "vegetables.extend(weather)\n",
    "print(weather)\n",
    "#Remove\n",
    "fruits.remove(\"Kiwi\")\n",
    "print(fruits)\n",
    "#Pop\n",
    "fruits.pop(5)\n",
    "print(fruits)\n",
    "fruits.pop()\n",
    "print(fruits)"
   ]
  },
  {
   "cell_type": "code",
   "execution_count": 26,
   "id": "150a2025",
   "metadata": {},
   "outputs": [
    {
     "name": "stdout",
     "output_type": "stream",
     "text": [
      "[1, 'a', 'string', 8]\n",
      "[1, 'a', 'string', 8, 16]\n",
      "[1, 'a', 'string', 8]\n",
      "a\n"
     ]
    }
   ],
   "source": [
    "#Declaring a list\n",
    "L=[1,\"a\",\"string\",1+7]\n",
    "print(L)\n",
    "#Adding\n",
    "L.append(16)\n",
    "print(L)\n",
    "#Deleting\n",
    "L.pop()\n",
    "print(L)\n",
    "#Displaying\n",
    "print(L[1])"
   ]
  },
  {
   "cell_type": "code",
   "execution_count": 28,
   "id": "b4602931",
   "metadata": {},
   "outputs": [
    {
     "name": "stdout",
     "output_type": "stream",
     "text": [
      "Initial blank List: \n",
      "[]\n",
      "[1, 2, 3]\n",
      "[1, 2, 3, 1, 2, 3]\n",
      "[1, 2, 3, 1, 2, 3, (5, 6)]\n",
      "[1, 2, 3, 1, 2, 3, (5, 6), ['For', 'Geeks'], {1, 2, 3}]\n"
     ]
    }
   ],
   "source": [
    "List=[]\n",
    "print(\"Initial blank List: \")\n",
    "print(List)\n",
    "List.append(1)\n",
    "List.append(2)\n",
    "List.append(3)\n",
    "print(List)\n",
    "for i in range(1,4):\n",
    "    List.append(i)\n",
    "print(List)\n",
    "List.append((5,6))\n",
    "print(List)\n",
    "List2=[\"For\",\"Geeks\"]\n",
    "Set={1,2,3}\n",
    "List.append(List2)\n",
    "List.append(Set)\n",
    "print(List)"
   ]
  },
  {
   "cell_type": "code",
   "execution_count": 13,
   "id": "f55e770c",
   "metadata": {},
   "outputs": [
    {
     "name": "stdout",
     "output_type": "stream",
     "text": [
      "Enter elements (Space-Separated): Good Evening Everyone\n",
      "The lsit is: ['Good', 'Evening', 'Everyone']\n"
     ]
    }
   ],
   "source": [
    "#string\n",
    "string=input(\"Enter elements (Space-Separated): \")\n",
    "lst=string.split()\n",
    "print('The lsit is:', lst)"
   ]
  },
  {
   "cell_type": "code",
   "execution_count": 14,
   "id": "8f4fba30",
   "metadata": {},
   "outputs": [
    {
     "name": "stdout",
     "output_type": "stream",
     "text": [
      "Enter elements (Space-Separated): Apple, Mango, Grapes\n",
      "The lsit is: ['Apple', ' Mango', ' Grapes']\n"
     ]
    }
   ],
   "source": [
    "string=input(\"Enter elements (Space-Separated): \")\n",
    "lst=string.split(',')\n",
    "print('The lsit is:', lst)"
   ]
  },
  {
   "cell_type": "code",
   "execution_count": 29,
   "id": "1034b134",
   "metadata": {},
   "outputs": [
    {
     "name": "stdout",
     "output_type": "stream",
     "text": [
      "<class 'tuple'>\n",
      "<class 'set'>\n",
      "(1, 2, 3)\n",
      "{1, 2, 3}\n"
     ]
    }
   ],
   "source": [
    "x=tuple((1,2,3))\n",
    "y=set((1,2,3))\n",
    "print(type(x))\n",
    "print(type(y))\n",
    "print(x)\n",
    "print(y)"
   ]
  },
  {
   "cell_type": "code",
   "execution_count": 30,
   "id": "20c53d95",
   "metadata": {},
   "outputs": [
    {
     "name": "stdout",
     "output_type": "stream",
     "text": [
      "['Hello,', 'How', 'are', 'you', 'doing?']\n",
      "5\n",
      "['[', 'Hello,', 'How', 'are', 'you', 'doing?', ']']\n"
     ]
    }
   ],
   "source": [
    "x='Hello, How are you doing?'\n",
    "y=x.split()\n",
    "print(y)\n",
    "print(len(y))\n",
    "y.insert(0,'[')\n",
    "y.insert(6,']')\n",
    "print(y)"
   ]
  },
  {
   "cell_type": "code",
   "execution_count": 33,
   "id": "95f64a51",
   "metadata": {},
   "outputs": [
    {
     "name": "stdout",
     "output_type": "stream",
     "text": [
      " [\n",
      " [ Hello,\n",
      " [ Hello, How\n",
      " [ Hello, How are\n",
      " [ Hello, How are you\n",
      " [ Hello, How are you doing?\n",
      " [ Hello, How are you doing? ]\n",
      " [ Hello, How are you doing? ]\n"
     ]
    }
   ],
   "source": [
    "text_new=''\n",
    "for i in y:\n",
    "    text_new=text_new+' '+i\n",
    "    print(text_new)\n",
    "print(text_new)"
   ]
  },
  {
   "cell_type": "code",
   "execution_count": 34,
   "id": "657aea2c",
   "metadata": {},
   "outputs": [
    {
     "name": "stdout",
     "output_type": "stream",
     "text": [
      "1\n",
      "2\n",
      "3\n",
      "4\n",
      "5\n",
      "6\n",
      "7\n",
      "8\n",
      "9\n",
      "10\n",
      "11\n",
      "12\n",
      "13\n"
     ]
    }
   ],
   "source": [
    "sum = 0\n",
    "for i in range(1,14):\n",
    "    sum+=1\n",
    "    print(sum)"
   ]
  },
  {
   "cell_type": "code",
   "execution_count": 35,
   "id": "d58aa754",
   "metadata": {},
   "outputs": [
    {
     "name": "stdout",
     "output_type": "stream",
     "text": [
      "List after removing a range of elements : \n",
      "\n",
      "[5, 6, 7, 8, 9]\n"
     ]
    }
   ],
   "source": [
    "List=[1,2,3,4,5,6,7,8,9]\n",
    "for i in range(1,5):\n",
    "    List.remove(i)\n",
    "print(\"List after removing a range of elements : \\n\")\n",
    "print(List)"
   ]
  },
  {
   "cell_type": "code",
   "execution_count": 36,
   "id": "d6ffbcfc",
   "metadata": {},
   "outputs": [
    {
     "name": "stdout",
     "output_type": "stream",
     "text": [
      "List after poping a range of elements : \n",
      "\n",
      "[1, 3, 5, 7, 9]\n"
     ]
    }
   ],
   "source": [
    "List=[1,2,3,4,5,6,7,8,9]\n",
    "for i in range(1,5):\n",
    "    List.pop(i)\n",
    "print(\"List after poping a range of elements : \\n\")\n",
    "print(List)"
   ]
  },
  {
   "cell_type": "code",
   "execution_count": 42,
   "id": "7591864d",
   "metadata": {},
   "outputs": [
    {
     "name": "stdout",
     "output_type": "stream",
     "text": [
      "['Tomato', 'Spinach']\n",
      "Tomato\n",
      "Spinach\n",
      "[]\n"
     ]
    }
   ],
   "source": [
    "vegetables=[\"Potato\",\"Tomato\",\"Spinach\"]\n",
    "del vegetables[0]\n",
    "print(vegetables)\n",
    "for x in vegetables:\n",
    "    print(x)\n",
    "vegetables.clear()\n",
    "print(vegetables)"
   ]
  },
  {
   "cell_type": "code",
   "execution_count": 44,
   "id": "10ceec70",
   "metadata": {},
   "outputs": [
    {
     "name": "stdout",
     "output_type": "stream",
     "text": [
      "Potato\n",
      "Tomato\n",
      "Spinach\n"
     ]
    }
   ],
   "source": [
    "vegetables=[\"Potato\",\"Tomato\",\"Spinach\"]\n",
    "x=0\n",
    "while x <len(vegetables):\n",
    "    print(vegetables[x])\n",
    "    x+=1"
   ]
  },
  {
   "cell_type": "code",
   "execution_count": 45,
   "id": "f7d7ae15",
   "metadata": {},
   "outputs": [
    {
     "name": "stdout",
     "output_type": "stream",
     "text": [
      "Potato\n",
      "Tomato\n",
      "Spinach\n"
     ]
    },
    {
     "data": {
      "text/plain": [
       "[None, None, None]"
      ]
     },
     "execution_count": 45,
     "metadata": {},
     "output_type": "execute_result"
    }
   ],
   "source": [
    "vegetables=[\"Potato\",\"Tomato\",\"Spinach\"]\n",
    "[print(x) for x in vegetables]"
   ]
  },
  {
   "cell_type": "code",
   "execution_count": 46,
   "id": "ade7fe1b",
   "metadata": {},
   "outputs": [
    {
     "name": "stdout",
     "output_type": "stream",
     "text": [
      "1\n",
      "4\n",
      "9\n",
      "16\n",
      "25\n",
      "36\n",
      "49\n",
      "64\n",
      "81\n"
     ]
    },
    {
     "data": {
      "text/plain": [
       "[None, None, None, None, None, None, None, None, None]"
      ]
     },
     "execution_count": 46,
     "metadata": {},
     "output_type": "execute_result"
    }
   ],
   "source": [
    "list=[1,2,3,4,5,6,7,8,9]\n",
    "[print(x*x) for x in list]"
   ]
  },
  {
   "cell_type": "code",
   "execution_count": 47,
   "id": "cd62de4e",
   "metadata": {},
   "outputs": [
    {
     "name": "stdout",
     "output_type": "stream",
     "text": [
      "1\n",
      "9\n",
      "25\n",
      "49\n",
      "81\n"
     ]
    }
   ],
   "source": [
    "for x in range(1,11):\n",
    "    if x % 2 != 0:\n",
    "        print(x*x)"
   ]
  },
  {
   "cell_type": "code",
   "execution_count": null,
   "id": "21889a4e",
   "metadata": {},
   "outputs": [],
   "source": []
  }
 ],
 "metadata": {
  "kernelspec": {
   "display_name": "Python 3",
   "language": "python",
   "name": "python3"
  },
  "language_info": {
   "codemirror_mode": {
    "name": "ipython",
    "version": 3
   },
   "file_extension": ".py",
   "mimetype": "text/x-python",
   "name": "python",
   "nbconvert_exporter": "python",
   "pygments_lexer": "ipython3",
   "version": "3.8.8"
  }
 },
 "nbformat": 4,
 "nbformat_minor": 5
}
