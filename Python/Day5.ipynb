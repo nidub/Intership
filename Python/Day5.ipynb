{
 "cells": [
  {
   "cell_type": "code",
   "execution_count": 1,
   "id": "1e393791",
   "metadata": {},
   "outputs": [
    {
     "name": "stdout",
     "output_type": "stream",
     "text": [
      "('python', 'python', 'python')\n"
     ]
    }
   ],
   "source": [
    "tuple3=('python',)*3\n",
    "print(tuple3)"
   ]
  },
  {
   "cell_type": "code",
   "execution_count": 2,
   "id": "1403cdda",
   "metadata": {},
   "outputs": [
    {
     "name": "stdout",
     "output_type": "stream",
     "text": [
      "('Python', 'For', 'Everyone', 'Python', 'For', 'Everyone', 'Python', 'For', 'Everyone', 'Python', 'For', 'Everyone')\n"
     ]
    }
   ],
   "source": [
    "tuple4=(\"Python\",\"For\",\"Everyone\")*4\n",
    "print(tuple4)"
   ]
  },
  {
   "cell_type": "code",
   "execution_count": 4,
   "id": "de6ad4e0",
   "metadata": {},
   "outputs": [
    {
     "name": "stdout",
     "output_type": "stream",
     "text": [
      "('Melon', 'Kiwi', 'Cherry')\n",
      "('Banana', 'Melon', 'Kiwi', 'Cherry', 'Orange', 'Apple')\n",
      "('Mangoes', 'Banana', 'Melon')\n",
      "('Melon', 'Kiwi', 'Cherry')\n",
      "('Orange', 'Apple')\n",
      "('Mangoes', 'Banana')\n"
     ]
    }
   ],
   "source": [
    "tuple5=(\"Mangoes\",\"Banana\",\"Melon\",\"Kiwi\",\"Cherry\",\"Orange\",\"Apple\")\n",
    "print(tuple5[2:5])\n",
    "print(tuple5[1:])\n",
    "print(tuple5[:3])\n",
    "print(tuple5[-5:-2])\n",
    "print(tuple5[-2:])\n",
    "print(tuple5[:-5])"
   ]
  },
  {
   "cell_type": "code",
   "execution_count": 6,
   "id": "fd529e48",
   "metadata": {},
   "outputs": [
    {
     "name": "stdout",
     "output_type": "stream",
     "text": [
      "Yes it is present\n"
     ]
    }
   ],
   "source": [
    "tuple5=(\"Mangoes\",\"Banana\",\"Melon\",\"Kiwi\",\"Cherry\",\"Orange\",\"Apple\")\n",
    "if \"Melon\" in tuple5:\n",
    "    print(\"Yes it is present\")\n",
    "else:\n",
    "    print(\"No, It is not present\")"
   ]
  },
  {
   "cell_type": "code",
   "execution_count": 7,
   "id": "9a280428",
   "metadata": {},
   "outputs": [
    {
     "name": "stdout",
     "output_type": "stream",
     "text": [
      "Yes it is not present\n"
     ]
    }
   ],
   "source": [
    "tuple5=(\"Mangoes\",\"Banana\",\"Melon\",\"Kiwi\",\"Cherry\",\"Orange\",\"Apple\")\n",
    "if \"Watermelon\" not in tuple5:\n",
    "    print(\"Yes it is not present\")\n",
    "else:\n",
    "    print(\"No, It is present\")"
   ]
  },
  {
   "cell_type": "code",
   "execution_count": 8,
   "id": "994472fd",
   "metadata": {},
   "outputs": [
    {
     "ename": "NameError",
     "evalue": "name 'tuple4' is not defined",
     "output_type": "error",
     "traceback": [
      "\u001b[1;31m---------------------------------------------------------------------------\u001b[0m",
      "\u001b[1;31mNameError\u001b[0m                                 Traceback (most recent call last)",
      "\u001b[1;32m<ipython-input-8-47cd8054c6d3>\u001b[0m in \u001b[0;36m<module>\u001b[1;34m\u001b[0m\n\u001b[0;32m      1\u001b[0m \u001b[0mtuple4\u001b[0m\u001b[1;33m=\u001b[0m\u001b[1;33m(\u001b[0m\u001b[1;34m\"Python\"\u001b[0m\u001b[1;33m,\u001b[0m\u001b[1;34m\"For\"\u001b[0m\u001b[1;33m,\u001b[0m\u001b[1;34m\"Everyone\"\u001b[0m\u001b[1;33m)\u001b[0m\u001b[1;33m\u001b[0m\u001b[1;33m\u001b[0m\u001b[0m\n\u001b[0;32m      2\u001b[0m \u001b[1;32mdel\u001b[0m\u001b[1;33m(\u001b[0m\u001b[0mtuple4\u001b[0m\u001b[1;33m)\u001b[0m\u001b[1;33m\u001b[0m\u001b[1;33m\u001b[0m\u001b[0m\n\u001b[1;32m----> 3\u001b[1;33m \u001b[0mprint\u001b[0m\u001b[1;33m(\u001b[0m\u001b[0mtuple4\u001b[0m\u001b[1;33m)\u001b[0m\u001b[1;33m\u001b[0m\u001b[1;33m\u001b[0m\u001b[0m\n\u001b[0m",
      "\u001b[1;31mNameError\u001b[0m: name 'tuple4' is not defined"
     ]
    }
   ],
   "source": [
    "tuple4=(\"Python\",\"For\",\"Everyone\")\n",
    "del(tuple4)\n",
    "print(tuple4)"
   ]
  },
  {
   "cell_type": "code",
   "execution_count": 22,
   "id": "34fbaf1b",
   "metadata": {},
   "outputs": [
    {
     "name": "stdout",
     "output_type": "stream",
     "text": [
      "(0, 1, 2)\n",
      "('p', 'y', 't', 'h', 'o', 'n')\n",
      "('hello', 125, -90)\n"
     ]
    }
   ],
   "source": [
    "#converting string and list into tuple\n",
    "list1=[0,1,2]\n",
    "set={125,\"hello\",-90}\n",
    "print(tuple(list))\n",
    "print(tuple('python'))\n",
    "print(tuple(set))"
   ]
  },
  {
   "cell_type": "code",
   "execution_count": 12,
   "id": "517dda46",
   "metadata": {},
   "outputs": [
    {
     "name": "stdout",
     "output_type": "stream",
     "text": [
      "1\n",
      "2\n",
      "3\n",
      "4\n",
      "5\n",
      "6\n",
      "7\n",
      "8\n",
      "9\n"
     ]
    }
   ],
   "source": [
    "x=(1,2,3,4,5,6,7,8,9)\n",
    "for i in x:\n",
    "    print(i)"
   ]
  },
  {
   "cell_type": "code",
   "execution_count": 14,
   "id": "cd46f987",
   "metadata": {},
   "outputs": [
    {
     "name": "stdout",
     "output_type": "stream",
     "text": [
      "((2,),)\n",
      "(((2,),),)\n",
      "((((2,),),),)\n",
      "(((((2,),),),),)\n",
      "((((((2,),),),),),)\n",
      "(((((((2,),),),),),),)\n",
      "((((((((2,),),),),),),),)\n",
      "(((((((((2,),),),),),),),),)\n",
      "((((((((((2,),),),),),),),),),)\n",
      "(((((((((((2,),),),),),),),),),),)\n"
     ]
    }
   ],
   "source": [
    "x = (2,)\n",
    "n = 10\n",
    "for i in range(int(10)):\n",
    "    x = (x,)\n",
    "    print(x)"
   ]
  },
  {
   "cell_type": "code",
   "execution_count": 15,
   "id": "c43f6b6c",
   "metadata": {},
   "outputs": [
    {
     "name": "stdout",
     "output_type": "stream",
     "text": [
      "((2, 3, 4, 5),)\n",
      "(((2, 3, 4, 5),),)\n",
      "((((2, 3, 4, 5),),),)\n",
      "(((((2, 3, 4, 5),),),),)\n",
      "((((((2, 3, 4, 5),),),),),)\n",
      "(((((((2, 3, 4, 5),),),),),),)\n",
      "((((((((2, 3, 4, 5),),),),),),),)\n",
      "(((((((((2, 3, 4, 5),),),),),),),),)\n",
      "((((((((((2, 3, 4, 5),),),),),),),),),)\n",
      "(((((((((((2, 3, 4, 5),),),),),),),),),),)\n"
     ]
    }
   ],
   "source": [
    "x = (2,3,4,5)\n",
    "n = 10\n",
    "for i in range(int(10)):\n",
    "    x = (x,)\n",
    "    print(x)"
   ]
  },
  {
   "cell_type": "code",
   "execution_count": 18,
   "id": "a4454206",
   "metadata": {},
   "outputs": [
    {
     "name": "stdout",
     "output_type": "stream",
     "text": [
      "(2, 3, 4, 5, 6)\n",
      "(2, 3, 4, 5, 6)\n",
      "(2, 3, 4, 5, 6)\n",
      "(2, 3, 4, 5, 6)\n",
      "(2, 3, 4, 5, 6)\n",
      "(2, 3, 4, 5, 6)\n",
      "(2, 3, 4, 5, 6)\n",
      "(2, 3, 4, 5, 6)\n",
      "(2, 3, 4, 5, 6)\n",
      "(2, 3, 4, 5, 6)\n"
     ]
    }
   ],
   "source": [
    "x = (2,3,4,5,6)\n",
    "n = 10\n",
    "for i in range(int(10)):\n",
    "    print(x)"
   ]
  },
  {
   "cell_type": "code",
   "execution_count": 19,
   "id": "98fecf24",
   "metadata": {},
   "outputs": [
    {
     "name": "stdout",
     "output_type": "stream",
     "text": [
      "2\n",
      "3\n",
      "4\n",
      "5\n",
      "6\n"
     ]
    }
   ],
   "source": [
    "x = (2,3,4,5,6)\n",
    "for i in x:\n",
    "    print(i)"
   ]
  },
  {
   "cell_type": "code",
   "execution_count": 20,
   "id": "d3bbaf22",
   "metadata": {},
   "outputs": [
    {
     "name": "stdout",
     "output_type": "stream",
     "text": [
      "(('geeks', 'for', 'geeks'),)\n",
      "((('geeks', 'for', 'geeks'),),)\n",
      "(((('geeks', 'for', 'geeks'),),),)\n",
      "((((('geeks', 'for', 'geeks'),),),),)\n",
      "(((((('geeks', 'for', 'geeks'),),),),),)\n",
      "((((((('geeks', 'for', 'geeks'),),),),),),)\n",
      "(((((((('geeks', 'for', 'geeks'),),),),),),),)\n",
      "((((((((('geeks', 'for', 'geeks'),),),),),),),),)\n",
      "(((((((((('geeks', 'for', 'geeks'),),),),),),),),),)\n",
      "((((((((((('geeks', 'for', 'geeks'),),),),),),),),),),)\n"
     ]
    }
   ],
   "source": [
    "x = (\"geeks\",\"for\",\"geeks\")\n",
    "n = 10\n",
    "for i in range(int(10)):\n",
    "    x = (x,)\n",
    "    print(x)"
   ]
  },
  {
   "cell_type": "code",
   "execution_count": 26,
   "id": "4564201f",
   "metadata": {},
   "outputs": [
    {
     "name": "stdout",
     "output_type": "stream",
     "text": [
      "('Mangoes', 'Banana', 'Melon', 'Kiwi', 'Cherry', 'Orange', 'Apple', 'Watermelon')\n"
     ]
    }
   ],
   "source": [
    "tuple5 = (\"Mangoes\",\"Banana\",\"Melon\",\"Kiwi\",\"Cherry\",\"Orange\",\"Apple\")\n",
    "y = list(tuple5)\n",
    "y.append(\"Watermelon\")\n",
    "tuple5=tuple(y)\n",
    "print(tuple5)"
   ]
  },
  {
   "cell_type": "code",
   "execution_count": 29,
   "id": "d97bddd6",
   "metadata": {},
   "outputs": [
    {
     "name": "stdout",
     "output_type": "stream",
     "text": [
      "('Mangoes', 'Banana', 'Melon', 'Kiwi', 'Cherry', 'Watermelon', 'Apple')\n"
     ]
    }
   ],
   "source": [
    "tuple5 = (\"Mangoes\",\"Banana\",\"Melon\",\"Kiwi\",\"Cherry\",\"Orange\",\"Apple\")\n",
    "y = list(tuple5)\n",
    "y[5] = \"Watermelon\"\n",
    "tuple5=tuple(y)\n",
    "print(tuple5)"
   ]
  },
  {
   "cell_type": "code",
   "execution_count": 30,
   "id": "edf0b682",
   "metadata": {},
   "outputs": [
    {
     "name": "stdout",
     "output_type": "stream",
     "text": [
      "('Mangoes', 'Banana', 'Melon', 'Strawberry', 'Cherry', 'Watermelon', 'Apple')\n"
     ]
    }
   ],
   "source": [
    "y = list(tuple5)\n",
    "y[3] = \"Strawberry\"\n",
    "tuple5=tuple(y)\n",
    "print(tuple5)"
   ]
  },
  {
   "cell_type": "code",
   "execution_count": 31,
   "id": "4aefaaa8",
   "metadata": {},
   "outputs": [
    {
     "name": "stdout",
     "output_type": "stream",
     "text": [
      "('Banana', 'Melon', 'Strawberry', 'Cherry', 'Watermelon', 'Apple')\n"
     ]
    }
   ],
   "source": [
    "y = list(tuple5)\n",
    "y.remove(\"Mangoes\")\n",
    "tuple5=tuple(y)\n",
    "print(tuple5)"
   ]
  },
  {
   "cell_type": "code",
   "execution_count": 32,
   "id": "09da6d7e",
   "metadata": {},
   "outputs": [
    {
     "name": "stdout",
     "output_type": "stream",
     "text": [
      "('Banana', 'Melon', 'Strawberry', 'Cherry', 'Watermelon')\n"
     ]
    }
   ],
   "source": [
    "y = list(tuple5)\n",
    "y.pop()\n",
    "tuple5=tuple(y)\n",
    "print(tuple5)"
   ]
  },
  {
   "cell_type": "code",
   "execution_count": 33,
   "id": "cdcc6644",
   "metadata": {},
   "outputs": [
    {
     "ename": "NameError",
     "evalue": "name 'tuple5' is not defined",
     "output_type": "error",
     "traceback": [
      "\u001b[1;31m---------------------------------------------------------------------------\u001b[0m",
      "\u001b[1;31mNameError\u001b[0m                                 Traceback (most recent call last)",
      "\u001b[1;32m<ipython-input-33-59583e9d4b9d>\u001b[0m in \u001b[0;36m<module>\u001b[1;34m\u001b[0m\n\u001b[0;32m      1\u001b[0m \u001b[1;32mdel\u001b[0m \u001b[0mtuple5\u001b[0m\u001b[1;33m\u001b[0m\u001b[1;33m\u001b[0m\u001b[0m\n\u001b[1;32m----> 2\u001b[1;33m \u001b[0mprint\u001b[0m\u001b[1;33m(\u001b[0m\u001b[0mtuple5\u001b[0m\u001b[1;33m)\u001b[0m\u001b[1;33m\u001b[0m\u001b[1;33m\u001b[0m\u001b[0m\n\u001b[0m",
      "\u001b[1;31mNameError\u001b[0m: name 'tuple5' is not defined"
     ]
    }
   ],
   "source": [
    "del tuple5\n",
    "print(tuple5)"
   ]
  },
  {
   "cell_type": "code",
   "execution_count": 34,
   "id": "e971a9d6",
   "metadata": {},
   "outputs": [
    {
     "name": "stdout",
     "output_type": "stream",
     "text": [
      "6\n",
      "1 2 3\n"
     ]
    }
   ],
   "source": [
    "x = (1,2,3) #packing\n",
    "(a,b,c) = x #unpacking\n",
    "print(a+b+c)\n",
    "print(a,b,c)"
   ]
  },
  {
   "cell_type": "code",
   "execution_count": 37,
   "id": "e6fb01fe",
   "metadata": {},
   "outputs": [
    {
     "name": "stdout",
     "output_type": "stream",
     "text": [
      "Orange\n",
      "Banana\n"
     ]
    }
   ],
   "source": [
    "fruits=(\"apple\",\"Banana\",\"Orange\") #packing\n",
    "(Red,Yellow,Orange)=fruits #unpacking\n",
    "print(Orange)\n",
    "print(Yellow)"
   ]
  },
  {
   "cell_type": "code",
   "execution_count": 39,
   "id": "c412e24f",
   "metadata": {},
   "outputs": [
    {
     "name": "stdout",
     "output_type": "stream",
     "text": [
      "Enter the Value:12\n",
      "Enter the Value:13\n",
      "Enter the Value:14\n",
      "a: apple\n",
      "b: Banana\n",
      "c: Orange\n"
     ]
    }
   ],
   "source": [
    "fruits=(\"apple\",\"Banana\",\"Orange\")\n",
    "a=int(input(\"Enter the Value:\"))\n",
    "b=int(input(\"Enter the Value:\"))\n",
    "c=int(input(\"Enter the Value:\"))\n",
    "tup = (a,b,c)\n",
    "(a,b,c) = fruits\n",
    "print('a:',a)\n",
    "print('b:',b)\n",
    "print('c:',c)"
   ]
  },
  {
   "cell_type": "code",
   "execution_count": 40,
   "id": "81b6b05a",
   "metadata": {},
   "outputs": [
    {
     "name": "stdout",
     "output_type": "stream",
     "text": [
      "Enter the Value:12\n",
      "Enter the Value:13\n",
      "Enter the Value:14\n",
      "(12, 13, 14)\n",
      "a: apple\n",
      "b: Banana\n",
      "c: Orange\n",
      "(12, 13, 14)\n"
     ]
    }
   ],
   "source": [
    "fruits=(\"apple\",\"Banana\",\"Orange\")\n",
    "a=int(input(\"Enter the Value:\"))\n",
    "b=int(input(\"Enter the Value:\"))\n",
    "c=int(input(\"Enter the Value:\"))\n",
    "tup = (a,b,c)\n",
    "print(tup)\n",
    "(a,b,c) = fruits\n",
    "print('a:',a)\n",
    "print('b:',b)\n",
    "print('c:',c)\n",
    "print(tup)"
   ]
  },
  {
   "cell_type": "code",
   "execution_count": 41,
   "id": "f0ff915f",
   "metadata": {},
   "outputs": [
    {
     "name": "stdout",
     "output_type": "stream",
     "text": [
      "Enter the Value:12\n",
      "Enter the Value:13\n",
      "Enter the Value:14\n",
      "Id:  886293804096 (12, 13, 14)\n",
      "Fruits:  886289291904 ('apple', 'Banana', 'Orange')\n",
      "Id:  886279511152 a: apple\n",
      "Id:  886293828272 b: Banana\n",
      "Id:  886252976176 c: Orange\n",
      "Id:  886289274368 ('apple', 'Banana', 'Orange')\n",
      "Fruits:  886289291904 ('apple', 'Banana', 'Orange')\n"
     ]
    }
   ],
   "source": [
    "fruits=(\"apple\",\"Banana\",\"Orange\")\n",
    "a=int(input(\"Enter the Value:\"))\n",
    "b=int(input(\"Enter the Value:\"))\n",
    "c=int(input(\"Enter the Value:\"))\n",
    "tup = (a,b,c)\n",
    "print(\"Id: \",id(tup),tup)\n",
    "print(\"Fruits: \",id(fruits),fruits)\n",
    "(a,b,c) = fruits\n",
    "print(\"Id: \",id(a),'a:',a)\n",
    "print(\"Id: \",id(b),'b:',b)\n",
    "print(\"Id: \",id(c),'c:',c)\n",
    "tup=(a,b,c)\n",
    "print(\"Id: \",id(tup),tup)\n",
    "print(\"Fruits: \",id(fruits),fruits)"
   ]
  },
  {
   "cell_type": "code",
   "execution_count": 51,
   "id": "504048dc",
   "metadata": {},
   "outputs": [
    {
     "name": "stdout",
     "output_type": "stream",
     "text": [
      "('Mangoes', 'Banana', 'Melon', 'Kiwi', 'Cherry', 'Orange', 'Apple')\n"
     ]
    },
    {
     "ename": "ValueError",
     "evalue": "too many values to unpack (expected 3)",
     "output_type": "error",
     "traceback": [
      "\u001b[1;31m---------------------------------------------------------------------------\u001b[0m",
      "\u001b[1;31mValueError\u001b[0m                                Traceback (most recent call last)",
      "\u001b[1;32m<ipython-input-51-ccbea8c2af03>\u001b[0m in \u001b[0;36m<module>\u001b[1;34m\u001b[0m\n\u001b[0;32m      1\u001b[0m \u001b[0mtuple5\u001b[0m \u001b[1;33m=\u001b[0m \u001b[1;33m(\u001b[0m\u001b[1;34m\"Mangoes\"\u001b[0m\u001b[1;33m,\u001b[0m\u001b[1;34m\"Banana\"\u001b[0m\u001b[1;33m,\u001b[0m\u001b[1;34m\"Melon\"\u001b[0m\u001b[1;33m,\u001b[0m\u001b[1;34m\"Kiwi\"\u001b[0m\u001b[1;33m,\u001b[0m\u001b[1;34m\"Cherry\"\u001b[0m\u001b[1;33m,\u001b[0m\u001b[1;34m\"Orange\"\u001b[0m\u001b[1;33m,\u001b[0m\u001b[1;34m\"Apple\"\u001b[0m\u001b[1;33m)\u001b[0m\u001b[1;33m\u001b[0m\u001b[1;33m\u001b[0m\u001b[0m\n\u001b[0;32m      2\u001b[0m \u001b[0mprint\u001b[0m\u001b[1;33m(\u001b[0m\u001b[0mtuple5\u001b[0m\u001b[1;33m)\u001b[0m\u001b[1;33m\u001b[0m\u001b[1;33m\u001b[0m\u001b[0m\n\u001b[1;32m----> 3\u001b[1;33m \u001b[1;33m(\u001b[0m\u001b[0mgreen\u001b[0m\u001b[1;33m,\u001b[0m \u001b[0myellow\u001b[0m\u001b[1;33m,\u001b[0m \u001b[0mred\u001b[0m\u001b[1;33m)\u001b[0m\u001b[1;33m=\u001b[0m\u001b[0mtuple5\u001b[0m\u001b[1;33m\u001b[0m\u001b[1;33m\u001b[0m\u001b[0m\n\u001b[0m\u001b[0;32m      4\u001b[0m \u001b[0mprint\u001b[0m\u001b[1;33m(\u001b[0m\u001b[0mgreen\u001b[0m\u001b[1;33m)\u001b[0m\u001b[1;33m\u001b[0m\u001b[1;33m\u001b[0m\u001b[0m\n\u001b[0;32m      5\u001b[0m \u001b[0mprint\u001b[0m\u001b[1;33m(\u001b[0m\u001b[0myellow\u001b[0m\u001b[1;33m)\u001b[0m\u001b[1;33m\u001b[0m\u001b[1;33m\u001b[0m\u001b[0m\n",
      "\u001b[1;31mValueError\u001b[0m: too many values to unpack (expected 3)"
     ]
    }
   ],
   "source": [
    "tuple5 = (\"Mangoes\",\"Banana\",\"Melon\",\"Kiwi\",\"Cherry\",\"Orange\",\"Apple\")\n",
    "print(tuple5)\n",
    "(green, yellow, red)=tuple5\n",
    "print(green)\n",
    "print(yellow)\n",
    "print(red)"
   ]
  },
  {
   "cell_type": "code",
   "execution_count": 52,
   "id": "25453fcf",
   "metadata": {},
   "outputs": [
    {
     "name": "stdout",
     "output_type": "stream",
     "text": [
      "Mangoes\n",
      "Banana\n",
      "['Melon', 'Kiwi', 'Cherry', 'Orange', 'Apple']\n"
     ]
    }
   ],
   "source": [
    "tuple5 = (\"Mangoes\",\"Banana\",\"Melon\",\"Kiwi\",\"Cherry\",\"Orange\",\"Apple\")\n",
    "(green, yellow, *red)=tuple5\n",
    "print(green)\n",
    "print(yellow)\n",
    "print(red)"
   ]
  },
  {
   "cell_type": "code",
   "execution_count": 53,
   "id": "3812651c",
   "metadata": {},
   "outputs": [
    {
     "ename": "SyntaxError",
     "evalue": "two starred expressions in assignment (<ipython-input-53-0d0bb779a690>, line 2)",
     "output_type": "error",
     "traceback": [
      "\u001b[1;36m  File \u001b[1;32m\"<ipython-input-53-0d0bb779a690>\"\u001b[1;36m, line \u001b[1;32m2\u001b[0m\n\u001b[1;33m    (green, *yellow, *red)=tuple5\u001b[0m\n\u001b[1;37m    ^\u001b[0m\n\u001b[1;31mSyntaxError\u001b[0m\u001b[1;31m:\u001b[0m two starred expressions in assignment\n"
     ]
    }
   ],
   "source": [
    "tuple5 = (\"Mangoes\",\"Banana\",\"Melon\",\"Kiwi\",\"Cherry\",\"Orange\",\"Apple\")\n",
    "(green, *yellow, *red)=tuple5\n",
    "print(green)\n",
    "print(yellow)\n",
    "print(red)"
   ]
  },
  {
   "cell_type": "code",
   "execution_count": 54,
   "id": "ad918ed8",
   "metadata": {},
   "outputs": [
    {
     "name": "stdout",
     "output_type": "stream",
     "text": [
      "Mangoes\n",
      "['Banana', 'Melon', 'Kiwi', 'Cherry', 'Orange']\n",
      "Apple\n"
     ]
    }
   ],
   "source": [
    "tuple5 = (\"Mangoes\",\"Banana\",\"Melon\",\"Kiwi\",\"Cherry\",\"Orange\",\"Apple\")\n",
    "(green, *yellow, red)=tuple5\n",
    "print(green)\n",
    "print(yellow)\n",
    "print(red)"
   ]
  },
  {
   "cell_type": "code",
   "execution_count": 55,
   "id": "0c030e2c",
   "metadata": {},
   "outputs": [
    {
     "name": "stdout",
     "output_type": "stream",
     "text": [
      "['Mangoes', 'Banana', 'Melon', 'Kiwi', 'Cherry']\n",
      "Orange\n",
      "Apple\n"
     ]
    }
   ],
   "source": [
    "tuple5 = (\"Mangoes\",\"Banana\",\"Melon\",\"Kiwi\",\"Cherry\",\"Orange\",\"Apple\")\n",
    "(*green, yellow, red)=tuple5\n",
    "print(green)\n",
    "print(yellow)\n",
    "print(red)"
   ]
  },
  {
   "cell_type": "code",
   "execution_count": 56,
   "id": "6aac55c4",
   "metadata": {},
   "outputs": [
    {
     "name": "stdout",
     "output_type": "stream",
     "text": [
      "Mangoes\n",
      "Banana\n",
      "Melon\n",
      "Kiwi\n",
      "Cherry\n",
      "Orange\n",
      "Apple\n"
     ]
    }
   ],
   "source": [
    "tuple5 = (\"Mangoes\",\"Banana\",\"Melon\",\"Kiwi\",\"Cherry\",\"Orange\",\"Apple\")\n",
    "for i in range(len(tuple5)):\n",
    "    print(tuple5[i])"
   ]
  },
  {
   "cell_type": "code",
   "execution_count": 57,
   "id": "61831c0f",
   "metadata": {},
   "outputs": [
    {
     "name": "stdout",
     "output_type": "stream",
     "text": [
      "Mangoes\n",
      "Banana\n",
      "Melon\n",
      "Kiwi\n",
      "Cherry\n",
      "Orange\n",
      "Apple\n"
     ]
    }
   ],
   "source": [
    "tuple5 = (\"Mangoes\",\"Banana\",\"Melon\",\"Kiwi\",\"Cherry\",\"Orange\",\"Apple\")\n",
    "i=0\n",
    "while i < len(tuple5):\n",
    "    print(tuple5[i])\n",
    "    i+=1"
   ]
  },
  {
   "cell_type": "code",
   "execution_count": 58,
   "id": "9478a9de",
   "metadata": {},
   "outputs": [
    {
     "name": "stdout",
     "output_type": "stream",
     "text": [
      "('e', 'f', 'd', 'a', 'z')\n"
     ]
    }
   ],
   "source": [
    "#Reverse a tuple\n",
    "def Reverse(tuples):\n",
    "    new_tup=tuples[::-1]\n",
    "    return new_tup\n",
    "\n",
    "tuples=('z','a','d','f','e')\n",
    "print(Reverse(tuples))"
   ]
  },
  {
   "cell_type": "code",
   "execution_count": 59,
   "id": "ea02cfaa",
   "metadata": {},
   "outputs": [
    {
     "name": "stdout",
     "output_type": "stream",
     "text": [
      "(5, 4, 3, 2, 1)\n"
     ]
    }
   ],
   "source": [
    "x=(1,2,3,4,5)\n",
    "y=x[::-1]\n",
    "print(y)"
   ]
  },
  {
   "cell_type": "code",
   "execution_count": 64,
   "id": "a7e502ae",
   "metadata": {},
   "outputs": [
    {
     "name": "stdout",
     "output_type": "stream",
     "text": [
      "4\n",
      "3\n"
     ]
    }
   ],
   "source": [
    "#Counting without using length\n",
    "def countX(tup, x):\n",
    "    count=0\n",
    "    for i in tup:\n",
    "        if(i==x):\n",
    "            count = count+1\n",
    "    return count\n",
    "tup=(10,8,5,2,10,15,10,8,5,8,8,2)\n",
    "enq=8\n",
    "print(countX(tup, enq))\n",
    "print(countX(tup, 10))"
   ]
  },
  {
   "cell_type": "code",
   "execution_count": 66,
   "id": "1ae39760",
   "metadata": {},
   "outputs": [
    {
     "name": "stdout",
     "output_type": "stream",
     "text": [
      "Enter a number8\n",
      "The number of times its repeated:  4\n"
     ]
    }
   ],
   "source": [
    "tup=(10,8,5,2,10,15,10,8,5,8,8,2)\n",
    "num=int(input('Enter a number'))\n",
    "count=0\n",
    "for i in tup:\n",
    "    if i==num:\n",
    "        count=count+1\n",
    "print('The number of times its repeated: ',count)"
   ]
  },
  {
   "cell_type": "markdown",
   "id": "4be3662f",
   "metadata": {},
   "source": [
    "# Sets"
   ]
  },
  {
   "cell_type": "code",
   "execution_count": 67,
   "id": "95c45445",
   "metadata": {},
   "outputs": [
    {
     "name": "stdout",
     "output_type": "stream",
     "text": [
      "{2, 5, 8, 10, 15}\n"
     ]
    }
   ],
   "source": [
    "x={10,8,5,2,10,15,10,8,5,8,8,2}\n",
    "print(x)"
   ]
  },
  {
   "cell_type": "code",
   "execution_count": 69,
   "id": "a113abad",
   "metadata": {},
   "outputs": [
    {
     "name": "stdout",
     "output_type": "stream",
     "text": [
      "5\n"
     ]
    }
   ],
   "source": [
    "x={10,8,5,2,10,15,10,8,5,8,8,2}\n",
    "print(len(x))"
   ]
  },
  {
   "cell_type": "code",
   "execution_count": 70,
   "id": "0575a27a",
   "metadata": {},
   "outputs": [
    {
     "name": "stdout",
     "output_type": "stream",
     "text": [
      "{2, 5, 8, 10, 15}\n",
      "{'welldone', 'hello', 'good', 'hey', 'alright'}\n",
      "{'true', 'False', 'false', 'True'}\n"
     ]
    }
   ],
   "source": [
    "x={10,8,5,2,10,15,10,8,5,8,8,2}\n",
    "y={\"hey\",\"hey\",\"hello\",\"alright\",\"good\",\"welldone\",\"good\"}\n",
    "z={\"true\",\"false\",\"True\",\"False\",\"true\"}\n",
    "print(x)\n",
    "print(y)\n",
    "print(z)"
   ]
  },
  {
   "cell_type": "code",
   "execution_count": 72,
   "id": "05418f37",
   "metadata": {},
   "outputs": [],
   "source": [
    "del set"
   ]
  },
  {
   "cell_type": "code",
   "execution_count": 73,
   "id": "0fe085e4",
   "metadata": {
    "scrolled": true
   },
   "outputs": [
    {
     "name": "stdout",
     "output_type": "stream",
     "text": [
      "{2, 5, 8, 10, 15}\n",
      "(2, 5, 8, 10, 15)\n",
      "5\n"
     ]
    }
   ],
   "source": [
    "x=(10,8,5,2,10,15,10,8,5,8,8,2)\n",
    "z=x\n",
    "y=set((x))\n",
    "print(y)\n",
    "x=tuple((y))\n",
    "print(x)\n",
    "length=len(x)\n",
    "print(length)"
   ]
  },
  {
   "cell_type": "code",
   "execution_count": 92,
   "id": "34d1f0c1",
   "metadata": {},
   "outputs": [
    {
     "name": "stdout",
     "output_type": "stream",
     "text": [
      "{2, 5, 8, 10, 15}\n",
      "(2, 5, 8, 10, 15)\n",
      "5\n",
      "2 5 8 10 15\n",
      "(10, 8, 5, 2, 10, 15, 10, 8, 5, 8, 8, 2)\n",
      "1 0 0 0 0 0\n"
     ]
    }
   ],
   "source": [
    "x=(10,8,5,2,10,15,10,8,5,8,8,2)\n",
    "z=x\n",
    "y=set((x))\n",
    "print(y)\n",
    "x=tuple((y))\n",
    "print(x)\n",
    "length=len(x)\n",
    "print(length)\n",
    "(a,b,c,d,e) =x\n",
    "count1=0\n",
    "count2=0\n",
    "count3=0\n",
    "count4=0\n",
    "count5=0\n",
    "print(a,b,c,d,e)\n",
    "print(z)\n",
    "if i in z:\n",
    "    if i==a:\n",
    "        count1=count1+1\n",
    "    if i==b:\n",
    "        count2=count2+1\n",
    "    if i==c:\n",
    "        count3=count3+1\n",
    "    if i==d:\n",
    "        count4=count4+1\n",
    "    if i==e:\n",
    "        count5=count5+1\n",
    "print(count1, count2, count3, count4, count4, count5)"
   ]
  },
  {
   "cell_type": "code",
   "execution_count": 93,
   "id": "2adbc785",
   "metadata": {},
   "outputs": [
    {
     "name": "stdout",
     "output_type": "stream",
     "text": [
      "{True, 34, 40, 'male', 'abc'}\n"
     ]
    }
   ],
   "source": [
    "set1={\"abc\",34,True,40,\"male\"}\n",
    "print(set1)"
   ]
  },
  {
   "cell_type": "code",
   "execution_count": 94,
   "id": "b3e81730",
   "metadata": {},
   "outputs": [
    {
     "name": "stdout",
     "output_type": "stream",
     "text": [
      "<class 'set'>\n"
     ]
    }
   ],
   "source": [
    "set2={\"apple\",\"banana\",\"cherry\"}\n",
    "print(type(set2))"
   ]
  },
  {
   "cell_type": "code",
   "execution_count": 96,
   "id": "a7be2b5a",
   "metadata": {},
   "outputs": [
    {
     "name": "stdout",
     "output_type": "stream",
     "text": [
      "{}\n",
      "{'f', 'n', 'o', 'r', 'y', 'g', 'v', 'e', 'P', 't', 'i', 'h'}\n"
     ]
    }
   ],
   "source": [
    "set3={}\n",
    "print(set3)\n",
    "x='Pythonforeverything'\n",
    "set3=set(x)\n",
    "print(set3)"
   ]
  },
  {
   "cell_type": "code",
   "execution_count": 97,
   "id": "c0e69dea",
   "metadata": {},
   "outputs": [
    {
     "name": "stdout",
     "output_type": "stream",
     "text": [
      "{'for', 'everyone', 'python'}\n"
     ]
    }
   ],
   "source": [
    "set3=set([\"python\",\"for\",\"everyone\"])\n",
    "print(set3)"
   ]
  },
  {
   "cell_type": "code",
   "execution_count": 98,
   "id": "d9296014",
   "metadata": {},
   "outputs": [
    {
     "name": "stdout",
     "output_type": "stream",
     "text": [
      "{0, 97, 34, 1, 'python', 9.0, 11.2, 'for', 'everyone'}\n"
     ]
    }
   ],
   "source": [
    "set3=set([\"python\",\"for\",\"everyone\",9.00,11.2,34,97,0,1])\n",
    "print(set3)"
   ]
  },
  {
   "cell_type": "code",
   "execution_count": 100,
   "id": "c9e1a8b4",
   "metadata": {},
   "outputs": [
    {
     "name": "stdout",
     "output_type": "stream",
     "text": [
      "0\n",
      "97\n",
      "34\n",
      "1\n",
      "python\n",
      "9.0\n",
      "11.2\n",
      "for\n",
      "everyone\n"
     ]
    }
   ],
   "source": [
    "set3=set([\"python\",\"for\",\"everyone\",9.00,11.2,34,97,0,1])\n",
    "for x in set3:\n",
    "    print(x)"
   ]
  },
  {
   "cell_type": "code",
   "execution_count": 101,
   "id": "8882354f",
   "metadata": {},
   "outputs": [
    {
     "name": "stdout",
     "output_type": "stream",
     "text": [
      "True\n"
     ]
    }
   ],
   "source": [
    "set3=set([\"python\",\"for\",\"everyone\",9.00,11.2,34,97,0,1])\n",
    "print(\"python\" in set3)"
   ]
  },
  {
   "cell_type": "code",
   "execution_count": 102,
   "id": "6caf5a30",
   "metadata": {},
   "outputs": [
    {
     "name": "stdout",
     "output_type": "stream",
     "text": [
      "{0, 97, 34, 1, 'python', 9.0, 11.2, 'for', 'everyone', 'apple'}\n"
     ]
    }
   ],
   "source": [
    "set3={\"python\",\"for\",\"everyone\",9.00,11.2,34,97,0,1}\n",
    "set3.add(\"apple\")\n",
    "print(set3)"
   ]
  },
  {
   "cell_type": "code",
   "execution_count": 106,
   "id": "3139ff2f",
   "metadata": {},
   "outputs": [
    {
     "name": "stdout",
     "output_type": "stream",
     "text": [
      "{1, 2, 3, (1, 2, 3)}\n"
     ]
    }
   ],
   "source": [
    "x=set()\n",
    "x.add(1)\n",
    "x.add(2)\n",
    "x.add(3)\n",
    "x.add((1,2,3))\n",
    "print(x)"
   ]
  },
  {
   "cell_type": "code",
   "execution_count": 107,
   "id": "500eb065",
   "metadata": {},
   "outputs": [
    {
     "name": "stdout",
     "output_type": "stream",
     "text": [
      "{2, 4, 6, 8, 10}\n",
      "{1, 3, 5, 7, 9}\n"
     ]
    }
   ],
   "source": [
    "set1=set()\n",
    "set2=set()\n",
    "i=1\n",
    "while i<11:\n",
    "    if i%2 ==0:\n",
    "        set1.add(i)\n",
    "    else:\n",
    "        set2.add(i)\n",
    "    i=i+1\n",
    "print(set1)\n",
    "print(set2)"
   ]
  },
  {
   "cell_type": "code",
   "execution_count": 108,
   "id": "3fa90980",
   "metadata": {},
   "outputs": [
    {
     "name": "stdout",
     "output_type": "stream",
     "text": [
      "{1, 2, 3, 4, 5, 6}\n"
     ]
    }
   ],
   "source": [
    "set1={1,2,3}\n",
    "set2={4,5,6}\n",
    "set1.update(set2)\n",
    "print(set1)"
   ]
  },
  {
   "cell_type": "code",
   "execution_count": 109,
   "id": "d0c921a8",
   "metadata": {},
   "outputs": [
    {
     "name": "stdout",
     "output_type": "stream",
     "text": [
      "{1, 2, 3, 4, 5, 6}\n"
     ]
    }
   ],
   "source": [
    "set1={1,2,3}\n",
    "set2={4,5,6}\n",
    "set2.update(set1)\n",
    "print(set2)"
   ]
  },
  {
   "cell_type": "code",
   "execution_count": 110,
   "id": "39c35bee",
   "metadata": {},
   "outputs": [
    {
     "name": "stdout",
     "output_type": "stream",
     "text": [
      "\n",
      " Set after addition of elements using update \n",
      "\n",
      "{4, 5, 10, 11, (6, 7)}\n"
     ]
    }
   ],
   "source": [
    "set1=set([4,5,(6,7)])\n",
    "set1.update([10,11])\n",
    "print(\"\\n Set after addition of elements using update \\n\")\n",
    "print(set1)"
   ]
  },
  {
   "cell_type": "code",
   "execution_count": 114,
   "id": "5df45627",
   "metadata": {},
   "outputs": [
    {
     "name": "stdout",
     "output_type": "stream",
     "text": [
      "{'apples', 'cherry'}\n"
     ]
    }
   ],
   "source": [
    "thisset={\"apples\",\"banana\",\"cherry\"}\n",
    "thisset.remove(\"banana\")\n",
    "print(thisset)"
   ]
  },
  {
   "cell_type": "code",
   "execution_count": 115,
   "id": "fdf4b0f4",
   "metadata": {},
   "outputs": [
    {
     "name": "stdout",
     "output_type": "stream",
     "text": [
      "{'apples', 'cherry'}\n"
     ]
    }
   ],
   "source": [
    "thisset={\"apples\",\"banana\",\"cherry\"}\n",
    "thisset.discard(\"banana\")\n",
    "print(thisset)"
   ]
  },
  {
   "cell_type": "code",
   "execution_count": 116,
   "id": "2a337cfe",
   "metadata": {},
   "outputs": [
    {
     "name": "stdout",
     "output_type": "stream",
     "text": [
      "{'banana', 'apples', 'cherry'}\n"
     ]
    }
   ],
   "source": [
    "thisset={\"apples\",\"banana\",\"cherry\"}\n",
    "thisset.discard(\"watermelon\")\n",
    "print(thisset)"
   ]
  },
  {
   "cell_type": "code",
   "execution_count": 117,
   "id": "62699b81",
   "metadata": {},
   "outputs": [
    {
     "ename": "KeyError",
     "evalue": "'watermelon'",
     "output_type": "error",
     "traceback": [
      "\u001b[1;31m---------------------------------------------------------------------------\u001b[0m",
      "\u001b[1;31mKeyError\u001b[0m                                  Traceback (most recent call last)",
      "\u001b[1;32m<ipython-input-117-8256aac40925>\u001b[0m in \u001b[0;36m<module>\u001b[1;34m\u001b[0m\n\u001b[0;32m      1\u001b[0m \u001b[0mthisset\u001b[0m\u001b[1;33m=\u001b[0m\u001b[1;33m{\u001b[0m\u001b[1;34m\"apples\"\u001b[0m\u001b[1;33m,\u001b[0m\u001b[1;34m\"banana\"\u001b[0m\u001b[1;33m,\u001b[0m\u001b[1;34m\"cherry\"\u001b[0m\u001b[1;33m}\u001b[0m\u001b[1;33m\u001b[0m\u001b[1;33m\u001b[0m\u001b[0m\n\u001b[1;32m----> 2\u001b[1;33m \u001b[0mthisset\u001b[0m\u001b[1;33m.\u001b[0m\u001b[0mremove\u001b[0m\u001b[1;33m(\u001b[0m\u001b[1;34m\"watermelon\"\u001b[0m\u001b[1;33m)\u001b[0m\u001b[1;33m\u001b[0m\u001b[1;33m\u001b[0m\u001b[0m\n\u001b[0m\u001b[0;32m      3\u001b[0m \u001b[0mprint\u001b[0m\u001b[1;33m(\u001b[0m\u001b[0mthisset\u001b[0m\u001b[1;33m)\u001b[0m\u001b[1;33m\u001b[0m\u001b[1;33m\u001b[0m\u001b[0m\n",
      "\u001b[1;31mKeyError\u001b[0m: 'watermelon'"
     ]
    }
   ],
   "source": [
    "thisset={\"apples\",\"banana\",\"cherry\"}\n",
    "thisset.remove(\"watermelon\")\n",
    "print(thisset)"
   ]
  },
  {
   "cell_type": "code",
   "execution_count": 118,
   "id": "d73f2433",
   "metadata": {},
   "outputs": [
    {
     "name": "stdout",
     "output_type": "stream",
     "text": [
      "19\n",
      "{1, 3, 5, 7, 9, 11, 13, 15, 17, 19}\n"
     ]
    }
   ],
   "source": [
    "set1=set([1,2,3,4,5,6,7,8,9,10,11,12,13,14,15,16,17,18,19])\n",
    "count=0\n",
    "for i in set1:\n",
    "    count=count+1\n",
    "print(count)\n",
    "i=1\n",
    "while i<=count:\n",
    "    if(i%2==0):\n",
    "        set1.discard(i)\n",
    "    i=i+1\n",
    "print(set1)"
   ]
  },
  {
   "cell_type": "code",
   "execution_count": 120,
   "id": "958a412b",
   "metadata": {},
   "outputs": [
    {
     "name": "stdout",
     "output_type": "stream",
     "text": [
      "{'apples', 'cherry'}\n"
     ]
    }
   ],
   "source": [
    "thisset={\"apples\",\"banana\",\"cherry\"}\n",
    "thisset.pop()\n",
    "print(thisset)"
   ]
  },
  {
   "cell_type": "code",
   "execution_count": 121,
   "id": "07b23e1f",
   "metadata": {},
   "outputs": [
    {
     "name": "stdout",
     "output_type": "stream",
     "text": [
      "set()\n"
     ]
    }
   ],
   "source": [
    "thisset={\"apples\",\"banana\",\"cherry\"}\n",
    "thisset.clear()\n",
    "print(thisset)"
   ]
  },
  {
   "cell_type": "code",
   "execution_count": 122,
   "id": "1d427335",
   "metadata": {},
   "outputs": [
    {
     "name": "stdout",
     "output_type": "stream",
     "text": [
      "{1, 2, 3, 4, 5, 6}\n"
     ]
    }
   ],
   "source": [
    "set1={1,2,3}\n",
    "set2={4,5,6}\n",
    "set3=set1.union(set2)\n",
    "print(set3)"
   ]
  },
  {
   "cell_type": "code",
   "execution_count": 124,
   "id": "bdf04e62",
   "metadata": {},
   "outputs": [
    {
     "name": "stdout",
     "output_type": "stream",
     "text": [
      "set()\n"
     ]
    }
   ],
   "source": [
    "set1={1,2,3}\n",
    "set2={4,5,6}\n",
    "set3=set1.intersection(set2)\n",
    "print(set3)"
   ]
  },
  {
   "cell_type": "code",
   "execution_count": null,
   "id": "d40da260",
   "metadata": {},
   "outputs": [],
   "source": [
    "set1={1,2,3}\n",
    "set2={4,5,6}\n",
    "set4\n",
    "set3=set1.intersection(set2)\n",
    "print(set3)"
   ]
  }
 ],
 "metadata": {
  "kernelspec": {
   "display_name": "Python 3",
   "language": "python",
   "name": "python3"
  },
  "language_info": {
   "codemirror_mode": {
    "name": "ipython",
    "version": 3
   },
   "file_extension": ".py",
   "mimetype": "text/x-python",
   "name": "python",
   "nbconvert_exporter": "python",
   "pygments_lexer": "ipython3",
   "version": "3.8.8"
  }
 },
 "nbformat": 4,
 "nbformat_minor": 5
}
