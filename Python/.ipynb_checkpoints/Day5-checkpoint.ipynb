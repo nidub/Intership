{
 "cells": [
  {
   "cell_type": "code",
   "execution_count": 1,
   "id": "2f47d182",
   "metadata": {},
   "outputs": [
    {
     "name": "stdout",
     "output_type": "stream",
     "text": [
      "('python', 'python', 'python')\n"
     ]
    }
   ],
   "source": [
    "tuple3=('python',)*3\n",
    "print(tuple3)"
   ]
  },
  {
   "cell_type": "code",
   "execution_count": 2,
   "id": "9231ad01",
   "metadata": {},
   "outputs": [
    {
     "name": "stdout",
     "output_type": "stream",
     "text": [
      "('Python', 'For', 'Everyone', 'Python', 'For', 'Everyone', 'Python', 'For', 'Everyone', 'Python', 'For', 'Everyone')\n"
     ]
    }
   ],
   "source": [
    "tuple4=(\"Python\",\"For\",\"Everyone\")*4\n",
    "print(tuple4)"
   ]
  },
  {
   "cell_type": "code",
   "execution_count": 4,
   "id": "724bf211",
   "metadata": {},
   "outputs": [
    {
     "name": "stdout",
     "output_type": "stream",
     "text": [
      "('Melon', 'Kiwi', 'Cherry')\n",
      "('Banana', 'Melon', 'Kiwi', 'Cherry', 'Orange', 'Apple')\n",
      "('Mangoes', 'Banana', 'Melon')\n",
      "('Melon', 'Kiwi', 'Cherry')\n",
      "('Orange', 'Apple')\n",
      "('Mangoes', 'Banana')\n"
     ]
    }
   ],
   "source": [
    "tuple5=(\"Mangoes\",\"Banana\",\"Melon\",\"Kiwi\",\"Cherry\",\"Orange\",\"Apple\")\n",
    "print(tuple5[2:5])\n",
    "print(tuple5[1:])\n",
    "print(tuple5[:3])\n",
    "print(tuple5[-5:-2])\n",
    "print(tuple5[-2:])\n",
    "print(tuple5[:-5])"
   ]
  },
  {
   "cell_type": "code",
   "execution_count": 6,
   "id": "527c6367",
   "metadata": {},
   "outputs": [
    {
     "name": "stdout",
     "output_type": "stream",
     "text": [
      "Yes it is present\n"
     ]
    }
   ],
   "source": [
    "tuple5=(\"Mangoes\",\"Banana\",\"Melon\",\"Kiwi\",\"Cherry\",\"Orange\",\"Apple\")\n",
    "if \"Melon\" in tuple5:\n",
    "    print(\"Yes it is present\")\n",
    "else:\n",
    "    print(\"No, It is not present\")"
   ]
  },
  {
   "cell_type": "code",
   "execution_count": 7,
   "id": "1299e3ad",
   "metadata": {},
   "outputs": [
    {
     "name": "stdout",
     "output_type": "stream",
     "text": [
      "Yes it is not present\n"
     ]
    }
   ],
   "source": [
    "tuple5=(\"Mangoes\",\"Banana\",\"Melon\",\"Kiwi\",\"Cherry\",\"Orange\",\"Apple\")\n",
    "if \"Watermelon\" not in tuple5:\n",
    "    print(\"Yes it is not present\")\n",
    "else:\n",
    "    print(\"No, It is present\")"
   ]
  },
  {
   "cell_type": "code",
   "execution_count": 8,
   "id": "e2e277aa",
   "metadata": {},
   "outputs": [
    {
     "ename": "NameError",
     "evalue": "name 'tuple4' is not defined",
     "output_type": "error",
     "traceback": [
      "\u001b[1;31m---------------------------------------------------------------------------\u001b[0m",
      "\u001b[1;31mNameError\u001b[0m                                 Traceback (most recent call last)",
      "\u001b[1;32m<ipython-input-8-47cd8054c6d3>\u001b[0m in \u001b[0;36m<module>\u001b[1;34m\u001b[0m\n\u001b[0;32m      1\u001b[0m \u001b[0mtuple4\u001b[0m\u001b[1;33m=\u001b[0m\u001b[1;33m(\u001b[0m\u001b[1;34m\"Python\"\u001b[0m\u001b[1;33m,\u001b[0m\u001b[1;34m\"For\"\u001b[0m\u001b[1;33m,\u001b[0m\u001b[1;34m\"Everyone\"\u001b[0m\u001b[1;33m)\u001b[0m\u001b[1;33m\u001b[0m\u001b[1;33m\u001b[0m\u001b[0m\n\u001b[0;32m      2\u001b[0m \u001b[1;32mdel\u001b[0m\u001b[1;33m(\u001b[0m\u001b[0mtuple4\u001b[0m\u001b[1;33m)\u001b[0m\u001b[1;33m\u001b[0m\u001b[1;33m\u001b[0m\u001b[0m\n\u001b[1;32m----> 3\u001b[1;33m \u001b[0mprint\u001b[0m\u001b[1;33m(\u001b[0m\u001b[0mtuple4\u001b[0m\u001b[1;33m)\u001b[0m\u001b[1;33m\u001b[0m\u001b[1;33m\u001b[0m\u001b[0m\n\u001b[0m",
      "\u001b[1;31mNameError\u001b[0m: name 'tuple4' is not defined"
     ]
    }
   ],
   "source": [
    "tuple4=(\"Python\",\"For\",\"Everyone\")\n",
    "del(tuple4)\n",
    "print(tuple4)"
   ]
  },
  {
   "cell_type": "code",
   "execution_count": 22,
   "id": "a64ad590",
   "metadata": {},
   "outputs": [
    {
     "name": "stdout",
     "output_type": "stream",
     "text": [
      "(0, 1, 2)\n",
      "('p', 'y', 't', 'h', 'o', 'n')\n",
      "('hello', 125, -90)\n"
     ]
    }
   ],
   "source": [
    "#converting string and list into tuple\n",
    "list1=[0,1,2]\n",
    "set={125,\"hello\",-90}\n",
    "print(tuple(list))\n",
    "print(tuple('python'))\n",
    "print(tuple(set))"
   ]
  },
  {
   "cell_type": "code",
   "execution_count": 12,
   "id": "ea68c069",
   "metadata": {},
   "outputs": [
    {
     "name": "stdout",
     "output_type": "stream",
     "text": [
      "1\n",
      "2\n",
      "3\n",
      "4\n",
      "5\n",
      "6\n",
      "7\n",
      "8\n",
      "9\n"
     ]
    }
   ],
   "source": [
    "x=(1,2,3,4,5,6,7,8,9)\n",
    "for i in x:\n",
    "    print(i)"
   ]
  },
  {
   "cell_type": "code",
   "execution_count": 14,
   "id": "eb570570",
   "metadata": {},
   "outputs": [
    {
     "name": "stdout",
     "output_type": "stream",
     "text": [
      "((2,),)\n",
      "(((2,),),)\n",
      "((((2,),),),)\n",
      "(((((2,),),),),)\n",
      "((((((2,),),),),),)\n",
      "(((((((2,),),),),),),)\n",
      "((((((((2,),),),),),),),)\n",
      "(((((((((2,),),),),),),),),)\n",
      "((((((((((2,),),),),),),),),),)\n",
      "(((((((((((2,),),),),),),),),),),)\n"
     ]
    }
   ],
   "source": [
    "x = (2,)\n",
    "n = 10\n",
    "for i in range(int(10)):\n",
    "    x = (x,)\n",
    "    print(x)"
   ]
  },
  {
   "cell_type": "code",
   "execution_count": 15,
   "id": "2e5ef1ab",
   "metadata": {},
   "outputs": [
    {
     "name": "stdout",
     "output_type": "stream",
     "text": [
      "((2, 3, 4, 5),)\n",
      "(((2, 3, 4, 5),),)\n",
      "((((2, 3, 4, 5),),),)\n",
      "(((((2, 3, 4, 5),),),),)\n",
      "((((((2, 3, 4, 5),),),),),)\n",
      "(((((((2, 3, 4, 5),),),),),),)\n",
      "((((((((2, 3, 4, 5),),),),),),),)\n",
      "(((((((((2, 3, 4, 5),),),),),),),),)\n",
      "((((((((((2, 3, 4, 5),),),),),),),),),)\n",
      "(((((((((((2, 3, 4, 5),),),),),),),),),),)\n"
     ]
    }
   ],
   "source": [
    "x = (2,3,4,5)\n",
    "n = 10\n",
    "for i in range(int(10)):\n",
    "    x = (x,)\n",
    "    print(x)"
   ]
  },
  {
   "cell_type": "code",
   "execution_count": 18,
   "id": "445c38e9",
   "metadata": {},
   "outputs": [
    {
     "name": "stdout",
     "output_type": "stream",
     "text": [
      "(2, 3, 4, 5, 6)\n",
      "(2, 3, 4, 5, 6)\n",
      "(2, 3, 4, 5, 6)\n",
      "(2, 3, 4, 5, 6)\n",
      "(2, 3, 4, 5, 6)\n",
      "(2, 3, 4, 5, 6)\n",
      "(2, 3, 4, 5, 6)\n",
      "(2, 3, 4, 5, 6)\n",
      "(2, 3, 4, 5, 6)\n",
      "(2, 3, 4, 5, 6)\n"
     ]
    }
   ],
   "source": [
    "x = (2,3,4,5,6)\n",
    "n = 10\n",
    "for i in range(int(10)):\n",
    "    print(x)"
   ]
  },
  {
   "cell_type": "code",
   "execution_count": 19,
   "id": "8f8e1330",
   "metadata": {},
   "outputs": [
    {
     "name": "stdout",
     "output_type": "stream",
     "text": [
      "2\n",
      "3\n",
      "4\n",
      "5\n",
      "6\n"
     ]
    }
   ],
   "source": [
    "x = (2,3,4,5,6)\n",
    "for i in x:\n",
    "    print(i)"
   ]
  },
  {
   "cell_type": "code",
   "execution_count": 20,
   "id": "7c027951",
   "metadata": {},
   "outputs": [
    {
     "name": "stdout",
     "output_type": "stream",
     "text": [
      "(('geeks', 'for', 'geeks'),)\n",
      "((('geeks', 'for', 'geeks'),),)\n",
      "(((('geeks', 'for', 'geeks'),),),)\n",
      "((((('geeks', 'for', 'geeks'),),),),)\n",
      "(((((('geeks', 'for', 'geeks'),),),),),)\n",
      "((((((('geeks', 'for', 'geeks'),),),),),),)\n",
      "(((((((('geeks', 'for', 'geeks'),),),),),),),)\n",
      "((((((((('geeks', 'for', 'geeks'),),),),),),),),)\n",
      "(((((((((('geeks', 'for', 'geeks'),),),),),),),),),)\n",
      "((((((((((('geeks', 'for', 'geeks'),),),),),),),),),),)\n"
     ]
    }
   ],
   "source": [
    "x = (\"geeks\",\"for\",\"geeks\")\n",
    "n = 10\n",
    "for i in range(int(10)):\n",
    "    x = (x,)\n",
    "    print(x)"
   ]
  },
  {
   "cell_type": "code",
   "execution_count": 26,
   "id": "50d6e585",
   "metadata": {},
   "outputs": [
    {
     "name": "stdout",
     "output_type": "stream",
     "text": [
      "('Mangoes', 'Banana', 'Melon', 'Kiwi', 'Cherry', 'Orange', 'Apple', 'Watermelon')\n"
     ]
    }
   ],
   "source": [
    "tuple5 = (\"Mangoes\",\"Banana\",\"Melon\",\"Kiwi\",\"Cherry\",\"Orange\",\"Apple\")\n",
    "y = list(tuple5)\n",
    "y.append(\"Watermelon\")\n",
    "tuple5=tuple(y)\n",
    "print(tuple5)"
   ]
  },
  {
   "cell_type": "code",
   "execution_count": 29,
   "id": "8a72d4b5",
   "metadata": {},
   "outputs": [
    {
     "name": "stdout",
     "output_type": "stream",
     "text": [
      "('Mangoes', 'Banana', 'Melon', 'Kiwi', 'Cherry', 'Watermelon', 'Apple')\n"
     ]
    }
   ],
   "source": [
    "tuple5 = (\"Mangoes\",\"Banana\",\"Melon\",\"Kiwi\",\"Cherry\",\"Orange\",\"Apple\")\n",
    "y = list(tuple5)\n",
    "y[5] = \"Watermelon\"\n",
    "tuple5=tuple(y)\n",
    "print(tuple5)"
   ]
  },
  {
   "cell_type": "code",
   "execution_count": 30,
   "id": "78321f47",
   "metadata": {},
   "outputs": [
    {
     "name": "stdout",
     "output_type": "stream",
     "text": [
      "('Mangoes', 'Banana', 'Melon', 'Strawberry', 'Cherry', 'Watermelon', 'Apple')\n"
     ]
    }
   ],
   "source": [
    "y = list(tuple5)\n",
    "y[3] = \"Strawberry\"\n",
    "tuple5=tuple(y)\n",
    "print(tuple5)"
   ]
  },
  {
   "cell_type": "code",
   "execution_count": 31,
   "id": "5f9e14b1",
   "metadata": {},
   "outputs": [
    {
     "name": "stdout",
     "output_type": "stream",
     "text": [
      "('Banana', 'Melon', 'Strawberry', 'Cherry', 'Watermelon', 'Apple')\n"
     ]
    }
   ],
   "source": [
    "y = list(tuple5)\n",
    "y.remove(\"Mangoes\")\n",
    "tuple5=tuple(y)\n",
    "print(tuple5)"
   ]
  },
  {
   "cell_type": "code",
   "execution_count": 32,
   "id": "6e6679d9",
   "metadata": {},
   "outputs": [
    {
     "name": "stdout",
     "output_type": "stream",
     "text": [
      "('Banana', 'Melon', 'Strawberry', 'Cherry', 'Watermelon')\n"
     ]
    }
   ],
   "source": [
    "y = list(tuple5)\n",
    "y.pop()\n",
    "tuple5=tuple(y)\n",
    "print(tuple5)"
   ]
  },
  {
   "cell_type": "code",
   "execution_count": 33,
   "id": "e8d0e751",
   "metadata": {},
   "outputs": [
    {
     "ename": "NameError",
     "evalue": "name 'tuple5' is not defined",
     "output_type": "error",
     "traceback": [
      "\u001b[1;31m---------------------------------------------------------------------------\u001b[0m",
      "\u001b[1;31mNameError\u001b[0m                                 Traceback (most recent call last)",
      "\u001b[1;32m<ipython-input-33-59583e9d4b9d>\u001b[0m in \u001b[0;36m<module>\u001b[1;34m\u001b[0m\n\u001b[0;32m      1\u001b[0m \u001b[1;32mdel\u001b[0m \u001b[0mtuple5\u001b[0m\u001b[1;33m\u001b[0m\u001b[1;33m\u001b[0m\u001b[0m\n\u001b[1;32m----> 2\u001b[1;33m \u001b[0mprint\u001b[0m\u001b[1;33m(\u001b[0m\u001b[0mtuple5\u001b[0m\u001b[1;33m)\u001b[0m\u001b[1;33m\u001b[0m\u001b[1;33m\u001b[0m\u001b[0m\n\u001b[0m",
      "\u001b[1;31mNameError\u001b[0m: name 'tuple5' is not defined"
     ]
    }
   ],
   "source": [
    "del tuple5\n",
    "print(tuple5)"
   ]
  },
  {
   "cell_type": "code",
   "execution_count": 34,
   "id": "98558896",
   "metadata": {},
   "outputs": [
    {
     "name": "stdout",
     "output_type": "stream",
     "text": [
      "6\n",
      "1 2 3\n"
     ]
    }
   ],
   "source": [
    "x = (1,2,3) #packing\n",
    "(a,b,c) = x #unpacking\n",
    "print(a+b+c)\n",
    "print(a,b,c)"
   ]
  },
  {
   "cell_type": "code",
   "execution_count": 37,
   "id": "19003aca",
   "metadata": {},
   "outputs": [
    {
     "name": "stdout",
     "output_type": "stream",
     "text": [
      "Orange\n",
      "Banana\n"
     ]
    }
   ],
   "source": [
    "fruits=(\"apple\",\"Banana\",\"Orange\") #packing\n",
    "(Red,Yellow,Orange)=fruits #unpacking\n",
    "print(Orange)\n",
    "print(Yellow)"
   ]
  },
  {
   "cell_type": "code",
   "execution_count": 39,
   "id": "00260591",
   "metadata": {},
   "outputs": [
    {
     "name": "stdout",
     "output_type": "stream",
     "text": [
      "Enter the Value:12\n",
      "Enter the Value:13\n",
      "Enter the Value:14\n",
      "a: apple\n",
      "b: Banana\n",
      "c: Orange\n"
     ]
    }
   ],
   "source": [
    "fruits=(\"apple\",\"Banana\",\"Orange\")\n",
    "a=int(input(\"Enter the Value:\"))\n",
    "b=int(input(\"Enter the Value:\"))\n",
    "c=int(input(\"Enter the Value:\"))\n",
    "tup = (a,b,c)\n",
    "(a,b,c) = fruits\n",
    "print('a:',a)\n",
    "print('b:',b)\n",
    "print('c:',c)"
   ]
  },
  {
   "cell_type": "code",
   "execution_count": 40,
   "id": "630de29d",
   "metadata": {},
   "outputs": [
    {
     "name": "stdout",
     "output_type": "stream",
     "text": [
      "Enter the Value:12\n",
      "Enter the Value:13\n",
      "Enter the Value:14\n",
      "(12, 13, 14)\n",
      "a: apple\n",
      "b: Banana\n",
      "c: Orange\n",
      "(12, 13, 14)\n"
     ]
    }
   ],
   "source": [
    "fruits=(\"apple\",\"Banana\",\"Orange\")\n",
    "a=int(input(\"Enter the Value:\"))\n",
    "b=int(input(\"Enter the Value:\"))\n",
    "c=int(input(\"Enter the Value:\"))\n",
    "tup = (a,b,c)\n",
    "print(tup)\n",
    "(a,b,c) = fruits\n",
    "print('a:',a)\n",
    "print('b:',b)\n",
    "print('c:',c)\n",
    "print(tup)"
   ]
  },
  {
   "cell_type": "code",
   "execution_count": 41,
   "id": "4c92b39e",
   "metadata": {},
   "outputs": [
    {
     "name": "stdout",
     "output_type": "stream",
     "text": [
      "Enter the Value:12\n",
      "Enter the Value:13\n",
      "Enter the Value:14\n",
      "Id:  886293804096 (12, 13, 14)\n",
      "Fruits:  886289291904 ('apple', 'Banana', 'Orange')\n",
      "Id:  886279511152 a: apple\n",
      "Id:  886293828272 b: Banana\n",
      "Id:  886252976176 c: Orange\n",
      "Id:  886289274368 ('apple', 'Banana', 'Orange')\n",
      "Fruits:  886289291904 ('apple', 'Banana', 'Orange')\n"
     ]
    }
   ],
   "source": [
    "fruits=(\"apple\",\"Banana\",\"Orange\")\n",
    "a=int(input(\"Enter the Value:\"))\n",
    "b=int(input(\"Enter the Value:\"))\n",
    "c=int(input(\"Enter the Value:\"))\n",
    "tup = (a,b,c)\n",
    "print(\"Id: \",id(tup),tup)\n",
    "print(\"Fruits: \",id(fruits),fruits)\n",
    "(a,b,c) = fruits\n",
    "print(\"Id: \",id(a),'a:',a)\n",
    "print(\"Id: \",id(b),'b:',b)\n",
    "print(\"Id: \",id(c),'c:',c)\n",
    "tup=(a,b,c)\n",
    "print(\"Id: \",id(tup),tup)\n",
    "print(\"Fruits: \",id(fruits),fruits)"
   ]
  },
  {
   "cell_type": "code",
   "execution_count": 51,
   "id": "c37ca7e7",
   "metadata": {},
   "outputs": [
    {
     "name": "stdout",
     "output_type": "stream",
     "text": [
      "('Mangoes', 'Banana', 'Melon', 'Kiwi', 'Cherry', 'Orange', 'Apple')\n"
     ]
    },
    {
     "ename": "ValueError",
     "evalue": "too many values to unpack (expected 3)",
     "output_type": "error",
     "traceback": [
      "\u001b[1;31m---------------------------------------------------------------------------\u001b[0m",
      "\u001b[1;31mValueError\u001b[0m                                Traceback (most recent call last)",
      "\u001b[1;32m<ipython-input-51-ccbea8c2af03>\u001b[0m in \u001b[0;36m<module>\u001b[1;34m\u001b[0m\n\u001b[0;32m      1\u001b[0m \u001b[0mtuple5\u001b[0m \u001b[1;33m=\u001b[0m \u001b[1;33m(\u001b[0m\u001b[1;34m\"Mangoes\"\u001b[0m\u001b[1;33m,\u001b[0m\u001b[1;34m\"Banana\"\u001b[0m\u001b[1;33m,\u001b[0m\u001b[1;34m\"Melon\"\u001b[0m\u001b[1;33m,\u001b[0m\u001b[1;34m\"Kiwi\"\u001b[0m\u001b[1;33m,\u001b[0m\u001b[1;34m\"Cherry\"\u001b[0m\u001b[1;33m,\u001b[0m\u001b[1;34m\"Orange\"\u001b[0m\u001b[1;33m,\u001b[0m\u001b[1;34m\"Apple\"\u001b[0m\u001b[1;33m)\u001b[0m\u001b[1;33m\u001b[0m\u001b[1;33m\u001b[0m\u001b[0m\n\u001b[0;32m      2\u001b[0m \u001b[0mprint\u001b[0m\u001b[1;33m(\u001b[0m\u001b[0mtuple5\u001b[0m\u001b[1;33m)\u001b[0m\u001b[1;33m\u001b[0m\u001b[1;33m\u001b[0m\u001b[0m\n\u001b[1;32m----> 3\u001b[1;33m \u001b[1;33m(\u001b[0m\u001b[0mgreen\u001b[0m\u001b[1;33m,\u001b[0m \u001b[0myellow\u001b[0m\u001b[1;33m,\u001b[0m \u001b[0mred\u001b[0m\u001b[1;33m)\u001b[0m\u001b[1;33m=\u001b[0m\u001b[0mtuple5\u001b[0m\u001b[1;33m\u001b[0m\u001b[1;33m\u001b[0m\u001b[0m\n\u001b[0m\u001b[0;32m      4\u001b[0m \u001b[0mprint\u001b[0m\u001b[1;33m(\u001b[0m\u001b[0mgreen\u001b[0m\u001b[1;33m)\u001b[0m\u001b[1;33m\u001b[0m\u001b[1;33m\u001b[0m\u001b[0m\n\u001b[0;32m      5\u001b[0m \u001b[0mprint\u001b[0m\u001b[1;33m(\u001b[0m\u001b[0myellow\u001b[0m\u001b[1;33m)\u001b[0m\u001b[1;33m\u001b[0m\u001b[1;33m\u001b[0m\u001b[0m\n",
      "\u001b[1;31mValueError\u001b[0m: too many values to unpack (expected 3)"
     ]
    }
   ],
   "source": [
    "tuple5 = (\"Mangoes\",\"Banana\",\"Melon\",\"Kiwi\",\"Cherry\",\"Orange\",\"Apple\")\n",
    "print(tuple5)\n",
    "(green, yellow, red)=tuple5\n",
    "print(green)\n",
    "print(yellow)\n",
    "print(red)"
   ]
  },
  {
   "cell_type": "code",
   "execution_count": 52,
   "id": "d48c67db",
   "metadata": {},
   "outputs": [
    {
     "name": "stdout",
     "output_type": "stream",
     "text": [
      "Mangoes\n",
      "Banana\n",
      "['Melon', 'Kiwi', 'Cherry', 'Orange', 'Apple']\n"
     ]
    }
   ],
   "source": [
    "tuple5 = (\"Mangoes\",\"Banana\",\"Melon\",\"Kiwi\",\"Cherry\",\"Orange\",\"Apple\")\n",
    "(green, yellow, *red)=tuple5\n",
    "print(green)\n",
    "print(yellow)\n",
    "print(red)"
   ]
  },
  {
   "cell_type": "code",
   "execution_count": 53,
   "id": "bdda0ca8",
   "metadata": {},
   "outputs": [
    {
     "ename": "SyntaxError",
     "evalue": "two starred expressions in assignment (<ipython-input-53-0d0bb779a690>, line 2)",
     "output_type": "error",
     "traceback": [
      "\u001b[1;36m  File \u001b[1;32m\"<ipython-input-53-0d0bb779a690>\"\u001b[1;36m, line \u001b[1;32m2\u001b[0m\n\u001b[1;33m    (green, *yellow, *red)=tuple5\u001b[0m\n\u001b[1;37m    ^\u001b[0m\n\u001b[1;31mSyntaxError\u001b[0m\u001b[1;31m:\u001b[0m two starred expressions in assignment\n"
     ]
    }
   ],
   "source": [
    "tuple5 = (\"Mangoes\",\"Banana\",\"Melon\",\"Kiwi\",\"Cherry\",\"Orange\",\"Apple\")\n",
    "(green, *yellow, *red)=tuple5\n",
    "print(green)\n",
    "print(yellow)\n",
    "print(red)"
   ]
  },
  {
   "cell_type": "code",
   "execution_count": 54,
   "id": "2d9ab4b4",
   "metadata": {},
   "outputs": [
    {
     "name": "stdout",
     "output_type": "stream",
     "text": [
      "Mangoes\n",
      "['Banana', 'Melon', 'Kiwi', 'Cherry', 'Orange']\n",
      "Apple\n"
     ]
    }
   ],
   "source": [
    "tuple5 = (\"Mangoes\",\"Banana\",\"Melon\",\"Kiwi\",\"Cherry\",\"Orange\",\"Apple\")\n",
    "(green, *yellow, red)=tuple5\n",
    "print(green)\n",
    "print(yellow)\n",
    "print(red)"
   ]
  },
  {
   "cell_type": "code",
   "execution_count": 55,
   "id": "b54a6aa5",
   "metadata": {},
   "outputs": [
    {
     "name": "stdout",
     "output_type": "stream",
     "text": [
      "['Mangoes', 'Banana', 'Melon', 'Kiwi', 'Cherry']\n",
      "Orange\n",
      "Apple\n"
     ]
    }
   ],
   "source": [
    "tuple5 = (\"Mangoes\",\"Banana\",\"Melon\",\"Kiwi\",\"Cherry\",\"Orange\",\"Apple\")\n",
    "(*green, yellow, red)=tuple5\n",
    "print(green)\n",
    "print(yellow)\n",
    "print(red)"
   ]
  },
  {
   "cell_type": "code",
   "execution_count": 56,
   "id": "6c05b047",
   "metadata": {},
   "outputs": [
    {
     "name": "stdout",
     "output_type": "stream",
     "text": [
      "Mangoes\n",
      "Banana\n",
      "Melon\n",
      "Kiwi\n",
      "Cherry\n",
      "Orange\n",
      "Apple\n"
     ]
    }
   ],
   "source": [
    "tuple5 = (\"Mangoes\",\"Banana\",\"Melon\",\"Kiwi\",\"Cherry\",\"Orange\",\"Apple\")\n",
    "for i in range(len(tuple5)):\n",
    "    print(tuple5[i])"
   ]
  },
  {
   "cell_type": "code",
   "execution_count": 57,
   "id": "7d80b261",
   "metadata": {},
   "outputs": [
    {
     "name": "stdout",
     "output_type": "stream",
     "text": [
      "Mangoes\n",
      "Banana\n",
      "Melon\n",
      "Kiwi\n",
      "Cherry\n",
      "Orange\n",
      "Apple\n"
     ]
    }
   ],
   "source": [
    "tuple5 = (\"Mangoes\",\"Banana\",\"Melon\",\"Kiwi\",\"Cherry\",\"Orange\",\"Apple\")\n",
    "i=0\n",
    "while i < len(tuple5):\n",
    "    print(tuple5[i])\n",
    "    i+=1"
   ]
  },
  {
   "cell_type": "code",
   "execution_count": 58,
   "id": "70f01f2e",
   "metadata": {},
   "outputs": [
    {
     "name": "stdout",
     "output_type": "stream",
     "text": [
      "('e', 'f', 'd', 'a', 'z')\n"
     ]
    }
   ],
   "source": [
    "#Reverse a tuple\n",
    "def Reverse(tuples):\n",
    "    new_tup=tuples[::-1]\n",
    "    return new_tup\n",
    "\n",
    "tuples=('z','a','d','f','e')\n",
    "print(Reverse(tuples))"
   ]
  },
  {
   "cell_type": "code",
   "execution_count": 59,
   "id": "85af197a",
   "metadata": {},
   "outputs": [
    {
     "name": "stdout",
     "output_type": "stream",
     "text": [
      "(5, 4, 3, 2, 1)\n"
     ]
    }
   ],
   "source": [
    "x=(1,2,3,4,5)\n",
    "y=x[::-1]\n",
    "print(y)"
   ]
  },
  {
   "cell_type": "code",
   "execution_count": 64,
   "id": "a9982ddc",
   "metadata": {},
   "outputs": [
    {
     "name": "stdout",
     "output_type": "stream",
     "text": [
      "4\n",
      "3\n"
     ]
    }
   ],
   "source": [
    "#Counting without using length\n",
    "def countX(tup, x):\n",
    "    count=0\n",
    "    for i in tup:\n",
    "        if(i==x):\n",
    "            count = count+1\n",
    "    return count\n",
    "tup=(10,8,5,2,10,15,10,8,5,8,8,2)\n",
    "enq=8\n",
    "print(countX(tup, enq))\n",
    "print(countX(tup, 10))"
   ]
  },
  {
   "cell_type": "code",
   "execution_count": 66,
   "id": "b878d36d",
   "metadata": {},
   "outputs": [
    {
     "name": "stdout",
     "output_type": "stream",
     "text": [
      "Enter a number8\n",
      "The number of times its repeated:  4\n"
     ]
    }
   ],
   "source": [
    "tup=(10,8,5,2,10,15,10,8,5,8,8,2)\n",
    "num=int(input('Enter a number'))\n",
    "count=0\n",
    "for i in tup:\n",
    "    if i==num:\n",
    "        count=count+1\n",
    "print('The number of times its repeated: ',count)"
   ]
  },
  {
   "cell_type": "markdown",
   "id": "baecf026",
   "metadata": {},
   "source": [
    "# Sets"
   ]
  },
  {
   "cell_type": "code",
   "execution_count": 67,
   "id": "28d8b1b6",
   "metadata": {},
   "outputs": [
    {
     "name": "stdout",
     "output_type": "stream",
     "text": [
      "{2, 5, 8, 10, 15}\n"
     ]
    }
   ],
   "source": [
    "x={10,8,5,2,10,15,10,8,5,8,8,2}\n",
    "print(x)"
   ]
  },
  {
   "cell_type": "code",
   "execution_count": 69,
   "id": "faeba00a",
   "metadata": {},
   "outputs": [
    {
     "name": "stdout",
     "output_type": "stream",
     "text": [
      "5\n"
     ]
    }
   ],
   "source": [
    "x={10,8,5,2,10,15,10,8,5,8,8,2}\n",
    "print(len(x))"
   ]
  },
  {
   "cell_type": "code",
   "execution_count": 70,
   "id": "9150f686",
   "metadata": {},
   "outputs": [
    {
     "name": "stdout",
     "output_type": "stream",
     "text": [
      "{2, 5, 8, 10, 15}\n",
      "{'welldone', 'hello', 'good', 'hey', 'alright'}\n",
      "{'true', 'False', 'false', 'True'}\n"
     ]
    }
   ],
   "source": [
    "x={10,8,5,2,10,15,10,8,5,8,8,2}\n",
    "y={\"hey\",\"hey\",\"hello\",\"alright\",\"good\",\"welldone\",\"good\"}\n",
    "z={\"true\",\"false\",\"True\",\"False\",\"true\"}\n",
    "print(x)\n",
    "print(y)\n",
    "print(z)"
   ]
  },
  {
   "cell_type": "code",
   "execution_count": null,
   "id": "a92a1fff",
   "metadata": {},
   "outputs": [],
   "source": []
  },
  {
   "cell_type": "code",
   "execution_count": 71,
   "id": "67c7426a",
   "metadata": {},
   "outputs": [
    {
     "ename": "TypeError",
     "evalue": "'set' object is not callable",
     "output_type": "error",
     "traceback": [
      "\u001b[1;31m---------------------------------------------------------------------------\u001b[0m",
      "\u001b[1;31mTypeError\u001b[0m                                 Traceback (most recent call last)",
      "\u001b[1;32m<ipython-input-71-10533f7a4fc9>\u001b[0m in \u001b[0;36m<module>\u001b[1;34m\u001b[0m\n\u001b[0;32m      1\u001b[0m \u001b[0mx\u001b[0m\u001b[1;33m=\u001b[0m\u001b[1;33m(\u001b[0m\u001b[1;36m10\u001b[0m\u001b[1;33m,\u001b[0m\u001b[1;36m8\u001b[0m\u001b[1;33m,\u001b[0m\u001b[1;36m5\u001b[0m\u001b[1;33m,\u001b[0m\u001b[1;36m2\u001b[0m\u001b[1;33m,\u001b[0m\u001b[1;36m10\u001b[0m\u001b[1;33m,\u001b[0m\u001b[1;36m15\u001b[0m\u001b[1;33m,\u001b[0m\u001b[1;36m10\u001b[0m\u001b[1;33m,\u001b[0m\u001b[1;36m8\u001b[0m\u001b[1;33m,\u001b[0m\u001b[1;36m5\u001b[0m\u001b[1;33m,\u001b[0m\u001b[1;36m8\u001b[0m\u001b[1;33m,\u001b[0m\u001b[1;36m8\u001b[0m\u001b[1;33m,\u001b[0m\u001b[1;36m2\u001b[0m\u001b[1;33m)\u001b[0m\u001b[1;33m\u001b[0m\u001b[1;33m\u001b[0m\u001b[0m\n\u001b[0;32m      2\u001b[0m \u001b[0mz\u001b[0m\u001b[1;33m=\u001b[0m\u001b[0mx\u001b[0m\u001b[1;33m\u001b[0m\u001b[1;33m\u001b[0m\u001b[0m\n\u001b[1;32m----> 3\u001b[1;33m \u001b[0my\u001b[0m\u001b[1;33m=\u001b[0m\u001b[0mset\u001b[0m\u001b[1;33m(\u001b[0m\u001b[1;33m(\u001b[0m\u001b[0mx\u001b[0m\u001b[1;33m)\u001b[0m\u001b[1;33m)\u001b[0m\u001b[1;33m\u001b[0m\u001b[1;33m\u001b[0m\u001b[0m\n\u001b[0m\u001b[0;32m      4\u001b[0m \u001b[0mprint\u001b[0m\u001b[1;33m(\u001b[0m\u001b[0my\u001b[0m\u001b[1;33m)\u001b[0m\u001b[1;33m\u001b[0m\u001b[1;33m\u001b[0m\u001b[0m\n\u001b[0;32m      5\u001b[0m \u001b[0mx\u001b[0m\u001b[1;33m=\u001b[0m\u001b[0mtuple\u001b[0m\u001b[1;33m(\u001b[0m\u001b[1;33m(\u001b[0m\u001b[0my\u001b[0m\u001b[1;33m)\u001b[0m\u001b[1;33m)\u001b[0m\u001b[1;33m\u001b[0m\u001b[1;33m\u001b[0m\u001b[0m\n",
      "\u001b[1;31mTypeError\u001b[0m: 'set' object is not callable"
     ]
    }
   ],
   "source": [
    "x=(10,8,5,2,10,15,10,8,5,8,8,2)\n",
    "z=x\n",
    "y=set((x))\n",
    "print(y)\n",
    "x=tuple((y))\n",
    "print(x)\n",
    "length=len(x)\n",
    "print(length)"
   ]
  },
  {
   "cell_type": "code",
   "execution_count": null,
   "id": "22a1c5e6",
   "metadata": {},
   "outputs": [],
   "source": []
  }
 ],
 "metadata": {
  "kernelspec": {
   "display_name": "Python 3",
   "language": "python",
   "name": "python3"
  },
  "language_info": {
   "codemirror_mode": {
    "name": "ipython",
    "version": 3
   },
   "file_extension": ".py",
   "mimetype": "text/x-python",
   "name": "python",
   "nbconvert_exporter": "python",
   "pygments_lexer": "ipython3",
   "version": "3.8.8"
  }
 },
 "nbformat": 4,
 "nbformat_minor": 5
}
