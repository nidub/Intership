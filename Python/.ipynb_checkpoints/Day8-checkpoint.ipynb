{
 "cells": [
  {
   "cell_type": "code",
   "execution_count": 1,
   "id": "b134382a",
   "metadata": {},
   "outputs": [
    {
     "name": "stdout",
     "output_type": "stream",
     "text": [
      "Inside B: Dubey\n",
      "Inside A: Nikita\n"
     ]
    }
   ],
   "source": [
    "def A():\n",
    "    name='Nikita'\n",
    "    def B():\n",
    "        name='Dubey'\n",
    "        print(\"Inside B:\",name)\n",
    "    B()\n",
    "    print('Inside A:',name)\n",
    "A()"
   ]
  },
  {
   "cell_type": "code",
   "execution_count": 2,
   "id": "7b02aecf",
   "metadata": {},
   "outputs": [
    {
     "name": "stdout",
     "output_type": "stream",
     "text": [
      "Inside B: Dubey\n",
      "Inside A: Dubey\n"
     ]
    }
   ],
   "source": [
    "def A():\n",
    "    name='Nikita'\n",
    "    def B():\n",
    "        nonlocal name\n",
    "        name='Dubey'\n",
    "        print(\"Inside B:\",name)\n",
    "    B()\n",
    "    print('Inside A:',name)\n",
    "A()"
   ]
  },
  {
   "cell_type": "code",
   "execution_count": 3,
   "id": "ba719de5",
   "metadata": {},
   "outputs": [
    {
     "name": "stdout",
     "output_type": "stream",
     "text": [
      "15\n",
      "20\n",
      "20\n",
      "20\n"
     ]
    }
   ],
   "source": [
    "def A():\n",
    "    x = 10\n",
    "    def B():\n",
    "        nonlocal x\n",
    "        x=15\n",
    "        print(x)\n",
    "        def C():\n",
    "            nonlocal x\n",
    "            x=20\n",
    "            print(x)\n",
    "        C()\n",
    "        print(x)\n",
    "    B()\n",
    "    print(x)\n",
    "A()"
   ]
  },
  {
   "cell_type": "code",
   "execution_count": 4,
   "id": "9e32d651",
   "metadata": {},
   "outputs": [
    {
     "name": "stdout",
     "output_type": "stream",
     "text": [
      "30\n",
      "5 10\n"
     ]
    }
   ],
   "source": [
    "def A():\n",
    "    x=5\n",
    "    y=10\n",
    "    def B():\n",
    "        z=15\n",
    "        z=z+x+y\n",
    "        print(z)\n",
    "    B()\n",
    "    print(x,y)\n",
    "A()\n"
   ]
  },
  {
   "cell_type": "code",
   "execution_count": 5,
   "id": "4551e924",
   "metadata": {},
   "outputs": [
    {
     "name": "stdout",
     "output_type": "stream",
     "text": [
      "Before calling inner_function():  20\n",
      "After calling inner_function():  20\n",
      "Outside both function:  25\n"
     ]
    }
   ],
   "source": [
    "def outer_function():\n",
    "    num=20\n",
    "    def inner_function():\n",
    "        global num\n",
    "        num = 25\n",
    "    print(\"Before calling inner_function(): \",num)\n",
    "    inner_function()\n",
    "    print(\"After calling inner_function(): \", num)\n",
    "outer_function()\n",
    "print(\"Outside both function: \", num)"
   ]
  },
  {
   "cell_type": "markdown",
   "id": "c4d4c2a5",
   "metadata": {},
   "source": [
    "# Classes & object"
   ]
  },
  {
   "cell_type": "code",
   "execution_count": 6,
   "id": "d58e3d09",
   "metadata": {},
   "outputs": [],
   "source": [
    "class Myclass:\n",
    "    x=10"
   ]
  },
  {
   "cell_type": "code",
   "execution_count": 7,
   "id": "35edc6d9",
   "metadata": {},
   "outputs": [
    {
     "name": "stdout",
     "output_type": "stream",
     "text": [
      "Nikita\n"
     ]
    }
   ],
   "source": [
    "class name:\n",
    "    name1='Nikita'\n",
    "n1=name()\n",
    "print(n1.name1)"
   ]
  },
  {
   "cell_type": "code",
   "execution_count": 8,
   "id": "dbf28887",
   "metadata": {},
   "outputs": [
    {
     "name": "stdout",
     "output_type": "stream",
     "text": [
      "dog1\n",
      "Cat\n",
      "Hello:  dog1\n",
      "Hello:  Cat\n"
     ]
    }
   ],
   "source": [
    "class Dog:\n",
    "    name1='dog1'\n",
    "    name2='Cat'\n",
    "    def func(self):\n",
    "        print('Hello: ',self.name1)\n",
    "        print('Hello: ',self.name2)\n",
    "d=Dog()\n",
    "print(d.name1)\n",
    "print(d.name2)\n",
    "d.func()"
   ]
  },
  {
   "cell_type": "code",
   "execution_count": 9,
   "id": "56cef9e0",
   "metadata": {},
   "outputs": [
    {
     "name": "stdout",
     "output_type": "stream",
     "text": [
      "Addition:  15\n"
     ]
    }
   ],
   "source": [
    "class add:\n",
    "    x=5\n",
    "    y=10\n",
    "    def addition(self):\n",
    "        print(\"Addition: \",self.x+self.y)\n",
    "a = add()\n",
    "a.addition()"
   ]
  },
  {
   "cell_type": "code",
   "execution_count": 10,
   "id": "9f4a4058",
   "metadata": {},
   "outputs": [
    {
     "name": "stdout",
     "output_type": "stream",
     "text": [
      "Nikita\n",
      "78\n"
     ]
    }
   ],
   "source": [
    "class Person:\n",
    "    def __init__(self,name,age):\n",
    "        self.name=name\n",
    "        self.age=age\n",
    "p1=Person(\"Nikita\", 78)\n",
    "print(p1.name)\n",
    "print(p1.age)"
   ]
  },
  {
   "cell_type": "code",
   "execution_count": 11,
   "id": "b77b2d3d",
   "metadata": {},
   "outputs": [
    {
     "name": "stdout",
     "output_type": "stream",
     "text": [
      "Enter your name: radha\n",
      "Enter your age: 67\n",
      "radha\n",
      "67\n"
     ]
    }
   ],
   "source": [
    "class Person:\n",
    "    def __init__(self):\n",
    "        name=input('Enter your name: ')\n",
    "        age=int(input(\"Enter your age: \"))\n",
    "        self.name=name\n",
    "        self.age=age\n",
    "p1=Person()\n",
    "print(p1.name)\n",
    "print(p1.age)"
   ]
  },
  {
   "cell_type": "code",
   "execution_count": 12,
   "id": "565120cd",
   "metadata": {},
   "outputs": [
    {
     "name": "stdout",
     "output_type": "stream",
     "text": [
      "Hello, my name is Nikita\n"
     ]
    }
   ],
   "source": [
    "class Person:\n",
    "    def __init__(selfie, name):\n",
    "        selfie.name=name\n",
    "        \n",
    "    def say_hi(self):\n",
    "        print('Hello, my name is', self.name)\n",
    "p1=Person(\"Nikita\")\n",
    "p1.say_hi()"
   ]
  },
  {
   "cell_type": "code",
   "execution_count": 13,
   "id": "00102fe5",
   "metadata": {},
   "outputs": [
    {
     "name": "stdout",
     "output_type": "stream",
     "text": [
      "15\n"
     ]
    }
   ],
   "source": [
    "class add:\n",
    "    def __init__(selfie, num1):\n",
    "        selfie.num1=num1\n",
    "        \n",
    "    def number(self, num2):\n",
    "        self.num2=num2\n",
    "        print(self.num1 + self.num2)\n",
    "a=add(5)\n",
    "a.number(10)"
   ]
  },
  {
   "cell_type": "code",
   "execution_count": 14,
   "id": "30889dd1",
   "metadata": {},
   "outputs": [
    {
     "name": "stdout",
     "output_type": "stream",
     "text": [
      "Nikita Dubey\n",
      "Ramya Aiyaar\n"
     ]
    }
   ],
   "source": [
    "class name:\n",
    "    def __init__(self,fname,lname):\n",
    "        self.fname=fname\n",
    "        self.lname=lname\n",
    "        print(self.fname,self.lname)\n",
    "n1=name('Nikita','Dubey')\n",
    "n2=name(\"Ramya\",\"Aiyaar\")"
   ]
  },
  {
   "cell_type": "code",
   "execution_count": 17,
   "id": "911cafb9",
   "metadata": {},
   "outputs": [
    {
     "name": "stdout",
     "output_type": "stream",
     "text": [
      "Brown\n"
     ]
    }
   ],
   "source": [
    "class Dog:\n",
    "    def __init__(self,breed):\n",
    "        self.breed=breed\n",
    "    def setColor(self,color):\n",
    "        self.color=color\n",
    "    def getColor(self):\n",
    "        return self.color\n",
    "Rodger=Dog(\"pug\")\n",
    "Rodger.setColor(\"Brown\")\n",
    "print(Rodger.getColor())"
   ]
  },
  {
   "cell_type": "code",
   "execution_count": 20,
   "id": "5ada4887",
   "metadata": {},
   "outputs": [
    {
     "name": "stdout",
     "output_type": "stream",
     "text": [
      "Nikita(34)\n"
     ]
    }
   ],
   "source": [
    "class Person:\n",
    "    def __init__(self, name,age):\n",
    "        self.name=name\n",
    "        self.age=age\n",
    "        \n",
    "    def __str__(self):\n",
    "        return f\"{self.name}({self.age})\"\n",
    "p1=Person(\"Nikita\",34)\n",
    "print(p1)"
   ]
  },
  {
   "cell_type": "code",
   "execution_count": 23,
   "id": "2a95102c",
   "metadata": {},
   "outputs": [
    {
     "name": "stdout",
     "output_type": "stream",
     "text": [
      "Nikita Dubey\n"
     ]
    }
   ],
   "source": [
    "class Person:\n",
    "    def __init__(self, fname, lname):\n",
    "        self.fname=fname\n",
    "        self.lname=lname\n",
    "        \n",
    "    def __str__(self):\n",
    "        return f\"{self.fname} {self.lname}\"\n",
    "p1=Person(\"Nikita\",\"Dubey\")\n",
    "print(p1)"
   ]
  },
  {
   "cell_type": "code",
   "execution_count": 25,
   "id": "7c46dd83",
   "metadata": {},
   "outputs": [
    {
     "name": "stdout",
     "output_type": "stream",
     "text": [
      "10 20\n",
      "<class '__main__.Person'>\n"
     ]
    }
   ],
   "source": [
    "class Person:\n",
    "    def __init__(self, fname, lname):\n",
    "        self.fname=fname\n",
    "        self.lname=lname\n",
    "        \n",
    "    def __str__(self):\n",
    "        return f\"{self.fname} {self.lname}\"\n",
    "p1=Person(10,20)\n",
    "print(p1)\n",
    "print(type(p1))"
   ]
  },
  {
   "cell_type": "code",
   "execution_count": 26,
   "id": "cf943f60",
   "metadata": {},
   "outputs": [
    {
     "name": "stdout",
     "output_type": "stream",
     "text": [
      "Hello my name is Nirmal\n"
     ]
    }
   ],
   "source": [
    "class Person:\n",
    "    def __init__(mysillyobject, name, age):\n",
    "        mysillyobject.name=name\n",
    "        mysillyobject.age=age\n",
    "        \n",
    "    def myfunc(abc):\n",
    "        print(\"Hello my name is \"+abc.name)\n",
    "p1 = Person(\"Nirmal\",36)\n",
    "p1.myfunc()"
   ]
  },
  {
   "cell_type": "code",
   "execution_count": null,
   "id": "cb711109",
   "metadata": {},
   "outputs": [],
   "source": []
  },
  {
   "cell_type": "code",
   "execution_count": null,
   "id": "f4d4720c",
   "metadata": {},
   "outputs": [],
   "source": []
  }
 ],
 "metadata": {
  "kernelspec": {
   "display_name": "Python 3",
   "language": "python",
   "name": "python3"
  },
  "language_info": {
   "codemirror_mode": {
    "name": "ipython",
    "version": 3
   },
   "file_extension": ".py",
   "mimetype": "text/x-python",
   "name": "python",
   "nbconvert_exporter": "python",
   "pygments_lexer": "ipython3",
   "version": "3.8.8"
  }
 },
 "nbformat": 4,
 "nbformat_minor": 5
}
