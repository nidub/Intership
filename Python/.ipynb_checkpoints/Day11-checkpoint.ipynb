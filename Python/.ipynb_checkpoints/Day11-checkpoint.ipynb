{
 "cells": [
  {
   "cell_type": "code",
   "execution_count": 1,
   "id": "e9fdb0f9",
   "metadata": {},
   "outputs": [],
   "source": [
    "import re"
   ]
  },
  {
   "cell_type": "code",
   "execution_count": 3,
   "id": "11a5a40e",
   "metadata": {},
   "outputs": [
    {
     "name": "stdout",
     "output_type": "stream",
     "text": [
      "['123', '321']\n"
     ]
    }
   ],
   "source": [
    "x='123 and 321 how are you ?'\n",
    "regex='\\d+'\n",
    "match=re.findall(regex,x)\n",
    "print(match)"
   ]
  },
  {
   "cell_type": "code",
   "execution_count": 6,
   "id": "249cffa6",
   "metadata": {},
   "outputs": [
    {
     "name": "stdout",
     "output_type": "stream",
     "text": [
      "['123', '321']\n"
     ]
    }
   ],
   "source": [
    "x='''123 and 321\n",
    "   how are you ?'''\n",
    "match=re.findall('\\d+',x)\n",
    "print(match)"
   ]
  },
  {
   "cell_type": "code",
   "execution_count": 8,
   "id": "914dc2b9",
   "metadata": {},
   "outputs": [
    {
     "name": "stdout",
     "output_type": "stream",
     "text": [
      "['e', 'a', 'c', 'a']\n"
     ]
    }
   ],
   "source": [
    "#complie() creates regular expression\n",
    "# character class [a-e]\n",
    "#which is equivalent to [abcde]\n",
    "p=re.compile('[a-e]')\n",
    "x=\"Hello this is python programming class.\"\n",
    "#findall() searches for the Regular Expressions\n",
    "#and return a list upon finding\n",
    "print(p.findall(x))"
   ]
  },
  {
   "cell_type": "code",
   "execution_count": 9,
   "id": "1018d61b",
   "metadata": {},
   "outputs": [
    {
     "name": "stdout",
     "output_type": "stream",
     "text": [
      "['1', '1', '4', '1', '8', '8', '6']\n",
      "['11', '4', '1886']\n"
     ]
    }
   ],
   "source": [
    "#\\d is eqivalent to [0-9].\n",
    "p=re.compile('\\d')\n",
    "print(p.findall(\"I went to him at 11 A.M on 4th July 1886\"))\n",
    "#\\d+ will match a group on [0-9], group of one or greter size\n",
    "p=re.compile('\\d+')\n",
    "print(p.findall(\"I went to him at 11 A.M on 4th July 1886\"))"
   ]
  },
  {
   "cell_type": "code",
   "execution_count": 19,
   "id": "a52fac73",
   "metadata": {},
   "outputs": [
    {
     "name": "stdout",
     "output_type": "stream",
     "text": [
      "['H', 'e', 's', 'a', 'i', 'd', '1', '1', 'A', 'M', 'i', 'n', 's', 'o', 'm', 'e', '_', 'l', 'a', 'n', 'g']\n",
      "['I', 'went', 'to', 'him', 'at', '11', 'A', 'M', 'he', 'said', 'in', 'some_language']\n",
      "[' ', ' ', '*', '*', '*', ' ', ' ']\n",
      "[' ', ' *** ', ' ']\n"
     ]
    }
   ],
   "source": [
    "# \\w is equivalent to [a-zA-Z0-9]\n",
    "p=re.compile('\\w')\n",
    "print(p.findall(\"He said 11AM* in some_lang.\"))\n",
    "\n",
    "# \\w+ matches to group of alphanumeric character.\n",
    "p=re.compile('\\w+')\n",
    "print(p.findall(\"I went to him at 11 A.M., he \\\n",
    "                 said *** in some_language\"))\n",
    "\n",
    "# \\W matches to non alphanumeric characters.\n",
    "p = re.compile('\\W')\n",
    "print(p.findall(\"He said *** in some_language\"))\n",
    "\n",
    "p = re.compile('\\W+')\n",
    "print(p.findall(\"He said *** in some_language\"))"
   ]
  },
  {
   "cell_type": "code",
   "execution_count": 13,
   "id": "c444e1e2",
   "metadata": {},
   "outputs": [
    {
     "name": "stdout",
     "output_type": "stream",
     "text": [
      "['ab', 'abb', 'a', 'abbb']\n",
      "['ab', 'a', 'ab', 'abb', 'a', 'abbb', 'a']\n"
     ]
    }
   ],
   "source": [
    "# '*' replaces the no. of occurence\n",
    "# of a character\n",
    "p=re.compile('ab*')\n",
    "print(p.findall(\"ababbaabbb\"))\n",
    "print(p.findall(\"babaababbaabbba\"))"
   ]
  },
  {
   "cell_type": "code",
   "execution_count": 16,
   "id": "d82deafd",
   "metadata": {},
   "outputs": [
    {
     "name": "stdout",
     "output_type": "stream",
     "text": [
      "['aba', 'aa', 'aba']\n",
      "['abbbba', 'aba', 'aba', 'aa', 'abba', 'abbba']\n"
     ]
    }
   ],
   "source": [
    "p=re.compile('ab*a')\n",
    "print(p.findall(\"ababbaabbbaba\"))\n",
    "print(p.findall(\"abbbbabbababbababaababbaabbba\"))"
   ]
  },
  {
   "cell_type": "code",
   "execution_count": 18,
   "id": "dd94478a",
   "metadata": {},
   "outputs": [
    {
     "name": "stdout",
     "output_type": "stream",
     "text": [
      "['Words', 'words', 'Words']\n",
      "['Word', 's', 'words', 'Words']\n",
      "['On', '12th', 'Jan', '2016', 'at', '11', '02', 'AM']\n",
      "['On ', 'th Jan ', ', at ', ':', ' AM']\n"
     ]
    }
   ],
   "source": [
    "from re import split\n",
    "\n",
    "# '\\W+' denotes Non-Alphanumeric characters\n",
    "# or group of characters upon finding \",\"\n",
    "# or whitespace ' ', the split(), split the string from that point\n",
    "print(split('\\W+','Words, words , Words'))\n",
    "print(split('\\W+',\"Word's words Words\"))\n",
    "# here \":\",\" \",',' are non Alphanumeric this\n",
    "#the point where splitting occurs\n",
    "print(split('\\W+','On 12th Jan 2016, at 11:02 AM'))\n",
    "#'\\d+' denotes Numeric Character or group of\n",
    "#character Splitting occurs at '12', '2016', '11', '02' only\n",
    "print(split('\\d+','On 12th Jan 2016, at 11:02 AM'))"
   ]
  },
  {
   "cell_type": "code",
   "execution_count": 26,
   "id": "9caeae35",
   "metadata": {
    "scrolled": true
   },
   "outputs": [
    {
     "name": "stdout",
     "output_type": "stream",
     "text": [
      "['On', '12th', 'Jan', '2016', '', 'at', '11', '02', 'AM']\n"
     ]
    }
   ],
   "source": [
    "print(split('\\W','On 12th Jan 2016, at 11:02 AM'))"
   ]
  },
  {
   "cell_type": "code",
   "execution_count": 27,
   "id": "5a86a9e1",
   "metadata": {},
   "outputs": [
    {
     "name": "stdout",
     "output_type": "stream",
     "text": [
      "['On 12th Jan 201', ' at 1', '0', 'AM']\n"
     ]
    }
   ],
   "source": [
    "print(split('\\d\\W','On 12th Jan 2016, at 11:02 AM'))"
   ]
  },
  {
   "cell_type": "code",
   "execution_count": 28,
   "id": "6c7b2182",
   "metadata": {},
   "outputs": [
    {
     "name": "stdout",
     "output_type": "stream",
     "text": [
      "['On 12th Jan ', 'at ', '', 'AM']\n"
     ]
    }
   ],
   "source": [
    "print(split('\\d+\\W+','On 12th Jan 2016, at 11:02 AM'))"
   ]
  },
  {
   "cell_type": "code",
   "execution_count": 24,
   "id": "155cafa7",
   "metadata": {},
   "outputs": [
    {
     "name": "stdout",
     "output_type": "stream",
     "text": [
      "['hello', 'how', 'are', 'you', '']\n",
      "['Yes', 'we', 'all', 'are', 'fine', '']\n"
     ]
    }
   ],
   "source": [
    "from re import split\n",
    "print(split('\\W+','hello , how are you !!!!'))\n",
    "print(split('\\W+','Yes, we all are fine.'))"
   ]
  },
  {
   "cell_type": "code",
   "execution_count": 31,
   "id": "dd88e4b7",
   "metadata": {},
   "outputs": [
    {
     "name": "stdout",
     "output_type": "stream",
     "text": [
      "S~*ject has ~*er booked already\n",
      "S~*ject has Uber booked already\n",
      "S~*ject has Uber booked already\n",
      "Baked Beans And Spams\n"
     ]
    }
   ],
   "source": [
    "# Regular Expression pattern 'ub' matches the string\n",
    "# at \"Subject\" and \"Uber\", As the CASE\n",
    "# has been ignored, using Flag, 'ub' should\n",
    "# match twice with the string Upon matching,\n",
    "# 'ub' is replaced by '~*' in \"Subject\", and\n",
    "# in \"uber\", 'Ub' is replaced.\n",
    "print(re.sub('ub','~*','Subject has Uber booked already',\n",
    "            flags=re.IGNORECASE))\n",
    "# Consider the Case Sensitivity, 'ub' in\n",
    "# \"Uber\", will not be replaced\n",
    "print(re.sub('ub','~*','Subject has Uber booked already'))\n",
    "\n",
    "# As count has been given value 1, the maximum\n",
    "# times replacement occur is 1\n",
    "print(re.sub('ub','~*','Subject has Uber booked already',\n",
    "            count=1, flags=re.IGNORECASE))\n",
    "\n",
    "# 'r' before the pattern denotes RE, \\s is for\n",
    "# start and end of a String.\n",
    "print(re.sub(r'\\s AND \\s','&', 'Baked Beans And Spams',\n",
    "            flags=re.IGNORECASE))"
   ]
  },
  {
   "cell_type": "code",
   "execution_count": 34,
   "id": "8565ee94",
   "metadata": {},
   "outputs": [
    {
     "name": "stdout",
     "output_type": "stream",
     "text": [
      "('S~*ject has Uber booked already', 1)\n",
      "('S~*ject has ~*er booked already', 2)\n",
      "2\n",
      "S~*ject has ~*er booked already\n",
      "2\n"
     ]
    }
   ],
   "source": [
    "print(re.subn('ub','~*','Subject has Uber booked already'))\n",
    "t = re.subn('ub','~*','Subject has Uber booked already', flags=re.IGNORECASE)\n",
    "print(t)\n",
    "print(len(t))\n",
    "#This will give same output as sub() would have\n",
    "print(t[0])\n",
    "print(t[1])"
   ]
  },
  {
   "cell_type": "code",
   "execution_count": 35,
   "id": "9477584b",
   "metadata": {},
   "outputs": [
    {
     "name": "stdout",
     "output_type": "stream",
     "text": [
      "This\\ is\\ Awesome\\ even\\ 1\\ AM\n",
      "I\\ asked\\ what\\ is\\ this\\ \\[a\\-9\\],\\ he\\ said\\ \\\t\\ \\^\\ WoW\n"
     ]
    }
   ],
   "source": [
    "# escape() returns a string with backslash '\\',\n",
    "# before every Non-Alphanumeric Character\n",
    "# In 1st case only ' ', is not alphanumeric\n",
    "# In 2nd case, ' ', caret '^', '-', '[]', '\\'\n",
    "# are not alphanumeric\n",
    "print(re.escape(\"This is Awesome even 1 AM\"))\n",
    "print(re.escape(\"I asked what is this [a-9], he said \\t ^ WoW\"))"
   ]
  },
  {
   "cell_type": "code",
   "execution_count": 38,
   "id": "6cfd28bd",
   "metadata": {},
   "outputs": [
    {
     "name": "stdout",
     "output_type": "stream",
     "text": [
      "i,\\ \\(\\-\\)python,language,\\&java,is,worst,totally\\#:\n"
     ]
    }
   ],
   "source": [
    "print(re.escape(\"i, (-)python,language,&java,is,worst,totally#:\"))"
   ]
  },
  {
   "cell_type": "code",
   "execution_count": 39,
   "id": "17861046",
   "metadata": {
    "scrolled": true
   },
   "outputs": [
    {
     "name": "stdout",
     "output_type": "stream",
     "text": [
      "Match at index 14, 21\n",
      "Full Match: June 24\n",
      "Month: June\n",
      "Day: 24\n"
     ]
    }
   ],
   "source": [
    "# A python program to demostrate working of re.match(),\n",
    "# Lets use a regular expression to match a date string\n",
    "# in the form of Month name followed by day number \n",
    "regrex=r\"([a-zA-Z]+) (\\d+)\"\n",
    "match=re.search(regrex,\"I was born on June 24\")\n",
    "if match != None:\n",
    "    #thiis will print [14,21 since it matches at index 14]\n",
    "    #and ends at 21\n",
    "    print(\"Match at index %s, %s\" %(match.start(), match.end()))\n",
    "    #we use group() method to get all the matches and captured groups. The groups contain the matched values\n",
    "    #In particular:\n",
    "    #match.group(0) always returns the fully matched strings\n",
    "    #match.group(1) match.group(2), ...return the capture\n",
    "    #groups in order from left to right in the input string\n",
    "    #match.group() is equivalent to match.group(0)\n",
    "    #So this will print \"June 24\"\n",
    "    print(\"Full Match: %s\" % (match.group(0)))\n",
    "    #So this will print \"June\"\n",
    "    print(\"Month: %s\" %(match.group(1)))\n",
    "    #So this will print \"24\"\n",
    "    print(\"Day: %s\" %(match.group(2)))\n",
    "else:\n",
    "    print(\"The regrex pattern does not match\")"
   ]
  },
  {
   "cell_type": "code",
   "execution_count": 40,
   "id": "4ce64889",
   "metadata": {},
   "outputs": [
    {
     "name": "stdout",
     "output_type": "stream",
     "text": [
      "Match at index 14, 26\n",
      "Full Match: June 24 2021\n",
      "Month: June\n",
      "Day: 24\n",
      "Day: 2021\n"
     ]
    }
   ],
   "source": [
    "# A python program to demostrate working of re.match(),\n",
    "# Lets use a regular expression to match a date string\n",
    "# in the form of Month name followed by day number \n",
    "regrex=r\"([a-zA-Z]+) (\\d+) (\\d+)\"\n",
    "match=re.search(regrex,\"I was born on June 24 2021\")\n",
    "if match != None:\n",
    "    #thiis will print [14,21 since it matches at index 14]\n",
    "    #and ends at 21\n",
    "    print(\"Match at index %s, %s\" %(match.start(), match.end()))\n",
    "    #we use group() method to get all the matches and captured groups. The groups contain the matched values\n",
    "    #In particular:\n",
    "    #match.group(0) always returns the fully matched strings\n",
    "    #match.group(1) match.group(2), ...return the capture\n",
    "    #groups in order from left to right in the input string\n",
    "    #match.group() is equivalent to match.group(0)\n",
    "    #So this will print \"June 24\"\n",
    "    print(\"Full Match: %s\" %(match.group(0)))\n",
    "    #So this will print \"June\"\n",
    "    print(\"Month: %s\" %(match.group(1)))\n",
    "    #So this will print \"24\"\n",
    "    print(\"Day: %s\" %(match.group(2)))\n",
    "    print(\"Day: %s\" %(match.group(3)))\n",
    "else:\n",
    "    print(\"The regrex pattern does not match\")"
   ]
  },
  {
   "cell_type": "code",
   "execution_count": 42,
   "id": "0c966df0",
   "metadata": {},
   "outputs": [
    {
     "name": "stdout",
     "output_type": "stream",
     "text": [
      "11\n",
      "14\n",
      "(11, 14)\n"
     ]
    }
   ],
   "source": [
    "s=\"Welcome to Python Programming\"\n",
    "#here x is the match.object\n",
    "res=re.search(r\"\\bPyt\",s)\n",
    "print(res.start())\n",
    "print(res.end())\n",
    "print(res.span())"
   ]
  },
  {
   "cell_type": "code",
   "execution_count": 44,
   "id": "93974c42",
   "metadata": {},
   "outputs": [
    {
     "name": "stdout",
     "output_type": "stream",
     "text": [
      "to P\n"
     ]
    }
   ],
   "source": [
    "s=\"Welcome to Python Programming\"\n",
    "#here x is the match.object\n",
    "res=re.search(r\"\\D{2} P\",s)\n",
    "print(res.group())"
   ]
  },
  {
   "cell_type": "code",
   "execution_count": 45,
   "id": "c07a4de1",
   "metadata": {},
   "outputs": [
    {
     "name": "stdout",
     "output_type": "stream",
     "text": [
      "['john@example.com', 'jane@example.net', 'bob@example.org']\n"
     ]
    }
   ],
   "source": [
    "text=\"Email addresses: john@example.com, jane@example.net bob@example.org\"\n",
    "emails=re.findall(r'\\b[A-Za-z0-9._%+-]+@[A-Za-z0-9.-]+\\.[A-Z|a-z]{2,}\\b',text)\n",
    "print(emails)"
   ]
  },
  {
   "cell_type": "markdown",
   "id": "8df80e13",
   "metadata": {},
   "source": [
    "## File Handling"
   ]
  },
  {
   "cell_type": "code",
   "execution_count": 47,
   "id": "aff07057",
   "metadata": {},
   "outputs": [
    {
     "name": "stdout",
     "output_type": "stream",
     "text": [
      "Naval Ravikant has built a loyal fan base by sharing classic wisdom with a mix of science and rationality. It isn’t very likely to hear an investor talking about being happy and other life philosophies. Naval has taken an extra step to enlighten the world with what he learned from the early hardship in his life and used Twitter and his interviews to share it with the world.\n",
      "\n",
      "\n",
      "\n",
      "The tweetstorm he did back in 2018 on getting rich without getting lucky attracted a lot of eyeballs. As of today, it has over 130k likes and thousands of retweets.\n",
      "\n",
      "\n",
      "\n",
      "Most people discovered Naval on the Joe Rogan Experience in 2019, which has over 5.2millions views. His other podcasts with Tim Ferriss and Shane Parrish from The Knowledge Project have allowed us to peek into his brilliant mind.\n",
      "\n",
      "\n",
      "\n",
      "I stumbled upon one of his early interviews with Tim in 2018 and was amazed by his knowledge and clarity. I have listened to most of his interviews and learned something new every time.\n",
      "\n",
      "\n",
      "\n",
      "When I picked up The Almanack of Naval Ravikant, I wasn’t sure if it was going to benefit me. However, I had already listened to all his interviews and made notes in my journal. And I could also go back to his Twitter or any specific interview to get my answers.\n",
      "\n",
      "\n",
      "\n",
      "But I was wrong.\n",
      "\n",
      "\n",
      "\n",
      "\n",
      "\n",
      "Source: Weinberg-Clark Photography\n",
      "\n",
      "Once I picked up this book, there was no going back.\n",
      "\n",
      "\n",
      "\n",
      "The author, \n",
      "\n",
      "Eric Jorgenson\n",
      "\n",
      ", did an excellent job researching and organizing all Naval’s wisdom in various categories. The book is meticulously designed and has everything I have learned from Naval on wealth, health, and philosophy in the purest form.\n",
      "\n",
      "\n",
      "\n",
      "The books make it easier to skim through the topics you want to learn and skip the ones you don’t. This is one of those books you can keep flipping for years and find new things every time you pick them up.\n",
      "\n",
      "\n",
      "\n",
      "Today I am sharing the 10 Lessons on — happiness, wealth, and life; from the ‘The Almanack of Naval Ravikant.’\n",
      "\n",
      "\n",
      "\n",
      "On Wealth\n",
      "\n",
      "Wealth Creation\n",
      "\n",
      "Naval calls wealth creation a skill that anyone can learn. As an Indian immigrant, Naval grew up poor, but he’s thriving today by following the lessons he shares with the world.\n",
      "\n",
      "\n",
      "\n",
      "Money is a tool that you exchange for products and services. It’s fixed.\n",
      "\n",
      "\n",
      "\n",
      "Wealth, however, works on itself while you’re sleeping. It could be the program you wrote that’s working for you while you’re on vacation, a business you’ve to step up, or merely a piece of content that’s being shared by robots and algorithms and circulated across the globe.\n",
      "\n",
      "\n",
      "\n",
      "To create wealth, you have to give society value; you have to give something that society needs but they don’t know yet.\n",
      "\n",
      "\n",
      "\n",
      "“There was a time when oil was a technology that made J.D. Rockefeller rich. There was a time when cars were technology that made Henry Ford rich.”\n",
      "\n",
      "\n",
      "\n",
      "These innovative products will come from your specific knowledge and are within your capabilities. Once you figure out what society wants, you need to scale it by building leverage.\n",
      "\n",
      "\n",
      "\n",
      "Specific Knowledge\n",
      "\n",
      "The knowledge we learn and discover on our own makes us unique. These are things we learn by exploring and failing at multiple items, and they can’t be taught in schools and colleges.\n",
      "\n",
      "\n",
      "\n",
      "The specific experience that Joe Rogan has about podcasting, anchoring, and martial arts — can’t be copied. And this particular knowledge makes JRE a widely appreciated podcast.\n",
      "\n",
      "\n",
      "\n",
      "“Specific knowledge cannot be taught, but it can be learned.”\n",
      "\n",
      "\n",
      "\n",
      "The internet has allowed us to use all our interests and make a unique niche for ourselves. This is why we get to be ourselves and create a brand that is an extension of us.\n",
      "\n",
      "\n",
      "\n",
      "It also allows us not to worry about competitors because our only competition is ourselves. Nobody can become you, no matter how hard they try.\n",
      "\n",
      "\n",
      "\n",
      "In the book, you can read the detailed example of how Naval used specific business knowledge, science, and technology to create a successful brand for himself as a Tech CEO of AngelList.\n",
      "\n",
      "\n",
      "\n",
      "Create Leverage\n",
      "\n",
      "“You’re never to get rich renting your time.”\n",
      "\n",
      "\n",
      "\n",
      "The first time I read these words from Naval, I was stunned.\n",
      "\n",
      "\n",
      "\n",
      "I had heard people talking about getting a job and settling down all my life. Nodoby ever mentioned wealth. Working on a job was the way the only way to become rich.\n",
      "\n",
      "\n",
      "\n",
      "This one sentence taught me the difference between being wealthy and being rich. A doctor, lawyer, or engineer can make tons of money, but they are making money trading their time. Time is a limited commodity; it becomes harder to build wealth because you can’t work 24x7. That’s when leverage comes into the picture. In his own words — “Forget rich versus poor, white-collar versus blue. It’s now leveraged versus un-leveraged.”\n",
      "\n",
      "\n",
      "\n",
      "Leverage is a tool you use to amplify your efforts.\n",
      "\n",
      "\n",
      "\n",
      "Naval talks about three types of leverage — labor, capital, or money, and the last one: “products with no marginal cost of replication.” in simple terms, digital products or content.\n",
      "\n",
      "\n",
      "\n",
      "You can have people working for you, hold equity in a business that makes money while you’re sleeping, or make money by investing it in stocks, funds, and bonds. The latest type of leverage is content creation and media.\n",
      "\n",
      "\n",
      "\n",
      "“Fortunes require leverage. Business leverage comes from capital, people, and products with no marginal cost of replication (code and media).”\n",
      "\n",
      "\n",
      "\n",
      "Play long-term games with long-term people\n",
      "\n",
      "Naval is a practitioner of compounding.\n",
      "\n",
      "\n",
      "\n",
      "He believes that all the great things in life result from compounding: your relationship, building start-ups, or even friendships.\n",
      "\n",
      "\n",
      "\n",
      "When building companies, we need to find ideas that will work in the long term and people we want to work with for a long time. For example, if you’re working with someone who’s brilliant but can’t be trusted, you won’t be able to work with him for an extended period, and vice versa.\n",
      "\n",
      "\n",
      "\n",
      "Playing long-term games means saying no to people who do not share the same values as you and ditching business ideas that might not work out in the next few months. If both parties are in for the long term, they would be more agreeable and open to supporting each other.\n",
      "\n",
      "\n",
      "\n",
      "“Long-term players make each other rich”\n",
      "\n",
      "\n",
      "\n",
      "Play to you and work for others\n",
      "\n",
      "When you find what you love to do, you enjoy every minute of it.\n",
      "\n",
      "\n",
      "\n",
      "Elon Musk built SpaceX, Tesla, and other tech giants because he loves technology. He doesn’t have to push himself to do it daily as someone who hates their job.\n",
      "\n",
      "\n",
      "\n",
      "“This is the real secret of life — to be completely engaged with what you are doing in the here and now. And instead of calling it work, realize it is play.”\n",
      "\n",
      "\n",
      "\n",
      "— Alan Watts\n",
      "\n",
      "\n",
      "\n",
      "When you find something you genuinely enjoy doing and are passionate about, you work on it out of curiosity. It may look like a tough job to many, but only you know how much you enjoy doing it.\n",
      "\n",
      "\n",
      "\n",
      "What’s that thing for you?\n",
      "\n",
      "\n",
      "\n",
      "\n",
      "\n",
      "Photo by Alicia Jones on Unsplash\n",
      "\n",
      "On Life and Happiness\n",
      "\n",
      "Happiness is Learned\n",
      "\n",
      "Happiness is not a destination. It’s not a success. It’s not money.\n",
      "\n",
      "Naval calls it a skill that we all can learn.\n",
      "\n",
      "\n",
      "\n",
      "As our desires kept moving, happiness kept rolling with it. So we get on to Hedonic Treadmill. The rise in income results in no permanent gain in happiness or any major event in our lives.\n",
      "\n",
      "\n",
      "\n",
      "The concept of happiness is different for everyone.\n",
      "\n",
      "\n",
      "\n",
      "For him, happiness is freedom from pain and desires. For some, it’s peace of mind. Finding meaning for yourself is essential to honing that skill.\n",
      "\n",
      "\n",
      "\n",
      "When we start taking control of our happiness, life will look like the gift it is, and we will be amazed at how beautiful it is.\n",
      "\n",
      "\n",
      "\n",
      "“Happiness is there when you remove the sense of something missing in your life.”\n",
      "\n",
      "\n",
      "\n",
      "Life is a Single-Player Game\n",
      "\n",
      "We’ve learned almost everything in our life from our parents and our surroundings. We are so dependent on others that we hesitate to make our own decisions. Our careers are decided for us way before graduating high school (Indians will agree). Everything we do in life is a way to get validation from our parents and society.\n",
      "\n",
      "\n",
      "\n",
      "Naval explains how life is a single-player game. The only thing that we need to do in life is to live based on our virtues and dreams.\n",
      "\n",
      "\n",
      "\n",
      "“The reality is life is a single-player game. You’re born alone. You’re going to die alone. All of your interpretations are alone. All your memories are alone. You’re gone in three generations and nobody cares. Before you showed up, nobody cared. It’s all single-player.”\n",
      "\n",
      "\n",
      "\n",
      "Being Yourself\n",
      "\n",
      "Life is all about being yourself.\n",
      "\n",
      "\n",
      "\n",
      "Many people want to be too many things when they only need to be just the way they are and build a life that allows them to be themselves.\n",
      "\n",
      "\n",
      "\n",
      "We try too hard to mold ourselves into modules and structures designed by society and the people we know. And to get validation from them, we try to become like everyone else. It takes courage to stand against the dogma and to carve your path.\n",
      "\n",
      "\n",
      "\n",
      "The idea of following your curiosity and creating leverage and specific knowledge is to be who you are. This is precisely why content creation and writing are lucrative career paths, as it allows people to talk about things they love and make money while doing so.\n",
      "\n",
      "\n",
      "\n",
      "“The combinatorics of human DNA and experience are staggering. You will never meet any two humans who are substitutable for each other.”\n",
      "\n",
      "\n",
      "\n",
      "Concept of freedom\n",
      "\n",
      "The number one reason people want to become wealthy is to be free.\n",
      "\n",
      "\n",
      "\n",
      "The freedom to be where you want to be and do what you want to with whom you want to, unlike a 9–5 job.\n",
      "\n",
      "\n",
      "\n",
      "As a rational Buddhist, Naval talks about how his freedom is shifted from freedom to to freedom from. Previously it was about the freedom to do whatever he wanted to or the freedom to be where he wanted.\n",
      "\n",
      "\n",
      "\n",
      "Now, as he grew older, he’s practicing the freedom from\n",
      "\n",
      "\n",
      "\n",
      "“Now I would say that the freedom that I’m looking for is internal freedom. It’s freedom from. It’s freedom from reaction. It’s freedom from feeling angry. It’s freedom from being sad.\n",
      "\n",
      "\n",
      "\n",
      "It’s freedom from being forced to do things. I’m looking for freedom from internally and externally, whereas before I was looking for freedom to.”\n",
      "\n",
      "\n",
      "\n",
      "Peace From Mind\n",
      "\n",
      "We all think we need peace of mind to be happy; Naval takes it further and talks about peace from the mind. All the anxiety and overthinking happen when the mind is not at rest. The moment we are the happiest is when our mind is at rest. What we need is peace of mind over simulations.\n",
      "\n",
      "\n",
      "\n",
      "“The mind should be a servant, not the master.”\n",
      "\n",
      "\n",
      "\n",
      "Peace from the mind can happen when you are conscious of the information you’re consuming and the proper habits. Working on an internal state is essential to having an outer state because your internal state reflects your life.\n",
      "\n",
      "\n",
      "\n",
      "“A busy mind accelerates the passage of subjective time.”\n",
      "\n",
      "\n",
      "\n",
      "It was possible to include all the nuggets from the book in this article. If you want to learn more about practical wisdom that can help you upgrade your life, this book will surely help you.\n"
     ]
    }
   ],
   "source": [
    "file=open('text.txt','r')\n",
    "for each in file:\n",
    "    print(each)"
   ]
  },
  {
   "cell_type": "code",
   "execution_count": 49,
   "id": "d2c49fb6",
   "metadata": {},
   "outputs": [
    {
     "name": "stdout",
     "output_type": "stream",
     "text": [
      "Naval\n"
     ]
    }
   ],
   "source": [
    "file=open(\"text.txt\",\"r\")\n",
    "print(file.read(5))"
   ]
  },
  {
   "cell_type": "code",
   "execution_count": 51,
   "id": "e61d3594",
   "metadata": {},
   "outputs": [],
   "source": [
    "# Python code to create a file\n",
    "file = open('text.txt','w')\n",
    "file.write(\"This is the write command\")\n",
    "file.write(\"It allows us to write in a particular file\")\n",
    "file.close()"
   ]
  },
  {
   "cell_type": "code",
   "execution_count": 52,
   "id": "d8688532",
   "metadata": {},
   "outputs": [],
   "source": [
    "# Python code to illustrate append() mode\n",
    "file=open(\"text.txt\",'a')\n",
    "file.write(\"This will add this line\")\n",
    "file.close()"
   ]
  },
  {
   "cell_type": "code",
   "execution_count": 53,
   "id": "d371e34d",
   "metadata": {},
   "outputs": [],
   "source": [
    "#Python code to illustrate with()\n",
    "with open(\"text.txt\") as file:\n",
    "    data=file.read()\n",
    "#do something with data"
   ]
  },
  {
   "cell_type": "code",
   "execution_count": 54,
   "id": "70227900",
   "metadata": {},
   "outputs": [
    {
     "data": {
      "text/plain": [
       "'This is the write commandIt allows us to write in a particular fileThis will add this line'"
      ]
     },
     "execution_count": 54,
     "metadata": {},
     "output_type": "execute_result"
    }
   ],
   "source": [
    "data"
   ]
  },
  {
   "cell_type": "code",
   "execution_count": 55,
   "id": "0bc7705e",
   "metadata": {},
   "outputs": [],
   "source": [
    "#Python code to illustrate with() alongwith write()\n",
    "with open(\"text.txt\",\"w\") as f:\n",
    "    f.write(\"This is the write command It allows us to write in a particular file This will add this line\")"
   ]
  },
  {
   "cell_type": "code",
   "execution_count": 57,
   "id": "1ae85a60",
   "metadata": {},
   "outputs": [
    {
     "data": {
      "text/plain": [
       "['This is the write command It allows us to write in a particular file This will add this line']"
      ]
     },
     "execution_count": 57,
     "metadata": {},
     "output_type": "execute_result"
    }
   ],
   "source": [
    "data"
   ]
  },
  {
   "cell_type": "code",
   "execution_count": 56,
   "id": "ad1f06fe",
   "metadata": {},
   "outputs": [
    {
     "name": "stdout",
     "output_type": "stream",
     "text": [
      "['This', 'is', 'the', 'write', 'command', 'It', 'allows', 'us', 'to', 'write', 'in', 'a', 'particular', 'file', 'This', 'will', 'add', 'this', 'line']\n"
     ]
    }
   ],
   "source": [
    "#Python code to illustrate with() alongwith write()\n",
    "with open(\"text.txt\",\"r\") as file:\n",
    "    data=file.readlines()\n",
    "    for line in data:\n",
    "        word = line.split()\n",
    "        print(word)"
   ]
  },
  {
   "cell_type": "code",
   "execution_count": 59,
   "id": "4e2fbc8c",
   "metadata": {},
   "outputs": [
    {
     "name": "stdout",
     "output_type": "stream",
     "text": [
      "Calling protected members of base classes 2\n",
      "Calling modified protected member outside classes:  3\n",
      "Accessing protected member of obj1:  3\n",
      "Accessing protected member of obj2:  2\n"
     ]
    }
   ],
   "source": [
    "#Python program to demonstrate protected members\n",
    "#Creating a base class\n",
    "class Base:\n",
    "    def __init__(self):\n",
    "        #Protected members\n",
    "        self._a=2\n",
    "    #creating a derived class\n",
    "class Derived(Base):\n",
    "    def __init__(self):\n",
    "        #Calling constructor of base class\n",
    "        Base.__init__(self)\n",
    "        print(\"Calling protected members of base classes\",self._a)\n",
    "        #Modify the protected variables:\n",
    "        self._a=3\n",
    "        print(\"Calling modified protected member outside classes: \",self._a)\n",
    "obj1=Derived()\n",
    "obj2=Base()\n",
    "#Calling protected member\n",
    "#can be accessed but should not be done due to convertion\n",
    "print(\"Accessing protected member of obj1: \",obj1._a)\n",
    "#Accessing the protected variable outside\n",
    "print(\"Accessing protected member of obj2: \",obj2._a)"
   ]
  },
  {
   "cell_type": "code",
   "execution_count": 61,
   "id": "7d723bd0",
   "metadata": {},
   "outputs": [
    {
     "ename": "AttributeError",
     "evalue": "'Derived' object has no attribute '_Derived__c'",
     "output_type": "error",
     "traceback": [
      "\u001b[1;31m---------------------------------------------------------------------------\u001b[0m",
      "\u001b[1;31mAttributeError\u001b[0m                            Traceback (most recent call last)",
      "\u001b[1;32m<ipython-input-61-4f4ac38abdbe>\u001b[0m in \u001b[0;36m<module>\u001b[1;34m\u001b[0m\n\u001b[0;32m     13\u001b[0m         \u001b[0mprint\u001b[0m\u001b[1;33m(\u001b[0m\u001b[1;34m\"Calling protected members of base classes\"\u001b[0m\u001b[1;33m,\u001b[0m \u001b[0mself\u001b[0m\u001b[1;33m.\u001b[0m\u001b[0m__c\u001b[0m\u001b[1;33m)\u001b[0m\u001b[1;33m\u001b[0m\u001b[1;33m\u001b[0m\u001b[0m\n\u001b[0;32m     14\u001b[0m \u001b[1;33m\u001b[0m\u001b[0m\n\u001b[1;32m---> 15\u001b[1;33m \u001b[0mobj1\u001b[0m\u001b[1;33m=\u001b[0m\u001b[0mDerived\u001b[0m\u001b[1;33m(\u001b[0m\u001b[1;33m)\u001b[0m\u001b[1;33m\u001b[0m\u001b[1;33m\u001b[0m\u001b[0m\n\u001b[0m\u001b[0;32m     16\u001b[0m \u001b[0mobj2\u001b[0m\u001b[1;33m=\u001b[0m\u001b[0mBase\u001b[0m\u001b[1;33m(\u001b[0m\u001b[1;33m)\u001b[0m\u001b[1;33m\u001b[0m\u001b[1;33m\u001b[0m\u001b[0m\n\u001b[0;32m     17\u001b[0m \u001b[1;31m#Calling protected member\u001b[0m\u001b[1;33m\u001b[0m\u001b[1;33m\u001b[0m\u001b[1;33m\u001b[0m\u001b[0m\n",
      "\u001b[1;32m<ipython-input-61-4f4ac38abdbe>\u001b[0m in \u001b[0;36m__init__\u001b[1;34m(self)\u001b[0m\n\u001b[0;32m     11\u001b[0m         \u001b[1;31m#Calling constructor of base class\u001b[0m\u001b[1;33m\u001b[0m\u001b[1;33m\u001b[0m\u001b[1;33m\u001b[0m\u001b[0m\n\u001b[0;32m     12\u001b[0m         \u001b[0mBase\u001b[0m\u001b[1;33m.\u001b[0m\u001b[0m__init__\u001b[0m\u001b[1;33m(\u001b[0m\u001b[0mself\u001b[0m\u001b[1;33m)\u001b[0m\u001b[1;33m\u001b[0m\u001b[1;33m\u001b[0m\u001b[0m\n\u001b[1;32m---> 13\u001b[1;33m         \u001b[0mprint\u001b[0m\u001b[1;33m(\u001b[0m\u001b[1;34m\"Calling protected members of base classes\"\u001b[0m\u001b[1;33m,\u001b[0m \u001b[0mself\u001b[0m\u001b[1;33m.\u001b[0m\u001b[0m__c\u001b[0m\u001b[1;33m)\u001b[0m\u001b[1;33m\u001b[0m\u001b[1;33m\u001b[0m\u001b[0m\n\u001b[0m\u001b[0;32m     14\u001b[0m \u001b[1;33m\u001b[0m\u001b[0m\n\u001b[0;32m     15\u001b[0m \u001b[0mobj1\u001b[0m\u001b[1;33m=\u001b[0m\u001b[0mDerived\u001b[0m\u001b[1;33m(\u001b[0m\u001b[1;33m)\u001b[0m\u001b[1;33m\u001b[0m\u001b[1;33m\u001b[0m\u001b[0m\n",
      "\u001b[1;31mAttributeError\u001b[0m: 'Derived' object has no attribute '_Derived__c'"
     ]
    }
   ],
   "source": [
    "#Python program to demonstrate protected members\n",
    "#Creating a base class\n",
    "class Base:\n",
    "    def __init__(self):\n",
    "        #Protected members\n",
    "        self.a=\"PythonProgramming\"\n",
    "        self.__c=\"PythonProgramming\"\n",
    "    #creating a derived class\n",
    "class Derived(Base):\n",
    "    def __init__(self):\n",
    "        #Calling constructor of base class\n",
    "        Base.__init__(self)\n",
    "        print(\"Calling protected members of base classes\", self.__c)\n",
    "\n",
    "obj1=Derived()\n",
    "obj2=Base()\n",
    "#Calling protected member\n",
    "#can be accessed but should not be done due to convertion\n",
    "print(\"Accessing protected member of obj1: \",obj1.a)\n",
    "#Accessing the protected variable outside\n",
    "print(\"Accessing protected member of obj2: \",obj2.a)"
   ]
  },
  {
   "cell_type": "code",
   "execution_count": 62,
   "id": "fd48cfc6",
   "metadata": {},
   "outputs": [
    {
     "name": "stdout",
     "output_type": "stream",
     "text": [
      "5\n",
      "9\n"
     ]
    }
   ],
   "source": [
    "# A simple Python function to demostrate\n",
    "# Polymorphism\n",
    "def add(x,y,z=0):\n",
    "    return x+y+z\n",
    "#Driver code\n",
    "print(add(2,3))\n",
    "print(add(2,3,4))"
   ]
  }
 ],
 "metadata": {
  "kernelspec": {
   "display_name": "Python 3",
   "language": "python",
   "name": "python3"
  },
  "language_info": {
   "codemirror_mode": {
    "name": "ipython",
    "version": 3
   },
   "file_extension": ".py",
   "mimetype": "text/x-python",
   "name": "python",
   "nbconvert_exporter": "python",
   "pygments_lexer": "ipython3",
   "version": "3.8.8"
  }
 },
 "nbformat": 4,
 "nbformat_minor": 5
}
