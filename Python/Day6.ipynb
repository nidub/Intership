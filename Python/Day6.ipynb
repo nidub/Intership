{
 "cells": [
  {
   "cell_type": "markdown",
   "id": "35041adc",
   "metadata": {},
   "source": [
    "# Dictionary"
   ]
  },
  {
   "cell_type": "code",
   "execution_count": 1,
   "id": "cb208340",
   "metadata": {},
   "outputs": [
    {
     "name": "stdout",
     "output_type": "stream",
     "text": [
      "{1: 'python', 2: 'For', 3: 'Everyone'}\n"
     ]
    }
   ],
   "source": [
    "Dict={1:\"python\",2:\"For\",3:\"Everyone\"}\n",
    "print(Dict)"
   ]
  },
  {
   "cell_type": "code",
   "execution_count": 2,
   "id": "360c2465",
   "metadata": {},
   "outputs": [],
   "source": [
    "# Dict1={a:\"d\",b:\"e\",c:\"f\"}\n",
    "# print(Dict1)"
   ]
  },
  {
   "cell_type": "code",
   "execution_count": 3,
   "id": "9b09fad9",
   "metadata": {},
   "outputs": [
    {
     "name": "stdout",
     "output_type": "stream",
     "text": [
      "{'a': 'd', 'b': 'e', 'c': 'f'}\n"
     ]
    }
   ],
   "source": [
    "Dict1={'a':\"d\",'b':\"e\",'c':\"f\"}\n",
    "print(Dict1)"
   ]
  },
  {
   "cell_type": "code",
   "execution_count": 4,
   "id": "8cb27a98",
   "metadata": {},
   "outputs": [
    {
     "name": "stdout",
     "output_type": "stream",
     "text": [
      "{1.2: 'python', 2.3: 'For', 3.4: 'Everyone'}\n"
     ]
    }
   ],
   "source": [
    "Dict={1.2:\"python\",2.3:\"For\",3.4:\"Everyone\"}\n",
    "print(Dict)"
   ]
  },
  {
   "cell_type": "code",
   "execution_count": 5,
   "id": "9a3ee842",
   "metadata": {},
   "outputs": [
    {
     "name": "stdout",
     "output_type": "stream",
     "text": [
      "{'a': 1, 'b': 2.5, 'c': True, 'd': 'hello, how are you?'}\n"
     ]
    }
   ],
   "source": [
    "Dict1={'a':1,'b':2.5,'c':True,'d':\"hello, how are you?\"}\n",
    "print(Dict1)"
   ]
  },
  {
   "cell_type": "code",
   "execution_count": 6,
   "id": "4876c26b",
   "metadata": {},
   "outputs": [
    {
     "name": "stdout",
     "output_type": "stream",
     "text": [
      "{'a': 1, 'b': 2.5, 'c': True, 'd': 'hello, how are you?', 1: [1, 2, 3, 4, 5]}\n"
     ]
    }
   ],
   "source": [
    "Dict1={'a':1,'b':2.5,'c':True,'d':\"hello, how are you?\",1:[1,2,3,4,5]}\n",
    "print(Dict1)"
   ]
  },
  {
   "cell_type": "code",
   "execution_count": 7,
   "id": "b1bf5c85",
   "metadata": {},
   "outputs": [
    {
     "name": "stdout",
     "output_type": "stream",
     "text": [
      "{'a': 1, 'b': 2.5, 'c': True, 'd': 'hello, how are you?', 1: (1, 2, 3, 4, 5)}\n"
     ]
    }
   ],
   "source": [
    "Dict1={'a':1,'b':2.5,'c':True,'d':\"hello, how are you?\",1:(1,2,3,4,5)}\n",
    "print(Dict1)"
   ]
  },
  {
   "cell_type": "code",
   "execution_count": 8,
   "id": "f95caa28",
   "metadata": {},
   "outputs": [
    {
     "name": "stdout",
     "output_type": "stream",
     "text": [
      "{'a': 1, 'b': 2.5, 'c': True, 'd': 'hello, how are you?', 1: {1, 2, 3, 4, 5}}\n"
     ]
    }
   ],
   "source": [
    "Dict1={'a':1,'b':2.5,'c':True,'d':\"hello, how are you?\",1:{1,2,3,4,5}}\n",
    "print(Dict1)"
   ]
  },
  {
   "cell_type": "code",
   "execution_count": 9,
   "id": "1ef8c350",
   "metadata": {},
   "outputs": [
    {
     "name": "stdout",
     "output_type": "stream",
     "text": [
      "{'a': 1, 'b': 2.5, 'c': True, 'd': 'hello, how are you?', 1: {1, 2, 3, 4, 5}, 2: {1: 'a', 2: 'b'}}\n"
     ]
    }
   ],
   "source": [
    "Dict1={'a':1,'b':2.5,'c':True,'d':\"hello, how are you?\",1:{1,2,3,4,5},2:{1:'a',2:'b'}}\n",
    "print(Dict1)"
   ]
  },
  {
   "cell_type": "code",
   "execution_count": 10,
   "id": "86ac17d3",
   "metadata": {},
   "outputs": [
    {
     "name": "stdout",
     "output_type": "stream",
     "text": [
      "{1: 2, 'a': 'B', 1.4: 'Python'}\n"
     ]
    }
   ],
   "source": [
    "d=dict([(1,2),('a','B'),(1.4,\"Python\")])\n",
    "print(d)"
   ]
  },
  {
   "cell_type": "code",
   "execution_count": 11,
   "id": "64e9405d",
   "metadata": {},
   "outputs": [
    {
     "name": "stdout",
     "output_type": "stream",
     "text": [
      "{1: 2, 'a': 'B', 1.4: 'Python'}\n"
     ]
    }
   ],
   "source": [
    "d=dict(((1,2),('a','B'),(1.4,\"Python\")))\n",
    "print(d)"
   ]
  },
  {
   "cell_type": "code",
   "execution_count": 12,
   "id": "abc259c1",
   "metadata": {},
   "outputs": [
    {
     "name": "stdout",
     "output_type": "stream",
     "text": [
      "{1: 2, 'a': 'B', 1.4: 'Python'}\n"
     ]
    }
   ],
   "source": [
    "d=dict({(1,2),('a','B'),(1.4,\"Python\")})\n",
    "print(d)"
   ]
  },
  {
   "cell_type": "code",
   "execution_count": 13,
   "id": "613509cb",
   "metadata": {
    "scrolled": true
   },
   "outputs": [
    {
     "name": "stdout",
     "output_type": "stream",
     "text": [
      "{1: [1, 2], 'B': {'a', 'b'}, (1, 2): 'Python'}\n"
     ]
    }
   ],
   "source": [
    "d = dict(((1,[1,2]),('B',{'a','b'}),((1,2),\"Python\")))\n",
    "print(d)"
   ]
  },
  {
   "cell_type": "markdown",
   "id": "07e287b4",
   "metadata": {},
   "source": [
    "### ensure you only assign a hashable object, such as a string or a tuple, as a key for a dictionary"
   ]
  },
  {
   "cell_type": "code",
   "execution_count": 14,
   "id": "5b0de559",
   "metadata": {},
   "outputs": [
    {
     "name": "stdout",
     "output_type": "stream",
     "text": [
      "Empty Dictionary: \n",
      "{}\n"
     ]
    }
   ],
   "source": [
    "Dict={}\n",
    "print(\"Empty Dictionary: \")\n",
    "print(Dict)"
   ]
  },
  {
   "cell_type": "code",
   "execution_count": 15,
   "id": "ae9d2f7d",
   "metadata": {},
   "outputs": [
    {
     "name": "stdout",
     "output_type": "stream",
     "text": [
      "Empty Dictionary: \n",
      "{}\n",
      "{0: 'Geeks', 2: 'For', 3: 1}\n",
      "{0: 'Geeks', 2: 'For', 3: 1, 'Value_set': (2, 3, 4)}\n",
      "\n",
      "Updated key value: \n",
      "{0: 'Geeks', 2: 'Welcome', 3: 1, 'Value_set': (2, 3, 4)}\n",
      "\n",
      "Adding a Nested Key: \n",
      "{0: 'Geeks', 2: 'Welcome', 3: 1, 'Value_set': (2, 3, 4), 5: {'Nested': {'1': 'life', '2': 'Geeks'}}}\n"
     ]
    }
   ],
   "source": [
    "Dict={}\n",
    "print(\"Empty Dictionary: \")\n",
    "print(Dict)\n",
    "#Adding elements one at a time\n",
    "Dict[0]='Geeks'\n",
    "Dict[2]='For'\n",
    "Dict[3]=1\n",
    "print(Dict)\n",
    "#Adding set of values to a single key\n",
    "Dict['Value_set']=2,3,4\n",
    "print(Dict)\n",
    "#Updating existing Key's value\n",
    "Dict[2]=\"Welcome\"\n",
    "print(\"\\nUpdated key value: \")\n",
    "print(Dict)\n",
    "#Adding nested key value to dictionary\n",
    "Dict[5]={'Nested':{'1':'life','2':'Geeks'}}\n",
    "print(\"\\nAdding a Nested Key: \")\n",
    "print(Dict)"
   ]
  },
  {
   "cell_type": "code",
   "execution_count": 16,
   "id": "12e7bc39",
   "metadata": {},
   "outputs": [
    {
     "name": "stdout",
     "output_type": "stream",
     "text": [
      "{0: 2, 10: 1.4, 20: 'Python', 25: True, 31: {1: 23, 'a': {1: 23, 'A': 'For Everyone'}}}\n"
     ]
    }
   ],
   "source": [
    "dict1={}\n",
    "dict1[0]=2\n",
    "dict1[10]=1.4\n",
    "dict1[20]='Python'\n",
    "dict1[25]=True\n",
    "dict1[31]={1:23,'a':{1:23,'A':\"For Everyone\"}}\n",
    "print(dict1)"
   ]
  },
  {
   "cell_type": "code",
   "execution_count": 17,
   "id": "fc747653",
   "metadata": {},
   "outputs": [
    {
     "name": "stdout",
     "output_type": "stream",
     "text": [
      "Python\n",
      "31\n"
     ]
    }
   ],
   "source": [
    "dict1={0: 2, 10: 1.4, 20: 'Python', 25: True, 31: {1: 23, 'a': {1: 23, 'A': 'For Everyone'}}}\n",
    "print(dict1[20])\n",
    "print(31)"
   ]
  },
  {
   "cell_type": "code",
   "execution_count": 18,
   "id": "ca1c897e",
   "metadata": {},
   "outputs": [
    {
     "name": "stdout",
     "output_type": "stream",
     "text": [
      "1.4\n"
     ]
    }
   ],
   "source": [
    "dict1={0: 2, 10: 1.4, 20: 'Python', 25: True, 31: {1: 23, 'a': {1: 23, 'A': 'For Everyone'}}}\n",
    "print(dict1.get(10))"
   ]
  },
  {
   "cell_type": "code",
   "execution_count": 19,
   "id": "1d344b1c",
   "metadata": {},
   "outputs": [
    {
     "name": "stdout",
     "output_type": "stream",
     "text": [
      "For Everyone\n"
     ]
    }
   ],
   "source": [
    "dict1={0: 2, 10: 1.4, 20: 'Python', 25: True, 31: {1: 23, 'a': {1: 23, 'A': 'For Everyone'}}}\n",
    "print(dict1[31]['a']['A'])"
   ]
  },
  {
   "cell_type": "code",
   "execution_count": 20,
   "id": "51cbdc81",
   "metadata": {},
   "outputs": [
    {
     "name": "stdout",
     "output_type": "stream",
     "text": [
      "{0: 2, 10: 1.4, 20: 'Python', 25: True, 31: {1: 23, 'a': {1: 23, 'A': 'For Everyone'}}}\n",
      "{}\n",
      "True\n",
      "dict_items([(0, 2), (10, 1.4), (20, 'Python'), (25, True), (31, {1: 23, 'a': {1: 23, 'A': 'For Everyone'}})])\n",
      "dict_keys([0, 10, 20, 25, 31])\n",
      "{10: 1.4, 20: 'Python', 25: True, 31: {1: 23, 'a': {1: 23, 'A': 'For Everyone'}}}\n",
      "{10: 1.4, 20: 'Python', 25: True}\n",
      "{10: 1.364, 20: 'Python', 25: True}\n",
      "dict_values([1.364, 'Python', True])\n"
     ]
    }
   ],
   "source": [
    "dict1={0: 2, 10: 1.4, 20: 'Python', 25: True, 31: {1: 23, 'a': {1: 23, 'A': 'For Everyone'}}}\n",
    "#copy\n",
    "dict2=dict1.copy()\n",
    "print(dict2)\n",
    "#clear\n",
    "dict1.clear()\n",
    "print(dict1)\n",
    "#get\n",
    "print(dict2.get(25))\n",
    "#items\n",
    "print(dict2.items())\n",
    "#keys\n",
    "print(dict2.keys())\n",
    "#pop\n",
    "# print(dict2.pop())\n",
    "dict2.pop((0))\n",
    "print(dict2)\n",
    "#popitems\n",
    "dict2.popitem()\n",
    "print(dict2)\n",
    "#update\n",
    "dict2.update({10:1.364})\n",
    "print(dict2)\n",
    "#values\n",
    "print(dict2.values())"
   ]
  },
  {
   "cell_type": "code",
   "execution_count": 21,
   "id": "38faaf69",
   "metadata": {},
   "outputs": [
    {
     "name": "stdout",
     "output_type": "stream",
     "text": [
      "Dict1:  {'gfg': 1, 'best': 2, 'for': 4, 'geeks': 6}\n",
      "Dict2:  {'for': 3, 'geeks': 5}\n",
      "Updated Dictionary:  {'gfg': 1, 'best': 2, 'for': 3, 'geeks': 5}\n"
     ]
    }
   ],
   "source": [
    "#Update dictionary with other dictionary using loop\n",
    "dict1={'gfg':1,'best':2,'for':4,'geeks':6}\n",
    "dict2={'for':3,'geeks':5}\n",
    "print(\"Dict1: \",dict1)\n",
    "print(\"Dict2: \",dict2)\n",
    "for i in dict1:\n",
    "    if i in dict2:\n",
    "        dict1[i]=dict2[i]\n",
    "print(\"Updated Dictionary: \",dict1)"
   ]
  },
  {
   "cell_type": "markdown",
   "id": "1ba9752c",
   "metadata": {},
   "source": [
    "## Array"
   ]
  },
  {
   "cell_type": "code",
   "execution_count": 24,
   "id": "692bae56",
   "metadata": {},
   "outputs": [],
   "source": [
    "import array as arr"
   ]
  },
  {
   "cell_type": "code",
   "execution_count": 28,
   "id": "1c24cc87",
   "metadata": {},
   "outputs": [
    {
     "name": "stdout",
     "output_type": "stream",
     "text": [
      "1\n"
     ]
    }
   ],
   "source": [
    "a=arr.array('i',[1,2,3])\n",
    "print(a[0])"
   ]
  },
  {
   "cell_type": "code",
   "execution_count": 29,
   "id": "f7987de2",
   "metadata": {},
   "outputs": [
    {
     "name": "stdout",
     "output_type": "stream",
     "text": [
      "the new created array is:  1 2 3 "
     ]
    }
   ],
   "source": [
    "#printing original array\n",
    "print(\"the new created array is: \", end=\" \")\n",
    "for i in range(0,3):\n",
    "    print(a[i],end=\" \")"
   ]
  },
  {
   "cell_type": "code",
   "execution_count": 31,
   "id": "9664d50f",
   "metadata": {},
   "outputs": [
    {
     "name": "stdout",
     "output_type": "stream",
     "text": [
      "the new created array is:  1.43 3.2 72.3 "
     ]
    }
   ],
   "source": [
    "b=arr.array('d',[1.43,3.2,72.3])\n",
    "print(\"the new created array is: \", end=\" \")\n",
    "for i in range(0,3):\n",
    "    print(b[i],end=\" \")"
   ]
  },
  {
   "cell_type": "code",
   "execution_count": 32,
   "id": "c8cd0c3a",
   "metadata": {},
   "outputs": [
    {
     "name": "stdout",
     "output_type": "stream",
     "text": [
      "the array after insertion:  4 1 2 3 "
     ]
    }
   ],
   "source": [
    "#Addition in array\n",
    "a=arr.array('i',[1,2,3])\n",
    "#insert\n",
    "a.insert(0,4)\n",
    "print(\"the array after insertion: \", end=\" \")\n",
    "for i in range(0,4):\n",
    "    print(a[i],end=\" \")"
   ]
  },
  {
   "cell_type": "code",
   "execution_count": 34,
   "id": "94649bf1",
   "metadata": {},
   "outputs": [
    {
     "name": "stdout",
     "output_type": "stream",
     "text": [
      "the new created array is:  1.43 3.2 72.3 1.43\n",
      "3.2\n",
      "72.3\n",
      "6.34\n",
      "1.43 3.2 72.3 6.34 "
     ]
    }
   ],
   "source": [
    "b=arr.array('d',[1.43,3.2,72.3])\n",
    "print(\"the new created array is: \", end=\" \")\n",
    "for i in range(0,3):\n",
    "    print(b[i],end=\" \")\n",
    "b.append(6.34)\n",
    "for i in b:\n",
    "    print(i)\n",
    "for i in range(0,4):\n",
    "    print(b[i],end=\" \")"
   ]
  },
  {
   "cell_type": "code",
   "execution_count": 37,
   "id": "d4fa9517",
   "metadata": {},
   "outputs": [
    {
     "name": "stdout",
     "output_type": "stream",
     "text": [
      "1 2 4 5 6 7 "
     ]
    }
   ],
   "source": [
    "a=arr.array('i',[1,2,3, 4, 5, 6, 7, 8])\n",
    "a.pop()\n",
    "a.pop(2)\n",
    "for i in range(0,len(a)):\n",
    "    print(a[i],end=\" \")"
   ]
  },
  {
   "cell_type": "code",
   "execution_count": 41,
   "id": "3acb829c",
   "metadata": {},
   "outputs": [
    {
     "name": "stdout",
     "output_type": "stream",
     "text": [
      "1 2 3 4 5 6 9 7 1 "
     ]
    }
   ],
   "source": [
    "a=arr.array('i',[1, 2, 3, 4, 5, 6, 9, 7, 8, 1])\n",
    "a.remove(8)\n",
    "for i in range(0,len(a)):\n",
    "    print(a[i],end=\" \")"
   ]
  },
  {
   "cell_type": "code",
   "execution_count": 48,
   "id": "0d845068",
   "metadata": {},
   "outputs": [
    {
     "name": "stdout",
     "output_type": "stream",
     "text": [
      "the new created array is:  2 3 4 5 6 9 1 7 8 2 array('i', [1, 2, 3, 4, 5, 6, 9, 7, 8, 1])\n",
      "array('i', [4, 5, 6, 9, 7, 8, 1])\n",
      "array('i', [1, 2, 3, 4, 5])\n"
     ]
    }
   ],
   "source": [
    "#Slicing\n",
    "a=arr.array('i',[1, 2, 3, 4, 5, 6, 9, 7, 8, 1])\n",
    "print(\"the new created array is: \", end=\" \")\n",
    "for i in a:\n",
    "    print(a[i],end=\" \")\n",
    "sliceda=a[:]\n",
    "print(sliceda)\n",
    "sliceda=a[3:]\n",
    "print(sliceda)\n",
    "sliceda=a[:5]\n",
    "print(sliceda)"
   ]
  },
  {
   "cell_type": "code",
   "execution_count": 49,
   "id": "5282e46e",
   "metadata": {},
   "outputs": [
    {
     "name": "stdout",
     "output_type": "stream",
     "text": [
      "1.0 2.0 3.0 4.0 5.0 6.0 9.0 7.0 8.0 1.0 "
     ]
    }
   ],
   "source": [
    "l=[1, 2, 3, 4, 5, 6, 9, 7, 8, 1]\n",
    "b=arr.array('d',l)\n",
    "for i in b:\n",
    "    print(i,end=' ')"
   ]
  },
  {
   "cell_type": "code",
   "execution_count": 50,
   "id": "2e565e64",
   "metadata": {},
   "outputs": [
    {
     "name": "stdout",
     "output_type": "stream",
     "text": [
      "1 2 3 4 5 6 9 7 8 1 "
     ]
    }
   ],
   "source": [
    "l=[1, 2, 3, 4, 5, 6, 9, 7, 8, 1]\n",
    "b=arr.array('i',l)\n",
    "for i in b:\n",
    "    print(i,end=' ')"
   ]
  },
  {
   "cell_type": "code",
   "execution_count": 52,
   "id": "da8c5da4",
   "metadata": {},
   "outputs": [
    {
     "name": "stdout",
     "output_type": "stream",
     "text": [
      "2\n",
      "1\n"
     ]
    }
   ],
   "source": [
    "l=[1, 2, 3, 4, 2, 6, 3, 7, 8, 1]\n",
    "b=arr.array('i',l)\n",
    "print(b.index(3))\n",
    "print(b.index(2))"
   ]
  },
  {
   "cell_type": "code",
   "execution_count": 54,
   "id": "3ca2db62",
   "metadata": {},
   "outputs": [
    {
     "name": "stdout",
     "output_type": "stream",
     "text": [
      "1 2 3 4 2 12 3 7 8 1 "
     ]
    }
   ],
   "source": [
    "l=[1, 2, 3, 4, 2, 6, 3, 7, 8, 1]\n",
    "b=arr.array('i',l)\n",
    "b[5]=12\n",
    "for i in b:\n",
    "    print(i,end=' ')"
   ]
  },
  {
   "cell_type": "code",
   "execution_count": 58,
   "id": "db8da88b",
   "metadata": {},
   "outputs": [
    {
     "name": "stdout",
     "output_type": "stream",
     "text": [
      "1 2 3 4 2 25 6 3 7 8 1 \n",
      "\n",
      "1 2 3 4 2 12 6 3 7 8 1 "
     ]
    }
   ],
   "source": [
    "l=[1, 2, 3, 4, 2, 6, 3, 7, 8, 1]\n",
    "b=arr.array('i',l)\n",
    "b.insert(5,25)\n",
    "for i in b:\n",
    "    print(i,end=' ')\n",
    "print(\"\\n\")\n",
    "b[5]=12\n",
    "for i in b:\n",
    "    print(i,end=' ')"
   ]
  },
  {
   "cell_type": "code",
   "execution_count": 59,
   "id": "26f123b5",
   "metadata": {},
   "outputs": [],
   "source": [
    "a=100\n",
    "b=200\n",
    "if b<a:\n",
    "    pass"
   ]
  },
  {
   "cell_type": "code",
   "execution_count": 60,
   "id": "6b9ae968",
   "metadata": {},
   "outputs": [
    {
     "name": "stdout",
     "output_type": "stream",
     "text": [
      "True\n",
      "False\n",
      "True\n",
      "True\n",
      "True\n"
     ]
    }
   ],
   "source": [
    "#chaining operator\n",
    "x=5\n",
    "print(1 < x < 10)\n",
    "print(10 < x< 20)\n",
    "print(x<10<x*10<100)\n",
    "print(10>x<=9)\n",
    "print(5==x>4)"
   ]
  },
  {
   "cell_type": "code",
   "execution_count": 61,
   "id": "46515e82",
   "metadata": {},
   "outputs": [
    {
     "name": "stdout",
     "output_type": "stream",
     "text": [
      "True\n",
      "False\n"
     ]
    }
   ],
   "source": [
    "#chaining comparision operator\n",
    "a,b,c,d,e,f=0,5,12,0,15,15\n",
    "exp1=a<=b<c>d is not e is f\n",
    "exp2=a is d>f is not c\n",
    "print(exp1)\n",
    "print(exp2)"
   ]
  },
  {
   "cell_type": "code",
   "execution_count": 62,
   "id": "4136930d",
   "metadata": {},
   "outputs": [
    {
     "name": "stdout",
     "output_type": "stream",
     "text": [
      "No item left\n"
     ]
    }
   ],
   "source": [
    "digits=[0,1,5]\n",
    "for i in digits:\n",
    "    pass\n",
    "else:\n",
    "    print(\"No item left\")"
   ]
  },
  {
   "cell_type": "code",
   "execution_count": 63,
   "id": "49cfd148",
   "metadata": {},
   "outputs": [
    {
     "name": "stdout",
     "output_type": "stream",
     "text": [
      "0\n",
      "1\n",
      "2\n",
      "3\n",
      "4\n",
      "5\n",
      "6\n",
      "7\n",
      "8\n",
      "9\n",
      "10\n"
     ]
    }
   ],
   "source": [
    "digits=[0,1,2,3,4]\n",
    "for i in digits:\n",
    "    print(i)\n",
    "else:\n",
    "    for i in range(5,11):\n",
    "        print(i)"
   ]
  },
  {
   "cell_type": "code",
   "execution_count": 64,
   "id": "846f817c",
   "metadata": {},
   "outputs": [
    {
     "name": "stdout",
     "output_type": "stream",
     "text": [
      "0\n",
      "1\n",
      "2\n"
     ]
    }
   ],
   "source": [
    "for x in range(6):\n",
    "    if x==3:break\n",
    "    print(x)\n",
    "else:\n",
    "    print(\"Finally finished\")"
   ]
  },
  {
   "cell_type": "code",
   "execution_count": 65,
   "id": "cb547db0",
   "metadata": {},
   "outputs": [
    {
     "name": "stdout",
     "output_type": "stream",
     "text": [
      "0\n",
      "1\n",
      "2\n",
      "4\n",
      "5\n",
      "Finally finished\n"
     ]
    }
   ],
   "source": [
    "for x in range(6):\n",
    "    if x==3:continue\n",
    "    print(x)\n",
    "else:\n",
    "    print(\"Finally finished\")"
   ]
  },
  {
   "cell_type": "code",
   "execution_count": 66,
   "id": "2b480c6f",
   "metadata": {},
   "outputs": [
    {
     "name": "stdout",
     "output_type": "stream",
     "text": [
      "2 * 1 = 2\n",
      "2 * 2 = 4\n",
      "2 * 3 = 6\n",
      "2 * 5 = 10\n",
      "2 * 6 = 12\n",
      "2 * 7 = 14\n",
      "2 * 8 = 16\n"
     ]
    }
   ],
   "source": [
    "for x in range(1,11):\n",
    "    if x==4: continue\n",
    "    print('2 *',x,'=',2*x)\n",
    "    if x== 8: break"
   ]
  },
  {
   "cell_type": "code",
   "execution_count": 67,
   "id": "6efdd4c5",
   "metadata": {},
   "outputs": [
    {
     "name": "stdout",
     "output_type": "stream",
     "text": [
      "a = 1\n",
      "a = 2\n",
      "a = 3\n",
      "b = 1\n",
      "b = 2\n",
      "b = 3\n",
      "c = 1\n",
      "c = 2\n",
      "c = 3\n"
     ]
    }
   ],
   "source": [
    "list1=['a','b','c']\n",
    "list2=[1,2,3]\n",
    "for x in list1:\n",
    "    for y in list2:\n",
    "        print(x, '=', y)"
   ]
  },
  {
   "cell_type": "code",
   "execution_count": null,
   "id": "f4e45e6e",
   "metadata": {},
   "outputs": [],
   "source": []
  }
 ],
 "metadata": {
  "kernelspec": {
   "display_name": "Python 3",
   "language": "python",
   "name": "python3"
  },
  "language_info": {
   "codemirror_mode": {
    "name": "ipython",
    "version": 3
   },
   "file_extension": ".py",
   "mimetype": "text/x-python",
   "name": "python",
   "nbconvert_exporter": "python",
   "pygments_lexer": "ipython3",
   "version": "3.8.8"
  }
 },
 "nbformat": 4,
 "nbformat_minor": 5
}
