{
 "cells": [
  {
   "cell_type": "markdown",
   "id": "35041adc",
   "metadata": {},
   "source": [
    "# Dictionary"
   ]
  },
  {
   "cell_type": "code",
   "execution_count": 1,
   "id": "cb208340",
   "metadata": {},
   "outputs": [
    {
     "name": "stdout",
     "output_type": "stream",
     "text": [
      "{1: 'python', 2: 'For', 3: 'Everyone'}\n"
     ]
    }
   ],
   "source": [
    "Dict={1:\"python\",2:\"For\",3:\"Everyone\"}\n",
    "print(Dict)"
   ]
  },
  {
   "cell_type": "code",
   "execution_count": 2,
   "id": "360c2465",
   "metadata": {},
   "outputs": [],
   "source": [
    "# Dict1={a:\"d\",b:\"e\",c:\"f\"}\n",
    "# print(Dict1)"
   ]
  },
  {
   "cell_type": "code",
   "execution_count": 3,
   "id": "9b09fad9",
   "metadata": {},
   "outputs": [
    {
     "name": "stdout",
     "output_type": "stream",
     "text": [
      "{'a': 'd', 'b': 'e', 'c': 'f'}\n"
     ]
    }
   ],
   "source": [
    "Dict1={'a':\"d\",'b':\"e\",'c':\"f\"}\n",
    "print(Dict1)"
   ]
  },
  {
   "cell_type": "code",
   "execution_count": 4,
   "id": "8cb27a98",
   "metadata": {},
   "outputs": [
    {
     "name": "stdout",
     "output_type": "stream",
     "text": [
      "{1.2: 'python', 2.3: 'For', 3.4: 'Everyone'}\n"
     ]
    }
   ],
   "source": [
    "Dict={1.2:\"python\",2.3:\"For\",3.4:\"Everyone\"}\n",
    "print(Dict)"
   ]
  },
  {
   "cell_type": "code",
   "execution_count": 5,
   "id": "9a3ee842",
   "metadata": {},
   "outputs": [
    {
     "name": "stdout",
     "output_type": "stream",
     "text": [
      "{'a': 1, 'b': 2.5, 'c': True, 'd': 'hello, how are you?'}\n"
     ]
    }
   ],
   "source": [
    "Dict1={'a':1,'b':2.5,'c':True,'d':\"hello, how are you?\"}\n",
    "print(Dict1)"
   ]
  },
  {
   "cell_type": "code",
   "execution_count": 6,
   "id": "4876c26b",
   "metadata": {},
   "outputs": [
    {
     "name": "stdout",
     "output_type": "stream",
     "text": [
      "{'a': 1, 'b': 2.5, 'c': True, 'd': 'hello, how are you?', 1: [1, 2, 3, 4, 5]}\n"
     ]
    }
   ],
   "source": [
    "Dict1={'a':1,'b':2.5,'c':True,'d':\"hello, how are you?\",1:[1,2,3,4,5]}\n",
    "print(Dict1)"
   ]
  },
  {
   "cell_type": "code",
   "execution_count": 7,
   "id": "b1bf5c85",
   "metadata": {},
   "outputs": [
    {
     "name": "stdout",
     "output_type": "stream",
     "text": [
      "{'a': 1, 'b': 2.5, 'c': True, 'd': 'hello, how are you?', 1: (1, 2, 3, 4, 5)}\n"
     ]
    }
   ],
   "source": [
    "Dict1={'a':1,'b':2.5,'c':True,'d':\"hello, how are you?\",1:(1,2,3,4,5)}\n",
    "print(Dict1)"
   ]
  },
  {
   "cell_type": "code",
   "execution_count": 8,
   "id": "f95caa28",
   "metadata": {},
   "outputs": [
    {
     "name": "stdout",
     "output_type": "stream",
     "text": [
      "{'a': 1, 'b': 2.5, 'c': True, 'd': 'hello, how are you?', 1: {1, 2, 3, 4, 5}}\n"
     ]
    }
   ],
   "source": [
    "Dict1={'a':1,'b':2.5,'c':True,'d':\"hello, how are you?\",1:{1,2,3,4,5}}\n",
    "print(Dict1)"
   ]
  },
  {
   "cell_type": "code",
   "execution_count": 9,
   "id": "1ef8c350",
   "metadata": {},
   "outputs": [
    {
     "name": "stdout",
     "output_type": "stream",
     "text": [
      "{'a': 1, 'b': 2.5, 'c': True, 'd': 'hello, how are you?', 1: {1, 2, 3, 4, 5}, 2: {1: 'a', 2: 'b'}}\n"
     ]
    }
   ],
   "source": [
    "Dict1={'a':1,'b':2.5,'c':True,'d':\"hello, how are you?\",1:{1,2,3,4,5},2:{1:'a',2:'b'}}\n",
    "print(Dict1)"
   ]
  },
  {
   "cell_type": "code",
   "execution_count": 10,
   "id": "86ac17d3",
   "metadata": {},
   "outputs": [
    {
     "name": "stdout",
     "output_type": "stream",
     "text": [
      "{1: 2, 'a': 'B', 1.4: 'Python'}\n"
     ]
    }
   ],
   "source": [
    "d=dict([(1,2),('a','B'),(1.4,\"Python\")])\n",
    "print(d)"
   ]
  },
  {
   "cell_type": "code",
   "execution_count": 11,
   "id": "64e9405d",
   "metadata": {},
   "outputs": [
    {
     "name": "stdout",
     "output_type": "stream",
     "text": [
      "{1: 2, 'a': 'B', 1.4: 'Python'}\n"
     ]
    }
   ],
   "source": [
    "d=dict(((1,2),('a','B'),(1.4,\"Python\")))\n",
    "print(d)"
   ]
  },
  {
   "cell_type": "code",
   "execution_count": 12,
   "id": "abc259c1",
   "metadata": {},
   "outputs": [
    {
     "name": "stdout",
     "output_type": "stream",
     "text": [
      "{1: 2, 'a': 'B', 1.4: 'Python'}\n"
     ]
    }
   ],
   "source": [
    "d=dict({(1,2),('a','B'),(1.4,\"Python\")})\n",
    "print(d)"
   ]
  },
  {
   "cell_type": "code",
   "execution_count": 13,
   "id": "613509cb",
   "metadata": {
    "scrolled": true
   },
   "outputs": [
    {
     "name": "stdout",
     "output_type": "stream",
     "text": [
      "{1: [1, 2], 'B': {'a', 'b'}, (1, 2): 'Python'}\n"
     ]
    }
   ],
   "source": [
    "d = dict(((1,[1,2]),('B',{'a','b'}),((1,2),\"Python\")))\n",
    "print(d)"
   ]
  },
  {
   "cell_type": "markdown",
   "id": "07e287b4",
   "metadata": {},
   "source": [
    "### ensure you only assign a hashable object, such as a string or a tuple, as a key for a dictionary"
   ]
  },
  {
   "cell_type": "code",
   "execution_count": 14,
   "id": "5b0de559",
   "metadata": {},
   "outputs": [
    {
     "name": "stdout",
     "output_type": "stream",
     "text": [
      "Empty Dictionary: \n",
      "{}\n"
     ]
    }
   ],
   "source": [
    "Dict={}\n",
    "print(\"Empty Dictionary: \")\n",
    "print(Dict)"
   ]
  },
  {
   "cell_type": "code",
   "execution_count": 15,
   "id": "ae9d2f7d",
   "metadata": {},
   "outputs": [
    {
     "name": "stdout",
     "output_type": "stream",
     "text": [
      "Empty Dictionary: \n",
      "{}\n",
      "{0: 'Geeks', 2: 'For', 3: 1}\n",
      "{0: 'Geeks', 2: 'For', 3: 1, 'Value_set': (2, 3, 4)}\n",
      "\n",
      "Updated key value: \n",
      "{0: 'Geeks', 2: 'Welcome', 3: 1, 'Value_set': (2, 3, 4)}\n",
      "\n",
      "Adding a Nested Key: \n",
      "{0: 'Geeks', 2: 'Welcome', 3: 1, 'Value_set': (2, 3, 4), 5: {'Nested': {'1': 'life', '2': 'Geeks'}}}\n"
     ]
    }
   ],
   "source": [
    "Dict={}\n",
    "print(\"Empty Dictionary: \")\n",
    "print(Dict)\n",
    "#Adding elements one at a time\n",
    "Dict[0]='Geeks'\n",
    "Dict[2]='For'\n",
    "Dict[3]=1\n",
    "print(Dict)\n",
    "#Adding set of values to a single key\n",
    "Dict['Value_set']=2,3,4\n",
    "print(Dict)\n",
    "#Updating existing Key's value\n",
    "Dict[2]=\"Welcome\"\n",
    "print(\"\\nUpdated key value: \")\n",
    "print(Dict)\n",
    "#Adding nested key value to dictionary\n",
    "Dict[5]={'Nested':{'1':'life','2':'Geeks'}}\n",
    "print(\"\\nAdding a Nested Key: \")\n",
    "print(Dict)"
   ]
  },
  {
   "cell_type": "code",
   "execution_count": 16,
   "id": "12e7bc39",
   "metadata": {},
   "outputs": [
    {
     "name": "stdout",
     "output_type": "stream",
     "text": [
      "{0: 2, 10: 1.4, 20: 'Python', 25: True, 31: {1: 23, 'a': {1: 23, 'A': 'For Everyone'}}}\n"
     ]
    }
   ],
   "source": [
    "dict1={}\n",
    "dict1[0]=2\n",
    "dict1[10]=1.4\n",
    "dict1[20]='Python'\n",
    "dict1[25]=True\n",
    "dict1[31]={1:23,'a':{1:23,'A':\"For Everyone\"}}\n",
    "print(dict1)"
   ]
  },
  {
   "cell_type": "code",
   "execution_count": 17,
   "id": "fc747653",
   "metadata": {},
   "outputs": [
    {
     "name": "stdout",
     "output_type": "stream",
     "text": [
      "Python\n",
      "31\n"
     ]
    }
   ],
   "source": [
    "dict1={0: 2, 10: 1.4, 20: 'Python', 25: True, 31: {1: 23, 'a': {1: 23, 'A': 'For Everyone'}}}\n",
    "print(dict1[20])\n",
    "print(31)"
   ]
  },
  {
   "cell_type": "code",
   "execution_count": 18,
   "id": "ca1c897e",
   "metadata": {},
   "outputs": [
    {
     "name": "stdout",
     "output_type": "stream",
     "text": [
      "1.4\n"
     ]
    }
   ],
   "source": [
    "dict1={0: 2, 10: 1.4, 20: 'Python', 25: True, 31: {1: 23, 'a': {1: 23, 'A': 'For Everyone'}}}\n",
    "print(dict1.get(10))"
   ]
  },
  {
   "cell_type": "code",
   "execution_count": 19,
   "id": "1d344b1c",
   "metadata": {},
   "outputs": [
    {
     "name": "stdout",
     "output_type": "stream",
     "text": [
      "For Everyone\n"
     ]
    }
   ],
   "source": [
    "dict1={0: 2, 10: 1.4, 20: 'Python', 25: True, 31: {1: 23, 'a': {1: 23, 'A': 'For Everyone'}}}\n",
    "print(dict1[31]['a']['A'])"
   ]
  },
  {
   "cell_type": "code",
   "execution_count": 20,
   "id": "51cbdc81",
   "metadata": {},
   "outputs": [
    {
     "name": "stdout",
     "output_type": "stream",
     "text": [
      "{0: 2, 10: 1.4, 20: 'Python', 25: True, 31: {1: 23, 'a': {1: 23, 'A': 'For Everyone'}}}\n",
      "{}\n",
      "True\n",
      "dict_items([(0, 2), (10, 1.4), (20, 'Python'), (25, True), (31, {1: 23, 'a': {1: 23, 'A': 'For Everyone'}})])\n",
      "dict_keys([0, 10, 20, 25, 31])\n",
      "{10: 1.4, 20: 'Python', 25: True, 31: {1: 23, 'a': {1: 23, 'A': 'For Everyone'}}}\n",
      "{10: 1.4, 20: 'Python', 25: True}\n",
      "{10: 1.364, 20: 'Python', 25: True}\n",
      "dict_values([1.364, 'Python', True])\n"
     ]
    }
   ],
   "source": [
    "dict1={0: 2, 10: 1.4, 20: 'Python', 25: True, 31: {1: 23, 'a': {1: 23, 'A': 'For Everyone'}}}\n",
    "#copy\n",
    "dict2=dict1.copy()\n",
    "print(dict2)\n",
    "#clear\n",
    "dict1.clear()\n",
    "print(dict1)\n",
    "#get\n",
    "print(dict2.get(25))\n",
    "#items\n",
    "print(dict2.items())\n",
    "#keys\n",
    "print(dict2.keys())\n",
    "#pop\n",
    "# print(dict2.pop())\n",
    "dict2.pop((0))\n",
    "print(dict2)\n",
    "#popitems\n",
    "dict2.popitem()\n",
    "print(dict2)\n",
    "#update\n",
    "dict2.update({10:1.364})\n",
    "print(dict2)\n",
    "#values\n",
    "print(dict2.values())"
   ]
  },
  {
   "cell_type": "code",
   "execution_count": 21,
   "id": "38faaf69",
   "metadata": {},
   "outputs": [
    {
     "name": "stdout",
     "output_type": "stream",
     "text": [
      "Dict1:  {'gfg': 1, 'best': 2, 'for': 4, 'geeks': 6}\n",
      "Dict2:  {'for': 3, 'geeks': 5}\n",
      "Updated Dictionary:  {'gfg': 1, 'best': 2, 'for': 3, 'geeks': 5}\n"
     ]
    }
   ],
   "source": [
    "#Update dictionary with other dictionary using loop\n",
    "dict1={'gfg':1,'best':2,'for':4,'geeks':6}\n",
    "dict2={'for':3,'geeks':5}\n",
    "print(\"Dict1: \",dict1)\n",
    "print(\"Dict2: \",dict2)\n",
    "for i in dict1:\n",
    "    if i in dict2:\n",
    "        dict1[i]=dict2[i]\n",
    "print(\"Updated Dictionary: \",dict1)"
   ]
  },
  {
   "cell_type": "markdown",
   "id": "b753ede2",
   "metadata": {},
   "source": [
    "## Array"
   ]
  },
  {
   "cell_type": "code",
   "execution_count": 24,
   "id": "cca45240",
   "metadata": {},
   "outputs": [],
   "source": [
    "import array as arr"
   ]
  },
  {
   "cell_type": "code",
   "execution_count": 28,
   "id": "f91c2543",
   "metadata": {},
   "outputs": [
    {
     "name": "stdout",
     "output_type": "stream",
     "text": [
      "1\n"
     ]
    }
   ],
   "source": [
    "a=arr.array('i',[1,2,3])\n",
    "print(a[0])"
   ]
  },
  {
   "cell_type": "code",
   "execution_count": null,
   "id": "dbe341ff",
   "metadata": {},
   "outputs": [],
   "source": []
  },
  {
   "cell_type": "code",
   "execution_count": null,
   "id": "d741b05b",
   "metadata": {},
   "outputs": [],
   "source": []
  }
 ],
 "metadata": {
  "kernelspec": {
   "display_name": "Python 3",
   "language": "python",
   "name": "python3"
  },
  "language_info": {
   "codemirror_mode": {
    "name": "ipython",
    "version": 3
   },
   "file_extension": ".py",
   "mimetype": "text/x-python",
   "name": "python",
   "nbconvert_exporter": "python",
   "pygments_lexer": "ipython3",
   "version": "3.8.8"
  }
 },
 "nbformat": 4,
 "nbformat_minor": 5
}
