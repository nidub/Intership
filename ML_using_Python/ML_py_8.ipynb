{
 "cells": [
  {
   "cell_type": "code",
   "execution_count": 2,
   "id": "12083d22",
   "metadata": {},
   "outputs": [
    {
     "name": "stdout",
     "output_type": "stream",
     "text": [
      "The sorted ages are: [ 5 12 13 34 37]\n",
      "The ages are: [34 12 37  5 13]\n"
     ]
    }
   ],
   "source": [
    "import numpy as np\n",
    "ages=np.array([34,12,37,5,13])\n",
    "sorted_ages=np.sort(ages)\n",
    "print(\"The sorted ages are:\",sorted_ages)\n",
    "print(\"The ages are:\",ages)"
   ]
  },
  {
   "cell_type": "code",
   "execution_count": 3,
   "id": "cef1a4fa",
   "metadata": {},
   "outputs": [
    {
     "name": "stdout",
     "output_type": "stream",
     "text": [
      "The ages are: [34 12 37  5 13]\n",
      "The sorted ages are: [ 5 12 13 34 37]\n"
     ]
    }
   ],
   "source": [
    "ages=np.array([34,12,37,5,13])\n",
    "print(\"The ages are:\",ages)\n",
    "ages.sort()\n",
    "print(\"The sorted ages are:\",ages)"
   ]
  },
  {
   "cell_type": "code",
   "execution_count": 4,
   "id": "bfd94a36",
   "metadata": {},
   "outputs": [
    {
     "name": "stdout",
     "output_type": "stream",
     "text": [
      "The index of sorted ages are: [3 1 4 0 2]\n"
     ]
    }
   ],
   "source": [
    "ages=np.array([34,12,37,5,13])\n",
    "print(\"The index of sorted ages are:\",ages.argsort())"
   ]
  },
  {
   "cell_type": "code",
   "execution_count": 5,
   "id": "0d9e638d",
   "metadata": {},
   "outputs": [
    {
     "name": "stdout",
     "output_type": "stream",
     "text": [
      "The sorted ages are: [ 5 12 13 34 37]\n"
     ]
    }
   ],
   "source": [
    "ages=np.array([34,12,37,5,13])\n",
    "print(\"The sorted ages are:\",ages[ages.argsort()])"
   ]
  },
  {
   "cell_type": "code",
   "execution_count": 7,
   "id": "686747e4",
   "metadata": {},
   "outputs": [
    {
     "name": "stdout",
     "output_type": "stream",
     "text": [
      "The sorted names with respect to ages are. ['Joe' 'Mary' 'Peter' 'Johnny' 'Will']\n",
      "The sorted ages are. [ 5 12 13 34 37]\n",
      "The sorted heights with respect to ages are. [0.5  1.2  1.25 1.76 1.68]\n"
     ]
    }
   ],
   "source": [
    "persons=np.array(['Johnny','Mary','Will','Joe','Peter'])\n",
    "ages=np.array([34,12,37,5,13])\n",
    "heights=np.array([1.76,1.2,1.68,0.5,1.25])\n",
    "sort_indices=np.argsort(ages)\n",
    "print(\"The sorted names with respect to ages are.\",persons[sort_indices])\n",
    "print(\"The sorted ages are.\",ages[sort_indices])\n",
    "print(\"The sorted heights with respect to ages are.\",heights[sort_indices])"
   ]
  },
  {
   "cell_type": "code",
   "execution_count": 8,
   "id": "d47b0561",
   "metadata": {},
   "outputs": [
    {
     "name": "stdout",
     "output_type": "stream",
     "text": [
      "The sorted names are. ['Joe' 'Johnny' 'Mary' 'Peter' 'Will']\n",
      "The sorted ages with respect to persons are. [ 5 34 12 13 37]\n",
      "The sorted heights with respect to persons are. [0.5  1.76 1.2  1.25 1.68]\n"
     ]
    }
   ],
   "source": [
    "persons=np.array(['Johnny','Mary','Will','Joe','Peter'])\n",
    "ages=np.array([34,12,37,5,13])\n",
    "heights=np.array([1.76,1.2,1.68,0.5,1.25])\n",
    "sort_indices=np.argsort(persons)\n",
    "print(\"The sorted names are.\",persons[sort_indices])\n",
    "print(\"The sorted ages with respect to persons are.\",ages[sort_indices])\n",
    "print(\"The sorted heights with respect to persons are.\",heights[sort_indices])"
   ]
  },
  {
   "cell_type": "code",
   "execution_count": 9,
   "id": "dd5319eb",
   "metadata": {},
   "outputs": [
    {
     "name": "stdout",
     "output_type": "stream",
     "text": [
      "The sorted names are. ['Will' 'Peter' 'Mary' 'Johnny' 'Joe']\n",
      "The sorted ages with respect to persons are. [37 13 12 34  5]\n",
      "The sorted heights with respect to persons are. [1.68 1.25 1.2  1.76 0.5 ]\n"
     ]
    }
   ],
   "source": [
    "persons=np.array(['Johnny','Mary','Will','Joe','Peter'])\n",
    "ages=np.array([34,12,37,5,13])\n",
    "heights=np.array([1.76,1.2,1.68,0.5,1.25])\n",
    "rsort_indices=np.argsort(persons)[::-1]\n",
    "print(\"The sorted names are.\",persons[rsort_indices])\n",
    "print(\"The sorted ages with respect to persons are.\",ages[rsort_indices])\n",
    "print(\"The sorted heights with respect to persons are.\",heights[rsort_indices])"
   ]
  },
  {
   "cell_type": "code",
   "execution_count": null,
   "id": "2d1a291a",
   "metadata": {},
   "outputs": [],
   "source": []
  }
 ],
 "metadata": {
  "kernelspec": {
   "display_name": "Python 3",
   "language": "python",
   "name": "python3"
  },
  "language_info": {
   "codemirror_mode": {
    "name": "ipython",
    "version": 3
   },
   "file_extension": ".py",
   "mimetype": "text/x-python",
   "name": "python",
   "nbconvert_exporter": "python",
   "pygments_lexer": "ipython3",
   "version": "3.8.8"
  }
 },
 "nbformat": 4,
 "nbformat_minor": 5
}
