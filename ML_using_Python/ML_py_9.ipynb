{
 "cells": [
  {
   "cell_type": "code",
   "execution_count": 2,
   "id": "e612d9d2",
   "metadata": {},
   "outputs": [
    {
     "name": "stdout",
     "output_type": "stream",
     "text": [
      "The value os arry1 is:\n",
      "[[1 2 3]\n",
      " [4 5 6]]\n"
     ]
    }
   ],
   "source": [
    "import numpy as np\n",
    "list=[[1,2,3],[4,5,6]]\n",
    "array1=np.array(list)\n",
    "print(\"The value os arry1 is:\")\n",
    "print(array1)"
   ]
  },
  {
   "cell_type": "code",
   "execution_count": 3,
   "id": "c5cbe651",
   "metadata": {},
   "outputs": [
    {
     "name": "stdout",
     "output_type": "stream",
     "text": [
      "The value of array1 is:\n",
      "[[1 2 3]\n",
      " [4 5 6]]\n",
      "The value of array2 is:\n",
      "[[1 2 3]\n",
      " [4 5 6]]\n"
     ]
    }
   ],
   "source": [
    "list=[[1,2,3],[4,5,6]]\n",
    "array1=np.array(list)\n",
    "print(\"The value of array1 is:\")\n",
    "print(array1)\n",
    "array2=array1\n",
    "print(\"The value of array2 is:\")\n",
    "print(array2)"
   ]
  },
  {
   "cell_type": "code",
   "execution_count": 4,
   "id": "769fe25c",
   "metadata": {},
   "outputs": [
    {
     "name": "stdout",
     "output_type": "stream",
     "text": [
      "The value of array1 is:\n",
      "[[1 2 3]\n",
      " [4 5 6]]\n",
      "The value of array2 is:\n",
      "[[1 2 3]\n",
      " [4 5 6]]\n",
      "The updated array2 is:\n",
      "[[11  2  3]\n",
      " [ 4  5  6]]\n",
      "The updated array2 is:\n",
      "[[11  2  3]\n",
      " [ 4  5  6]]\n"
     ]
    }
   ],
   "source": [
    "list=[[1,2,3],[4,5,6]]\n",
    "array1=np.array(list)\n",
    "print(\"The value of array1 is:\")\n",
    "print(array1)\n",
    "array2=array1\n",
    "print(\"The value of array2 is:\")\n",
    "print(array2)\n",
    "array2[0][0]=11\n",
    "print(\"The updated array2 is:\")\n",
    "print(array2)\n",
    "print(\"The updated array2 is:\")\n",
    "print(array1)"
   ]
  },
  {
   "cell_type": "code",
   "execution_count": 5,
   "id": "db3fbe2d",
   "metadata": {},
   "outputs": [
    {
     "name": "stdout",
     "output_type": "stream",
     "text": [
      "The value of array1 is:\n",
      "[[1 2 3]\n",
      " [4 5 6]]\n",
      "The value of array2 is:\n",
      "[[1 2 3]\n",
      " [4 5 6]]\n",
      "The updated value of array1 is:\n",
      "[[1 2 3 4 5 6]]\n",
      "The updated value of array2 is:\n",
      "[[1 2 3 4 5 6]]\n"
     ]
    }
   ],
   "source": [
    "list=[[1,2,3],[4,5,6]]\n",
    "array1=np.array(list)\n",
    "print(\"The value of array1 is:\")\n",
    "print(array1)\n",
    "array2=array1\n",
    "print(\"The value of array2 is:\")\n",
    "print(array2)\n",
    "array1.shape=1,-1\n",
    "print(\"The updated value of array1 is:\")\n",
    "print(array1)\n",
    "print(\"The updated value of array2 is:\")\n",
    "print(array2)"
   ]
  },
  {
   "cell_type": "code",
   "execution_count": 6,
   "id": "800b918f",
   "metadata": {},
   "outputs": [
    {
     "name": "stdout",
     "output_type": "stream",
     "text": [
      "The value of array1 is:\n",
      "[[1 2 3]\n",
      " [4 5 6]]\n",
      "The value of array2 is:\n",
      "[[1 2 3]\n",
      " [4 5 6]]\n"
     ]
    }
   ],
   "source": [
    "list=[[1,2,3],[4,5,6]]\n",
    "array1=np.array(list)\n",
    "print(\"The value of array1 is:\")\n",
    "print(array1)\n",
    "array2=array1.view()\n",
    "print(\"The value of array2 is:\")\n",
    "print(array2)"
   ]
  },
  {
   "cell_type": "code",
   "execution_count": 7,
   "id": "f63c9cb9",
   "metadata": {},
   "outputs": [
    {
     "name": "stdout",
     "output_type": "stream",
     "text": [
      "The value of array1 is:\n",
      "[[1 2 3]\n",
      " [4 5 6]]\n",
      "The value of array2 is:\n",
      "[[1 2 3]\n",
      " [4 5 6]]\n",
      "The updated array2 is:\n",
      "[[11  2  3]\n",
      " [ 4  5  6]]\n",
      "The updated array2 is:\n",
      "[[11  2  3]\n",
      " [ 4  5  6]]\n"
     ]
    }
   ],
   "source": [
    "list=[[1,2,3],[4,5,6]]\n",
    "array1=np.array(list)\n",
    "print(\"The value of array1 is:\")\n",
    "print(array1)\n",
    "array2=array1.view()\n",
    "print(\"The value of array2 is:\")\n",
    "print(array2)\n",
    "array2[0][0]=11\n",
    "print(\"The updated array2 is:\")\n",
    "print(array2)\n",
    "print(\"The updated array2 is:\")\n",
    "print(array1)"
   ]
  },
  {
   "cell_type": "code",
   "execution_count": 8,
   "id": "e83c63ba",
   "metadata": {},
   "outputs": [
    {
     "name": "stdout",
     "output_type": "stream",
     "text": [
      "The value of array1 is:\n",
      "[[1 2 3]\n",
      " [4 5 6]]\n",
      "The value of array2 is:\n",
      "[[1 2 3]\n",
      " [4 5 6]]\n",
      "The updated value of array1 is:\n",
      "[[1 2 3 4 5 6]]\n",
      "The updated value of array2 is:\n",
      "[[1 2 3]\n",
      " [4 5 6]]\n"
     ]
    }
   ],
   "source": [
    "list=[[1,2,3],[4,5,6]]\n",
    "array1=np.array(list)\n",
    "print(\"The value of array1 is:\")\n",
    "print(array1)\n",
    "array2=array1.view()\n",
    "print(\"The value of array2 is:\")\n",
    "print(array2)\n",
    "array1.shape=1,-1\n",
    "print(\"The updated value of array1 is:\")\n",
    "print(array1)\n",
    "print(\"The updated value of array2 is:\")\n",
    "print(array2)"
   ]
  },
  {
   "cell_type": "code",
   "execution_count": 9,
   "id": "d17334ad",
   "metadata": {
    "scrolled": true
   },
   "outputs": [
    {
     "name": "stdout",
     "output_type": "stream",
     "text": [
      "The value of array1 is:\n",
      "[[1 2 3]\n",
      " [4 5 6]]\n",
      "The value of array2 is:\n",
      "[[1 2 3]\n",
      " [4 5 6]]\n"
     ]
    }
   ],
   "source": [
    "list=[[1,2,3],[4,5,6]]\n",
    "array1=np.array(list)\n",
    "print(\"The value of array1 is:\")\n",
    "print(array1)\n",
    "array2=array1.copy()\n",
    "print(\"The value of array2 is:\")\n",
    "print(array2)"
   ]
  },
  {
   "cell_type": "code",
   "execution_count": 10,
   "id": "730ca727",
   "metadata": {},
   "outputs": [
    {
     "name": "stdout",
     "output_type": "stream",
     "text": [
      "The value of array1 is:\n",
      "[[1 2 3]\n",
      " [4 5 6]]\n",
      "The value of array2 is:\n",
      "[[1 2 3]\n",
      " [4 5 6]]\n",
      "The updated array2 is:\n",
      "[[11  2  3]\n",
      " [ 4  5  6]]\n",
      "The updated array2 is:\n",
      "[[1 2 3]\n",
      " [4 5 6]]\n"
     ]
    }
   ],
   "source": [
    "list=[[1,2,3],[4,5,6]]\n",
    "array1=np.array(list)\n",
    "print(\"The value of array1 is:\")\n",
    "print(array1)\n",
    "array2=array1.copy()\n",
    "print(\"The value of array2 is:\")\n",
    "print(array2)\n",
    "array2[0][0]=11\n",
    "print(\"The updated array2 is:\")\n",
    "print(array2)\n",
    "print(\"The updated array2 is:\")\n",
    "print(array1)"
   ]
  },
  {
   "cell_type": "code",
   "execution_count": 11,
   "id": "17d63e9d",
   "metadata": {},
   "outputs": [
    {
     "name": "stdout",
     "output_type": "stream",
     "text": [
      "The value of array1 is:\n",
      "[[1 2 3]\n",
      " [4 5 6]]\n",
      "The value of array2 is:\n",
      "[[1 2 3]\n",
      " [4 5 6]]\n",
      "The updated value of array1 is:\n",
      "[[1 2 3 4 5 6]]\n",
      "The updated value of array2 is:\n",
      "[[1 2 3]\n",
      " [4 5 6]]\n"
     ]
    }
   ],
   "source": [
    "list=[[1,2,3],[4,5,6]]\n",
    "array1=np.array(list)\n",
    "print(\"The value of array1 is:\")\n",
    "print(array1)\n",
    "array2=array1.copy()\n",
    "print(\"The value of array2 is:\")\n",
    "print(array2)\n",
    "array1.shape=1,-1\n",
    "print(\"The updated value of array1 is:\")\n",
    "print(array1)\n",
    "print(\"The updated value of array2 is:\")\n",
    "print(array2)"
   ]
  }
 ],
 "metadata": {
  "kernelspec": {
   "display_name": "Python 3",
   "language": "python",
   "name": "python3"
  },
  "language_info": {
   "codemirror_mode": {
    "name": "ipython",
    "version": 3
   },
   "file_extension": ".py",
   "mimetype": "text/x-python",
   "name": "python",
   "nbconvert_exporter": "python",
   "pygments_lexer": "ipython3",
   "version": "3.8.8"
  }
 },
 "nbformat": 4,
 "nbformat_minor": 5
}
