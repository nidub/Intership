{
 "cells": [
  {
   "cell_type": "code",
   "execution_count": 2,
   "id": "33241ae5",
   "metadata": {},
   "outputs": [
    {
     "name": "stdout",
     "output_type": "stream",
     "text": [
      "[[1 2 3]\n",
      " [4 5 6]]\n",
      "[[11  2  3]\n",
      " [ 4  5  6]]\n"
     ]
    }
   ],
   "source": [
    "import numpy as np\n",
    "list=[[1,2,3],[4,5,6]]\n",
    "array1=np.array(list)\n",
    "array2=array1.copy()\n",
    "array2[0][0]=11\n",
    "print(array1)\n",
    "print(array2)"
   ]
  },
  {
   "cell_type": "code",
   "execution_count": 5,
   "id": "8e4c57da",
   "metadata": {},
   "outputs": [
    {
     "name": "stdout",
     "output_type": "stream",
     "text": [
      "[[11  2  3]\n",
      " [ 4  5  6]]\n",
      "[[1 2 3]\n",
      " [4 5 6]]\n"
     ]
    }
   ],
   "source": [
    "list=[[1,2,3],[4,5,6]]\n",
    "array1=np.array(list)\n",
    "array2=array1.copy()\n",
    "array1[0][0]=11\n",
    "print(array1)\n",
    "print(array2)"
   ]
  },
  {
   "cell_type": "code",
   "execution_count": 3,
   "id": "02e4c957",
   "metadata": {},
   "outputs": [
    {
     "name": "stdout",
     "output_type": "stream",
     "text": [
      "[[11  2  3]\n",
      " [ 4  5  6]]\n",
      "[[11  2  3]\n",
      " [ 4  5  6]]\n"
     ]
    }
   ],
   "source": [
    "list=[[1,2,3],[4,5,6]]\n",
    "array1=np.array(list)\n",
    "array2=array1.view()\n",
    "array2[0][0]=11\n",
    "print(array1)\n",
    "print(array2)"
   ]
  },
  {
   "cell_type": "code",
   "execution_count": 4,
   "id": "4afb0052",
   "metadata": {},
   "outputs": [
    {
     "name": "stdout",
     "output_type": "stream",
     "text": [
      "[[11  2  3]\n",
      " [ 4  5  6]]\n",
      "[[11  2  3]\n",
      " [ 4  5  6]]\n"
     ]
    }
   ],
   "source": [
    "list=[[1,2,3],[4,5,6]]\n",
    "array1=np.array(list)\n",
    "array2=array1.view()\n",
    "array1[0][0]=11\n",
    "print(array1)\n",
    "print(array2)"
   ]
  },
  {
   "cell_type": "code",
   "execution_count": 7,
   "id": "e53ccc1e",
   "metadata": {},
   "outputs": [
    {
     "name": "stdout",
     "output_type": "stream",
     "text": [
      "None\n",
      "[[1 2 3]\n",
      " [4 5 6]]\n"
     ]
    }
   ],
   "source": [
    "list=[[1,2,3],[4,5,6]]\n",
    "array1=np.array(list)\n",
    "array2=array1.copy()\n",
    "array3=array1.view()\n",
    "print(array2.base)\n",
    "print(array3.base)"
   ]
  },
  {
   "cell_type": "code",
   "execution_count": 8,
   "id": "702369ad",
   "metadata": {},
   "outputs": [
    {
     "name": "stdout",
     "output_type": "stream",
     "text": [
      "(2, 3)\n"
     ]
    }
   ],
   "source": [
    "list=[[1,2,3],[4,5,6]]\n",
    "array1=np.array(list)\n",
    "print(array1.shape)"
   ]
  },
  {
   "cell_type": "code",
   "execution_count": 9,
   "id": "0911ad91",
   "metadata": {},
   "outputs": [
    {
     "name": "stdout",
     "output_type": "stream",
     "text": [
      "[[[[[1 2 3]\n",
      "    [4 5 6]]]]]\n",
      "Shape of array (1, 1, 1, 2, 3)\n"
     ]
    }
   ],
   "source": [
    "list=[[1,2,3],[4,5,6]]\n",
    "array1=np.array(list,ndmin=5)\n",
    "print(array1)\n",
    "print(\"Shape of array\",array1.shape)"
   ]
  },
  {
   "cell_type": "code",
   "execution_count": 10,
   "id": "7b8f417b",
   "metadata": {},
   "outputs": [
    {
     "name": "stdout",
     "output_type": "stream",
     "text": [
      "[[ 1  2  3]\n",
      " [ 4  5  6]\n",
      " [ 7  8  9]\n",
      " [10 11 12]]\n"
     ]
    }
   ],
   "source": [
    "arr=np.array([1,2,3,4,5,6,7,8,9,10,11,12])\n",
    "newarr=arr.reshape(4,3)\n",
    "print(newarr)"
   ]
  },
  {
   "cell_type": "code",
   "execution_count": 11,
   "id": "0db6fc6e",
   "metadata": {},
   "outputs": [
    {
     "name": "stdout",
     "output_type": "stream",
     "text": [
      "[[[ 1  2]\n",
      "  [ 3  4]\n",
      "  [ 5  6]]\n",
      "\n",
      " [[ 7  8]\n",
      "  [ 9 10]\n",
      "  [11 12]]]\n"
     ]
    }
   ],
   "source": [
    "arr=np.array([1,2,3,4,5,6,7,8,9,10,11,12])\n",
    "newarr=arr.reshape(2,3,2)\n",
    "print(newarr)b"
   ]
  },
  {
   "cell_type": "code",
   "execution_count": 14,
   "id": "0199fb2b",
   "metadata": {},
   "outputs": [
    {
     "name": "stdout",
     "output_type": "stream",
     "text": [
      "[ 1  2  3  4  5  6  7  8  9 10 11 12]\n"
     ]
    }
   ],
   "source": [
    "arr=np.array([1,2,3,4,5,6,7,8,9,10,11,12])\n",
    "print(arr.reshape(2,3,2).base)"
   ]
  },
  {
   "cell_type": "code",
   "execution_count": 15,
   "id": "df4a672a",
   "metadata": {},
   "outputs": [
    {
     "name": "stdout",
     "output_type": "stream",
     "text": [
      "[[[[ 1  2]]\n",
      "\n",
      "  [[ 3  4]]\n",
      "\n",
      "  [[ 5  6]]]\n",
      "\n",
      "\n",
      " [[[ 7  8]]\n",
      "\n",
      "  [[ 9 10]]\n",
      "\n",
      "  [[11 12]]]]\n"
     ]
    }
   ],
   "source": [
    "arr=np.array([1,2,3,4,5,6,7,8,9,10,11,12])\n",
    "newarr=arr.reshape(2,3,-1,2)\n",
    "print(newarr)"
   ]
  },
  {
   "cell_type": "code",
   "execution_count": 16,
   "id": "c19deeea",
   "metadata": {},
   "outputs": [
    {
     "name": "stdout",
     "output_type": "stream",
     "text": [
      "[ 1  2  3  4  5  6  7  8  9 10 11 12]\n"
     ]
    }
   ],
   "source": [
    "list=[[[1,2,3],[4,5,6]]]\n",
    "array1=np.array(list)\n",
    "newarr=arr.reshape(-1)\n",
    "print(newarr)"
   ]
  }
 ],
 "metadata": {
  "kernelspec": {
   "display_name": "Python 3",
   "language": "python",
   "name": "python3"
  },
  "language_info": {
   "codemirror_mode": {
    "name": "ipython",
    "version": 3
   },
   "file_extension": ".py",
   "mimetype": "text/x-python",
   "name": "python",
   "nbconvert_exporter": "python",
   "pygments_lexer": "ipython3",
   "version": "3.8.8"
  }
 },
 "nbformat": 4,
 "nbformat_minor": 5
}
