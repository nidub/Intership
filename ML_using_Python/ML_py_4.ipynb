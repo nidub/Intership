{
 "cells": [
  {
   "cell_type": "code",
   "execution_count": 1,
   "id": "0b6a5569",
   "metadata": {},
   "outputs": [
    {
     "name": "stdout",
     "output_type": "stream",
     "text": [
      "[2, 3]\n"
     ]
    }
   ],
   "source": [
    "import numpy as np\n",
    "list1=[1,2,3,4,5]\n",
    "arr=list1[1:3]\n",
    "print(arr)"
   ]
  },
  {
   "cell_type": "code",
   "execution_count": 3,
   "id": "62dc3c4c",
   "metadata": {},
   "outputs": [
    {
     "name": "stdout",
     "output_type": "stream",
     "text": [
      "The Numpy Array is: \n",
      "[[1 2 3 4 5]\n",
      " [3 4 5 6 7]\n",
      " [9 8 7 6 5]]\n",
      "The sliced numpy is: \n",
      "[[3 4 5]\n",
      " [9 8 7]]\n"
     ]
    }
   ],
   "source": [
    "arr=np.array([[1,2,3,4,5],[3,4,5,6,7],[9,8,7,6,5]])\n",
    "print(\"The Numpy Array is: \")\n",
    "print(arr)\n",
    "arr1=arr[1:3,:3]\n",
    "print(\"The sliced numpy is: \")\n",
    "print(arr1)"
   ]
  },
  {
   "cell_type": "code",
   "execution_count": 4,
   "id": "66cf1472",
   "metadata": {},
   "outputs": [
    {
     "name": "stdout",
     "output_type": "stream",
     "text": [
      "[2 3]\n"
     ]
    }
   ],
   "source": [
    "arr=np.array([1,2,3,4,5])\n",
    "print(arr[1:3])"
   ]
  },
  {
   "cell_type": "code",
   "execution_count": 5,
   "id": "9f6598c4",
   "metadata": {},
   "outputs": [
    {
     "name": "stdout",
     "output_type": "stream",
     "text": [
      "[1 2 3]\n"
     ]
    }
   ],
   "source": [
    "arr=np.array([1,2,3,4,5])\n",
    "print(arr[:3])"
   ]
  },
  {
   "cell_type": "code",
   "execution_count": 6,
   "id": "03f6c455",
   "metadata": {},
   "outputs": [
    {
     "name": "stdout",
     "output_type": "stream",
     "text": [
      "[2 3 4 5]\n"
     ]
    }
   ],
   "source": [
    "arr=np.array([1,2,3,4,5])\n",
    "print(arr[1:])"
   ]
  },
  {
   "cell_type": "code",
   "execution_count": 7,
   "id": "1e6d8be1",
   "metadata": {},
   "outputs": [
    {
     "name": "stdout",
     "output_type": "stream",
     "text": [
      "[3 4]\n"
     ]
    }
   ],
   "source": [
    "arr=np.array([1,2,3,4,5])\n",
    "print(arr[-3:-1])"
   ]
  },
  {
   "cell_type": "code",
   "execution_count": 8,
   "id": "f0168a57",
   "metadata": {},
   "outputs": [
    {
     "name": "stdout",
     "output_type": "stream",
     "text": [
      "[2 4]\n"
     ]
    }
   ],
   "source": [
    "arr=np.array([1,2,3,4,5])\n",
    "print(arr[1:5:2])"
   ]
  },
  {
   "cell_type": "code",
   "execution_count": 9,
   "id": "2d72a7c8",
   "metadata": {},
   "outputs": [
    {
     "name": "stdout",
     "output_type": "stream",
     "text": [
      "[1 3 5]\n"
     ]
    }
   ],
   "source": [
    "arr=np.array([1,2,3,4,5])\n",
    "print(arr[::2])"
   ]
  },
  {
   "cell_type": "code",
   "execution_count": 10,
   "id": "d1161ed6",
   "metadata": {},
   "outputs": [
    {
     "name": "stdout",
     "output_type": "stream",
     "text": [
      "[7 8]\n"
     ]
    }
   ],
   "source": [
    "arr=np.array([[1,2,3,4,5],[6,7,8,9,10]])\n",
    "print(arr[1,1:3])"
   ]
  },
  {
   "cell_type": "code",
   "execution_count": 11,
   "id": "1cf69003",
   "metadata": {},
   "outputs": [
    {
     "name": "stdout",
     "output_type": "stream",
     "text": [
      "[3 8]\n"
     ]
    }
   ],
   "source": [
    "arr=np.array([[1,2,3,4,5],[6,7,8,9,10]])\n",
    "print(arr[0:3,2])"
   ]
  },
  {
   "cell_type": "code",
   "execution_count": 12,
   "id": "df85b214",
   "metadata": {},
   "outputs": [
    {
     "name": "stdout",
     "output_type": "stream",
     "text": [
      "[[2 3 4]\n",
      " [7 8 9]]\n"
     ]
    }
   ],
   "source": [
    "arr=np.array([[1,2,3,4,5],[6,7,8,9,10]])\n",
    "print(arr[0:2,1:4])"
   ]
  },
  {
   "cell_type": "code",
   "execution_count": 15,
   "id": "fff6a31e",
   "metadata": {},
   "outputs": [
    {
     "name": "stdout",
     "output_type": "stream",
     "text": [
      "[[ 8  9 10]\n",
      " [ 5  6  7]]\n",
      "[[ 8  9 88]\n",
      " [ 5  6  7]]\n",
      "[[ 1  2  3  4  5]\n",
      " [ 6  7  8  9 88]\n",
      " [ 3  4  5  6  7]]\n"
     ]
    }
   ],
   "source": [
    "arr=np.array([[1,2,3,4,5],[6,7,8,9,10],[3,4,5,6,7]])\n",
    "arr1=arr[1:,2:]\n",
    "print(arr1)\n",
    "arr1[0,2]=88\n",
    "print(arr1)\n",
    "print(arr)"
   ]
  },
  {
   "cell_type": "code",
   "execution_count": 16,
   "id": "405d1549",
   "metadata": {},
   "outputs": [
    {
     "name": "stdout",
     "output_type": "stream",
     "text": [
      "[[3 4 5 6 7]]\n",
      "(1, 5)\n"
     ]
    }
   ],
   "source": [
    "arr=np.array([[1,2,3,4,5],[6,7,8,9,10],[3,4,5,6,7]])\n",
    "arr1=arr[2:,:]\n",
    "print(arr1)\n",
    "print(arr1.shape)"
   ]
  }
 ],
 "metadata": {
  "kernelspec": {
   "display_name": "Python 3",
   "language": "python",
   "name": "python3"
  },
  "language_info": {
   "codemirror_mode": {
    "name": "ipython",
    "version": 3
   },
   "file_extension": ".py",
   "mimetype": "text/x-python",
   "name": "python",
   "nbconvert_exporter": "python",
   "pygments_lexer": "ipython3",
   "version": "3.8.8"
  }
 },
 "nbformat": 4,
 "nbformat_minor": 5
}
