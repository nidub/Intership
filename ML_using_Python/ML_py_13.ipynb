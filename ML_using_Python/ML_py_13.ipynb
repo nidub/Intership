{
 "cells": [
  {
   "cell_type": "code",
   "execution_count": 1,
   "id": "654a259b",
   "metadata": {},
   "outputs": [
    {
     "name": "stdout",
     "output_type": "stream",
     "text": [
      "The original array is:\n",
      "[1 2 3 4 5 6]\n",
      "The splitted rray is:\n",
      "[array([1, 2]), array([3, 4]), array([5, 6])]\n"
     ]
    }
   ],
   "source": [
    "import numpy as np\n",
    "arr=np.array([1,2,3,4,5,6])\n",
    "print(\"The original array is:\")\n",
    "print(arr)\n",
    "newarr=np.array_split(arr,3)\n",
    "print(\"The splitted rray is:\")\n",
    "print(newarr)"
   ]
  },
  {
   "cell_type": "code",
   "execution_count": 2,
   "id": "829ceb98",
   "metadata": {},
   "outputs": [
    {
     "name": "stdout",
     "output_type": "stream",
     "text": [
      "The original array is:\n",
      "[1 2 3 4 5 6]\n",
      "The splitted rray is:\n",
      "[array([1, 2]), array([3, 4]), array([5]), array([6])]\n"
     ]
    }
   ],
   "source": [
    "import numpy as np\n",
    "arr=np.array([1,2,3,4,5,6])\n",
    "print(\"The original array is:\")\n",
    "print(arr)\n",
    "newarr=np.array_split(arr,4)\n",
    "print(\"The splitted rray is:\")\n",
    "print(newarr)"
   ]
  },
  {
   "cell_type": "code",
   "execution_count": 3,
   "id": "0bf6e5e6",
   "metadata": {},
   "outputs": [
    {
     "name": "stdout",
     "output_type": "stream",
     "text": [
      "[1 2]\n",
      "[3 4]\n",
      "[5]\n"
     ]
    }
   ],
   "source": [
    "arr=np.array([1,2,3,4,5,6])\n",
    "newarr=np.array_split(arr,4)\n",
    "print(newarr[0])\n",
    "print(newarr[1])\n",
    "print(newarr[2])"
   ]
  },
  {
   "cell_type": "code",
   "execution_count": 4,
   "id": "b0ceb2da",
   "metadata": {},
   "outputs": [
    {
     "name": "stdout",
     "output_type": "stream",
     "text": [
      "[array([[1, 2],\n",
      "       [3, 4]]), array([[5, 6],\n",
      "       [7, 8]]), array([[ 9, 10],\n",
      "       [11, 12]])]\n"
     ]
    }
   ],
   "source": [
    "arr=np.array([[1,2],[3,4],[5,6],[7,8],[9,10],[11,12]])\n",
    "newarr=np.array_split(arr,3)\n",
    "print(newarr)"
   ]
  },
  {
   "cell_type": "code",
   "execution_count": 5,
   "id": "5ea67791",
   "metadata": {},
   "outputs": [
    {
     "name": "stdout",
     "output_type": "stream",
     "text": [
      "[array([[ 1],\n",
      "       [ 3],\n",
      "       [ 5],\n",
      "       [ 7],\n",
      "       [ 9],\n",
      "       [11]]), array([[ 2],\n",
      "       [ 4],\n",
      "       [ 6],\n",
      "       [ 8],\n",
      "       [10],\n",
      "       [12]]), array([[13],\n",
      "       [14],\n",
      "       [15],\n",
      "       [16],\n",
      "       [17],\n",
      "       [18]])]\n"
     ]
    }
   ],
   "source": [
    "arr=np.array([[1,2,13],[3,4,14],[5,6,15],[7,8,16],[9,10,17],[11,12,18]])\n",
    "newarr=np.array_split(arr,3,axis=1)\n",
    "print(newarr)"
   ]
  },
  {
   "cell_type": "code",
   "execution_count": 6,
   "id": "dd98754b",
   "metadata": {},
   "outputs": [
    {
     "name": "stdout",
     "output_type": "stream",
     "text": [
      "[array([[ 1],\n",
      "       [ 3],\n",
      "       [ 5],\n",
      "       [ 7],\n",
      "       [ 9],\n",
      "       [11]]), array([[ 2],\n",
      "       [ 4],\n",
      "       [ 6],\n",
      "       [ 8],\n",
      "       [10],\n",
      "       [12]]), array([[13],\n",
      "       [14],\n",
      "       [15],\n",
      "       [16],\n",
      "       [17],\n",
      "       [18]])]\n"
     ]
    }
   ],
   "source": [
    "arr=np.array([[1,2,13],[3,4,14],[5,6,15],[7,8,16],[9,10,17],[11,12,18]])\n",
    "newarr=np.hsplit(arr,3)\n",
    "print(newarr)"
   ]
  },
  {
   "cell_type": "code",
   "execution_count": 7,
   "id": "7068543e",
   "metadata": {},
   "outputs": [
    {
     "name": "stdout",
     "output_type": "stream",
     "text": [
      "[array([[ 1,  2, 13],\n",
      "       [ 3,  4, 14]]), array([[ 5,  6, 15],\n",
      "       [ 7,  8, 16]]), array([[ 9, 10, 17],\n",
      "       [11, 12, 18]])]\n"
     ]
    }
   ],
   "source": [
    "arr=np.array([[1,2,13],[3,4,14],[5,6,15],[7,8,16],[9,10,17],[11,12,18]])\n",
    "newarr=np.vsplit(arr,3)\n",
    "print(newarr)"
   ]
  },
  {
   "cell_type": "code",
   "execution_count": 8,
   "id": "4ff3c177",
   "metadata": {},
   "outputs": [
    {
     "name": "stdout",
     "output_type": "stream",
     "text": [
      "[array([[[ 1],\n",
      "        [ 3],\n",
      "        [ 5],\n",
      "        [ 7],\n",
      "        [ 9],\n",
      "        [11]]]), array([[[ 2],\n",
      "        [ 4],\n",
      "        [ 6],\n",
      "        [ 8],\n",
      "        [10],\n",
      "        [12]]]), array([[[13],\n",
      "        [14],\n",
      "        [15],\n",
      "        [16],\n",
      "        [17],\n",
      "        [18]]])]\n"
     ]
    }
   ],
   "source": [
    "arr=np.array([[[1,2,13],[3,4,14],[5,6,15],[7,8,16],[9,10,17],[11,12,18]]])\n",
    "newarr=np.dsplit(arr,3)\n",
    "print(newarr)"
   ]
  },
  {
   "cell_type": "code",
   "execution_count": null,
   "id": "e5dd4f48",
   "metadata": {},
   "outputs": [],
   "source": []
  }
 ],
 "metadata": {
  "kernelspec": {
   "display_name": "Python 3",
   "language": "python",
   "name": "python3"
  },
  "language_info": {
   "codemirror_mode": {
    "name": "ipython",
    "version": 3
   },
   "file_extension": ".py",
   "mimetype": "text/x-python",
   "name": "python",
   "nbconvert_exporter": "python",
   "pygments_lexer": "ipython3",
   "version": "3.8.8"
  }
 },
 "nbformat": 4,
 "nbformat_minor": 5
}
