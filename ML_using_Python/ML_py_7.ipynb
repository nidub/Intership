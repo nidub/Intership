{
 "cells": [
  {
   "cell_type": "code",
   "execution_count": 1,
   "id": "b370425a",
   "metadata": {},
   "outputs": [
    {
     "name": "stdout",
     "output_type": "stream",
     "text": [
      "The matrix a is:\n",
      "[[1 2]\n",
      " [4 5]]\n",
      "The matrix b is:\n",
      "[[7 8]\n",
      " [2 3]]\n"
     ]
    }
   ],
   "source": [
    "import numpy as np\n",
    "a = np.matrix([[1,2],[4,5]])\n",
    "b = np.matrix([[7,8],[2,3]])\n",
    "print(\"The matrix a is:\")\n",
    "print(a)\n",
    "print(\"The matrix b is:\")\n",
    "print(b)"
   ]
  },
  {
   "cell_type": "code",
   "execution_count": 3,
   "id": "30bfc0ef",
   "metadata": {},
   "outputs": [
    {
     "name": "stdout",
     "output_type": "stream",
     "text": [
      "The matrix c is:\n",
      "[[1 2]\n",
      " [4 5]]\n",
      "The matrix d is:\n",
      "[[7 8]\n",
      " [2 3]]\n"
     ]
    }
   ],
   "source": [
    "a = np.matrix([[1,2],[4,5]])\n",
    "b = np.matrix([[7,8],[2,3]])\n",
    "c = np.asmatrix(a)\n",
    "d = np.asmatrix(b)\n",
    "print(\"The matrix c is:\")\n",
    "print(c)\n",
    "print(\"The matrix d is:\")\n",
    "print(d)"
   ]
  },
  {
   "cell_type": "code",
   "execution_count": 4,
   "id": "9b7b9f5e",
   "metadata": {},
   "outputs": [
    {
     "name": "stdout",
     "output_type": "stream",
     "text": [
      "The product of a and b:\n",
      "[[ 7 16]\n",
      " [ 8 15]]\n",
      "The product of a1 and b1:\n",
      "[[11 14]\n",
      " [38 47]]\n"
     ]
    }
   ],
   "source": [
    "a = np.array([[1,2],[4,5]])\n",
    "b = np.array([[7,8],[2,3]])\n",
    "print(\"The product of a and b:\")\n",
    "print(a*b)\n",
    "a1 = np.matrix([[1,2],[4,5]])\n",
    "b1 = np.matrix([[7,8],[2,3]])\n",
    "print(\"The product of a1 and b1:\")\n",
    "print(a1*b1)"
   ]
  },
  {
   "cell_type": "code",
   "execution_count": 5,
   "id": "f85efd5a",
   "metadata": {},
   "outputs": [
    {
     "name": "stdout",
     "output_type": "stream",
     "text": [
      "The value of array A is:\n",
      "[[1 2 3]\n",
      " [4 5 6]\n",
      " [7 8 9]]\n",
      "The cumulative sunm of tthe elements in the array is:\n",
      "[ 1  3  6 10 15 21 28 36 45]\n"
     ]
    }
   ],
   "source": [
    "a = np.array([(1,2,3),(4,5,6),(7,8,9)])\n",
    "print(\"The value of array A is:\")\n",
    "print(a)\n",
    "print(\"The cumulative sunm of the elements in the array is:\")\n",
    "print(a.cumsum())"
   ]
  },
  {
   "cell_type": "code",
   "execution_count": 6,
   "id": "f147f31f",
   "metadata": {},
   "outputs": [
    {
     "name": "stdout",
     "output_type": "stream",
     "text": [
      "The value of array A is:\n",
      "[[1 2 3]\n",
      " [4 5 6]\n",
      " [7 8 9]]\n",
      "The cumulative sunm of the elements in the array is:\n",
      "[[ 1  2  3]\n",
      " [ 5  7  9]\n",
      " [12 15 18]]\n"
     ]
    }
   ],
   "source": [
    "a = np.array([(1,2,3),(4,5,6),(7,8,9)])\n",
    "print(\"The value of array A is:\")\n",
    "print(a)\n",
    "print(\"The cumulative sunm of the elements in the array is:\")\n",
    "print(a.cumsum(axis=0))"
   ]
  },
  {
   "cell_type": "code",
   "execution_count": 7,
   "id": "e8759b6d",
   "metadata": {},
   "outputs": [
    {
     "name": "stdout",
     "output_type": "stream",
     "text": [
      "The value of array A is:\n",
      "[[1 2 3]\n",
      " [4 5 6]\n",
      " [7 8 9]]\n",
      "The cumulative sunm of the elements in the array is:\n",
      "[[ 1  3  6]\n",
      " [ 4  9 15]\n",
      " [ 7 15 24]]\n"
     ]
    }
   ],
   "source": [
    "a = np.array([(1,2,3),(4,5,6),(7,8,9)])\n",
    "print(\"The value of array A is:\")\n",
    "print(a)\n",
    "print(\"The cumulative sunm of the elements in the array is:\")\n",
    "print(a.cumsum(axis=1))"
   ]
  },
  {
   "cell_type": "code",
   "execution_count": null,
   "id": "7afe0663",
   "metadata": {},
   "outputs": [],
   "source": []
  }
 ],
 "metadata": {
  "kernelspec": {
   "display_name": "Python 3",
   "language": "python",
   "name": "python3"
  },
  "language_info": {
   "codemirror_mode": {
    "name": "ipython",
    "version": 3
   },
   "file_extension": ".py",
   "mimetype": "text/x-python",
   "name": "python",
   "nbconvert_exporter": "python",
   "pygments_lexer": "ipython3",
   "version": "3.8.8"
  }
 },
 "nbformat": 4,
 "nbformat_minor": 5
}
