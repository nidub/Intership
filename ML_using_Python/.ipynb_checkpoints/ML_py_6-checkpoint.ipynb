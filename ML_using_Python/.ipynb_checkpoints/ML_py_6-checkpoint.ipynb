{
 "cells": [
  {
   "cell_type": "code",
   "execution_count": 1,
   "id": "33804962",
   "metadata": {},
   "outputs": [
    {
     "name": "stdout",
     "output_type": "stream",
     "text": [
      "Addition of A and B is: \n",
      "[[ 8 10 12]\n",
      " [14 16 18]]\n"
     ]
    }
   ],
   "source": [
    "import numpy as np\n",
    "A=np.array([[1,2,3],[4,5,6]])\n",
    "B=np.array([[7,8,9],[10,11,12]])\n",
    "print(\"Addition of A and B is: \")\n",
    "print(A+B)"
   ]
  },
  {
   "cell_type": "code",
   "execution_count": 2,
   "id": "c746d4b8",
   "metadata": {},
   "outputs": [
    {
     "name": "stdout",
     "output_type": "stream",
     "text": [
      "Addition of X and Y is: \n",
      "[6 5]\n"
     ]
    }
   ],
   "source": [
    "X=np.array([2,3])\n",
    "Y=np.array([4,2])\n",
    "print(\"Addition of X and Y is: \")\n",
    "print(X + Y)"
   ]
  },
  {
   "cell_type": "code",
   "execution_count": 3,
   "id": "718fe9da",
   "metadata": {},
   "outputs": [
    {
     "name": "stdout",
     "output_type": "stream",
     "text": [
      "Addition of A and B is: \n",
      "[[ 8 10 12]\n",
      " [14 16 18]]\n"
     ]
    }
   ],
   "source": [
    "A=np.array([[1,2,3],[4,5,6]])\n",
    "B=np.array([[7,8,9],[10,11,12]])\n",
    "print(\"Addition of A and B is: \")\n",
    "print(np.add(A,B))"
   ]
  },
  {
   "cell_type": "code",
   "execution_count": 4,
   "id": "e6a6479d",
   "metadata": {},
   "outputs": [
    {
     "name": "stdout",
     "output_type": "stream",
     "text": [
      "substraction of A and B is: \n",
      "[[-6 -6 -6]\n",
      " [-6 -6 -6]]\n"
     ]
    }
   ],
   "source": [
    "A=np.array([[1,2,3],[4,5,6]])\n",
    "B=np.array([[7,8,9],[10,11,12]])\n",
    "print(\"substraction of A and B is: \")\n",
    "print(A-B)"
   ]
  },
  {
   "cell_type": "code",
   "execution_count": 5,
   "id": "d545b84a",
   "metadata": {},
   "outputs": [
    {
     "name": "stdout",
     "output_type": "stream",
     "text": [
      "Multiplication of A and B is: \n",
      "[[ 7 16 27]\n",
      " [40 55 72]]\n"
     ]
    }
   ],
   "source": [
    "A=np.array([[1,2,3],[4,5,6]])\n",
    "B=np.array([[7,8,9],[10,11,12]])\n",
    "print(\"Multiplication of A and B is: \")\n",
    "print(A*B)"
   ]
  },
  {
   "cell_type": "code",
   "execution_count": 6,
   "id": "cc5c8624",
   "metadata": {},
   "outputs": [
    {
     "name": "stdout",
     "output_type": "stream",
     "text": [
      "Division of A and B is: \n",
      "[[0.14285714 0.25       0.33333333]\n",
      " [0.4        0.45454545 0.5       ]]\n"
     ]
    }
   ],
   "source": [
    "A=np.array([[1,2,3],[4,5,6]])\n",
    "B=np.array([[7,8,9],[10,11,12]])\n",
    "print(\"Division of A and B is: \")\n",
    "print(A/B)"
   ]
  },
  {
   "cell_type": "code",
   "execution_count": 8,
   "id": "c053ac88",
   "metadata": {},
   "outputs": [
    {
     "name": "stdout",
     "output_type": "stream",
     "text": [
      "Overweight:  ['Nirmal']\n",
      "Underweight:  ['Priyanka']\n",
      "Helthy:  ['Resham']\n"
     ]
    }
   ],
   "source": [
    "name=np.array(['Nirmal','Priyanka','Resham'])\n",
    "heights=np.array([1.5,1.78,1.6])\n",
    "weights=np.array([65,46,59])\n",
    "bmi=weights/heights**2\n",
    "print(\"Overweight: \",name[bmi>25])\n",
    "print(\"Underweight: \",name[bmi<18.5])\n",
    "print(\"Helthy: \",name[(bmi>=18.5)&(bmi<=25)])"
   ]
  },
  {
   "cell_type": "code",
   "execution_count": 9,
   "id": "f1caf118",
   "metadata": {},
   "outputs": [
    {
     "name": "stdout",
     "output_type": "stream",
     "text": [
      "The dot product of x and y is 14\n"
     ]
    }
   ],
   "source": [
    "x=np.array([2,3])\n",
    "y=np.array([4,2])\n",
    "print(\"The dot product of x and y is\",np.dot(x,y))"
   ]
  },
  {
   "cell_type": "code",
   "execution_count": 11,
   "id": "a2dd987e",
   "metadata": {},
   "outputs": [
    {
     "name": "stdout",
     "output_type": "stream",
     "text": [
      "Dot Product of A and B is: \n",
      "[[ 58  64]\n",
      " [139 154]]\n"
     ]
    }
   ],
   "source": [
    "A=np.array([[1,2,3],[4,5,6]])\n",
    "B=np.array([[7,8],[9,10],[11,12]])\n",
    "print(\"Dot Product of A and B is: \")\n",
    "print(np.dot(A,B))"
   ]
  }
 ],
 "metadata": {
  "kernelspec": {
   "display_name": "Python 3",
   "language": "python",
   "name": "python3"
  },
  "language_info": {
   "codemirror_mode": {
    "name": "ipython",
    "version": 3
   },
   "file_extension": ".py",
   "mimetype": "text/x-python",
   "name": "python",
   "nbconvert_exporter": "python",
   "pygments_lexer": "ipython3",
   "version": "3.8.8"
  }
 },
 "nbformat": 4,
 "nbformat_minor": 5
}
