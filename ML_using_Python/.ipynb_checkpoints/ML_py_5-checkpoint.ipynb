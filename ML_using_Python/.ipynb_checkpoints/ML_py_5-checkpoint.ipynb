{
 "cells": [
  {
   "cell_type": "code",
   "execution_count": 1,
   "id": "7f99b950",
   "metadata": {},
   "outputs": [
    {
     "name": "stdout",
     "output_type": "stream",
     "text": [
      "The numpy Array is:  [1 2 3 4 5]\n",
      "The reshape numpy array is:  [[1 2 3 4 5]]\n"
     ]
    }
   ],
   "source": [
    "import numpy as np\n",
    "list=[1,2,3,4,5]\n",
    "arr=np.array(list)\n",
    "print(\"The numpy Array is: \",arr)\n",
    "arr1=arr.reshape(1,-1)\n",
    "print(\"The reshape numpy array is: \",arr1)"
   ]
  },
  {
   "cell_type": "code",
   "execution_count": 2,
   "id": "71c0be5d",
   "metadata": {},
   "outputs": [
    {
     "name": "stdout",
     "output_type": "stream",
     "text": [
      "The numpy Array is:  [1 2 3 4 5]\n",
      "The reshape numpy array is:  [[1 2 3 4 5]]\n",
      "(1, 5)\n",
      "[[[1 2 3 4 5]]]\n"
     ]
    }
   ],
   "source": [
    "import numpy as np\n",
    "list=[1,2,3,4,5]\n",
    "arr=np.array(list)\n",
    "print(\"The numpy Array is: \",arr)\n",
    "arr1=arr.reshape(1,-1)\n",
    "print(\"The reshape numpy array is: \",arr1)\n",
    "print(arr1.shape)\n",
    "arr2=arr1.reshape(1,1,-1)\n",
    "print(arr2)"
   ]
  },
  {
   "cell_type": "code",
   "execution_count": 3,
   "id": "32177621",
   "metadata": {},
   "outputs": [
    {
     "name": "stdout",
     "output_type": "stream",
     "text": [
      "(1, 1, 5)\n"
     ]
    }
   ],
   "source": [
    "print(arr2.shape)"
   ]
  },
  {
   "cell_type": "code",
   "execution_count": 4,
   "id": "8cfa20a0",
   "metadata": {},
   "outputs": [
    {
     "name": "stdout",
     "output_type": "stream",
     "text": [
      "The numpy Array is:  [1 2 3 4 5]\n",
      "The reshape numpy array is:  [1 2 3 4 5]\n"
     ]
    }
   ],
   "source": [
    "list=[1,2,3,4,5]\n",
    "arr=np.array(list)\n",
    "print(\"The numpy Array is: \",arr)\n",
    "arr1=arr.reshape(-1,)\n",
    "print(\"The reshape numpy array is: \",arr1)"
   ]
  },
  {
   "cell_type": "code",
   "execution_count": 5,
   "id": "74247593",
   "metadata": {},
   "outputs": [
    {
     "name": "stdout",
     "output_type": "stream",
     "text": [
      "The numpy Array is:  [1 2 3 4 5]\n",
      "The reshape numpy array is:  [1 2 3 4 5]\n"
     ]
    }
   ],
   "source": [
    "list=[1,2,3,4,5]\n",
    "arr=np.array(list)\n",
    "print(\"The numpy Array is: \",arr)\n",
    "arr1=arr.flatten()\n",
    "print(\"The reshape numpy array is: \",arr1)"
   ]
  },
  {
   "cell_type": "code",
   "execution_count": 6,
   "id": "6ac90a71",
   "metadata": {},
   "outputs": [
    {
     "name": "stdout",
     "output_type": "stream",
     "text": [
      "The numpy Array is:  [1 2 3 4 5]\n",
      "The reshape numpy array is:  [1 2 3 4 5]\n"
     ]
    }
   ],
   "source": [
    "list=[1,2,3,4,5]\n",
    "arr=np.array(list)\n",
    "print(\"The numpy Array is: \",arr)\n",
    "arr1=arr.ravel()\n",
    "print(\"The reshape numpy array is: \",arr1)"
   ]
  },
  {
   "cell_type": "code",
   "execution_count": 7,
   "id": "1729aed7",
   "metadata": {},
   "outputs": [
    {
     "name": "stdout",
     "output_type": "stream",
     "text": [
      "The data types of arr is: int32\n"
     ]
    }
   ],
   "source": [
    "arr=np.array([1,2,3,4])\n",
    "print(\"The data types of arr is:\",arr.dtype)"
   ]
  },
  {
   "cell_type": "code",
   "execution_count": 8,
   "id": "8a97689c",
   "metadata": {},
   "outputs": [
    {
     "name": "stdout",
     "output_type": "stream",
     "text": [
      "The data types of arr is: <U6\n"
     ]
    }
   ],
   "source": [
    "arr=np.array([\"apple\",\"banana\",\"cherry\"])\n",
    "print(\"The data types of arr is:\",arr.dtype)"
   ]
  },
  {
   "cell_type": "code",
   "execution_count": 9,
   "id": "99aebd8d",
   "metadata": {},
   "outputs": [
    {
     "name": "stdout",
     "output_type": "stream",
     "text": [
      "The data types of arr is: [b'1' b'2' b'3' b'4']\n",
      "The data types of arr is: |S1\n"
     ]
    }
   ],
   "source": [
    "arr=np.array([1,2,3,4],dtype='S')\n",
    "print(\"The data types of arr is:\",arr)\n",
    "print(\"The data types of arr is:\",arr.dtype)"
   ]
  },
  {
   "cell_type": "code",
   "execution_count": 10,
   "id": "7c1d3887",
   "metadata": {},
   "outputs": [
    {
     "name": "stdout",
     "output_type": "stream",
     "text": [
      "The data types of arr is: [1 2 3 4]\n",
      "The data types of arr is: int64\n"
     ]
    }
   ],
   "source": [
    "arr=np.array([1,2,3,4],dtype='i8')\n",
    "print(\"The data types of arr is:\",arr)\n",
    "print(\"The data types of arr is:\",arr.dtype)"
   ]
  },
  {
   "cell_type": "code",
   "execution_count": 11,
   "id": "197d4f1a",
   "metadata": {},
   "outputs": [
    {
     "ename": "ValueError",
     "evalue": "invalid literal for int() with base 10: 'a'",
     "output_type": "error",
     "traceback": [
      "\u001b[1;31m---------------------------------------------------------------------------\u001b[0m",
      "\u001b[1;31mValueError\u001b[0m                                Traceback (most recent call last)",
      "\u001b[1;32m<ipython-input-11-c05a06238944>\u001b[0m in \u001b[0;36m<module>\u001b[1;34m\u001b[0m\n\u001b[1;32m----> 1\u001b[1;33m \u001b[0marr\u001b[0m\u001b[1;33m=\u001b[0m\u001b[0mnp\u001b[0m\u001b[1;33m.\u001b[0m\u001b[0marray\u001b[0m\u001b[1;33m(\u001b[0m\u001b[1;33m[\u001b[0m\u001b[1;34m'1'\u001b[0m\u001b[1;33m,\u001b[0m\u001b[1;34m'2'\u001b[0m\u001b[1;33m,\u001b[0m\u001b[1;34m'3'\u001b[0m\u001b[1;33m,\u001b[0m\u001b[1;34m'a'\u001b[0m\u001b[1;33m]\u001b[0m\u001b[1;33m,\u001b[0m\u001b[0mdtype\u001b[0m\u001b[1;33m=\u001b[0m\u001b[1;34m'i'\u001b[0m\u001b[1;33m)\u001b[0m\u001b[1;33m\u001b[0m\u001b[1;33m\u001b[0m\u001b[0m\n\u001b[0m\u001b[0;32m      2\u001b[0m \u001b[0mprint\u001b[0m\u001b[1;33m(\u001b[0m\u001b[1;34m\"The data types of arr is:\"\u001b[0m\u001b[1;33m,\u001b[0m\u001b[0marr\u001b[0m\u001b[1;33m)\u001b[0m\u001b[1;33m\u001b[0m\u001b[1;33m\u001b[0m\u001b[0m\n\u001b[0;32m      3\u001b[0m \u001b[0mprint\u001b[0m\u001b[1;33m(\u001b[0m\u001b[1;34m\"The data types of arr is:\"\u001b[0m\u001b[1;33m,\u001b[0m\u001b[0marr\u001b[0m\u001b[1;33m.\u001b[0m\u001b[0mdtype\u001b[0m\u001b[1;33m)\u001b[0m\u001b[1;33m\u001b[0m\u001b[1;33m\u001b[0m\u001b[0m\n",
      "\u001b[1;31mValueError\u001b[0m: invalid literal for int() with base 10: 'a'"
     ]
    }
   ],
   "source": [
    "arr=np.array(['1','2','3','a'],dtype='i')\n",
    "print(\"The data types of arr is:\",arr)\n",
    "print(\"The data types of arr is:\",arr.dtype)"
   ]
  },
  {
   "cell_type": "code",
   "execution_count": 12,
   "id": "949ca681",
   "metadata": {},
   "outputs": [
    {
     "name": "stdout",
     "output_type": "stream",
     "text": [
      "The data types of arr is: [1 2 3 4]\n",
      "The data types of arr is: int32\n"
     ]
    }
   ],
   "source": [
    "arr=np.array([1.1,2.2,3.5,4.0])\n",
    "newarr=arr.astype('i')\n",
    "print(\"The data types of arr is:\",newarr)\n",
    "print(\"The data types of arr is:\",newarr.dtype)"
   ]
  },
  {
   "cell_type": "code",
   "execution_count": 13,
   "id": "c6379744",
   "metadata": {},
   "outputs": [
    {
     "name": "stdout",
     "output_type": "stream",
     "text": [
      "The data types of arr is: [1 2 3 4]\n",
      "The data types of arr is: int32\n"
     ]
    }
   ],
   "source": [
    "arr=np.array([1.1,2.2,3.5,4.0])\n",
    "newarr=arr.astype(int)\n",
    "print(\"The data types of arr is:\",newarr)\n",
    "print(\"The data types of arr is:\",newarr.dtype)"
   ]
  },
  {
   "cell_type": "code",
   "execution_count": 14,
   "id": "764ddb73",
   "metadata": {},
   "outputs": [
    {
     "name": "stdout",
     "output_type": "stream",
     "text": [
      "The data types of arr is: [ True  True  True  True]\n",
      "The data types of arr is: bool\n"
     ]
    }
   ],
   "source": [
    "arr=np.array([1,2,3,4])\n",
    "newarr=arr.astype(bool)\n",
    "print(\"The data types of arr is:\",newarr)\n",
    "print(\"The data types of arr is:\",newarr.dtype)"
   ]
  }
 ],
 "metadata": {
  "kernelspec": {
   "display_name": "Python 3",
   "language": "python",
   "name": "python3"
  },
  "language_info": {
   "codemirror_mode": {
    "name": "ipython",
    "version": 3
   },
   "file_extension": ".py",
   "mimetype": "text/x-python",
   "name": "python",
   "nbconvert_exporter": "python",
   "pygments_lexer": "ipython3",
   "version": "3.8.8"
  }
 },
 "nbformat": 4,
 "nbformat_minor": 5
}
